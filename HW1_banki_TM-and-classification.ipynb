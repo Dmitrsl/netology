{
 "cells": [
  {
   "cell_type": "code",
   "execution_count": 2,
   "metadata": {},
   "outputs": [
    {
     "name": "stdout",
     "output_type": "stream",
     "text": [
      "INFO: Pandarallel will run on 4 workers.\n",
      "INFO: Pandarallel will use Memory file system to transfer data between the main process and workers.\n"
     ]
    }
   ],
   "source": [
    "import json\n",
    "from collections import Counter\n",
    "import bz2\n",
    "import regex\n",
    "import re\n",
    "from tqdm import tqdm\n",
    "from scipy import sparse\n",
    "from sklearn.feature_extraction.text import TfidfVectorizer\n",
    "import numpy as np\n",
    "from pymystem3 import Mystem\n",
    "from pandarallel import pandarallel\n",
    "pandarallel.initialize(nb_workers=4, use_memory_fs=True, progress_bar=True)"
   ]
  },
  {
   "cell_type": "code",
   "execution_count": 3,
   "metadata": {},
   "outputs": [
    {
     "name": "stdout",
     "output_type": "stream",
     "text": [
      "Populating the interactive namespace from numpy and matplotlib\n"
     ]
    }
   ],
   "source": [
    "import pandas as pd\n",
    "import numpy as np\n",
    "import nltk\n",
    "from wordcloud import WordCloud\n",
    "import matplotlib.pyplot as plt\n",
    "import seaborn as sns\n",
    "from tqdm.notebook import tqdm\n",
    "%matplotlib inline\n",
    "%pylab inline"
   ]
  },
  {
   "cell_type": "code",
   "execution_count": 3,
   "metadata": {
    "scrolled": true
   },
   "outputs": [
    {
     "data": {
      "application/vnd.jupyter.widget-view+json": {
       "model_id": "7421cf76cc684083a6df2634087ebc8d",
       "version_major": 2,
       "version_minor": 0
      },
      "text/plain": [
       "HBox(children=(HTML(value=''), FloatProgress(value=1.0, bar_style='info', layout=Layout(width='20px'), max=1.0…"
      ]
     },
     "metadata": {},
     "output_type": "display_data"
    },
    {
     "name": "stdout",
     "output_type": "stream",
     "text": [
      "\n"
     ]
    }
   ],
   "source": [
    "responses = []\n",
    "with bz2.BZ2File('banki_responses.json.bz2', 'r') as thefile:\n",
    "    for row in tqdm(thefile):\n",
    "        resp = json.loads(row)\n",
    "        if not resp['rating_not_checked'] and (len(resp['text'].split()) > 0):\n",
    "            responses.append(resp)"
   ]
  },
  {
   "cell_type": "markdown",
   "metadata": {},
   "source": [
    "#  Домашнее задание по NLP # 1 [100 баллов]\n",
    "## Классификация по тональности \n",
    "\n",
    "В этом домашнем задании вам предстоит классифицировать по тональности отзывы на банки с сайта banki.ru.\n",
    "\n",
    "Данные содержат непосредственно тексты отзывов, некоторую дополнительную информацию, а также оценку по шкале от 1 до 5. \n",
    "\n",
    "Тексты хранятся в json-ах в массиве responses.\n",
    "\n",
    "Посмотрим на пример отзыва:"
   ]
  },
  {
   "cell_type": "code",
   "execution_count": 4,
   "metadata": {},
   "outputs": [
    {
     "data": {
      "text/plain": [
       "{'city': 'г. Саратов',\n",
       " 'rating_not_checked': False,\n",
       " 'title': 'Карта ко вкладу',\n",
       " 'num_comments': 0,\n",
       " 'bank_license': 'лицензия № 880',\n",
       " 'author': 'ronnichka',\n",
       " 'bank_name': 'Югра',\n",
       " 'datetime': '2015-06-03 20:56:57',\n",
       " 'text': 'Здравствуйте! Хотела написать, что мне месяц не выдают карту ко вкладу, ссылаясь на \"нам же их из Самары везут\" (на секундочку 5 часов езды от нашего города). Но! Прочитала, что людям 3,5 месяцев не выдают карту, и поняла, что у меня все хорошо, пока что. И подарок мне дали, и кулер в отделении есть. Так что я, конечно, готова ждать. Правда хотелось бы не очень долго.',\n",
       " 'rating_grade': 3}"
      ]
     },
     "execution_count": 4,
     "metadata": {},
     "output_type": "execute_result"
    }
   ],
   "source": [
    "responses[99]"
   ]
  },
  {
   "cell_type": "markdown",
   "metadata": {},
   "source": [
    "## Часть 1. Анализ текстов [40/100]\n",
    "\n",
    "1. Посчитайте количество отзывов в разных городах и на разные банки\n",
    "2. Постройте гистограмы длин слов в символах и в словах\n",
    "3. Найдите 10 самых частых:\n",
    "    * слов\n",
    "    * слов без стоп-слов\n",
    "    * лемм \n",
    "* существительных\n",
    "4. Постройте кривые Ципфа и Хипса\n",
    "5. Ответьте на следующие вопросы:\n",
    "    * какое слово встречается чаще, \"сотрудник\" или \"клиент\"?\n",
    "    * сколько раз встречается слова \"мошенничество\" и \"доверие\"?\n",
    "6. В поле \"rating_grade\" записана оценка отзыва по шкале от 1 до 5. Используйте меру $tf-idf$, для того, чтобы найти ключевые слова и биграмы для положительных отзывов (с оценкой 5) и отрицательных отзывов (с оценкой 1)"
   ]
  },
  {
   "cell_type": "markdown",
   "metadata": {},
   "source": [
    "Посчитайте количество отзывов в разных городах и на разные банки"
   ]
  },
  {
   "cell_type": "code",
   "execution_count": 5,
   "metadata": {},
   "outputs": [
    {
     "data": {
      "text/html": [
       "<div>\n",
       "<style scoped>\n",
       "    .dataframe tbody tr th:only-of-type {\n",
       "        vertical-align: middle;\n",
       "    }\n",
       "\n",
       "    .dataframe tbody tr th {\n",
       "        vertical-align: top;\n",
       "    }\n",
       "\n",
       "    .dataframe thead th {\n",
       "        text-align: right;\n",
       "    }\n",
       "</style>\n",
       "<table border=\"1\" class=\"dataframe\">\n",
       "  <thead>\n",
       "    <tr style=\"text-align: right;\">\n",
       "      <th></th>\n",
       "      <th>city</th>\n",
       "      <th>rating_not_checked</th>\n",
       "      <th>title</th>\n",
       "      <th>num_comments</th>\n",
       "      <th>bank_license</th>\n",
       "      <th>author</th>\n",
       "      <th>bank_name</th>\n",
       "      <th>datetime</th>\n",
       "      <th>text</th>\n",
       "      <th>rating_grade</th>\n",
       "    </tr>\n",
       "  </thead>\n",
       "  <tbody>\n",
       "    <tr>\n",
       "      <th>0</th>\n",
       "      <td>г. Москва</td>\n",
       "      <td>False</td>\n",
       "      <td>Жалоба</td>\n",
       "      <td>0</td>\n",
       "      <td>лицензия № 2562</td>\n",
       "      <td>uhnov1</td>\n",
       "      <td>Бинбанк</td>\n",
       "      <td>2015-06-08 12:50:54</td>\n",
       "      <td>Добрый день! Я не являюсь клиентом банка и пор...</td>\n",
       "      <td>NaN</td>\n",
       "    </tr>\n",
       "    <tr>\n",
       "      <th>1</th>\n",
       "      <td>г. Новосибирск</td>\n",
       "      <td>False</td>\n",
       "      <td>Не могу пользоваться услугой Сбербанк он-лайн</td>\n",
       "      <td>0</td>\n",
       "      <td>лицензия № 1481</td>\n",
       "      <td>Foryou</td>\n",
       "      <td>Сбербанк России</td>\n",
       "      <td>2015-06-08 11:09:57</td>\n",
       "      <td>Доброго дня! Являюсь держателем зарплатной кар...</td>\n",
       "      <td>NaN</td>\n",
       "    </tr>\n",
       "    <tr>\n",
       "      <th>2</th>\n",
       "      <td>г. Москва</td>\n",
       "      <td>False</td>\n",
       "      <td>Двойное списание за один товар.</td>\n",
       "      <td>1</td>\n",
       "      <td>лицензия № 2562</td>\n",
       "      <td>Vladimir84</td>\n",
       "      <td>Бинбанк</td>\n",
       "      <td>2015-06-05 20:14:28</td>\n",
       "      <td>Здравствуйте!  Дублирую свое заявление от 03.0...</td>\n",
       "      <td>NaN</td>\n",
       "    </tr>\n",
       "  </tbody>\n",
       "</table>\n",
       "</div>"
      ],
      "text/plain": [
       "             city  rating_not_checked  \\\n",
       "0       г. Москва               False   \n",
       "1  г. Новосибирск               False   \n",
       "2       г. Москва               False   \n",
       "\n",
       "                                           title  num_comments  \\\n",
       "0                                         Жалоба             0   \n",
       "1  Не могу пользоваться услугой Сбербанк он-лайн             0   \n",
       "2                Двойное списание за один товар.             1   \n",
       "\n",
       "      bank_license      author        bank_name             datetime  \\\n",
       "0  лицензия № 2562      uhnov1          Бинбанк  2015-06-08 12:50:54   \n",
       "1  лицензия № 1481      Foryou  Сбербанк России  2015-06-08 11:09:57   \n",
       "2  лицензия № 2562  Vladimir84          Бинбанк  2015-06-05 20:14:28   \n",
       "\n",
       "                                                text  rating_grade  \n",
       "0  Добрый день! Я не являюсь клиентом банка и пор...           NaN  \n",
       "1  Доброго дня! Являюсь держателем зарплатной кар...           NaN  \n",
       "2  Здравствуйте!  Дублирую свое заявление от 03.0...           NaN  "
      ]
     },
     "execution_count": 5,
     "metadata": {},
     "output_type": "execute_result"
    }
   ],
   "source": [
    "responses_frame = pd.DataFrame(responses)\n",
    "responses_frame.head(3)"
   ]
  },
  {
   "cell_type": "code",
   "execution_count": 6,
   "metadata": {},
   "outputs": [
    {
     "data": {
      "text/plain": [
       "г. Москва                         55354\n",
       "г. Санкт-Петербург                14342\n",
       "г. Екатеринбург                    2337\n",
       "г. Новосибирск                     2300\n",
       "г. Нижний Новгород                 1976\n",
       "                                  ...  \n",
       "г. ст-ца Ессентукская                 1\n",
       "г. Северск (Томская область)          1\n",
       "г. Балахта (Красноярский край)        1\n",
       "г. Москва-Сергиев Посад               1\n",
       "г. от МСК 300 км                      1\n",
       "Name: city, Length: 5823, dtype: int64"
      ]
     },
     "execution_count": 6,
     "metadata": {},
     "output_type": "execute_result"
    }
   ],
   "source": [
    "responses_frame.city.value_counts()"
   ]
  },
  {
   "cell_type": "code",
   "execution_count": 7,
   "metadata": {},
   "outputs": [
    {
     "data": {
      "text/plain": [
       "Сбербанк России          26327\n",
       "Альфа-Банк               10224\n",
       "ВТБ 24                    8185\n",
       "Русский Стандарт          7943\n",
       "Хоум Кредит Банк          7549\n",
       "                         ...  \n",
       "ИНГ Банк                     1\n",
       "Курган                       1\n",
       "Мой Банк. Новосибирск        1\n",
       "Прайм Финанс                 1\n",
       "Радиан                       1\n",
       "Name: bank_name, Length: 670, dtype: int64"
      ]
     },
     "execution_count": 7,
     "metadata": {},
     "output_type": "execute_result"
    }
   ],
   "source": [
    "responses_frame.bank_name.value_counts()"
   ]
  },
  {
   "cell_type": "markdown",
   "metadata": {},
   "source": [
    "Постройте гистограмы длин слов в символах и в словах"
   ]
  },
  {
   "cell_type": "code",
   "execution_count": 8,
   "metadata": {},
   "outputs": [
    {
     "data": {
      "image/png": "[encoded data removed]",
      "text/plain": [
       "<Figure size 432x288 with 1 Axes>"
      ]
     },
     "metadata": {
      "needs_background": "light"
     },
     "output_type": "display_data"
    }
   ],
   "source": [
    "responses_frame.text.str.len().hist();"
   ]
  },
  {
   "cell_type": "code",
   "execution_count": 9,
   "metadata": {},
   "outputs": [
    {
     "data": {
      "image/png": "[encoded data removed]",
      "text/plain": [
       "<Figure size 432x288 with 1 Axes>"
      ]
     },
     "metadata": {
      "needs_background": "light"
     },
     "output_type": "display_data"
    }
   ],
   "source": [
    "responses_frame.text.str.split().str.len().hist();"
   ]
  },
  {
   "cell_type": "markdown",
   "metadata": {},
   "source": [
    "Найдите 10 самых частых:\n",
    "\n",
    "слов\n",
    "\n",
    "слов без стоп-слов\n",
    "\n",
    "лемм\n",
    "\n",
    "существительных\n"
   ]
  },
  {
   "cell_type": "code",
   "execution_count": 10,
   "metadata": {},
   "outputs": [
    {
     "data": {
      "application/vnd.jupyter.widget-view+json": {
       "model_id": "2d735d2c1cea4bc9930461859767c84d",
       "version_major": 2,
       "version_minor": 0
      },
      "text/plain": [
       "VBox(children=(HBox(children=(IntProgress(value=0, description='0.00%', max=38375), Label(value='0 / 38375')))…"
      ]
     },
     "metadata": {},
     "output_type": "display_data"
    }
   ],
   "source": [
    "regex = re.compile(\"[А-Яа-я]+\")\n",
    "def words_only(text, regex=regex):\n",
    "    return \" \".join(regex.findall(text))\n",
    "\n",
    "corp_ = responses_frame.text.str.lower()\n",
    "corp_ = corp_.parallel_apply(words_only)"
   ]
  },
  {
   "cell_type": "code",
   "execution_count": 11,
   "metadata": {},
   "outputs": [],
   "source": [
    "corp = corp_.str.split().tolist()"
   ]
  },
  {
   "cell_type": "code",
   "execution_count": 12,
   "metadata": {},
   "outputs": [
    {
     "data": {
      "application/vnd.jupyter.widget-view+json": {
       "model_id": "b3191f3760d942a686174d1c53c013dc",
       "version_major": 2,
       "version_minor": 0
      },
      "text/plain": [
       "HBox(children=(HTML(value=''), FloatProgress(value=0.0, max=153499.0), HTML(value='')))"
      ]
     },
     "metadata": {},
     "output_type": "display_data"
    },
    {
     "name": "stdout",
     "output_type": "stream",
     "text": [
      "\n"
     ]
    },
    {
     "data": {
      "text/plain": [
       "['добрый', 'день', 'я', 'не', 'являюсь']"
      ]
     },
     "execution_count": 12,
     "metadata": {},
     "output_type": "execute_result"
    }
   ],
   "source": [
    "corpus = []\n",
    "\n",
    "for sublist in tqdm(corp):\n",
    "    for item in sublist:\n",
    "        corpus.append(item)\n",
    "\n",
    "corpus[:5]"
   ]
  },
  {
   "cell_type": "code",
   "execution_count": 13,
   "metadata": {},
   "outputs": [
    {
     "data": {
      "text/html": [
       "<div>\n",
       "<style scoped>\n",
       "    .dataframe tbody tr th:only-of-type {\n",
       "        vertical-align: middle;\n",
       "    }\n",
       "\n",
       "    .dataframe tbody tr th {\n",
       "        vertical-align: top;\n",
       "    }\n",
       "\n",
       "    .dataframe thead th {\n",
       "        text-align: right;\n",
       "    }\n",
       "</style>\n",
       "<table border=\"1\" class=\"dataframe\">\n",
       "  <thead>\n",
       "    <tr style=\"text-align: right;\">\n",
       "      <th></th>\n",
       "      <th>Word</th>\n",
       "      <th>Count</th>\n",
       "    </tr>\n",
       "  </thead>\n",
       "  <tbody>\n",
       "    <tr>\n",
       "      <th>52</th>\n",
       "      <td>в</td>\n",
       "      <td>1330550</td>\n",
       "    </tr>\n",
       "    <tr>\n",
       "      <th>7</th>\n",
       "      <td>и</td>\n",
       "      <td>1058997</td>\n",
       "    </tr>\n",
       "    <tr>\n",
       "      <th>3</th>\n",
       "      <td>не</td>\n",
       "      <td>855335</td>\n",
       "    </tr>\n",
       "    <tr>\n",
       "      <th>38</th>\n",
       "      <td>на</td>\n",
       "      <td>707935</td>\n",
       "    </tr>\n",
       "    <tr>\n",
       "      <th>72</th>\n",
       "      <td>что</td>\n",
       "      <td>640057</td>\n",
       "    </tr>\n",
       "    <tr>\n",
       "      <th>2</th>\n",
       "      <td>я</td>\n",
       "      <td>577500</td>\n",
       "    </tr>\n",
       "    <tr>\n",
       "      <th>21</th>\n",
       "      <td>с</td>\n",
       "      <td>464037</td>\n",
       "    </tr>\n",
       "    <tr>\n",
       "      <th>9</th>\n",
       "      <td>по</td>\n",
       "      <td>372769</td>\n",
       "    </tr>\n",
       "    <tr>\n",
       "      <th>78</th>\n",
       "      <td>мне</td>\n",
       "      <td>320958</td>\n",
       "    </tr>\n",
       "    <tr>\n",
       "      <th>6</th>\n",
       "      <td>банка</td>\n",
       "      <td>275906</td>\n",
       "    </tr>\n",
       "  </tbody>\n",
       "</table>\n",
       "</div>"
      ],
      "text/plain": [
       "     Word    Count\n",
       "52      в  1330550\n",
       "7       и  1058997\n",
       "3      не   855335\n",
       "38     на   707935\n",
       "72    что   640057\n",
       "2       я   577500\n",
       "21      с   464037\n",
       "9      по   372769\n",
       "78    мне   320958\n",
       "6   банка   275906"
      ]
     },
     "execution_count": 13,
     "metadata": {},
     "output_type": "execute_result"
    }
   ],
   "source": [
    "pd.DataFrame(Counter(corpus).items(), columns=['Word', 'Count']).sort_values('Count', ascending=False)[:10]"
   ]
  },
  {
   "cell_type": "code",
   "execution_count": 14,
   "metadata": {},
   "outputs": [
    {
     "name": "stdout",
     "output_type": "stream",
     "text": [
      "['и', 'в', 'во', 'не', 'что', 'он', 'на', 'я', 'с', 'со', 'как', 'а', 'то', 'все', 'она', 'так', 'его', 'но', 'да', 'ты', 'к', 'у', 'же', 'вы', 'за', 'бы', 'по', 'только', 'ее', 'мне', 'было', 'вот', 'от', 'меня', 'еще', 'нет', 'о', 'из', 'ему', 'теперь', 'когда', 'даже', 'ну', 'вдруг', 'ли', 'если', 'уже', 'или', 'ни', 'быть', 'был', 'него', 'до', 'вас', 'нибудь', 'опять', 'уж', 'вам', 'ведь', 'там', 'потом', 'себя', 'ничего', 'ей', 'может', 'они', 'тут', 'где', 'есть', 'надо', 'ней', 'для', 'мы', 'тебя', 'их', 'чем', 'была', 'сам', 'чтоб', 'без', 'будто', 'чего', 'раз', 'тоже', 'себе', 'под', 'будет', 'ж', 'тогда', 'кто', 'этот', 'того', 'потому', 'этого', 'какой', 'совсем', 'ним', 'здесь', 'этом', 'один', 'почти', 'мой', 'тем', 'чтобы', 'нее', 'сейчас', 'были', 'куда', 'зачем', 'всех', 'никогда', 'можно', 'при', 'наконец', 'два', 'об', 'другой', 'хоть', 'после', 'над', 'больше', 'тот', 'через', 'эти', 'нас', 'про', 'всего', 'них', 'какая', 'много', 'разве', 'три', 'эту', 'моя', 'впрочем', 'хорошо', 'свою', 'этой', 'перед', 'иногда', 'лучше', 'чуть', 'том', 'нельзя', 'такой', 'им', 'более', 'всегда', 'конечно', 'всю', 'между', 'это', 'наш', 'тыс', 'млн', 'млрд', 'также', 'т', 'д', 'г', 'который', 'весь']\n"
     ]
    }
   ],
   "source": [
    "from nltk.corpus import stopwords\n",
    "mystopwords = stopwords.words('russian')+ ['это', 'наш' , 'тыс', 'млн', \n",
    "                                           'млрд', 'также',  'т', 'д', 'г',\n",
    "                                           'который', 'весь',\n",
    "                                          ]\n",
    "\n",
    "\n",
    "print(mystopwords)"
   ]
  },
  {
   "cell_type": "code",
   "execution_count": 15,
   "metadata": {},
   "outputs": [
    {
     "data": {
      "application/vnd.jupyter.widget-view+json": {
       "model_id": "5a2ddcd94d3c4cc7944ca4d01e20285d",
       "version_major": 2,
       "version_minor": 0
      },
      "text/plain": [
       "HBox(children=(HTML(value=''), FloatProgress(value=0.0, max=35429373.0), HTML(value='')))"
      ]
     },
     "metadata": {},
     "output_type": "display_data"
    },
    {
     "name": "stdout",
     "output_type": "stream",
     "text": [
      "\n"
     ]
    },
    {
     "data": {
      "text/html": [
       "<div>\n",
       "<style scoped>\n",
       "    .dataframe tbody tr th:only-of-type {\n",
       "        vertical-align: middle;\n",
       "    }\n",
       "\n",
       "    .dataframe tbody tr th {\n",
       "        vertical-align: top;\n",
       "    }\n",
       "\n",
       "    .dataframe thead th {\n",
       "        text-align: right;\n",
       "    }\n",
       "</style>\n",
       "<table border=\"1\" class=\"dataframe\">\n",
       "  <thead>\n",
       "    <tr style=\"text-align: right;\">\n",
       "      <th></th>\n",
       "      <th>Word</th>\n",
       "      <th>Count</th>\n",
       "    </tr>\n",
       "  </thead>\n",
       "  <tbody>\n",
       "    <tr>\n",
       "      <th>4</th>\n",
       "      <td>банка</td>\n",
       "      <td>275906</td>\n",
       "    </tr>\n",
       "    <tr>\n",
       "      <th>111</th>\n",
       "      <td>банк</td>\n",
       "      <td>215426</td>\n",
       "    </tr>\n",
       "    <tr>\n",
       "      <th>389</th>\n",
       "      <td>деньги</td>\n",
       "      <td>131201</td>\n",
       "    </tr>\n",
       "    <tr>\n",
       "      <th>148</th>\n",
       "      <td>карту</td>\n",
       "      <td>105829</td>\n",
       "    </tr>\n",
       "    <tr>\n",
       "      <th>133</th>\n",
       "      <td>карты</td>\n",
       "      <td>101821</td>\n",
       "    </tr>\n",
       "    <tr>\n",
       "      <th>298</th>\n",
       "      <td>кредит</td>\n",
       "      <td>81136</td>\n",
       "    </tr>\n",
       "    <tr>\n",
       "      <th>1</th>\n",
       "      <td>день</td>\n",
       "      <td>76552</td>\n",
       "    </tr>\n",
       "    <tr>\n",
       "      <th>300</th>\n",
       "      <td>банке</td>\n",
       "      <td>72169</td>\n",
       "    </tr>\n",
       "    <tr>\n",
       "      <th>117</th>\n",
       "      <td>заявление</td>\n",
       "      <td>70423</td>\n",
       "    </tr>\n",
       "    <tr>\n",
       "      <th>562</th>\n",
       "      <td>очень</td>\n",
       "      <td>66824</td>\n",
       "    </tr>\n",
       "  </tbody>\n",
       "</table>\n",
       "</div>"
      ],
      "text/plain": [
       "          Word   Count\n",
       "4        банка  275906\n",
       "111       банк  215426\n",
       "389     деньги  131201\n",
       "148      карту  105829\n",
       "133      карты  101821\n",
       "298     кредит   81136\n",
       "1         день   76552\n",
       "300      банке   72169\n",
       "117  заявление   70423\n",
       "562      очень   66824"
      ]
     },
     "execution_count": 15,
     "metadata": {},
     "output_type": "execute_result"
    }
   ],
   "source": [
    "corpus_unstop = [token for token in tqdm(corpus) if not token in mystopwords]\n",
    "pd.DataFrame(Counter(corpus_unstop).items(), columns=['Word', 'Count']).sort_values('Count', ascending=False)[:10]"
   ]
  },
  {
   "cell_type": "code",
   "execution_count": 16,
   "metadata": {},
   "outputs": [
    {
     "data": {
      "application/vnd.jupyter.widget-view+json": {
       "model_id": "26e945d130c64a248b34d50179c899c1",
       "version_major": 2,
       "version_minor": 0
      },
      "text/plain": [
       "VBox(children=(HBox(children=(IntProgress(value=0, description='0.00%', max=38375), Label(value='0 / 38375')))…"
      ]
     },
     "metadata": {},
     "output_type": "display_data"
    },
    {
     "data": {
      "text/plain": [
       "0    добрый день я не являться клиент банк и поручи...\n",
       "1    добрый день являться держатель зарплатной карт...\n",
       "2    здравствовать дублировать свой заявление от в ...\n",
       "3    добрый день я открывать расчетный счет в сберб...\n",
       "4    г взять кредит в ваш банк заявлять я сумма быт...\n",
       "Name: text, dtype: object"
      ]
     },
     "execution_count": 16,
     "metadata": {},
     "output_type": "execute_result"
    }
   ],
   "source": [
    "m = Mystem()\n",
    "def lemmatize(text, mystem=m):\n",
    "    try:\n",
    "        return \"\".join(m.lemmatize(text)).strip()  \n",
    "    except:\n",
    "        return \" \"\n",
    "corpus_lemmatized = pd.DataFrame(corp_).text.parallel_apply(lemmatize)\n",
    "corpus_lemmatized[:5]"
   ]
  },
  {
   "cell_type": "code",
   "execution_count": 17,
   "metadata": {},
   "outputs": [
    {
     "data": {
      "application/vnd.jupyter.widget-view+json": {
       "model_id": "6f3f59d4326046dababc0d5d9d9bd213",
       "version_major": 2,
       "version_minor": 0
      },
      "text/plain": [
       "HBox(children=(HTML(value=''), FloatProgress(value=0.0, max=153499.0), HTML(value='')))"
      ]
     },
     "metadata": {},
     "output_type": "display_data"
    },
    {
     "name": "stdout",
     "output_type": "stream",
     "text": [
      "\n"
     ]
    },
    {
     "data": {
      "text/plain": [
       "['добрый', 'день', 'я', 'не', 'являться']"
      ]
     },
     "execution_count": 17,
     "metadata": {},
     "output_type": "execute_result"
    }
   ],
   "source": [
    "corpus_lemmatized = corpus_lemmatized.str.split().tolist()\n",
    "corpus_lemm = []\n",
    "\n",
    "for sublist in tqdm(corpus_lemmatized):\n",
    "    for item in sublist:\n",
    "        corpus_lemm.append(item)\n",
    "\n",
    "corpus_lemm[:5]"
   ]
  },
  {
   "cell_type": "code",
   "execution_count": 18,
   "metadata": {},
   "outputs": [
    {
     "data": {
      "application/vnd.jupyter.widget-view+json": {
       "model_id": "7915671094914ec99df3b0709c0de02e",
       "version_major": 2,
       "version_minor": 0
      },
      "text/plain": [
       "HBox(children=(HTML(value=''), FloatProgress(value=0.0, max=35429373.0), HTML(value='')))"
      ]
     },
     "metadata": {},
     "output_type": "display_data"
    },
    {
     "name": "stdout",
     "output_type": "stream",
     "text": [
      "\n"
     ]
    },
    {
     "data": {
      "text/html": [
       "<div>\n",
       "<style scoped>\n",
       "    .dataframe tbody tr th:only-of-type {\n",
       "        vertical-align: middle;\n",
       "    }\n",
       "\n",
       "    .dataframe tbody tr th {\n",
       "        vertical-align: top;\n",
       "    }\n",
       "\n",
       "    .dataframe thead th {\n",
       "        text-align: right;\n",
       "    }\n",
       "</style>\n",
       "<table border=\"1\" class=\"dataframe\">\n",
       "  <thead>\n",
       "    <tr style=\"text-align: right;\">\n",
       "      <th></th>\n",
       "      <th>Word</th>\n",
       "      <th>Count</th>\n",
       "    </tr>\n",
       "  </thead>\n",
       "  <tbody>\n",
       "    <tr>\n",
       "      <th>0</th>\n",
       "      <td>банк</td>\n",
       "      <td>621048</td>\n",
       "    </tr>\n",
       "    <tr>\n",
       "      <th>1</th>\n",
       "      <td>карта</td>\n",
       "      <td>334998</td>\n",
       "    </tr>\n",
       "    <tr>\n",
       "      <th>2</th>\n",
       "      <td>деньги</td>\n",
       "      <td>179734</td>\n",
       "    </tr>\n",
       "    <tr>\n",
       "      <th>3</th>\n",
       "      <td>день</td>\n",
       "      <td>173065</td>\n",
       "    </tr>\n",
       "    <tr>\n",
       "      <th>4</th>\n",
       "      <td>кредит</td>\n",
       "      <td>156177</td>\n",
       "    </tr>\n",
       "    <tr>\n",
       "      <th>5</th>\n",
       "      <td>отделение</td>\n",
       "      <td>144050</td>\n",
       "    </tr>\n",
       "    <tr>\n",
       "      <th>6</th>\n",
       "      <td>клиент</td>\n",
       "      <td>136892</td>\n",
       "    </tr>\n",
       "    <tr>\n",
       "      <th>7</th>\n",
       "      <td>сотрудник</td>\n",
       "      <td>134168</td>\n",
       "    </tr>\n",
       "    <tr>\n",
       "      <th>8</th>\n",
       "      <td>счет</td>\n",
       "      <td>126894</td>\n",
       "    </tr>\n",
       "    <tr>\n",
       "      <th>9</th>\n",
       "      <td>мочь</td>\n",
       "      <td>126310</td>\n",
       "    </tr>\n",
       "  </tbody>\n",
       "</table>\n",
       "</div>"
      ],
      "text/plain": [
       "        Word   Count\n",
       "0       банк  621048\n",
       "1      карта  334998\n",
       "2     деньги  179734\n",
       "3       день  173065\n",
       "4     кредит  156177\n",
       "5  отделение  144050\n",
       "6     клиент  136892\n",
       "7  сотрудник  134168\n",
       "8       счет  126894\n",
       "9       мочь  126310"
      ]
     },
     "execution_count": 18,
     "metadata": {},
     "output_type": "execute_result"
    }
   ],
   "source": [
    "corpus_lemm = [token for token in tqdm(corpus_lemm) if not token in mystopwords]\n",
    "counts_lemm = pd.DataFrame(Counter(corpus_lemm).items(), columns=['Word', 'Count']).sort_values('Count', ascending=False).reset_index(drop=True)\n",
    "counts_lemm[:10]"
   ]
  },
  {
   "cell_type": "code",
   "execution_count": 19,
   "metadata": {},
   "outputs": [
    {
     "data": {
      "text/plain": [
       "['добрый', 'день', 'являться', 'клиент', 'банк']"
      ]
     },
     "execution_count": 19,
     "metadata": {},
     "output_type": "execute_result"
    }
   ],
   "source": [
    "corpus_lemm[:5]"
   ]
  },
  {
   "cell_type": "code",
   "execution_count": 20,
   "metadata": {},
   "outputs": [],
   "source": [
    "def is_noun(word):\n",
    "    anz = m.analyze(str(word))[0]['analysis']\n",
    "\n",
    "    if anz:\n",
    "        return anz[0]['gr'].startswith('S') \n",
    "    else:\n",
    "        return None"
   ]
  },
  {
   "cell_type": "code",
   "execution_count": 21,
   "metadata": {},
   "outputs": [
    {
     "data": {
      "text/plain": [
       "[{'analysis': [{'lex': 'мочь',\n",
       "    'wt': 0.7298592527,\n",
       "    'gr': 'S,жен,неод=(вин,ед|им,ед)'}],\n",
       "  'text': 'мочь'},\n",
       " {'text': '\\n'}]"
      ]
     },
     "execution_count": 21,
     "metadata": {},
     "output_type": "execute_result"
    }
   ],
   "source": [
    "# мочь - существительное женского рода\n",
    "m.analyze('мочь')"
   ]
  },
  {
   "cell_type": "code",
   "execution_count": 22,
   "metadata": {},
   "outputs": [
    {
     "data": {
      "text/html": [
       "<div>\n",
       "<style scoped>\n",
       "    .dataframe tbody tr th:only-of-type {\n",
       "        vertical-align: middle;\n",
       "    }\n",
       "\n",
       "    .dataframe tbody tr th {\n",
       "        vertical-align: top;\n",
       "    }\n",
       "\n",
       "    .dataframe thead th {\n",
       "        text-align: right;\n",
       "    }\n",
       "</style>\n",
       "<table border=\"1\" class=\"dataframe\">\n",
       "  <thead>\n",
       "    <tr style=\"text-align: right;\">\n",
       "      <th></th>\n",
       "      <th>Word</th>\n",
       "      <th>Count</th>\n",
       "    </tr>\n",
       "  </thead>\n",
       "  <tbody>\n",
       "    <tr>\n",
       "      <th>0</th>\n",
       "      <td>банк</td>\n",
       "      <td>621048</td>\n",
       "    </tr>\n",
       "    <tr>\n",
       "      <th>1</th>\n",
       "      <td>карта</td>\n",
       "      <td>334998</td>\n",
       "    </tr>\n",
       "    <tr>\n",
       "      <th>2</th>\n",
       "      <td>деньги</td>\n",
       "      <td>179734</td>\n",
       "    </tr>\n",
       "    <tr>\n",
       "      <th>3</th>\n",
       "      <td>день</td>\n",
       "      <td>173065</td>\n",
       "    </tr>\n",
       "    <tr>\n",
       "      <th>4</th>\n",
       "      <td>кредит</td>\n",
       "      <td>156177</td>\n",
       "    </tr>\n",
       "    <tr>\n",
       "      <th>5</th>\n",
       "      <td>отделение</td>\n",
       "      <td>144050</td>\n",
       "    </tr>\n",
       "    <tr>\n",
       "      <th>6</th>\n",
       "      <td>клиент</td>\n",
       "      <td>136892</td>\n",
       "    </tr>\n",
       "    <tr>\n",
       "      <th>7</th>\n",
       "      <td>сотрудник</td>\n",
       "      <td>134168</td>\n",
       "    </tr>\n",
       "    <tr>\n",
       "      <th>8</th>\n",
       "      <td>счет</td>\n",
       "      <td>126894</td>\n",
       "    </tr>\n",
       "    <tr>\n",
       "      <th>9</th>\n",
       "      <td>мочь</td>\n",
       "      <td>126310</td>\n",
       "    </tr>\n",
       "    <tr>\n",
       "      <th>12</th>\n",
       "      <td>сумма</td>\n",
       "      <td>111232</td>\n",
       "    </tr>\n",
       "    <tr>\n",
       "      <th>14</th>\n",
       "      <td>заявление</td>\n",
       "      <td>104419</td>\n",
       "    </tr>\n",
       "    <tr>\n",
       "      <th>15</th>\n",
       "      <td>год</td>\n",
       "      <td>103960</td>\n",
       "    </tr>\n",
       "    <tr>\n",
       "      <th>16</th>\n",
       "      <td>вопрос</td>\n",
       "      <td>97576</td>\n",
       "    </tr>\n",
       "    <tr>\n",
       "      <th>17</th>\n",
       "      <td>время</td>\n",
       "      <td>94387</td>\n",
       "    </tr>\n",
       "    <tr>\n",
       "      <th>20</th>\n",
       "      <td>ответ</td>\n",
       "      <td>77240</td>\n",
       "    </tr>\n",
       "    <tr>\n",
       "      <th>21</th>\n",
       "      <td>вклад</td>\n",
       "      <td>76433</td>\n",
       "    </tr>\n",
       "    <tr>\n",
       "      <th>22</th>\n",
       "      <td>офис</td>\n",
       "      <td>75891</td>\n",
       "    </tr>\n",
       "    <tr>\n",
       "      <th>23</th>\n",
       "      <td>телефон</td>\n",
       "      <td>75261</td>\n",
       "    </tr>\n",
       "    <tr>\n",
       "      <th>25</th>\n",
       "      <td>платеж</td>\n",
       "      <td>73670</td>\n",
       "    </tr>\n",
       "  </tbody>\n",
       "</table>\n",
       "</div>"
      ],
      "text/plain": [
       "         Word   Count\n",
       "0        банк  621048\n",
       "1       карта  334998\n",
       "2      деньги  179734\n",
       "3        день  173065\n",
       "4      кредит  156177\n",
       "5   отделение  144050\n",
       "6      клиент  136892\n",
       "7   сотрудник  134168\n",
       "8        счет  126894\n",
       "9        мочь  126310\n",
       "12      сумма  111232\n",
       "14  заявление  104419\n",
       "15        год  103960\n",
       "16     вопрос   97576\n",
       "17      время   94387\n",
       "20      ответ   77240\n",
       "21      вклад   76433\n",
       "22       офис   75891\n",
       "23    телефон   75261\n",
       "25     платеж   73670"
      ]
     },
     "execution_count": 22,
     "metadata": {},
     "output_type": "execute_result"
    }
   ],
   "source": [
    "counts_lemm['is_noun'] = counts_lemm.Word.apply(is_noun)\n",
    "counts_lemm[counts_lemm.is_noun == True].iloc[:, :2].head(20)"
   ]
  },
  {
   "cell_type": "code",
   "execution_count": 23,
   "metadata": {},
   "outputs": [],
   "source": [
    "counts_lemm_noun = counts_lemm[counts_lemm.is_noun == True].iloc[:, :2].head(20)\n",
    "word_freq = dict(zip(counts_lemm_noun['Word'].tolist(), counts_lemm_noun['Count'].tolist()))"
   ]
  },
  {
   "cell_type": "code",
   "execution_count": 24,
   "metadata": {},
   "outputs": [
    {
     "data": {
      "image/png": "[encoded data removed]",
      "text/plain": [
       "<Figure size 1440x720 with 1 Axes>"
      ]
     },
     "metadata": {
      "needs_background": "light"
     },
     "output_type": "display_data"
    }
   ],
   "source": [
    "wd = WordCloud(background_color = 'black')\n",
    "wd.generate_from_frequencies(dict(word_freq))\n",
    "plt.figure(figsize=(20,10))\n",
    "plt.imshow(wd, interpolation = 'bilinear')\n",
    "plt.axis('off')\n",
    "plt.show()responses_frame = pd.read_csv('responses_frame.csv')\n",
    "responses_frame.head(3)"
   ]
  },
  {
   "cell_type": "markdown",
   "metadata": {},
   "source": [
    "Постройте кривые Ципфа и Хипса"
   ]
  },
  {
   "cell_type": "code",
   "execution_count": 25,
   "metadata": {},
   "outputs": [
    {
     "data": {
      "image/png": "[encoded data removed]",
      "text/plain": [
       "<Figure size 432x288 with 1 Axes>"
      ]
     },
     "metadata": {
      "needs_background": "light"
     },
     "output_type": "display_data"
    }
   ],
   "source": [
    "fig, ax = plt.subplots()\n",
    "ax.plot(counts_lemm.Count[:1000], range(1000))\n",
    "plt.show()"
   ]
  },
  {
   "cell_type": "code",
   "execution_count": 26,
   "metadata": {},
   "outputs": [],
   "source": [
    "def del_stopwords(text):\n",
    "    return [token for token in text if not token in mystopwords]\n",
    "\n",
    "responses_frame['lemmatize_text'] = pd.Series(corpus_lemmatized).apply(del_stopwords)"
   ]
  },
  {
   "cell_type": "code",
   "execution_count": 27,
   "metadata": {},
   "outputs": [
    {
     "data": {
      "application/vnd.jupyter.widget-view+json": {
       "model_id": "a8a78b15143a427c85dad70469ff9a3a",
       "version_major": 2,
       "version_minor": 0
      },
      "text/plain": [
       "HBox(children=(HTML(value=''), FloatProgress(value=0.0, max=153499.0), HTML(value='')))"
      ]
     },
     "metadata": {},
     "output_type": "display_data"
    },
    {
     "name": "stdout",
     "output_type": "stream",
     "text": [
      "\n"
     ]
    }
   ],
   "source": [
    "n_types = [0]\n",
    "n_tokens = [0]\n",
    "tokens = []\n",
    "for row in tqdm(responses_frame['lemmatize_text'][:]):\n",
    "    tokens += row\n",
    "    tokens = list(set(tokens)) #pd.Series(tokens).drop_duplicates().tolist()\n",
    "    n_tokens.append(len(row) + n_tokens[-1])\n",
    "    n_types.append(len(tokens))\n",
    "#n_tokens, n_types"
   ]
  },
  {
   "cell_type": "code",
   "execution_count": 28,
   "metadata": {},
   "outputs": [
    {
     "data": {
      "image/png": "[encoded data removed]",
      "text/plain": [
       "<Figure size 432x288 with 1 Axes>"
      ]
     },
     "metadata": {
      "needs_background": "light"
     },
     "output_type": "display_data"
    }
   ],
   "source": [
    "fig, ax = plt.subplots()\n",
    "ax.plot(n_tokens, n_types)\n",
    "plt.show()"
   ]
  },
  {
   "cell_type": "markdown",
   "metadata": {},
   "source": [
    "Ответьте на следующие вопросы:\n",
    "\n",
    "какое слово встречается чаще, \"сотрудник\" или \"клиент\"?\n",
    "\n",
    "сколько раз встречается слова \"мошенничество\" и \"доверие\"?\n"
   ]
  },
  {
   "cell_type": "code",
   "execution_count": 29,
   "metadata": {},
   "outputs": [
    {
     "data": {
      "text/html": [
       "<div>\n",
       "<style scoped>\n",
       "    .dataframe tbody tr th:only-of-type {\n",
       "        vertical-align: middle;\n",
       "    }\n",
       "\n",
       "    .dataframe tbody tr th {\n",
       "        vertical-align: top;\n",
       "    }\n",
       "\n",
       "    .dataframe thead th {\n",
       "        text-align: right;\n",
       "    }\n",
       "</style>\n",
       "<table border=\"1\" class=\"dataframe\">\n",
       "  <thead>\n",
       "    <tr style=\"text-align: right;\">\n",
       "      <th></th>\n",
       "      <th>Word</th>\n",
       "      <th>Count</th>\n",
       "      <th>is_noun</th>\n",
       "    </tr>\n",
       "  </thead>\n",
       "  <tbody>\n",
       "    <tr>\n",
       "      <th>6</th>\n",
       "      <td>клиент</td>\n",
       "      <td>136892</td>\n",
       "      <td>True</td>\n",
       "    </tr>\n",
       "    <tr>\n",
       "      <th>7</th>\n",
       "      <td>сотрудник</td>\n",
       "      <td>134168</td>\n",
       "      <td>True</td>\n",
       "    </tr>\n",
       "    <tr>\n",
       "      <th>1068</th>\n",
       "      <td>мошенничество</td>\n",
       "      <td>3244</td>\n",
       "      <td>True</td>\n",
       "    </tr>\n",
       "    <tr>\n",
       "      <th>1455</th>\n",
       "      <td>доверие</td>\n",
       "      <td>2108</td>\n",
       "      <td>True</td>\n",
       "    </tr>\n",
       "  </tbody>\n",
       "</table>\n",
       "</div>"
      ],
      "text/plain": [
       "               Word   Count is_noun\n",
       "6            клиент  136892    True\n",
       "7         сотрудник  134168    True\n",
       "1068  мошенничество    3244    True\n",
       "1455        доверие    2108    True"
      ]
     },
     "execution_count": 29,
     "metadata": {},
     "output_type": "execute_result"
    }
   ],
   "source": [
    "counts_lemm[counts_lemm.Word.isin([\"сотрудник\", \"клиент\", \"мошенничество\", \"доверие\"])]"
   ]
  },
  {
   "cell_type": "code",
   "execution_count": 3,
   "metadata": {},
   "outputs": [
    {
     "data": {
      "text/html": [
       "<div>\n",
       "<style scoped>\n",
       "    .dataframe tbody tr th:only-of-type {\n",
       "        vertical-align: middle;\n",
       "    }\n",
       "\n",
       "    .dataframe tbody tr th {\n",
       "        vertical-align: top;\n",
       "    }\n",
       "\n",
       "    .dataframe thead th {\n",
       "        text-align: right;\n",
       "    }\n",
       "</style>\n",
       "<table border=\"1\" class=\"dataframe\">\n",
       "  <thead>\n",
       "    <tr style=\"text-align: right;\">\n",
       "      <th></th>\n",
       "      <th>Unnamed: 0</th>\n",
       "      <th>city</th>\n",
       "      <th>rating_not_checked</th>\n",
       "      <th>title</th>\n",
       "      <th>num_comments</th>\n",
       "      <th>bank_license</th>\n",
       "      <th>author</th>\n",
       "      <th>bank_name</th>\n",
       "      <th>datetime</th>\n",
       "      <th>text</th>\n",
       "      <th>rating_grade</th>\n",
       "      <th>lemmatize_text</th>\n",
       "    </tr>\n",
       "  </thead>\n",
       "  <tbody>\n",
       "    <tr>\n",
       "      <th>0</th>\n",
       "      <td>0</td>\n",
       "      <td>г. Москва</td>\n",
       "      <td>False</td>\n",
       "      <td>Жалоба</td>\n",
       "      <td>0</td>\n",
       "      <td>лицензия № 2562</td>\n",
       "      <td>uhnov1</td>\n",
       "      <td>Бинбанк</td>\n",
       "      <td>2015-06-08 12:50:54</td>\n",
       "      <td>Добрый день! Я не являюсь клиентом банка и пор...</td>\n",
       "      <td>NaN</td>\n",
       "      <td>['добрый', 'день', 'являться', 'клиент', 'банк...</td>\n",
       "    </tr>\n",
       "    <tr>\n",
       "      <th>1</th>\n",
       "      <td>1</td>\n",
       "      <td>г. Новосибирск</td>\n",
       "      <td>False</td>\n",
       "      <td>Не могу пользоваться услугой Сбербанк он-лайн</td>\n",
       "      <td>0</td>\n",
       "      <td>лицензия № 1481</td>\n",
       "      <td>Foryou</td>\n",
       "      <td>Сбербанк России</td>\n",
       "      <td>2015-06-08 11:09:57</td>\n",
       "      <td>Доброго дня! Являюсь держателем зарплатной кар...</td>\n",
       "      <td>NaN</td>\n",
       "      <td>['добрый', 'день', 'являться', 'держатель', 'з...</td>\n",
       "    </tr>\n",
       "    <tr>\n",
       "      <th>2</th>\n",
       "      <td>2</td>\n",
       "      <td>г. Москва</td>\n",
       "      <td>False</td>\n",
       "      <td>Двойное списание за один товар.</td>\n",
       "      <td>1</td>\n",
       "      <td>лицензия № 2562</td>\n",
       "      <td>Vladimir84</td>\n",
       "      <td>Бинбанк</td>\n",
       "      <td>2015-06-05 20:14:28</td>\n",
       "      <td>Здравствуйте!  Дублирую свое заявление от 03.0...</td>\n",
       "      <td>NaN</td>\n",
       "      <td>['здравствовать', 'дублировать', 'свой', 'заяв...</td>\n",
       "    </tr>\n",
       "  </tbody>\n",
       "</table>\n",
       "</div>"
      ],
      "text/plain": [
       "   Unnamed: 0            city  rating_not_checked  \\\n",
       "0           0       г. Москва               False   \n",
       "1           1  г. Новосибирск               False   \n",
       "2           2       г. Москва               False   \n",
       "\n",
       "                                           title  num_comments  \\\n",
       "0                                         Жалоба             0   \n",
       "1  Не могу пользоваться услугой Сбербанк он-лайн             0   \n",
       "2                Двойное списание за один товар.             1   \n",
       "\n",
       "      bank_license      author        bank_name             datetime  \\\n",
       "0  лицензия № 2562      uhnov1          Бинбанк  2015-06-08 12:50:54   \n",
       "1  лицензия № 1481      Foryou  Сбербанк России  2015-06-08 11:09:57   \n",
       "2  лицензия № 2562  Vladimir84          Бинбанк  2015-06-05 20:14:28   \n",
       "\n",
       "                                                text  rating_grade  \\\n",
       "0  Добрый день! Я не являюсь клиентом банка и пор...           NaN   \n",
       "1  Доброго дня! Являюсь держателем зарплатной кар...           NaN   \n",
       "2  Здравствуйте!  Дублирую свое заявление от 03.0...           NaN   \n",
       "\n",
       "                                      lemmatize_text  \n",
       "0  ['добрый', 'день', 'являться', 'клиент', 'банк...  \n",
       "1  ['добрый', 'день', 'являться', 'держатель', 'з...  \n",
       "2  ['здравствовать', 'дублировать', 'свой', 'заяв...  "
      ]
     },
     "execution_count": 3,
     "metadata": {},
     "output_type": "execute_result"
    }
   ],
   "source": [
    "#responses_frame.to_csv('responses_frame.csv')\n",
    "responses_frame = pd.read_csv('responses_frame.csv')\n",
    "responses_frame.head(3)"
   ]
  },
  {
   "cell_type": "markdown",
   "metadata": {},
   "source": [
    "В поле \"rating_grade\" записана оценка отзыва по шкале от 1 до 5. \n",
    "\n",
    "Используйте меру 𝑡𝑓−𝑖𝑑𝑓, для того, чтобы найти ключевые слова и биграмы\n",
    "\n",
    "для положительных отзывов (с оценкой 5) и отрицательных отзывов (с оценкой 1)"
   ]
  },
  {
   "cell_type": "code",
   "execution_count": 4,
   "metadata": {},
   "outputs": [
    {
     "data": {
      "text/plain": [
       "((14713,), (47387,))"
      ]
     },
     "execution_count": 4,
     "metadata": {},
     "output_type": "execute_result"
    }
   ],
   "source": [
    "pos = responses_frame['lemmatize_text'][responses_frame['rating_grade'] == 5][:50000]\n",
    "neg = responses_frame['lemmatize_text'][responses_frame['rating_grade'] == 1][:50000]\n",
    "pos.shape, neg.shape"
   ]
  },
  {
   "cell_type": "code",
   "execution_count": 27,
   "metadata": {},
   "outputs": [
    {
     "data": {
      "text/html": [
       "<div>\n",
       "<style scoped>\n",
       "    .dataframe tbody tr th:only-of-type {\n",
       "        vertical-align: middle;\n",
       "    }\n",
       "\n",
       "    .dataframe tbody tr th {\n",
       "        vertical-align: top;\n",
       "    }\n",
       "\n",
       "    .dataframe thead th {\n",
       "        text-align: right;\n",
       "    }\n",
       "</style>\n",
       "<table border=\"1\" class=\"dataframe\">\n",
       "  <thead>\n",
       "    <tr style=\"text-align: right;\">\n",
       "      <th></th>\n",
       "      <th>tf-idf</th>\n",
       "    </tr>\n",
       "  </thead>\n",
       "  <tbody>\n",
       "    <tr>\n",
       "      <th>0</th>\n",
       "      <td>реструктуризация</td>\n",
       "    </tr>\n",
       "    <tr>\n",
       "      <th>1</th>\n",
       "      <td>вариант</td>\n",
       "    </tr>\n",
       "    <tr>\n",
       "      <th>2</th>\n",
       "      <td>буквально час</td>\n",
       "    </tr>\n",
       "    <tr>\n",
       "      <th>3</th>\n",
       "      <td>приглашение</td>\n",
       "    </tr>\n",
       "    <tr>\n",
       "      <th>4</th>\n",
       "      <td>внимание</td>\n",
       "    </tr>\n",
       "    <tr>\n",
       "      <th>5</th>\n",
       "      <td>кредит сотрудник</td>\n",
       "    </tr>\n",
       "    <tr>\n",
       "      <th>6</th>\n",
       "      <td>приходить следующий</td>\n",
       "    </tr>\n",
       "    <tr>\n",
       "      <th>7</th>\n",
       "      <td>помогать выбирать</td>\n",
       "    </tr>\n",
       "    <tr>\n",
       "      <th>8</th>\n",
       "      <td>ориентироваться</td>\n",
       "    </tr>\n",
       "    <tr>\n",
       "      <th>9</th>\n",
       "      <td>предлагать вариант</td>\n",
       "    </tr>\n",
       "  </tbody>\n",
       "</table>\n",
       "</div>"
      ],
      "text/plain": [
       "                tf-idf\n",
       "0     реструктуризация\n",
       "1              вариант\n",
       "2        буквально час\n",
       "3          приглашение\n",
       "4             внимание\n",
       "5     кредит сотрудник\n",
       "6  приходить следующий\n",
       "7    помогать выбирать\n",
       "8      ориентироваться\n",
       "9   предлагать вариант"
      ]
     },
     "execution_count": 27,
     "metadata": {},
     "output_type": "execute_result"
    }
   ],
   "source": [
    "tfidf = TfidfVectorizer(analyzer='word', ngram_range=(1,2), min_df=0, max_features=10000)\n",
    "tfidf_matrix =  tfidf.fit_transform(pos)\n",
    "feature_names = tfidf.get_feature_names() \n",
    "dense = tfidf_matrix.todense().astype(np.float16)\n",
    "text = dense[5].tolist()[0]\n",
    "phrase_scores = [pair for pair in zip(range(0, len(text)), text) if pair[1] > 0]\n",
    "sorted_phrase_scores = sorted(phrase_scores, key=lambda t: t[1] * -1)\n",
    "tfidf_ranking = []\n",
    "for phrase, score in [(feature_names[word_id], score) for (word_id, score) in sorted_phrase_scores][:40]:\n",
    "    tfidf_ranking.append(phrase)\n",
    "    \n",
    "rankings = pd.DataFrame({'positive_tf-idf': tfidf_ranking})\n",
    "rankings.head(10)"
   ]
  },
  {
   "cell_type": "code",
   "execution_count": 6,
   "metadata": {},
   "outputs": [
    {
     "data": {
      "text/html": [
       "<div>\n",
       "<style scoped>\n",
       "    .dataframe tbody tr th:only-of-type {\n",
       "        vertical-align: middle;\n",
       "    }\n",
       "\n",
       "    .dataframe tbody tr th {\n",
       "        vertical-align: top;\n",
       "    }\n",
       "\n",
       "    .dataframe thead th {\n",
       "        text-align: right;\n",
       "    }\n",
       "</style>\n",
       "<table border=\"1\" class=\"dataframe\">\n",
       "  <thead>\n",
       "    <tr style=\"text-align: right;\">\n",
       "      <th></th>\n",
       "      <th>negative_tf-idf</th>\n",
       "    </tr>\n",
       "  </thead>\n",
       "  <tbody>\n",
       "    <tr>\n",
       "      <th>0</th>\n",
       "      <td>бки</td>\n",
       "    </tr>\n",
       "    <tr>\n",
       "      <th>1</th>\n",
       "      <td>кредит говорить</td>\n",
       "    </tr>\n",
       "    <tr>\n",
       "      <th>2</th>\n",
       "      <td>тянуться</td>\n",
       "    </tr>\n",
       "    <tr>\n",
       "      <th>3</th>\n",
       "      <td>обновляться</td>\n",
       "    </tr>\n",
       "    <tr>\n",
       "      <th>4</th>\n",
       "      <td>кредит</td>\n",
       "    </tr>\n",
       "    <tr>\n",
       "      <th>5</th>\n",
       "      <td>обновлять</td>\n",
       "    </tr>\n",
       "    <tr>\n",
       "      <th>6</th>\n",
       "      <td>решать взять</td>\n",
       "    </tr>\n",
       "    <tr>\n",
       "      <th>7</th>\n",
       "      <td>продолжение</td>\n",
       "    </tr>\n",
       "    <tr>\n",
       "      <th>8</th>\n",
       "      <td>чужой</td>\n",
       "    </tr>\n",
       "    <tr>\n",
       "      <th>9</th>\n",
       "      <td>информация</td>\n",
       "    </tr>\n",
       "  </tbody>\n",
       "</table>\n",
       "</div>"
      ],
      "text/plain": [
       "   negative_tf-idf\n",
       "0              бки\n",
       "1  кредит говорить\n",
       "2         тянуться\n",
       "3      обновляться\n",
       "4           кредит\n",
       "5        обновлять\n",
       "6     решать взять\n",
       "7      продолжение\n",
       "8            чужой\n",
       "9       информация"
      ]
     },
     "execution_count": 6,
     "metadata": {},
     "output_type": "execute_result"
    }
   ],
   "source": [
    "tfidf = TfidfVectorizer(analyzer='word', ngram_range=(1,2), min_df = 0, max_features=10000)\n",
    "tfidf_matrix =  tfidf.fit_transform(neg)\n",
    "feature_names = tfidf.get_feature_names() \n",
    "dense = tfidf_matrix.todense()\n",
    "text = dense[5].tolist()[0]\n",
    "phrase_scores = [pair for pair in zip(range(0, len(text)), text) if pair[1] > 0]\n",
    "sorted_phrase_scores = sorted(phrase_scores, key=lambda t: t[1] * -1)\n",
    "tfidf_ranking = []\n",
    "for phrase, score in [(feature_names[word_id], score) for (word_id, score) in sorted_phrase_scores][:40]:\n",
    "    tfidf_ranking.append(phrase)\n",
    "    \n",
    "rankings = pd.DataFrame({'negative_tf-idf': tfidf_ranking})\n",
    "rankings.head(10)"
   ]
  },
  {
   "cell_type": "markdown",
   "metadata": {},
   "source": [
    "## Часть 2. Тематическое моделирование [20/100]\n",
    "\n",
    "1. Постройте несколько тематических моделей коллекции документов с разным числом тем. Приведите примеры понятных (интерпретируемых) тем.\n",
    "2. Найдите темы, в которых упомянуты конкретные банки (Сбербанк, ВТБ, другой банк). Можете ли вы их прокомментировать / объяснить?\n",
    "\n",
    "Эта часть задания может быть сделана с использованием gensim. "
   ]
  },
  {
   "cell_type": "code",
   "execution_count": 4,
   "metadata": {},
   "outputs": [
    {
     "name": "stdout",
     "output_type": "stream",
     "text": [
      "INFO: Pandarallel will run on 4 workers.\n",
      "INFO: Pandarallel will use Memory file system to transfer data between the main process and workers.\n",
      "Populating the interactive namespace from numpy and matplotlib\n"
     ]
    }
   ],
   "source": [
    "import json\n",
    "from collections import Counter\n",
    "import bz2\n",
    "import regex\n",
    "import re\n",
    "from tqdm import tqdm\n",
    "from scipy import sparse\n",
    "from sklearn.feature_extraction.text import TfidfVectorizer\n",
    "import numpy as np\n",
    "from pymystem3 import Mystem\n",
    "from pandarallel import pandarallel\n",
    "pandarallel.initialize(nb_workers=4, use_memory_fs=True, progress_bar=True)\n",
    "\n",
    "import pandas as pd\n",
    "import numpy as np\n",
    "import nltk\n",
    "from wordcloud import WordCloud\n",
    "import matplotlib.pyplot as plt\n",
    "import seaborn as sns\n",
    "from tqdm.notebook import tqdm\n",
    "%matplotlib inline\n",
    "%pylab inline"
   ]
  },
  {
   "cell_type": "code",
   "execution_count": 5,
   "metadata": {},
   "outputs": [
    {
     "data": {
      "text/html": [
       "<div>\n",
       "<style scoped>\n",
       "    .dataframe tbody tr th:only-of-type {\n",
       "        vertical-align: middle;\n",
       "    }\n",
       "\n",
       "    .dataframe tbody tr th {\n",
       "        vertical-align: top;\n",
       "    }\n",
       "\n",
       "    .dataframe thead th {\n",
       "        text-align: right;\n",
       "    }\n",
       "</style>\n",
       "<table border=\"1\" class=\"dataframe\">\n",
       "  <thead>\n",
       "    <tr style=\"text-align: right;\">\n",
       "      <th></th>\n",
       "      <th>Unnamed: 0</th>\n",
       "      <th>Unnamed: 0.1</th>\n",
       "      <th>Unnamed: 0.1.1</th>\n",
       "      <th>city</th>\n",
       "      <th>rating_not_checked</th>\n",
       "      <th>title</th>\n",
       "      <th>num_comments</th>\n",
       "      <th>bank_license</th>\n",
       "      <th>author</th>\n",
       "      <th>bank_name</th>\n",
       "      <th>datetime</th>\n",
       "      <th>text</th>\n",
       "      <th>rating_grade</th>\n",
       "      <th>lemmatize_text</th>\n",
       "      <th>topic_text</th>\n",
       "    </tr>\n",
       "  </thead>\n",
       "  <tbody>\n",
       "    <tr>\n",
       "      <th>0</th>\n",
       "      <td>0</td>\n",
       "      <td>0</td>\n",
       "      <td>0</td>\n",
       "      <td>г. Москва</td>\n",
       "      <td>False</td>\n",
       "      <td>Жалоба</td>\n",
       "      <td>0</td>\n",
       "      <td>лицензия № 2562</td>\n",
       "      <td>uhnov1</td>\n",
       "      <td>Бинбанк</td>\n",
       "      <td>2015-06-08 12:50:54</td>\n",
       "      <td>Добрый день! Я не являюсь клиентом банка и пор...</td>\n",
       "      <td>NaN</td>\n",
       "      <td>['добрый', 'день', 'являться', 'клиент', 'банк...</td>\n",
       "      <td>добрый день являться клиент банк поручитель кр...</td>\n",
       "    </tr>\n",
       "    <tr>\n",
       "      <th>1</th>\n",
       "      <td>1</td>\n",
       "      <td>1</td>\n",
       "      <td>1</td>\n",
       "      <td>г. Новосибирск</td>\n",
       "      <td>False</td>\n",
       "      <td>Не могу пользоваться услугой Сбербанк он-лайн</td>\n",
       "      <td>0</td>\n",
       "      <td>лицензия № 1481</td>\n",
       "      <td>Foryou</td>\n",
       "      <td>Сбербанк России</td>\n",
       "      <td>2015-06-08 11:09:57</td>\n",
       "      <td>Доброго дня! Являюсь держателем зарплатной кар...</td>\n",
       "      <td>NaN</td>\n",
       "      <td>['добрый', 'день', 'являться', 'держатель', 'з...</td>\n",
       "      <td>добрый день являться держатель зарплатной карт...</td>\n",
       "    </tr>\n",
       "    <tr>\n",
       "      <th>2</th>\n",
       "      <td>2</td>\n",
       "      <td>2</td>\n",
       "      <td>2</td>\n",
       "      <td>г. Москва</td>\n",
       "      <td>False</td>\n",
       "      <td>Двойное списание за один товар.</td>\n",
       "      <td>1</td>\n",
       "      <td>лицензия № 2562</td>\n",
       "      <td>Vladimir84</td>\n",
       "      <td>Бинбанк</td>\n",
       "      <td>2015-06-05 20:14:28</td>\n",
       "      <td>Здравствуйте!  Дублирую свое заявление от 03.0...</td>\n",
       "      <td>NaN</td>\n",
       "      <td>['здравствовать', 'дублировать', 'свой', 'заяв...</td>\n",
       "      <td>здравствовать дублировать заявление можайский ...</td>\n",
       "    </tr>\n",
       "  </tbody>\n",
       "</table>\n",
       "</div>"
      ],
      "text/plain": [
       "   Unnamed: 0  Unnamed: 0.1  Unnamed: 0.1.1            city  \\\n",
       "0           0             0               0       г. Москва   \n",
       "1           1             1               1  г. Новосибирск   \n",
       "2           2             2               2       г. Москва   \n",
       "\n",
       "   rating_not_checked                                          title  \\\n",
       "0               False                                         Жалоба   \n",
       "1               False  Не могу пользоваться услугой Сбербанк он-лайн   \n",
       "2               False                Двойное списание за один товар.   \n",
       "\n",
       "   num_comments     bank_license      author        bank_name  \\\n",
       "0             0  лицензия № 2562      uhnov1          Бинбанк   \n",
       "1             0  лицензия № 1481      Foryou  Сбербанк России   \n",
       "2             1  лицензия № 2562  Vladimir84          Бинбанк   \n",
       "\n",
       "              datetime                                               text  \\\n",
       "0  2015-06-08 12:50:54  Добрый день! Я не являюсь клиентом банка и пор...   \n",
       "1  2015-06-08 11:09:57  Доброго дня! Являюсь держателем зарплатной кар...   \n",
       "2  2015-06-05 20:14:28  Здравствуйте!  Дублирую свое заявление от 03.0...   \n",
       "\n",
       "   rating_grade                                     lemmatize_text  \\\n",
       "0           NaN  ['добрый', 'день', 'являться', 'клиент', 'банк...   \n",
       "1           NaN  ['добрый', 'день', 'являться', 'держатель', 'з...   \n",
       "2           NaN  ['здравствовать', 'дублировать', 'свой', 'заяв...   \n",
       "\n",
       "                                          topic_text  \n",
       "0  добрый день являться клиент банк поручитель кр...  \n",
       "1  добрый день являться держатель зарплатной карт...  \n",
       "2  здравствовать дублировать заявление можайский ...  "
      ]
     },
     "execution_count": 5,
     "metadata": {},
     "output_type": "execute_result"
    }
   ],
   "source": [
    "responses_frame = pd.read_csv('responses_frame.csv')\n",
    "responses_frame.head(3)"
   ]
  },
  {
   "cell_type": "code",
   "execution_count": 6,
   "metadata": {},
   "outputs": [
    {
     "name": "stdout",
     "output_type": "stream",
     "text": [
      "CPU times: user 3 µs, sys: 0 ns, total: 3 µs\n",
      "Wall time: 7.15 µs\n"
     ]
    },
    {
     "data": {
      "application/vnd.jupyter.widget-view+json": {
       "model_id": "49168aa84da14e3f91edc2bfe963b480",
       "version_major": 2,
       "version_minor": 0
      },
      "text/plain": [
       "VBox(children=(HBox(children=(IntProgress(value=0, description='0.00%', max=38375), Label(value='0 / 38375')))…"
      ]
     },
     "metadata": {},
     "output_type": "display_data"
    },
    {
     "data": {
      "application/vnd.jupyter.widget-view+json": {
       "model_id": "02a7b50d575841df830c7e2108b36ee5",
       "version_major": 2,
       "version_minor": 0
      },
      "text/plain": [
       "VBox(children=(HBox(children=(IntProgress(value=0, description='0.00%', max=38375), Label(value='0 / 38375')))…"
      ]
     },
     "metadata": {},
     "output_type": "display_data"
    },
    {
     "data": {
      "application/vnd.jupyter.widget-view+json": {
       "model_id": "dd808f3222bd4980ac26fd439780dd0b",
       "version_major": 2,
       "version_minor": 0
      },
      "text/plain": [
       "VBox(children=(HBox(children=(IntProgress(value=0, description='0.00%', max=38375), Label(value='0 / 38375')))…"
      ]
     },
     "metadata": {},
     "output_type": "display_data"
    },
    {
     "data": {
      "application/vnd.jupyter.widget-view+json": {
       "model_id": "fe95a41a092946c6a22cc60dbc698152",
       "version_major": 2,
       "version_minor": 0
      },
      "text/plain": [
       "VBox(children=(HBox(children=(IntProgress(value=0, description='0.00%', max=38375), Label(value='0 / 38375')))…"
      ]
     },
     "metadata": {},
     "output_type": "display_data"
    }
   ],
   "source": [
    "%time\n",
    "import re\n",
    "from nltk.corpus import stopwords\n",
    "regex = re.compile(\"[А-Яа-я]+\")\n",
    "\n",
    "mystopwords = stopwords.words('russian') + ['это', 'наш' , 'тыс', 'млн', 'млрд', 'также',  'т', 'д']\n",
    "mystoplemmas = ['который','прошлый','сей', 'свой', 'наш', 'мочь', 'такой']\n",
    "\n",
    "from pymystem3 import Mystem\n",
    "\n",
    "m = Mystem()\n",
    "\n",
    "def words_only(text, regex=regex):\n",
    "    return \" \".join(regex.findall(text))\n",
    "\n",
    "def remove_stopwords(text, mystopwords = mystopwords):\n",
    "    try:\n",
    "        return \" \".join([token for token in text.split() if not token in mystopwords])\n",
    "    except:\n",
    "        return \"\"\n",
    "\n",
    "def lemmatize(text, mystem=m):\n",
    "    try:\n",
    "        return \"\".join(m.lemmatize(text)).strip()  \n",
    "    except:\n",
    "        return \" \"\n",
    "    \n",
    "def  remove_stoplemmas(text, mystoplemmas = mystoplemmas):\n",
    "    try:\n",
    "        return \" \".join([token for token in text.split() if not token in mystoplemmas])\n",
    "    except:\n",
    "        return \"\"\n",
    "\n",
    "\n",
    "\n",
    "responses_frame['topic_text'] = responses_frame.text.str.lower()\n",
    "responses_frame.topic_text = responses_frame.topic_text.parallel_apply(lemmatize)\n",
    "responses_frame.topic_text = responses_frame.topic_text.parallel_apply(words_only)\n",
    "responses_frame.topic_text = responses_frame.topic_text.parallel_apply(remove_stopwords)  \n",
    "responses_frame.topic_text = responses_frame.topic_text.parallel_apply(remove_stoplemmas)  \n"
   ]
  },
  {
   "cell_type": "code",
   "execution_count": 34,
   "metadata": {},
   "outputs": [
    {
     "data": {
      "text/html": [
       "<div>\n",
       "<style scoped>\n",
       "    .dataframe tbody tr th:only-of-type {\n",
       "        vertical-align: middle;\n",
       "    }\n",
       "\n",
       "    .dataframe tbody tr th {\n",
       "        vertical-align: top;\n",
       "    }\n",
       "\n",
       "    .dataframe thead th {\n",
       "        text-align: right;\n",
       "    }\n",
       "</style>\n",
       "<table border=\"1\" class=\"dataframe\">\n",
       "  <thead>\n",
       "    <tr style=\"text-align: right;\">\n",
       "      <th></th>\n",
       "      <th>topic_text</th>\n",
       "    </tr>\n",
       "  </thead>\n",
       "  <tbody>\n",
       "    <tr>\n",
       "      <th>0</th>\n",
       "      <td>добрый день являться клиент банк поручитель кр...</td>\n",
       "    </tr>\n",
       "    <tr>\n",
       "      <th>1</th>\n",
       "      <td>добрый день являться держатель зарплатной карт...</td>\n",
       "    </tr>\n",
       "    <tr>\n",
       "      <th>2</th>\n",
       "      <td>здравствовать дублировать заявление можайский ...</td>\n",
       "    </tr>\n",
       "  </tbody>\n",
       "</table>\n",
       "</div>"
      ],
      "text/plain": [
       "                                          topic_text\n",
       "0  добрый день являться клиент банк поручитель кр...\n",
       "1  добрый день являться держатель зарплатной карт...\n",
       "2  здравствовать дублировать заявление можайский ..."
      ]
     },
     "execution_count": 34,
     "metadata": {},
     "output_type": "execute_result"
    }
   ],
   "source": [
    "# responses_frame.to_csv('responses_frame.csv')\n",
    "responses_frame = pd.read_csv('responses_frame.csv', usecols=['topic_text'])\n",
    "responses_frame = responses_frame.head(100_000)\n",
    "responses_frame.head(3)"
   ]
  },
  {
   "cell_type": "code",
   "execution_count": 35,
   "metadata": {},
   "outputs": [],
   "source": [
    "from gensim.corpora import *\n",
    "texts = [responses_frame.topic_text.iloc[i].split() for i in range(len(responses_frame))]\n",
    "dictionary = Dictionary(texts)\n",
    "corpus = [dictionary.doc2bow(text) for text in texts]"
   ]
  },
  {
   "cell_type": "code",
   "execution_count": 36,
   "metadata": {},
   "outputs": [
    {
     "name": "stdout",
     "output_type": "stream",
     "text": [
      "CPU times: user 3.47 s, sys: 4.16 ms, total: 3.47 s\n",
      "Wall time: 3.49 s\n"
     ]
    }
   ],
   "source": [
    "%%time\n",
    "from gensim.models import  *\n",
    "from gensim import similarities\n",
    "\n",
    "tfidf = TfidfModel(corpus)\n",
    "corpus_tfidf = tfidf[corpus]"
   ]
  },
  {
   "cell_type": "code",
   "execution_count": 37,
   "metadata": {},
   "outputs": [
    {
     "data": {
      "text/plain": [
       "70165"
      ]
     },
     "execution_count": 37,
     "metadata": {},
     "output_type": "execute_result"
    }
   ],
   "source": [
    "len(dictionary)"
   ]
  },
  {
   "cell_type": "code",
   "execution_count": 38,
   "metadata": {
    "scrolled": true
   },
   "outputs": [],
   "source": [
    "# index = similarities.MatrixSimilarity(corpus_tfidf, dtype=np.float16, num_features=len(dictionary))\n",
    "# sims = index[corpus_tfidf]"
   ]
  },
  {
   "cell_type": "code",
   "execution_count": 22,
   "metadata": {},
   "outputs": [
    {
     "name": "stdout",
     "output_type": "stream",
     "text": [
      "CPU times: user 10.7 s, sys: 220 ms, total: 10.9 s\n",
      "Wall time: 6.15 s\n"
     ]
    }
   ],
   "source": [
    "%%time\n",
    "lsi = lsimodel.LsiModel(corpus=corpus_tfidf, id2word=dictionary, num_topics=10)"
   ]
  },
  {
   "cell_type": "code",
   "execution_count": 23,
   "metadata": {},
   "outputs": [
    {
     "data": {
      "text/plain": [
       "[(0,\n",
       "  '0.192*\"карта\" + 0.137*\"кредит\" + 0.118*\"деньги\" + 0.116*\"вклад\" + 0.110*\"счет\" + 0.104*\"заявление\" + 0.101*\"сумма\" + 0.098*\"сотрудник\" + 0.098*\"отделение\" + 0.096*\"номер\"'),\n",
       " (1,\n",
       "  '-0.260*\"вклад\" + 0.247*\"звонок\" + 0.226*\"номер\" + -0.218*\"карта\" + 0.215*\"кредит\" + 0.174*\"ваш\" + 0.138*\"телефон\" + -0.134*\"деньги\" + -0.132*\"банкомат\" + 0.128*\"персональный\"'),\n",
       " (2,\n",
       "  '-0.618*\"вклад\" + 0.222*\"карта\" + -0.165*\"договор\" + 0.161*\"банкомат\" + 0.158*\"сбербанк\" + -0.157*\"ставка\" + -0.133*\"открывать\" + -0.132*\"условие\" + -0.124*\"процент\" + 0.110*\"операция\"'),\n",
       " (3,\n",
       "  '0.334*\"страховка\" + 0.295*\"кредит\" + -0.267*\"вклад\" + 0.244*\"страхование\" + -0.220*\"номер\" + -0.157*\"звонок\" + 0.139*\"погашение\" + 0.138*\"платеж\" + 0.136*\"сумма\" + 0.135*\"договор\"'),\n",
       " (4,\n",
       "  '0.217*\"средство\" + 0.193*\"денежный\" + -0.192*\"заявка\" + 0.174*\"договор\" + 0.173*\"вклад\" + 0.136*\"счет\" + 0.135*\"сумма\" + 0.126*\"руб\" + -0.123*\"страховка\" + 0.120*\"платеж\"'),\n",
       " (5,\n",
       "  '-0.258*\"страхование\" + -0.240*\"страховка\" + 0.236*\"платеж\" + -0.210*\"сбербанк\" + 0.158*\"задолженность\" + 0.153*\"просрочка\" + 0.133*\"платить\" + -0.132*\"услуга\" + 0.130*\"оплачивать\" + -0.130*\"страховой\"'),\n",
       " (6,\n",
       "  '0.397*\"карта\" + -0.336*\"банкомат\" + -0.213*\"деньги\" + 0.179*\"комиссия\" + 0.166*\"кредитный\" + 0.154*\"услуга\" + -0.134*\"купюра\" + 0.132*\"лимит\" + -0.132*\"терминал\" + -0.122*\"чек\"'),\n",
       " (7,\n",
       "  '0.489*\"банкомат\" + -0.221*\"кошелек\" + 0.203*\"страховка\" + 0.178*\"комиссия\" + -0.175*\"киви\" + -0.169*\"платеж\" + -0.140*\"документ\" + -0.124*\"сбербанк\" + 0.123*\"снимать\" + 0.119*\"страхование\"'),\n",
       " (8,\n",
       "  '0.285*\"кошелек\" + -0.254*\"сбербанк\" + 0.238*\"киви\" + -0.216*\"заявление\" + -0.211*\"карта\" + 0.184*\"перевод\" + -0.176*\"отделение\" + 0.171*\"комиссия\" + -0.168*\"г\" + 0.150*\"поддержка\"'),\n",
       " (9,\n",
       "  '-0.253*\"вклад\" + -0.229*\"страховка\" + -0.198*\"номер\" + 0.192*\"банкомат\" + -0.164*\"смс\" + -0.134*\"деньги\" + -0.111*\"руб\" + -0.107*\"приходить\" + -0.102*\"кошелек\" + 0.101*\"очередь\"')]"
      ]
     },
     "execution_count": 23,
     "metadata": {},
     "output_type": "execute_result"
    }
   ],
   "source": [
    "lsi.show_topics(10)"
   ]
  },
  {
   "cell_type": "markdown",
   "metadata": {},
   "source": [
    "    '-0.260*\"вклад\" + 0.247*\"звонок\" + 0.226*\"номер\" + -0.218*\"карта\" + 0.215*\"кредит\" + 0.174*\"ваш\" + 0.138*\"телефон\" + -0.134*\"деньги\" + -0.132*\"банкомат\" + 0.128*\"персональный\"'\n",
    "\n",
    "тема, связанная с консультациями по кредитам по телефону\n",
    "\n",
    "    '-0.618*\"вклад\" + 0.222*\"карта\" + -0.165*\"договор\" + 0.161*\"банкомат\" + 0.158*\"сбербанк\" + -0.157*\"ставка\" + -0.133*\"открывать\" + -0.132*\"условие\" + -0.124*\"процент\" + 0.110*\"операция\"'\n",
    "\n",
    "работа банкоматов в `сбербанке`\n",
    "\n",
    "    '0.334*\"страховка\" + 0.295*\"кредит\" + -0.267*\"вклад\" + 0.244*\"страхование\" + -0.220*\"номер\" + -0.157*\"звонок\" + 0.139*\"погашение\" + 0.138*\"платеж\" + 0.136*\"сумма\" + 0.135*\"договор\"'\n",
    "\n",
    "страхование кредитов\n",
    "\n",
    "    '0.285*\"кошелек\" + -0.254*\"сбербанк\" + 0.238*\"киви\" + -0.216*\"заявление\" + -0.211*\"карта\" + 0.184*\"перевод\" + -0.176*\"отделение\" + 0.171*\"комиссия\" + -0.168*\"г\" + 0.150*\"поддержка\"'\n",
    "\n",
    "переводы на киви"
   ]
  },
  {
   "cell_type": "code",
   "execution_count": 42,
   "metadata": {},
   "outputs": [
    {
     "name": "stdout",
     "output_type": "stream",
     "text": [
      "CPU times: user 23min 20s, sys: 3.51 s, total: 23min 23s\n",
      "Wall time: 21min 29s\n"
     ]
    },
    {
     "data": {
      "text/plain": [
       "[(0,\n",
       "  '0.008*\"нбки\" + 0.006*\"этаж\" + 0.006*\"павелецкий\" + 0.005*\"хкб\" + 0.004*\"прерывать\" + 0.004*\"регистрационный\" + 0.004*\"войковский\" + 0.004*\"савеловский\" + 0.004*\"вытаскивать\" + 0.004*\"грустно\"'),\n",
       " (1,\n",
       "  '0.006*\"сберкнижка\" + 0.005*\"охранник\" + 0.005*\"кнопка\" + 0.004*\"техника\" + 0.004*\"порадовать\" + 0.004*\"виртуальный\" + 0.004*\"отправитель\" + 0.004*\"поход\" + 0.004*\"несанкционированный\" + 0.004*\"изготовление\"'),\n",
       " (2,\n",
       "  '0.000*\"лукойл\" + 0.000*\"пай\" + 0.000*\"смигрировать\" + 0.000*\"натакрасавица\" + 0.000*\"нечестие\" + 0.000*\"ламода\" + 0.000*\"багаев\" + 0.000*\"транзитник\" + 0.000*\"рекларимовать\" + 0.000*\"седение\"'),\n",
       " (3,\n",
       "  '0.000*\"йн\" + 0.000*\"онл\" + 0.000*\"ввб\" + 0.000*\"сормовский\" + 0.000*\"болшея\" + 0.000*\"гайдар\" + 0.000*\"полнофункциональный\" + 0.000*\"университетский\" + 0.000*\"подгружаться\" + 0.000*\"мудрено\"'),\n",
       " (4,\n",
       "  '0.004*\"уэк\" + 0.000*\"лайновый\" + 0.000*\"перенаправляться\" + 0.000*\"растрепывать\" + 0.000*\"агония\" + 0.000*\"бухарестский\" + 0.000*\"лужа\" + 0.000*\"поторопиться\" + 0.000*\"лич\" + 0.000*\"вяз\"'),\n",
       " (5,\n",
       "  '0.006*\"поражать\" + 0.005*\"свидетельство\" + 0.004*\"брат\" + 0.004*\"сбол\" + 0.004*\"уфа\" + 0.004*\"разрезать\" + 0.004*\"застройщик\" + 0.004*\"краснодар\" + 0.004*\"угодно\" + 0.004*\"площадь\"'),\n",
       " (6,\n",
       "  '0.011*\"звонок\" + 0.008*\"номер\" + 0.005*\"суд\" + 0.005*\"долг\" + 0.005*\"данные\" + 0.004*\"рф\" + 0.004*\"ваш\" + 0.004*\"база\" + 0.004*\"отп\" + 0.004*\"наличные\"'),\n",
       " (7,\n",
       "  '0.000*\"бабушкофон\" + 0.000*\"деневный\" + 0.000*\"нечестие\" + 0.000*\"ламода\" + 0.000*\"багаев\" + 0.000*\"транзитник\" + 0.000*\"смигрировать\" + 0.000*\"рекларимовать\" + 0.000*\"натакрасавица\" + 0.000*\"внети\"'),\n",
       " (8,\n",
       "  '0.006*\"карта\" + 0.004*\"кредит\" + 0.004*\"деньги\" + 0.004*\"банкомат\" + 0.003*\"заявление\" + 0.003*\"сбербанк\" + 0.003*\"счет\" + 0.003*\"отделение\" + 0.003*\"сумма\" + 0.003*\"вклад\"'),\n",
       " (9,\n",
       "  '0.000*\"выемка\" + 0.000*\"скп\" + 0.000*\"юртаев\" + 0.000*\"твиттер\" + 0.000*\"метрополитен\" + 0.000*\"икеа\" + 0.000*\"остаточный\" + 0.000*\"блиц\" + 0.000*\"коломяжский\" + 0.000*\"заглотить\"')]"
      ]
     },
     "execution_count": 42,
     "metadata": {},
     "output_type": "execute_result"
    }
   ],
   "source": [
    "%%time\n",
    "lda = ldamodel.LdaModel(corpus=corpus_tfidf, id2word=dictionary, num_topics=10,\n",
    "                        alpha='auto', eta='auto', iterations = 100, passes = 10)\n",
    "lda.show_topics(10)"
   ]
  },
  {
   "cell_type": "markdown",
   "metadata": {},
   "source": [
    "    '0.026*\"сказать\" + 0.017*\"говорить\" + 0.016*\"девушка\" + 0.013*\"спрашивать\" + 0.011*\"паспорт\" + 0.008*\"курс\" + 0.008*\"приходить\" + 0.007*\"отвечать\" + 0.007*\"р\" + 0.007*\"подходить\"'\n",
    "\n",
    "консультации по телефону\n",
    "\n",
    "    '0.082*\"вклад\" + 0.051*\"банк\" + 0.018*\"процент\" + 0.017*\"договор\" + 0.015*\"условие\" + 0.015*\"открывать\" + 0.013*\"ставка\" + 0.013*\"день\" + 0.012*\"деньги\" + 0.010*\"срок\"'\n",
    "\n",
    "открытие вкладов\n",
    "\n",
    "    '0.006*\"карта\" + 0.004*\"кредит\" + 0.004*\"деньги\" + 0.004*\"банкомат\" + 0.003*\"заявление\" + 0.003*\"сбербанк\" + 0.003*\"счет\" + 0.003*\"отделение\" + 0.003*\"сумма\" + 0.003*\"вклад\"'\n",
    "    \n",
    "`сбербанк` - услуги\n"
   ]
  },
  {
   "cell_type": "markdown",
   "metadata": {},
   "source": [
    "## Часть 3. Классификация текстов [40/100]\n",
    "\n",
    "Сформулируем для простоты задачу бинарной классификации: будем классифицировать на два класса, то есть, различать резко отрицательные отзывы (с оценкой 1) и положительные отзывы (с оценкой 5). \n",
    "\n",
    "1.  Составьте обучающее и тестовое множество: выберите из всего набора данных N1 отзывов с оценкой 1 и N2 отзывов с оценкой 5 (значение N1 и N2 – на ваше усмотрение). Используйте ```sklearn.model_selection.train_test_split``` для разделения множества отобранных документов на обучающее и тестовое. \n",
    "2. Используйте любой известный вам алгоритм классификации текстов для решения задачи и получите baseline. Сравните разные варианты векторизации текста: использование только униграм, пар или троек слов или с использованием символьных $n$-грам. \n",
    "3. Сравните, как изменяется качество решения задачи при использовании скрытых тем в качестве признаков:\n",
    "* 1-ый вариант: $tf-idf$ преобразование (```sklearn.feature_extraction.text.TfidfTransformer```) и сингулярное разложение (оно же – латентый семантический анализ) (```sklearn.decomposition.TruncatedSVD```), \n",
    "* 2-ой вариант: тематические модели LDA (```sklearn.decomposition.LatentDirichletAllocation```). \n",
    "\n",
    "Используйте accuracy и F-measure для оценки качества классификации. \n",
    "\n",
    "Ниже написан примерный Pipeline для классификации текстов. \n",
    "\n",
    "Эта часть задания может быть сделана с использованием sklearn. "
   ]
  },
  {
   "cell_type": "code",
   "execution_count": 1,
   "metadata": {},
   "outputs": [],
   "source": [
    "import pandas as pd\n",
    "import numpy as np\n",
    "import matplotlib.pyplot as plt\n",
    "import seaborn as sns\n",
    "from tqdm.notebook import tqdm\n",
    "\n",
    "from sklearn.pipeline import Pipeline\n",
    "from sklearn.ensemble import RandomForestClassifier\n",
    "from sklearn.model_selection import train_test_split\n",
    "from sklearn.naive_bayes import MultinomialNB\n",
    "from sklearn.feature_extraction.text import *\n",
    "from sklearn.metrics import *\n",
    "from sklearn.decomposition import LatentDirichletAllocation\n",
    "from sklearn.decomposition import TruncatedSVD\n"
   ]
  },
  {
   "cell_type": "code",
   "execution_count": 2,
   "metadata": {},
   "outputs": [
    {
     "data": {
      "text/html": [
       "<div>\n",
       "<style scoped>\n",
       "    .dataframe tbody tr th:only-of-type {\n",
       "        vertical-align: middle;\n",
       "    }\n",
       "\n",
       "    .dataframe tbody tr th {\n",
       "        vertical-align: top;\n",
       "    }\n",
       "\n",
       "    .dataframe thead th {\n",
       "        text-align: right;\n",
       "    }\n",
       "</style>\n",
       "<table border=\"1\" class=\"dataframe\">\n",
       "  <thead>\n",
       "    <tr style=\"text-align: right;\">\n",
       "      <th></th>\n",
       "      <th>title</th>\n",
       "      <th>rating_grade</th>\n",
       "      <th>topic_text</th>\n",
       "    </tr>\n",
       "  </thead>\n",
       "  <tbody>\n",
       "    <tr>\n",
       "      <th>0</th>\n",
       "      <td>Жалоба</td>\n",
       "      <td>NaN</td>\n",
       "      <td>добрый день являться клиент банк поручитель кр...</td>\n",
       "    </tr>\n",
       "    <tr>\n",
       "      <th>1</th>\n",
       "      <td>Не могу пользоваться услугой Сбербанк он-лайн</td>\n",
       "      <td>NaN</td>\n",
       "      <td>добрый день являться держатель зарплатной карт...</td>\n",
       "    </tr>\n",
       "    <tr>\n",
       "      <th>2</th>\n",
       "      <td>Двойное списание за один товар.</td>\n",
       "      <td>NaN</td>\n",
       "      <td>здравствовать дублировать заявление можайский ...</td>\n",
       "    </tr>\n",
       "  </tbody>\n",
       "</table>\n",
       "</div>"
      ],
      "text/plain": [
       "                                           title  rating_grade  \\\n",
       "0                                         Жалоба           NaN   \n",
       "1  Не могу пользоваться услугой Сбербанк он-лайн           NaN   \n",
       "2                Двойное списание за один товар.           NaN   \n",
       "\n",
       "                                          topic_text  \n",
       "0  добрый день являться клиент банк поручитель кр...  \n",
       "1  добрый день являться держатель зарплатной карт...  \n",
       "2  здравствовать дублировать заявление можайский ...  "
      ]
     },
     "execution_count": 2,
     "metadata": {},
     "output_type": "execute_result"
    }
   ],
   "source": [
    "responses_frame = pd.read_csv('responses_frame.csv', usecols=['title', 'topic_text','rating_grade'])\n",
    "responses_frame.head(3)"
   ]
  },
  {
   "cell_type": "code",
   "execution_count": 3,
   "metadata": {},
   "outputs": [
    {
     "data": {
      "image/png": "[encoded data removed]",
      "text/plain": [
       "<Figure size 432x288 with 1 Axes>"
      ]
     },
     "metadata": {
      "needs_background": "light"
     },
     "output_type": "display_data"
    }
   ],
   "source": [
    "responses_frame.rating_grade.hist();"
   ]
  },
  {
   "cell_type": "code",
   "execution_count": 4,
   "metadata": {},
   "outputs": [
    {
     "name": "stderr",
     "output_type": "stream",
     "text": [
      "/home/dmi/anaconda3/lib/python3.7/site-packages/ipykernel_launcher.py:2: SettingWithCopyWarning: \n",
      "A value is trying to be set on a copy of a slice from a DataFrame\n",
      "\n",
      "See the caveats in the documentation: https://pandas.pydata.org/pandas-docs/stable/user_guide/indexing.html#returning-a-view-versus-a-copy\n",
      "  \n",
      "/home/dmi/anaconda3/lib/python3.7/site-packages/ipykernel_launcher.py:3: SettingWithCopyWarning: \n",
      "A value is trying to be set on a copy of a slice from a DataFrame\n",
      "\n",
      "See the caveats in the documentation: https://pandas.pydata.org/pandas-docs/stable/user_guide/indexing.html#returning-a-view-versus-a-copy\n",
      "  This is separate from the ipykernel package so we can avoid doing imports until\n"
     ]
    }
   ],
   "source": [
    "responses_frame['label'] = np.nan\n",
    "responses_frame['label'][responses_frame.rating_grade == 1] = 0\n",
    "responses_frame['label'][responses_frame.rating_grade == 5] = 1"
   ]
  },
  {
   "cell_type": "code",
   "execution_count": 5,
   "metadata": {},
   "outputs": [
    {
     "data": {
      "text/plain": [
       "(62100, 4)"
      ]
     },
     "execution_count": 5,
     "metadata": {},
     "output_type": "execute_result"
    },
    {
     "data": {
      "image/png": "[encoded data removed]",
      "text/plain": [
       "<Figure size 432x288 with 1 Axes>"
      ]
     },
     "metadata": {
      "needs_background": "light"
     },
     "output_type": "display_data"
    }
   ],
   "source": [
    "responses_frame = responses_frame[~responses_frame.label.isna()]\n",
    "responses_frame.label.hist();\n",
    "responses_frame.shape"
   ]
  },
  {
   "cell_type": "code",
   "execution_count": 6,
   "metadata": {},
   "outputs": [],
   "source": [
    "X_train, X_test, y_train, y_test = train_test_split(\n",
    "    responses_frame.topic_text, responses_frame.label, test_size=0.25, random_state=42)"
   ]
  },
  {
   "cell_type": "markdown",
   "metadata": {},
   "source": [
    "## Baseline"
   ]
  },
  {
   "cell_type": "code",
   "execution_count": 58,
   "metadata": {},
   "outputs": [
    {
     "data": {
      "text/plain": [
       "Pipeline(steps=[('vect', CountVectorizer(analyzer='char', ngram_range={1, 2})),\n",
       "                ('clf', RandomForestClassifier())])"
      ]
     },
     "execution_count": 58,
     "metadata": {},
     "output_type": "execute_result"
    }
   ],
   "source": [
    "clf = Pipeline([\n",
    "    ('vect', CountVectorizer(analyzer = 'char', ngram_range={1,2})),\n",
    "    ('clf', RandomForestClassifier()),\n",
    "])\n",
    "\n",
    "clf.fit(X_train, y_train)"
   ]
  },
  {
   "cell_type": "code",
   "execution_count": 9,
   "metadata": {},
   "outputs": [],
   "source": [
    "X_t = X_test[~X_test.isna()]\n",
    "y_test = y_test[~X_test.isna()]"
   ]
  },
  {
   "cell_type": "code",
   "execution_count": 69,
   "metadata": {},
   "outputs": [],
   "source": [
    "predictions = clf.predict(X_t)"
   ]
  },
  {
   "cell_type": "code",
   "execution_count": 70,
   "metadata": {},
   "outputs": [
    {
     "name": "stdout",
     "output_type": "stream",
     "text": [
      "Precision:   0.89\n",
      "Recall:   0.70\n",
      "F1-measure:   0.74\n",
      "Accuracy:   0.85\n",
      "              precision    recall  f1-score   support\n",
      "\n",
      "         0.0       0.84      0.99      0.91     11805\n",
      "         1.0       0.94      0.41      0.57      3719\n",
      "\n",
      "    accuracy                           0.85     15524\n",
      "   macro avg       0.89      0.70      0.74     15524\n",
      "weighted avg       0.87      0.85      0.83     15524\n",
      "\n"
     ]
    },
    {
     "data": {
      "image/png": "[encoded data removed]",
      "text/plain": [
       "<Figure size 432x288 with 1 Axes>"
      ]
     },
     "metadata": {
      "needs_background": "light"
     },
     "output_type": "display_data"
    }
   ],
   "source": [
    "print(\"Precision: {0:6.2f}\".format(precision_score(y_test, predictions, average='macro')))\n",
    "print(\"Recall: {0:6.2f}\".format(recall_score(y_test, predictions, average='macro')))\n",
    "print(\"F1-measure: {0:6.2f}\".format(f1_score(y_test, predictions, average='macro')))\n",
    "print(\"Accuracy: {0:6.2f}\".format(accuracy_score(y_test, predictions)))\n",
    "print(classification_report(y_test, predictions))\n",
    "labels = clf.classes_\n",
    "sns.heatmap(data=confusion_matrix(y_test, predictions), annot=True, fmt=\"d\", cbar=False, xticklabels=labels, yticklabels=labels)\n",
    "plt.title(\"Confusion matrix\")\n",
    "plt.show()"
   ]
  },
  {
   "cell_type": "code",
   "execution_count": 72,
   "metadata": {},
   "outputs": [
    {
     "name": "stdout",
     "output_type": "stream",
     "text": [
      "CPU times: user 11min 35s, sys: 4.19 s, total: 11min 39s\n",
      "Wall time: 11min 41s\n"
     ]
    }
   ],
   "source": [
    "%%time\n",
    "clf = Pipeline([\n",
    "    ('vect', CountVectorizer(analyzer = 'char', ngram_range={1,3})),\n",
    "    ('clf', RandomForestClassifier()),\n",
    "])\n",
    "\n",
    "clf.fit(X_train, y_train)\n",
    "predictions = clf.predict(X_t)"
   ]
  },
  {
   "cell_type": "code",
   "execution_count": 73,
   "metadata": {},
   "outputs": [
    {
     "name": "stdout",
     "output_type": "stream",
     "text": [
      "Precision:   0.92\n",
      "Recall:   0.75\n",
      "F1-measure:   0.80\n",
      "Accuracy:   0.88\n",
      "              precision    recall  f1-score   support\n",
      "\n",
      "         0.0       0.87      1.00      0.93     11805\n",
      "         1.0       0.97      0.51      0.67      3719\n",
      "\n",
      "    accuracy                           0.88     15524\n",
      "   macro avg       0.92      0.75      0.80     15524\n",
      "weighted avg       0.89      0.88      0.86     15524\n",
      "\n"
     ]
    },
    {
     "data": {
      "image/png": "[encoded data removed]",
      "text/plain": [
       "<Figure size 432x288 with 1 Axes>"
      ]
     },
     "metadata": {
      "needs_background": "light"
     },
     "output_type": "display_data"
    }
   ],
   "source": [
    "print(\"Precision: {0:6.2f}\".format(precision_score(y_test, predictions, average='macro')))\n",
    "print(\"Recall: {0:6.2f}\".format(recall_score(y_test, predictions, average='macro')))\n",
    "print(\"F1-measure: {0:6.2f}\".format(f1_score(y_test, predictions, average='macro')))\n",
    "print(\"Accuracy: {0:6.2f}\".format(accuracy_score(y_test, predictions)))\n",
    "print(classification_report(y_test, predictions))\n",
    "labels = clf.classes_\n",
    "sns.heatmap(data=confusion_matrix(y_test, predictions), annot=True, fmt=\"d\", cbar=False, xticklabels=labels, yticklabels=labels)\n",
    "plt.title(\"Confusion matrix\")\n",
    "plt.show()"
   ]
  },
  {
   "cell_type": "markdown",
   "metadata": {},
   "source": [
    "Качество модели с триграммами увеличилось!"
   ]
  },
  {
   "cell_type": "code",
   "execution_count": 93,
   "metadata": {},
   "outputs": [
    {
     "name": "stdout",
     "output_type": "stream",
     "text": [
      "CPU times: user 3min 56s, sys: 2.56 s, total: 3min 59s\n",
      "Wall time: 3min 46s\n"
     ]
    }
   ],
   "source": [
    "%%time\n",
    "clf = Pipeline([ \n",
    "    ('vect', CountVectorizer(analyzer = 'char', ngram_range={1,3})), \n",
    "    ('tfidf', TfidfTransformer()), \n",
    "    ('tm', TruncatedSVD(n_components=30, n_iter=7)), \n",
    "    ('clf', RandomForestClassifier())\n",
    "])\n",
    "clf.fit(X_train, y_train)\n",
    "predictions = clf.predict(X_t)"
   ]
  },
  {
   "cell_type": "code",
   "execution_count": 94,
   "metadata": {},
   "outputs": [
    {
     "name": "stdout",
     "output_type": "stream",
     "text": [
      "Precision:   0.85\n",
      "Recall:   0.72\n",
      "F1-measure:   0.76\n",
      "Accuracy:   0.85\n",
      "              precision    recall  f1-score   support\n",
      "\n",
      "         0.0       0.85      0.97      0.91     11805\n",
      "         1.0       0.85      0.47      0.60      3719\n",
      "\n",
      "    accuracy                           0.85     15524\n",
      "   macro avg       0.85      0.72      0.76     15524\n",
      "weighted avg       0.85      0.85      0.84     15524\n",
      "\n"
     ]
    },
    {
     "data": {
      "image/png": "[encoded data removed]",
      "text/plain": [
       "<Figure size 432x288 with 1 Axes>"
      ]
     },
     "metadata": {
      "needs_background": "light"
     },
     "output_type": "display_data"
    }
   ],
   "source": [
    "print(\"Precision: {0:6.2f}\".format(precision_score(y_test, predictions, average='macro')))\n",
    "print(\"Recall: {0:6.2f}\".format(recall_score(y_test, predictions, average='macro')))\n",
    "print(\"F1-measure: {0:6.2f}\".format(f1_score(y_test, predictions, average='macro')))\n",
    "print(\"Accuracy: {0:6.2f}\".format(accuracy_score(y_test, predictions)))\n",
    "print(classification_report(y_test, predictions))\n",
    "labels = clf.classes_\n",
    "sns.heatmap(data=confusion_matrix(y_test, predictions), annot=True, fmt=\"d\", cbar=False, xticklabels=labels, yticklabels=labels)\n",
    "plt.title(\"Confusion matrix\")\n",
    "plt.show()"
   ]
  },
  {
   "cell_type": "code",
   "execution_count": 10,
   "metadata": {},
   "outputs": [
    {
     "name": "stdout",
     "output_type": "stream",
     "text": [
      "CPU times: user 2min 43s, sys: 8.01 s, total: 2min 51s\n",
      "Wall time: 43min 9s\n"
     ]
    }
   ],
   "source": [
    "%%time\n",
    "clf = Pipeline([ \n",
    "    ('vect', CountVectorizer(analyzer = 'char', ngram_range={1,3})), \n",
    "    #('tfidf', TfidfTransformer()), \n",
    "    ('tm', LatentDirichletAllocation(n_components=30, n_jobs=4)), \n",
    "    ('clf', RandomForestClassifier())\n",
    "])\n",
    "clf.fit(X_train, y_train)\n",
    "predictions = clf.predict(X_t)\n"
   ]
  },
  {
   "cell_type": "code",
   "execution_count": 11,
   "metadata": {},
   "outputs": [
    {
     "name": "stdout",
     "output_type": "stream",
     "text": [
      "Precision:   0.90\n",
      "Recall:   0.85\n",
      "F1-measure:   0.87\n",
      "Accuracy:   0.91\n",
      "              precision    recall  f1-score   support\n",
      "\n",
      "         0.0       0.92      0.97      0.94     11805\n",
      "         1.0       0.88      0.74      0.80      3719\n",
      "\n",
      "    accuracy                           0.91     15524\n",
      "   macro avg       0.90      0.85      0.87     15524\n",
      "weighted avg       0.91      0.91      0.91     15524\n",
      "\n"
     ]
    },
    {
     "data": {
      "image/png": "[encoded data removed]",
      "text/plain": [
       "<Figure size 432x288 with 1 Axes>"
      ]
     },
     "metadata": {
      "needs_background": "light"
     },
     "output_type": "display_data"
    }
   ],
   "source": [
    "print(\"Precision: {0:6.2f}\".format(precision_score(y_test, predictions, average='macro')))\n",
    "print(\"Recall: {0:6.2f}\".format(recall_score(y_test, predictions, average='macro')))\n",
    "print(\"F1-measure: {0:6.2f}\".format(f1_score(y_test, predictions, average='macro')))\n",
    "print(\"Accuracy: {0:6.2f}\".format(accuracy_score(y_test, predictions)))\n",
    "print(classification_report(y_test, predictions))\n",
    "labels = clf.classes_\n",
    "sns.heatmap(data=confusion_matrix(y_test, predictions), annot=True, fmt=\"d\", cbar=False, xticklabels=labels, yticklabels=labels)\n",
    "plt.title(\"Confusion matrix\")\n",
    "plt.show()"
   ]
  },
  {
   "cell_type": "markdown",
   "metadata": {},
   "source": [
    "baseline биграммы F1-measure:   0.74\n",
    "добавили триграммы F1-measure:   0.80\n",
    "сингулярное разложение F1-measure:   0.76\n",
    "LDA F1-measure:   0.87"
   ]
  },
  {
   "cell_type": "markdown",
   "metadata": {},
   "source": [
    "Лучший результат достигается с добавлением триграмм и тематических моделей LDA.\n",
    "LDA позволяет извлекать из текста наболее значимые признаки для классификации"
   ]
  },
  {
   "cell_type": "code",
   "execution_count": null,
   "metadata": {},
   "outputs": [],
   "source": []
  }
 ],
 "metadata": {
  "kernelspec": {
   "display_name": "Python 3",
   "language": "python",
   "name": "python3"
  },
  "language_info": {
   "codemirror_mode": {
    "name": "ipython",
    "version": 3
   },
   "file_extension": ".py",
   "mimetype": "text/x-python",
   "name": "python",
   "nbconvert_exporter": "python",
   "pygments_lexer": "ipython3",
   "version": "3.7.8"
  }
 },
 "nbformat": 4,
 "nbformat_minor": 2
}
