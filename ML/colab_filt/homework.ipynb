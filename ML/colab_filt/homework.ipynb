{
 "cells": [
  {
   "cell_type": "markdown",
   "metadata": {},
   "source": [
    "# Задание теме «Коллаборативная фильтрация»\n",
    "Преподаватель: Наталья Баданина\n",
    "\n",
    "ПАКЕТ SURPRISE\n",
    "\n",
    "    используйте данные MovieLens 1M\n",
    "    можно использовать любые модели из пакета\n",
    "    получите RMSE на тестовом сете 0.87 и ниже\n",
    "\n",
    "Комментарий преподавателя :\n",
    "В ДЗ на датасет 1М может не хватить RAM. Можно сделать на 100K. Качество RMSE предлагаю считать на основе CrossValidation (5 фолдов), а не отложенном датасете.\n"
   ]
  },
  {
   "cell_type": "code",
   "execution_count": 30,
   "metadata": {},
   "outputs": [],
   "source": [
    "from surprise import KNNWithMeans, KNNBasic, SVD, SVDpp\n",
    "from surprise import Dataset\n",
    "from surprise import accuracy\n",
    "from surprise import Reader\n",
    "from surprise.model_selection import train_test_split, cross_validate\n",
    "\n",
    "import numpy as np\n",
    "import pandas as pd"
   ]
  },
  {
   "cell_type": "code",
   "execution_count": 11,
   "metadata": {},
   "outputs": [],
   "source": [
    "reader = Reader(rating_scale=(0.5, 5.0))\n",
    "data = Dataset.load_builtin(name=u'ml-1m', reader=reader, prompt=True, )"
   ]
  },
  {
   "cell_type": "markdown",
   "metadata": {},
   "source": [
    "# User based"
   ]
  },
  {
   "cell_type": "code",
   "execution_count": 51,
   "metadata": {},
   "outputs": [
    {
     "name": "stdout",
     "output_type": "stream",
     "text": [
      "Estimating biases using als...\n",
      "Computing the pearson_baseline similarity matrix...\n",
      "Done computing similarity matrix.\n",
      "Estimating biases using als...\n",
      "Computing the pearson_baseline similarity matrix...\n",
      "Done computing similarity matrix.\n",
      "Estimating biases using als...\n",
      "Computing the pearson_baseline similarity matrix...\n",
      "Done computing similarity matrix.\n",
      "Estimating biases using als...\n",
      "Computing the pearson_baseline similarity matrix...\n",
      "Done computing similarity matrix.\n",
      "Estimating biases using als...\n",
      "Computing the pearson_baseline similarity matrix...\n",
      "Done computing similarity matrix.\n",
      "Evaluating RMSE of algorithm KNNWithMeans on 5 split(s).\n",
      "\n",
      "                  Fold 1  Fold 2  Fold 3  Fold 4  Fold 5  Mean    Std     \n",
      "RMSE (testset)    0.8914  0.8883  0.8866  0.8891  0.8885  0.8888  0.0015  \n",
      "Fit time          48.02   49.25   49.93   51.35   52.55   50.22   1.58    \n",
      "Test time         96.84   98.40   101.43  103.01  104.97  100.93  2.97    \n"
     ]
    },
    {
     "data": {
      "text/plain": [
       "{'test_rmse': array([0.89136969, 0.88825471, 0.88662049, 0.8890905 , 0.88854079]),\n",
       " 'fit_time': (48.024224281311035,\n",
       "  49.25242018699646,\n",
       "  49.92519021034241,\n",
       "  51.348806858062744,\n",
       "  52.54522180557251),\n",
       " 'test_time': (96.839923620224,\n",
       "  98.40184164047241,\n",
       "  101.43210315704346,\n",
       "  103.00513887405396,\n",
       "  104.97295951843262)}"
      ]
     },
     "execution_count": 51,
     "metadata": {},
     "output_type": "execute_result"
    }
   ],
   "source": [
    "algo = KNNWithMeans(k=50, min_k=2, sim_options={\n",
    "    # 'name': 'cosine',\n",
    "   'name': 'pearson_baseline',\n",
    "   'user_based': True})\n",
    "cross_validate(algo, data, measures=['RMSE'], cv=5, verbose=True)"
   ]
  },
  {
   "cell_type": "markdown",
   "metadata": {},
   "source": [
    "k=40: [0.88860119, 0.88761584, 0.89002566, 0.88949598, 0.88955333]\n",
    "\n",
    "k=60, cosine: [0.93238378, 0.93270743, 0.93426535, 0.9351889 , 0.93508562]\n",
    "\n",
    "k=30: [0.89139475, 0.89240682, 0.88662418, 0.88980697, 0.89030965]\n",
    "\n",
    "min_k=3: [0.89003918, 0.8844171 , 0.88931215, 0.88974726, 0.89040256]\n",
    "\n",
    "min_k=10: [0.88860119, 0.88761584, 0.89002566, 0.88949598, 0.88955333]\n",
    "\n",
    "min_k=100 [1.03495605, 1.03382424, 1.038206  , 1.03493646, 1.03548635]\n",
    "\n",
    "min_k=50 [0.9059272 , 0.90859272, 0.9068979 , 0.90715633, 0.90972776]\n",
    "\n",
    "min_k=25 [0.89707765, 0.89257108, 0.89409967, 0.89450281, 0.89648078]\n",
    "\n",
    "min_k=2 [0.89136969, 0.88825471, 0.88662049, 0.8890905 , 0.88854079]"
   ]
  },
  {
   "cell_type": "markdown",
   "metadata": {},
   "source": [
    "# Item based"
   ]
  },
  {
   "cell_type": "code",
   "execution_count": 52,
   "metadata": {},
   "outputs": [
    {
     "name": "stdout",
     "output_type": "stream",
     "text": [
      "Estimating biases using als...\n",
      "Computing the pearson_baseline similarity matrix...\n",
      "Done computing similarity matrix.\n",
      "Estimating biases using als...\n",
      "Computing the pearson_baseline similarity matrix...\n",
      "Done computing similarity matrix.\n",
      "Estimating biases using als...\n",
      "Computing the pearson_baseline similarity matrix...\n",
      "Done computing similarity matrix.\n",
      "Estimating biases using als...\n",
      "Computing the pearson_baseline similarity matrix...\n",
      "Done computing similarity matrix.\n",
      "Estimating biases using als...\n",
      "Computing the pearson_baseline similarity matrix...\n",
      "Done computing similarity matrix.\n",
      "Evaluating RMSE of algorithm KNNWithMeans on 5 split(s).\n",
      "\n",
      "                  Fold 1  Fold 2  Fold 3  Fold 4  Fold 5  Mean    Std     \n",
      "RMSE (testset)    0.8580  0.8602  0.8598  0.8591  0.8583  0.8591  0.0008  \n",
      "Fit time          21.15   20.92   20.74   21.28   21.36   21.09   0.23    \n",
      "Test time         51.20   52.10   51.89   56.60   58.42   54.04   2.91    \n"
     ]
    },
    {
     "data": {
      "text/plain": [
       "{'test_rmse': array([0.85797375, 0.8601594 , 0.85976001, 0.8591499 , 0.85825068]),\n",
       " 'fit_time': (21.146010398864746,\n",
       "  20.920363187789917,\n",
       "  20.738446474075317,\n",
       "  21.277466297149658,\n",
       "  21.35996174812317),\n",
       " 'test_time': (51.195528984069824,\n",
       "  52.09663701057434,\n",
       "  51.886112213134766,\n",
       "  56.60085082054138,\n",
       "  58.41980957984924)}"
      ]
     },
     "execution_count": 52,
     "metadata": {},
     "output_type": "execute_result"
    }
   ],
   "source": [
    "algo = KNNWithMeans(k=50, sim_options={'name': 'pearson_baseline',\n",
    "                                       'user_based': False})\n",
    "cross_validate(algo, data, measures=['RMSE'], cv=5, verbose=True)"
   ]
  },
  {
   "cell_type": "code",
   "execution_count": 53,
   "metadata": {},
   "outputs": [
    {
     "data": {
      "text/plain": [
       "0.859058748"
      ]
     },
     "execution_count": 53,
     "metadata": {},
     "output_type": "execute_result"
    }
   ],
   "source": [
    "np.mean([0.85797375, 0.8601594 , 0.85976001, 0.8591499 , 0.85825068])"
   ]
  },
  {
   "cell_type": "markdown",
   "metadata": {},
   "source": [
    "# SVD"
   ]
  },
  {
   "cell_type": "code",
   "execution_count": 48,
   "metadata": {},
   "outputs": [
    {
     "name": "stdout",
     "output_type": "stream",
     "text": [
      "Evaluating RMSE of algorithm SVD on 5 split(s).\n",
      "\n",
      "                  Fold 1  Fold 2  Fold 3  Fold 4  Fold 5  Mean    Std     \n",
      "RMSE (testset)    0.8748  0.8739  0.8744  0.8787  0.8715  0.8747  0.0023  \n",
      "Fit time          42.16   42.06   41.80   41.60   41.49   41.82   0.26    \n",
      "Test time         2.18    2.13    2.48    2.14    2.46    2.28    0.16    \n"
     ]
    },
    {
     "data": {
      "text/plain": [
       "{'test_rmse': array([0.87483914, 0.87391942, 0.87441464, 0.8786952 , 0.87151681]),\n",
       " 'fit_time': (42.16025114059448,\n",
       "  42.056405544281006,\n",
       "  41.79950571060181,\n",
       "  41.59631133079529,\n",
       "  41.493852615356445),\n",
       " 'test_time': (2.178112030029297,\n",
       "  2.1311662197113037,\n",
       "  2.4797701835632324,\n",
       "  2.1426312923431396,\n",
       "  2.4562020301818848)}"
      ]
     },
     "execution_count": 48,
     "metadata": {},
     "output_type": "execute_result"
    }
   ],
   "source": [
    "cross_validate(SVD(n_factors=120, n_epochs=20),\n",
    "               data, measures=['RMSE'], cv=5, verbose=True)"
   ]
  },
  {
   "cell_type": "code",
   "execution_count": 35,
   "metadata": {},
   "outputs": [],
   "source": [
    "# cross_validate(SVDpp(n_factors=120, n_epochs=20),\n",
    "#                data, measures=['RMSE'], cv=5, verbose=True)"
   ]
  },
  {
   "cell_type": "markdown",
   "metadata": {},
   "source": [
    "1. Лучше с точки зрения качества работает item-based подход, это объясняется тем, что здесь пользователей больше, чем объектов - \"1 million ratings from 6000 users on 4000 movies\"\n",
    "2. Item-based работает гораздо быстрее\n",
    "3. RMSE - 0.859058748"
   ]
  },
  {
   "cell_type": "code",
   "execution_count": null,
   "metadata": {},
   "outputs": [],
   "source": []
  }
 ],
 "metadata": {
  "kernelspec": {
   "display_name": "Python 3",
   "language": "python",
   "name": "python3"
  },
  "language_info": {
   "codemirror_mode": {
    "name": "ipython",
    "version": 3
   },
   "file_extension": ".py",
   "mimetype": "text/x-python",
   "name": "python",
   "nbconvert_exporter": "python",
   "pygments_lexer": "ipython3",
   "version": "3.7.8"
  }
 },
 "nbformat": 4,
 "nbformat_minor": 4
}
