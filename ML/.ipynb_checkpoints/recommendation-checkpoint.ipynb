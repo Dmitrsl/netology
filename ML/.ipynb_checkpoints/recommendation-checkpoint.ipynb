{
 "cells": [
  {
   "cell_type": "markdown",
   "metadata": {},
   "source": [
    "## Домашнее задание по теме «Рекомендации на основе содержания»\n",
    "Преподаватель: Наталья Баданина\n",
    "\n",
    "    Использовать dataset MovieLens\n",
    "    Построить рекомендации (регрессия, предсказываем оценку) на фичах:\n",
    "\n",
    "    TF-IDF на тегах и жанрах\n",
    "    Средние оценки (+ median, variance, etc.) пользователя и фильма\n",
    "\n",
    "    Оценить RMSE на тестовой выборке\n",
    "\n"
   ]
  },
  {
   "cell_type": "code",
   "execution_count": 1,
   "metadata": {},
   "outputs": [],
   "source": [
    "import os\n",
    "import numpy as np\n",
    "from path import Path\n",
    "import pandas as pd\n",
    "from tqdm.notebook import tqdm\n",
    "import seaborn as sns\n",
    "\n",
    "from sklearn.feature_extraction.text import TfidfTransformer, CountVectorizer\n",
    "from sklearn.decomposition import PCA\n",
    "from sklearn.linear_model import LinearRegression\n",
    "from sklearn.model_selection import cross_val_score, cross_validate, KFold, train_test_split\n",
    "from sklearn.metrics import mean_squared_error\n",
    "from sklearn.ensemble import RandomForestRegressor"
   ]
  },
  {
   "cell_type": "code",
   "execution_count": 2,
   "metadata": {},
   "outputs": [
    {
     "data": {
      "text/plain": [
       "['genome-scores.csv',\n",
       " 'genome-tags.csv',\n",
       " 'links.csv',\n",
       " 'movies.csv',\n",
       " 'ratings.csv',\n",
       " 'README.txt',\n",
       " 'tags.csv']"
      ]
     },
     "execution_count": 2,
     "metadata": {},
     "output_type": "execute_result"
    }
   ],
   "source": [
    "data_dir = Path('ml-latest-small')\n",
    "os.listdir(data_dir)"
   ]
  },
  {
   "cell_type": "code",
   "execution_count": 3,
   "metadata": {},
   "outputs": [],
   "source": [
    "movies = pd.read_csv(data_dir / 'movies.csv')\n",
    "tags = pd.read_csv(data_dir / 'tags.csv')\n",
    "ratings = pd.read_csv(data_dir / 'ratings.csv')"
   ]
  },
  {
   "cell_type": "code",
   "execution_count": 4,
   "metadata": {},
   "outputs": [
    {
     "data": {
      "text/html": [
       "<div>\n",
       "<style scoped>\n",
       "    .dataframe tbody tr th:only-of-type {\n",
       "        vertical-align: middle;\n",
       "    }\n",
       "\n",
       "    .dataframe tbody tr th {\n",
       "        vertical-align: top;\n",
       "    }\n",
       "\n",
       "    .dataframe thead th {\n",
       "        text-align: right;\n",
       "    }\n",
       "</style>\n",
       "<table border=\"1\" class=\"dataframe\">\n",
       "  <thead>\n",
       "    <tr style=\"text-align: right;\">\n",
       "      <th></th>\n",
       "      <th>userId</th>\n",
       "      <th>movieId</th>\n",
       "      <th>rating</th>\n",
       "      <th>timestamp</th>\n",
       "    </tr>\n",
       "  </thead>\n",
       "  <tbody>\n",
       "    <tr>\n",
       "      <th>0</th>\n",
       "      <td>1</td>\n",
       "      <td>307</td>\n",
       "      <td>3.5</td>\n",
       "      <td>1256677221</td>\n",
       "    </tr>\n",
       "    <tr>\n",
       "      <th>1</th>\n",
       "      <td>1</td>\n",
       "      <td>481</td>\n",
       "      <td>3.5</td>\n",
       "      <td>1256677456</td>\n",
       "    </tr>\n",
       "    <tr>\n",
       "      <th>2</th>\n",
       "      <td>1</td>\n",
       "      <td>1091</td>\n",
       "      <td>1.5</td>\n",
       "      <td>1256677471</td>\n",
       "    </tr>\n",
       "    <tr>\n",
       "      <th>3</th>\n",
       "      <td>1</td>\n",
       "      <td>1257</td>\n",
       "      <td>4.5</td>\n",
       "      <td>1256677460</td>\n",
       "    </tr>\n",
       "    <tr>\n",
       "      <th>4</th>\n",
       "      <td>1</td>\n",
       "      <td>1449</td>\n",
       "      <td>4.5</td>\n",
       "      <td>1256677264</td>\n",
       "    </tr>\n",
       "    <tr>\n",
       "      <th>...</th>\n",
       "      <td>...</td>\n",
       "      <td>...</td>\n",
       "      <td>...</td>\n",
       "      <td>...</td>\n",
       "    </tr>\n",
       "    <tr>\n",
       "      <th>27753439</th>\n",
       "      <td>283228</td>\n",
       "      <td>8542</td>\n",
       "      <td>4.5</td>\n",
       "      <td>1379882795</td>\n",
       "    </tr>\n",
       "    <tr>\n",
       "      <th>27753440</th>\n",
       "      <td>283228</td>\n",
       "      <td>8712</td>\n",
       "      <td>4.5</td>\n",
       "      <td>1379882751</td>\n",
       "    </tr>\n",
       "    <tr>\n",
       "      <th>27753441</th>\n",
       "      <td>283228</td>\n",
       "      <td>34405</td>\n",
       "      <td>4.5</td>\n",
       "      <td>1379882889</td>\n",
       "    </tr>\n",
       "    <tr>\n",
       "      <th>27753442</th>\n",
       "      <td>283228</td>\n",
       "      <td>44761</td>\n",
       "      <td>4.5</td>\n",
       "      <td>1354159524</td>\n",
       "    </tr>\n",
       "    <tr>\n",
       "      <th>27753443</th>\n",
       "      <td>283228</td>\n",
       "      <td>54286</td>\n",
       "      <td>4.5</td>\n",
       "      <td>1354159718</td>\n",
       "    </tr>\n",
       "  </tbody>\n",
       "</table>\n",
       "<p>27753444 rows × 4 columns</p>\n",
       "</div>"
      ],
      "text/plain": [
       "          userId  movieId  rating   timestamp\n",
       "0              1      307     3.5  1256677221\n",
       "1              1      481     3.5  1256677456\n",
       "2              1     1091     1.5  1256677471\n",
       "3              1     1257     4.5  1256677460\n",
       "4              1     1449     4.5  1256677264\n",
       "...          ...      ...     ...         ...\n",
       "27753439  283228     8542     4.5  1379882795\n",
       "27753440  283228     8712     4.5  1379882751\n",
       "27753441  283228    34405     4.5  1379882889\n",
       "27753442  283228    44761     4.5  1354159524\n",
       "27753443  283228    54286     4.5  1354159718\n",
       "\n",
       "[27753444 rows x 4 columns]"
      ]
     },
     "execution_count": 4,
     "metadata": {},
     "output_type": "execute_result"
    }
   ],
   "source": [
    "ratings"
   ]
  },
  {
   "cell_type": "code",
   "execution_count": 5,
   "metadata": {},
   "outputs": [
    {
     "data": {
      "text/html": [
       "<div>\n",
       "<style scoped>\n",
       "    .dataframe tbody tr th:only-of-type {\n",
       "        vertical-align: middle;\n",
       "    }\n",
       "\n",
       "    .dataframe tbody tr th {\n",
       "        vertical-align: top;\n",
       "    }\n",
       "\n",
       "    .dataframe thead th {\n",
       "        text-align: right;\n",
       "    }\n",
       "</style>\n",
       "<table border=\"1\" class=\"dataframe\">\n",
       "  <thead>\n",
       "    <tr style=\"text-align: right;\">\n",
       "      <th></th>\n",
       "      <th>userId</th>\n",
       "      <th>movieId</th>\n",
       "      <th>tag</th>\n",
       "      <th>timestamp</th>\n",
       "    </tr>\n",
       "  </thead>\n",
       "  <tbody>\n",
       "    <tr>\n",
       "      <th>1775</th>\n",
       "      <td>1040</td>\n",
       "      <td>1</td>\n",
       "      <td>animated</td>\n",
       "      <td>1514919574</td>\n",
       "    </tr>\n",
       "    <tr>\n",
       "      <th>1776</th>\n",
       "      <td>1040</td>\n",
       "      <td>1</td>\n",
       "      <td>buddy movie</td>\n",
       "      <td>1514919577</td>\n",
       "    </tr>\n",
       "    <tr>\n",
       "      <th>1777</th>\n",
       "      <td>1040</td>\n",
       "      <td>1</td>\n",
       "      <td>Cartoon</td>\n",
       "      <td>1514919589</td>\n",
       "    </tr>\n",
       "    <tr>\n",
       "      <th>1778</th>\n",
       "      <td>1040</td>\n",
       "      <td>1</td>\n",
       "      <td>cgi</td>\n",
       "      <td>1514919556</td>\n",
       "    </tr>\n",
       "    <tr>\n",
       "      <th>1779</th>\n",
       "      <td>1040</td>\n",
       "      <td>1</td>\n",
       "      <td>comedy</td>\n",
       "      <td>1514919569</td>\n",
       "    </tr>\n",
       "    <tr>\n",
       "      <th>...</th>\n",
       "      <td>...</td>\n",
       "      <td>...</td>\n",
       "      <td>...</td>\n",
       "      <td>...</td>\n",
       "    </tr>\n",
       "    <tr>\n",
       "      <th>1098768</th>\n",
       "      <td>280018</td>\n",
       "      <td>1</td>\n",
       "      <td>witty</td>\n",
       "      <td>1516156302</td>\n",
       "    </tr>\n",
       "    <tr>\n",
       "      <th>1100103</th>\n",
       "      <td>280978</td>\n",
       "      <td>1</td>\n",
       "      <td>Pixar</td>\n",
       "      <td>1162989834</td>\n",
       "    </tr>\n",
       "    <tr>\n",
       "      <th>1105064</th>\n",
       "      <td>282405</td>\n",
       "      <td>1</td>\n",
       "      <td>Disney</td>\n",
       "      <td>1437927776</td>\n",
       "    </tr>\n",
       "    <tr>\n",
       "      <th>1105065</th>\n",
       "      <td>282405</td>\n",
       "      <td>1</td>\n",
       "      <td>friendship</td>\n",
       "      <td>1437927794</td>\n",
       "    </tr>\n",
       "    <tr>\n",
       "      <th>1105066</th>\n",
       "      <td>282405</td>\n",
       "      <td>1</td>\n",
       "      <td>nostalgic</td>\n",
       "      <td>1437927807</td>\n",
       "    </tr>\n",
       "  </tbody>\n",
       "</table>\n",
       "<p>782 rows × 4 columns</p>\n",
       "</div>"
      ],
      "text/plain": [
       "         userId  movieId          tag   timestamp\n",
       "1775       1040        1     animated  1514919574\n",
       "1776       1040        1  buddy movie  1514919577\n",
       "1777       1040        1      Cartoon  1514919589\n",
       "1778       1040        1          cgi  1514919556\n",
       "1779       1040        1       comedy  1514919569\n",
       "...         ...      ...          ...         ...\n",
       "1098768  280018        1        witty  1516156302\n",
       "1100103  280978        1        Pixar  1162989834\n",
       "1105064  282405        1       Disney  1437927776\n",
       "1105065  282405        1   friendship  1437927794\n",
       "1105066  282405        1    nostalgic  1437927807\n",
       "\n",
       "[782 rows x 4 columns]"
      ]
     },
     "execution_count": 5,
     "metadata": {},
     "output_type": "execute_result"
    }
   ],
   "source": [
    "# Использую теги из большого набора данных\n",
    "tags.dropna(inplace=True)\n",
    "tags[tags.movieId == 1]"
   ]
  },
  {
   "cell_type": "code",
   "execution_count": 6,
   "metadata": {},
   "outputs": [
    {
     "data": {
      "text/plain": [
       "(1108981, 4)"
      ]
     },
     "execution_count": 6,
     "metadata": {},
     "output_type": "execute_result"
    }
   ],
   "source": [
    "tags.shape"
   ]
  },
  {
   "cell_type": "code",
   "execution_count": 7,
   "metadata": {},
   "outputs": [
    {
     "data": {
      "text/html": [
       "<div>\n",
       "<style scoped>\n",
       "    .dataframe tbody tr th:only-of-type {\n",
       "        vertical-align: middle;\n",
       "    }\n",
       "\n",
       "    .dataframe tbody tr th {\n",
       "        vertical-align: top;\n",
       "    }\n",
       "\n",
       "    .dataframe thead th {\n",
       "        text-align: right;\n",
       "    }\n",
       "</style>\n",
       "<table border=\"1\" class=\"dataframe\">\n",
       "  <thead>\n",
       "    <tr style=\"text-align: right;\">\n",
       "      <th></th>\n",
       "      <th>userId</th>\n",
       "      <th>tag</th>\n",
       "      <th>timestamp</th>\n",
       "    </tr>\n",
       "    <tr>\n",
       "      <th>movieId</th>\n",
       "      <th></th>\n",
       "      <th></th>\n",
       "      <th></th>\n",
       "    </tr>\n",
       "  </thead>\n",
       "  <tbody>\n",
       "    <tr>\n",
       "      <th>1</th>\n",
       "      <td>[1040, 1040, 1040, 1040, 1040, 1040, 1040, 104...</td>\n",
       "      <td>[animated, buddy movie, Cartoon, cgi, comedy, ...</td>\n",
       "      <td>[1514919574, 1514919577, 1514919589, 151491955...</td>\n",
       "    </tr>\n",
       "    <tr>\n",
       "      <th>2</th>\n",
       "      <td>[3679, 5510, 5510, 5510, 5510, 5510, 5510, 551...</td>\n",
       "      <td>[fantasy, adapted from:book, animals, bad cgi,...</td>\n",
       "      <td>[1454270092, 1303424411, 1303424415, 130342441...</td>\n",
       "    </tr>\n",
       "    <tr>\n",
       "      <th>3</th>\n",
       "      <td>[17224, 17224, 19007, 19007, 19007, 19007, 190...</td>\n",
       "      <td>[moldy, old, Ann Margaret, Burgess Meredith, D...</td>\n",
       "      <td>[1143424860, 1143424860, 1506741914, 150674193...</td>\n",
       "    </tr>\n",
       "    <tr>\n",
       "      <th>4</th>\n",
       "      <td>[2419, 24230, 54594, 54594, 73406, 73406, 7340...</td>\n",
       "      <td>[characters, girl movie, characters, chick fli...</td>\n",
       "      <td>[1335562009, 1187039053, 1360563411, 136276998...</td>\n",
       "    </tr>\n",
       "    <tr>\n",
       "      <th>5</th>\n",
       "      <td>[20315, 51495, 54271, 54271, 73406, 73406, 734...</td>\n",
       "      <td>[steve martin, steve martin, pregnancy, remake...</td>\n",
       "      <td>[1143209074, 1304427888, 1137373903, 113737390...</td>\n",
       "    </tr>\n",
       "  </tbody>\n",
       "</table>\n",
       "</div>"
      ],
      "text/plain": [
       "                                                    userId  \\\n",
       "movieId                                                      \n",
       "1        [1040, 1040, 1040, 1040, 1040, 1040, 1040, 104...   \n",
       "2        [3679, 5510, 5510, 5510, 5510, 5510, 5510, 551...   \n",
       "3        [17224, 17224, 19007, 19007, 19007, 19007, 190...   \n",
       "4        [2419, 24230, 54594, 54594, 73406, 73406, 7340...   \n",
       "5        [20315, 51495, 54271, 54271, 73406, 73406, 734...   \n",
       "\n",
       "                                                       tag  \\\n",
       "movieId                                                      \n",
       "1        [animated, buddy movie, Cartoon, cgi, comedy, ...   \n",
       "2        [fantasy, adapted from:book, animals, bad cgi,...   \n",
       "3        [moldy, old, Ann Margaret, Burgess Meredith, D...   \n",
       "4        [characters, girl movie, characters, chick fli...   \n",
       "5        [steve martin, steve martin, pregnancy, remake...   \n",
       "\n",
       "                                                 timestamp  \n",
       "movieId                                                     \n",
       "1        [1514919574, 1514919577, 1514919589, 151491955...  \n",
       "2        [1454270092, 1303424411, 1303424415, 130342441...  \n",
       "3        [1143424860, 1143424860, 1506741914, 150674193...  \n",
       "4        [1335562009, 1187039053, 1360563411, 136276998...  \n",
       "5        [1143209074, 1304427888, 1137373903, 113737390...  "
      ]
     },
     "execution_count": 7,
     "metadata": {},
     "output_type": "execute_result"
    }
   ],
   "source": [
    "def change_tag(tag):\n",
    "    return ' '.join(list(set(tag))).lower()\n",
    "\n",
    "tags = tags.groupby('movieId').agg(list)\n",
    "# tags.tag = tags.tag.apply(change_tag)\n",
    "tags.head()"
   ]
  },
  {
   "cell_type": "code",
   "execution_count": 8,
   "metadata": {},
   "outputs": [],
   "source": [
    "def change_string(s):\n",
    "    return ' '.join(s.replace(' ', '').replace('-', '').split('|')).lower()\n",
    "\n",
    "# movies['genres'] = movies['genres'].apply(change_string)\n",
    "# movies"
   ]
  },
  {
   "cell_type": "code",
   "execution_count": 9,
   "metadata": {},
   "outputs": [
    {
     "data": {
      "text/html": [
       "<div>\n",
       "<style scoped>\n",
       "    .dataframe tbody tr th:only-of-type {\n",
       "        vertical-align: middle;\n",
       "    }\n",
       "\n",
       "    .dataframe tbody tr th {\n",
       "        vertical-align: top;\n",
       "    }\n",
       "\n",
       "    .dataframe thead th {\n",
       "        text-align: right;\n",
       "    }\n",
       "</style>\n",
       "<table border=\"1\" class=\"dataframe\">\n",
       "  <thead>\n",
       "    <tr style=\"text-align: right;\">\n",
       "      <th></th>\n",
       "      <th>movieId</th>\n",
       "      <th>title</th>\n",
       "      <th>genres</th>\n",
       "    </tr>\n",
       "  </thead>\n",
       "  <tbody>\n",
       "    <tr>\n",
       "      <th>9142</th>\n",
       "      <td>26958</td>\n",
       "      <td>Emma (1996)</td>\n",
       "      <td>Romance</td>\n",
       "    </tr>\n",
       "    <tr>\n",
       "      <th>9157</th>\n",
       "      <td>26982</td>\n",
       "      <td>Men with Guns (1997)</td>\n",
       "      <td>Drama</td>\n",
       "    </tr>\n",
       "    <tr>\n",
       "      <th>13309</th>\n",
       "      <td>64997</td>\n",
       "      <td>War of the Worlds (2005)</td>\n",
       "      <td>Action|Sci-Fi</td>\n",
       "    </tr>\n",
       "    <tr>\n",
       "      <th>13395</th>\n",
       "      <td>65665</td>\n",
       "      <td>Hamlet (2000)</td>\n",
       "      <td>Drama</td>\n",
       "    </tr>\n",
       "    <tr>\n",
       "      <th>13614</th>\n",
       "      <td>67459</td>\n",
       "      <td>Chaos (2005)</td>\n",
       "      <td>Crime|Drama|Horror</td>\n",
       "    </tr>\n",
       "    <tr>\n",
       "      <th>...</th>\n",
       "      <td>...</td>\n",
       "      <td>...</td>\n",
       "      <td>...</td>\n",
       "    </tr>\n",
       "    <tr>\n",
       "      <th>57269</th>\n",
       "      <td>191775</td>\n",
       "      <td>Berlin Calling (2008)</td>\n",
       "      <td>Comedy|Drama</td>\n",
       "    </tr>\n",
       "    <tr>\n",
       "      <th>57305</th>\n",
       "      <td>191867</td>\n",
       "      <td>Let There Be Light (2017)</td>\n",
       "      <td>Documentary</td>\n",
       "    </tr>\n",
       "    <tr>\n",
       "      <th>57361</th>\n",
       "      <td>192003</td>\n",
       "      <td>Journey to the Center of the Earth (2008)</td>\n",
       "      <td>Action|Adventure|Fantasy|Sci-Fi</td>\n",
       "    </tr>\n",
       "    <tr>\n",
       "      <th>57463</th>\n",
       "      <td>192243</td>\n",
       "      <td>Contact (1992)</td>\n",
       "      <td>Drama|Horror|Mystery|Thriller</td>\n",
       "    </tr>\n",
       "    <tr>\n",
       "      <th>57953</th>\n",
       "      <td>193559</td>\n",
       "      <td>Cargo (2017)</td>\n",
       "      <td>Drama</td>\n",
       "    </tr>\n",
       "  </tbody>\n",
       "</table>\n",
       "<p>78 rows × 3 columns</p>\n",
       "</div>"
      ],
      "text/plain": [
       "       movieId                                      title  \\\n",
       "9142     26958                                Emma (1996)   \n",
       "9157     26982                       Men with Guns (1997)   \n",
       "13309    64997                   War of the Worlds (2005)   \n",
       "13395    65665                              Hamlet (2000)   \n",
       "13614    67459                               Chaos (2005)   \n",
       "...        ...                                        ...   \n",
       "57269   191775                      Berlin Calling (2008)   \n",
       "57305   191867                  Let There Be Light (2017)   \n",
       "57361   192003  Journey to the Center of the Earth (2008)   \n",
       "57463   192243                             Contact (1992)   \n",
       "57953   193559                               Cargo (2017)   \n",
       "\n",
       "                                genres  \n",
       "9142                           Romance  \n",
       "9157                             Drama  \n",
       "13309                    Action|Sci-Fi  \n",
       "13395                            Drama  \n",
       "13614               Crime|Drama|Horror  \n",
       "...                                ...  \n",
       "57269                     Comedy|Drama  \n",
       "57305                      Documentary  \n",
       "57361  Action|Adventure|Fantasy|Sci-Fi  \n",
       "57463    Drama|Horror|Mystery|Thriller  \n",
       "57953                            Drama  \n",
       "\n",
       "[78 rows x 3 columns]"
      ]
     },
     "execution_count": 9,
     "metadata": {},
     "output_type": "execute_result"
    }
   ],
   "source": [
    "movies[movies.title.duplicated()]"
   ]
  },
  {
   "cell_type": "code",
   "execution_count": 10,
   "metadata": {},
   "outputs": [
    {
     "data": {
      "text/html": [
       "<div>\n",
       "<style scoped>\n",
       "    .dataframe tbody tr th:only-of-type {\n",
       "        vertical-align: middle;\n",
       "    }\n",
       "\n",
       "    .dataframe tbody tr th {\n",
       "        vertical-align: top;\n",
       "    }\n",
       "\n",
       "    .dataframe thead th {\n",
       "        text-align: right;\n",
       "    }\n",
       "</style>\n",
       "<table border=\"1\" class=\"dataframe\">\n",
       "  <thead>\n",
       "    <tr style=\"text-align: right;\">\n",
       "      <th></th>\n",
       "      <th>movieId</th>\n",
       "      <th>title</th>\n",
       "      <th>genres</th>\n",
       "    </tr>\n",
       "  </thead>\n",
       "  <tbody>\n",
       "    <tr>\n",
       "      <th>5905</th>\n",
       "      <td>6003</td>\n",
       "      <td>Confessions of a Dangerous Mind (2002)</td>\n",
       "      <td>Comedy|Crime|Drama|Thriller</td>\n",
       "    </tr>\n",
       "    <tr>\n",
       "      <th>36458</th>\n",
       "      <td>144606</td>\n",
       "      <td>Confessions of a Dangerous Mind (2002)</td>\n",
       "      <td>Comedy|Crime|Drama|Romance|Thriller</td>\n",
       "    </tr>\n",
       "  </tbody>\n",
       "</table>\n",
       "</div>"
      ],
      "text/plain": [
       "       movieId                                   title  \\\n",
       "5905      6003  Confessions of a Dangerous Mind (2002)   \n",
       "36458   144606  Confessions of a Dangerous Mind (2002)   \n",
       "\n",
       "                                    genres  \n",
       "5905           Comedy|Crime|Drama|Thriller  \n",
       "36458  Comedy|Crime|Drama|Romance|Thriller  "
      ]
     },
     "execution_count": 10,
     "metadata": {},
     "output_type": "execute_result"
    }
   ],
   "source": [
    "# Есть несколько дубликатов\n",
    "movies[movies.title == 'Confessions of a Dangerous Mind (2002)']"
   ]
  },
  {
   "cell_type": "code",
   "execution_count": 11,
   "metadata": {},
   "outputs": [],
   "source": [
    "movies.drop_duplicates(inplace=True)"
   ]
  },
  {
   "cell_type": "code",
   "execution_count": 12,
   "metadata": {},
   "outputs": [
    {
     "data": {
      "text/html": [
       "<div>\n",
       "<style scoped>\n",
       "    .dataframe tbody tr th:only-of-type {\n",
       "        vertical-align: middle;\n",
       "    }\n",
       "\n",
       "    .dataframe tbody tr th {\n",
       "        vertical-align: top;\n",
       "    }\n",
       "\n",
       "    .dataframe thead th {\n",
       "        text-align: right;\n",
       "    }\n",
       "</style>\n",
       "<table border=\"1\" class=\"dataframe\">\n",
       "  <thead>\n",
       "    <tr style=\"text-align: right;\">\n",
       "      <th></th>\n",
       "      <th>rating</th>\n",
       "    </tr>\n",
       "    <tr>\n",
       "      <th>movieId</th>\n",
       "      <th></th>\n",
       "    </tr>\n",
       "  </thead>\n",
       "  <tbody>\n",
       "    <tr>\n",
       "      <th>1</th>\n",
       "      <td>266115.0</td>\n",
       "    </tr>\n",
       "    <tr>\n",
       "      <th>2</th>\n",
       "      <td>88122.0</td>\n",
       "    </tr>\n",
       "    <tr>\n",
       "      <th>3</th>\n",
       "      <td>49466.5</td>\n",
       "    </tr>\n",
       "    <tr>\n",
       "      <th>4</th>\n",
       "      <td>8592.0</td>\n",
       "    </tr>\n",
       "    <tr>\n",
       "      <th>5</th>\n",
       "      <td>47618.0</td>\n",
       "    </tr>\n",
       "    <tr>\n",
       "      <th>...</th>\n",
       "      <td>...</td>\n",
       "    </tr>\n",
       "    <tr>\n",
       "      <th>193876</th>\n",
       "      <td>3.0</td>\n",
       "    </tr>\n",
       "    <tr>\n",
       "      <th>193878</th>\n",
       "      <td>2.0</td>\n",
       "    </tr>\n",
       "    <tr>\n",
       "      <th>193880</th>\n",
       "      <td>2.0</td>\n",
       "    </tr>\n",
       "    <tr>\n",
       "      <th>193882</th>\n",
       "      <td>2.0</td>\n",
       "    </tr>\n",
       "    <tr>\n",
       "      <th>193886</th>\n",
       "      <td>6.5</td>\n",
       "    </tr>\n",
       "  </tbody>\n",
       "</table>\n",
       "<p>53889 rows × 1 columns</p>\n",
       "</div>"
      ],
      "text/plain": [
       "           rating\n",
       "movieId          \n",
       "1        266115.0\n",
       "2         88122.0\n",
       "3         49466.5\n",
       "4          8592.0\n",
       "5         47618.0\n",
       "...           ...\n",
       "193876        3.0\n",
       "193878        2.0\n",
       "193880        2.0\n",
       "193882        2.0\n",
       "193886        6.5\n",
       "\n",
       "[53889 rows x 1 columns]"
      ]
     },
     "execution_count": 12,
     "metadata": {},
     "output_type": "execute_result"
    }
   ],
   "source": [
    "ratings = ratings[['movieId', 'rating']].groupby('movieId').agg(np.sum)\n",
    "ratings"
   ]
  },
  {
   "cell_type": "code",
   "execution_count": 13,
   "metadata": {},
   "outputs": [
    {
     "data": {
      "text/html": [
       "<div>\n",
       "<style scoped>\n",
       "    .dataframe tbody tr th:only-of-type {\n",
       "        vertical-align: middle;\n",
       "    }\n",
       "\n",
       "    .dataframe tbody tr th {\n",
       "        vertical-align: top;\n",
       "    }\n",
       "\n",
       "    .dataframe thead th {\n",
       "        text-align: right;\n",
       "    }\n",
       "</style>\n",
       "<table border=\"1\" class=\"dataframe\">\n",
       "  <thead>\n",
       "    <tr style=\"text-align: right;\">\n",
       "      <th></th>\n",
       "      <th>movieId</th>\n",
       "      <th>title</th>\n",
       "      <th>genres</th>\n",
       "      <th>rating</th>\n",
       "      <th>userId</th>\n",
       "      <th>tag</th>\n",
       "      <th>timestamp</th>\n",
       "    </tr>\n",
       "  </thead>\n",
       "  <tbody>\n",
       "    <tr>\n",
       "      <th>0</th>\n",
       "      <td>1</td>\n",
       "      <td>Toy Story (1995)</td>\n",
       "      <td>Adventure|Animation|Children|Comedy|Fantasy</td>\n",
       "      <td>266115.0</td>\n",
       "      <td>[1040, 1040, 1040, 1040, 1040, 1040, 1040, 104...</td>\n",
       "      <td>[animated, buddy movie, Cartoon, cgi, comedy, ...</td>\n",
       "      <td>[1514919574, 1514919577, 1514919589, 151491955...</td>\n",
       "    </tr>\n",
       "    <tr>\n",
       "      <th>1</th>\n",
       "      <td>2</td>\n",
       "      <td>Jumanji (1995)</td>\n",
       "      <td>Adventure|Children|Fantasy</td>\n",
       "      <td>88122.0</td>\n",
       "      <td>[3679, 5510, 5510, 5510, 5510, 5510, 5510, 551...</td>\n",
       "      <td>[fantasy, adapted from:book, animals, bad cgi,...</td>\n",
       "      <td>[1454270092, 1303424411, 1303424415, 130342441...</td>\n",
       "    </tr>\n",
       "    <tr>\n",
       "      <th>2</th>\n",
       "      <td>3</td>\n",
       "      <td>Grumpier Old Men (1995)</td>\n",
       "      <td>Comedy|Romance</td>\n",
       "      <td>49466.5</td>\n",
       "      <td>[17224, 17224, 19007, 19007, 19007, 19007, 190...</td>\n",
       "      <td>[moldy, old, Ann Margaret, Burgess Meredith, D...</td>\n",
       "      <td>[1143424860, 1143424860, 1506741914, 150674193...</td>\n",
       "    </tr>\n",
       "    <tr>\n",
       "      <th>3</th>\n",
       "      <td>4</td>\n",
       "      <td>Waiting to Exhale (1995)</td>\n",
       "      <td>Comedy|Drama|Romance</td>\n",
       "      <td>8592.0</td>\n",
       "      <td>[2419, 24230, 54594, 54594, 73406, 73406, 7340...</td>\n",
       "      <td>[characters, girl movie, characters, chick fli...</td>\n",
       "      <td>[1335562009, 1187039053, 1360563411, 136276998...</td>\n",
       "    </tr>\n",
       "    <tr>\n",
       "      <th>4</th>\n",
       "      <td>5</td>\n",
       "      <td>Father of the Bride Part II (1995)</td>\n",
       "      <td>Comedy</td>\n",
       "      <td>47618.0</td>\n",
       "      <td>[20315, 51495, 54271, 54271, 73406, 73406, 734...</td>\n",
       "      <td>[steve martin, steve martin, pregnancy, remake...</td>\n",
       "      <td>[1143209074, 1304427888, 1137373903, 113737390...</td>\n",
       "    </tr>\n",
       "  </tbody>\n",
       "</table>\n",
       "</div>"
      ],
      "text/plain": [
       "   movieId                               title  \\\n",
       "0        1                    Toy Story (1995)   \n",
       "1        2                      Jumanji (1995)   \n",
       "2        3             Grumpier Old Men (1995)   \n",
       "3        4            Waiting to Exhale (1995)   \n",
       "4        5  Father of the Bride Part II (1995)   \n",
       "\n",
       "                                        genres    rating  \\\n",
       "0  Adventure|Animation|Children|Comedy|Fantasy  266115.0   \n",
       "1                   Adventure|Children|Fantasy   88122.0   \n",
       "2                               Comedy|Romance   49466.5   \n",
       "3                         Comedy|Drama|Romance    8592.0   \n",
       "4                                       Comedy   47618.0   \n",
       "\n",
       "                                              userId  \\\n",
       "0  [1040, 1040, 1040, 1040, 1040, 1040, 1040, 104...   \n",
       "1  [3679, 5510, 5510, 5510, 5510, 5510, 5510, 551...   \n",
       "2  [17224, 17224, 19007, 19007, 19007, 19007, 190...   \n",
       "3  [2419, 24230, 54594, 54594, 73406, 73406, 7340...   \n",
       "4  [20315, 51495, 54271, 54271, 73406, 73406, 734...   \n",
       "\n",
       "                                                 tag  \\\n",
       "0  [animated, buddy movie, Cartoon, cgi, comedy, ...   \n",
       "1  [fantasy, adapted from:book, animals, bad cgi,...   \n",
       "2  [moldy, old, Ann Margaret, Burgess Meredith, D...   \n",
       "3  [characters, girl movie, characters, chick fli...   \n",
       "4  [steve martin, steve martin, pregnancy, remake...   \n",
       "\n",
       "                                           timestamp  \n",
       "0  [1514919574, 1514919577, 1514919589, 151491955...  \n",
       "1  [1454270092, 1303424411, 1303424415, 130342441...  \n",
       "2  [1143424860, 1143424860, 1506741914, 150674193...  \n",
       "3  [1335562009, 1187039053, 1360563411, 136276998...  \n",
       "4  [1143209074, 1304427888, 1137373903, 113737390...  "
      ]
     },
     "execution_count": 13,
     "metadata": {},
     "output_type": "execute_result"
    }
   ],
   "source": [
    "movies = movies.join(ratings, on='movieId')\n",
    "movies = movies.join(tags, on='movieId')\n",
    "movies.dropna(inplace=True)\n",
    "movies.head()"
   ]
  },
  {
   "cell_type": "code",
   "execution_count": 14,
   "metadata": {},
   "outputs": [
    {
     "name": "stdout",
     "output_type": "stream",
     "text": [
      "<class 'pandas.core.frame.DataFrame'>\n",
      "Int64Index: 41772 entries, 0 to 58089\n",
      "Data columns (total 7 columns):\n",
      " #   Column     Non-Null Count  Dtype  \n",
      "---  ------     --------------  -----  \n",
      " 0   movieId    41772 non-null  int64  \n",
      " 1   title      41772 non-null  object \n",
      " 2   genres     41772 non-null  object \n",
      " 3   rating     41772 non-null  float64\n",
      " 4   userId     41772 non-null  object \n",
      " 5   tag        41772 non-null  object \n",
      " 6   timestamp  41772 non-null  object \n",
      "dtypes: float64(1), int64(1), object(5)\n",
      "memory usage: 2.5+ MB\n"
     ]
    }
   ],
   "source": [
    "movies.info()"
   ]
  },
  {
   "cell_type": "code",
   "execution_count": 15,
   "metadata": {},
   "outputs": [
    {
     "data": {
      "text/plain": [
       "['adventure animation children comedy fantasy',\n",
       " 'adventure children fantasy',\n",
       " 'comedy romance',\n",
       " 'comedy drama romance',\n",
       " 'comedy',\n",
       " 'action crime thriller',\n",
       " 'comedy romance',\n",
       " 'adventure children',\n",
       " 'action',\n",
       " 'action adventure thriller']"
      ]
     },
     "execution_count": 15,
     "metadata": {},
     "output_type": "execute_result"
    }
   ],
   "source": [
    "movie_genres = [change_string(g) for g in movies.genres.values]\n",
    "movie_genres[:10]"
   ]
  },
  {
   "cell_type": "code",
   "execution_count": 16,
   "metadata": {},
   "outputs": [
    {
     "data": {
      "text/plain": [
       "(41772, 20)"
      ]
     },
     "execution_count": 16,
     "metadata": {},
     "output_type": "execute_result"
    }
   ],
   "source": [
    "count_vect = CountVectorizer()\n",
    "genres_counts = count_vect.fit_transform(movie_genres)\n",
    "tfidf_transformer = TfidfTransformer()\n",
    "genres_tfidf = tfidf_transformer.fit_transform(genres_counts)\n",
    "genres_tfidf.toarray().shape"
   ]
  },
  {
   "cell_type": "code",
   "execution_count": 17,
   "metadata": {},
   "outputs": [
    {
     "data": {
      "text/plain": [
       "array([0.        , 0.44099886, 0.49247529, 0.49434753, 0.28038717,\n",
       "       0.        , 0.        , 0.        , 0.48988942, 0.        ])"
      ]
     },
     "execution_count": 17,
     "metadata": {},
     "output_type": "execute_result"
    }
   ],
   "source": [
    "genres_tfidf.toarray()[0][:10]"
   ]
  },
  {
   "cell_type": "code",
   "execution_count": null,
   "metadata": {},
   "outputs": [],
   "source": []
  },
  {
   "cell_type": "code",
   "execution_count": 18,
   "metadata": {},
   "outputs": [
    {
     "data": {
      "text/plain": [
       "(41772, 2618)"
      ]
     },
     "execution_count": 18,
     "metadata": {},
     "output_type": "execute_result"
    }
   ],
   "source": [
    "movie_tags = [change_tag(g) for g in movies.tag.values]\n",
    "count_vect = CountVectorizer(min_df=0.001, max_df=0.999)\n",
    "tags_counts = count_vect.fit_transform(movie_tags)\n",
    "tfidf_transformer = TfidfTransformer()\n",
    "tags_tfidf = tfidf_transformer.fit_transform(tags_counts)\n",
    "tags_tfidf.toarray().shape"
   ]
  },
  {
   "cell_type": "code",
   "execution_count": 19,
   "metadata": {},
   "outputs": [
    {
     "data": {
      "text/plain": [
       "(41772, 2638)"
      ]
     },
     "execution_count": 19,
     "metadata": {},
     "output_type": "execute_result"
    }
   ],
   "source": [
    "X = np.hstack((tags_tfidf.toarray(), genres_tfidf.toarray()))\n",
    "y = movies.rating\n",
    "X.shape"
   ]
  },
  {
   "cell_type": "code",
   "execution_count": 20,
   "metadata": {},
   "outputs": [],
   "source": [
    "# try PCA\n",
    "# scores = []\n",
    "# for n in tqdm(range(10, 50)):\n",
    "#     pca = PCA(n_components = n)\n",
    "#     XPCA = pca.fit_transform(X)\n",
    "#     reg = LinearRegression().fit(XPCA, y)\n",
    "#     score = reg.score(XPCA, y)\n",
    "#     scores.append(score.mean())\n",
    "#     print(score.mean())"
   ]
  },
  {
   "cell_type": "code",
   "execution_count": 24,
   "metadata": {},
   "outputs": [],
   "source": [
    "X_train, X_test, y_train, y_test = train_test_split(X, y, test_size=0.2, random_state=42)"
   ]
  },
  {
   "cell_type": "code",
   "execution_count": 27,
   "metadata": {},
   "outputs": [],
   "source": [
    "# reg = LinearRegression().fit(X_train, y_train)\n",
    "# reg.score(X_test, y_test), mean_squared_error(reg.predict(X_test), y_test, squared=False)"
   ]
  },
  {
   "cell_type": "code",
   "execution_count": 28,
   "metadata": {},
   "outputs": [
    {
     "name": "stderr",
     "output_type": "stream",
     "text": [
      "[Parallel(n_jobs=-1)]: Using backend ThreadingBackend with 12 concurrent workers.\n",
      "[Parallel(n_jobs=-1)]: Done  26 tasks      | elapsed:  2.8min\n",
      "[Parallel(n_jobs=-1)]: Done 100 out of 100 | elapsed:  7.8min finished\n",
      "[Parallel(n_jobs=12)]: Using backend ThreadingBackend with 12 concurrent workers.\n",
      "[Parallel(n_jobs=12)]: Done  26 tasks      | elapsed:    0.0s\n",
      "[Parallel(n_jobs=12)]: Done 100 out of 100 | elapsed:    0.1s finished\n"
     ]
    },
    {
     "name": "stdout",
     "output_type": "stream",
     "text": [
      "CPU times: user 1h 6min, sys: 17 s, total: 1h 6min 17s\n",
      "Wall time: 7min 47s\n"
     ]
    },
    {
     "data": {
      "text/plain": [
       "(0.7421691483565127, 16900.838958443324)"
      ]
     },
     "execution_count": 28,
     "metadata": {},
     "output_type": "execute_result"
    }
   ],
   "source": [
    "%%time\n",
    "rf = RandomForestRegressor(max_depth=12, random_state=42, verbose=True, n_jobs=-1)\n",
    "rf.fit(X_train, y_train)\n",
    "rf.score(X_test, y_test), mean_squared_error(reg.predict(X_test), y_test, squared=False)"
   ]
  },
  {
   "cell_type": "code",
   "execution_count": null,
   "metadata": {},
   "outputs": [],
   "source": []
  },
  {
   "cell_type": "code",
   "execution_count": null,
   "metadata": {},
   "outputs": [],
   "source": []
  }
 ],
 "metadata": {
  "kernelspec": {
   "display_name": "Python 3",
   "language": "python",
   "name": "python3"
  },
  "language_info": {
   "codemirror_mode": {
    "name": "ipython",
    "version": 3
   },
   "file_extension": ".py",
   "mimetype": "text/x-python",
   "name": "python",
   "nbconvert_exporter": "python",
   "pygments_lexer": "ipython3",
   "version": "3.7.8"
  }
 },
 "nbformat": 4,
 "nbformat_minor": 4
}
