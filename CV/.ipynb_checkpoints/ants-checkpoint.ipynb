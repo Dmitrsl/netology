{
 "cells": [
  {
   "cell_type": "markdown",
   "metadata": {},
   "source": [
    "## Домашнее задание №1 по блоку CV\n",
    "Преподаватель: Наталья Баданина\n",
    "\n",
    "    Возьмите датасет https://www.kaggle.com/ajayrana/hymenoptera-data\n",
    "    Реализуйте сверточную нейронную сеть с использованием tf.keras или keras. Используйте сверточные, пуллинговые и полносвязанные слои. Обучите на train выборке в течении 10 эпох, оцените качество на отложенной выборке\n",
    "    Добавьте в предыдущую архитектуру слои BatchNorm. Обучите на train выборке в течении 10 эпох, оцените качество на отложенной выборке\n",
    "    Создайте модель ResNet 50 (https://www.tensorflow.org/api_docs/python/tf/keras/applications/ResNet50), инициализированную случайными весами, и обучите ее на train выборке в течении 10 эпох, оцените качество на отложенной выборке\n",
    "    Создайте модель ResNet 50, инициализированную весами ImageNet, и обучите ее на train выборке в течении 10 эпох, оцените качество на отложенной выборке\n",
    "    Результат пришлите в виде Jupyter Notebook на github’е или расшаренного Google Colab-блокнота\n"
   ]
  },
  {
   "cell_type": "code",
   "execution_count": 1,
   "metadata": {},
   "outputs": [],
   "source": [
    "import torch\n",
    "import torch.nn as nn\n",
    "import torch.nn.functional as F\n",
    "import torch.optim as optim\n",
    "from torch.optim import lr_scheduler\n",
    "import numpy as np\n",
    "import torchvision\n",
    "from torchvision import datasets, models, transforms\n",
    "import matplotlib.pyplot as plt\n",
    "import time\n",
    "import os\n",
    "import gc\n",
    "import copy\n",
    "import PIL\n",
    "from catalyst.utils import set_global_seed, prepare_cudnn"
   ]
  },
  {
   "cell_type": "code",
   "execution_count": 2,
   "metadata": {},
   "outputs": [],
   "source": [
    "device = torch.device(\"cuda:0\" if torch.cuda.is_available() else \"cpu\")\n",
    "BS=16\n",
    "os.listdir('hymenoptera_data/hymenoptera_data/train')\n",
    "SEED = 2021\n",
    "\n",
    "np.random.seed(SEED)\n",
    "set_global_seed(SEED)\n",
    "prepare_cudnn()"
   ]
  },
  {
   "cell_type": "code",
   "execution_count": 3,
   "metadata": {},
   "outputs": [],
   "source": [
    "image_size = 224\n",
    "train_transforms = transforms.Compose([\n",
    "    transforms.RandomResizedCrop(image_size),\n",
    "    transforms.ToTensor(),\n",
    "    transforms.Normalize([0.485, 0.456, 0.406], [0.229, 0.224, 0.225])\n",
    "    ])\n",
    "    \n",
    "valid_transforms = transforms.Compose([\n",
    "    transforms.CenterCrop(image_size),\n",
    "    transforms.ToTensor(),\n",
    "    transforms.Normalize([0.485, 0.456, 0.406], [0.229, 0.224, 0.225])\n",
    "    ])\n",
    "    \n",
    "data_dir = 'hymenoptera_data/hymenoptera_data'\n",
    "train_dataset = datasets.ImageFolder(os.path.join(data_dir, 'train'), transform=train_transforms)\n",
    "valid_dataset = datasets.ImageFolder(os.path.join(data_dir, 'val'), transform=valid_transforms)\n",
    "     \n",
    "train_dataloader = torch.utils.data.DataLoader(train_dataset, batch_size=BS, shuffle=True, num_workers=4)\n",
    "valid_dataloader = torch.utils.data.DataLoader(valid_dataset, batch_size=BS, shuffle=False, num_workers=4)\n"
   ]
  },
  {
   "cell_type": "markdown",
   "metadata": {},
   "source": [
    "### Используем сверточные, пуллинговые и полносвязанные слои"
   ]
  },
  {
   "cell_type": "code",
   "execution_count": 4,
   "metadata": {},
   "outputs": [
    {
     "name": "stdout",
     "output_type": "stream",
     "text": [
      "Net(\n",
      "  (conv1): Conv2d(3, 8, kernel_size=(3, 3), stride=(1, 1))\n",
      "  (conv2): Conv2d(8, 16, kernel_size=(3, 3), stride=(1, 1))\n",
      "  (fc1): Linear(in_features=46656, out_features=128, bias=True)\n",
      "  (fc2): Linear(in_features=128, out_features=64, bias=True)\n",
      "  (fc3): Linear(in_features=64, out_features=2, bias=True)\n",
      ")\n"
     ]
    }
   ],
   "source": [
    "class Net(nn.Module):\n",
    "\n",
    "    def __init__(self):\n",
    "        super(Net, self).__init__()\n",
    "        # 3 input image channel, 6 output channels, 3x3 square convolution\n",
    "        # kernel\n",
    "        self.conv1 = nn.Conv2d(3, 8, 3)\n",
    "        self.conv2 = nn.Conv2d(8, 16, 3)\n",
    "        self.fc1 = nn.Linear(16*54*54, 128)  # 6*6 from image dimension\n",
    "        self.fc2 = nn.Linear(128, 64)\n",
    "        self.fc3 = nn.Linear(64, 2)\n",
    "\n",
    "    def forward(self, x):\n",
    "        x = F.relu(self.conv1(x))\n",
    "        x = F.max_pool2d(x, (2, 2))\n",
    "        x = F.max_pool2d(F.relu(self.conv2(x)), 2)\n",
    "        x = x.view(-1, 16*54*54)\n",
    "        x = F.relu(self.fc1(x))\n",
    "        x = F.relu(self.fc2(x))\n",
    "        x = self.fc3(x)\n",
    "        return x\n",
    "\n",
    "\n",
    "net = Net().to(device)\n",
    "print(net)"
   ]
  },
  {
   "cell_type": "code",
   "execution_count": 5,
   "metadata": {},
   "outputs": [],
   "source": [
    "batch_x, batch_y = next(iter(train_dataloader))\n",
    "out = net(batch_x.to(device))"
   ]
  },
  {
   "cell_type": "code",
   "execution_count": 6,
   "metadata": {},
   "outputs": [
    {
     "data": {
      "text/plain": [
       "torch.Size([16])"
      ]
     },
     "execution_count": 6,
     "metadata": {},
     "output_type": "execute_result"
    }
   ],
   "source": [
    "m = nn.Softmax(dim=1)\n",
    "output = m(out)\n",
    "output[:,0].shape"
   ]
  },
  {
   "cell_type": "code",
   "execution_count": 7,
   "metadata": {},
   "outputs": [],
   "source": [
    "loaders = {'train': train_dataloader,\n",
    "          'val': valid_dataloader}\n",
    "\n",
    "dataset_sizes = {'train': len(train_dataset),\n",
    "                 'val': len(valid_dataset)}"
   ]
  },
  {
   "cell_type": "code",
   "execution_count": 8,
   "metadata": {},
   "outputs": [],
   "source": [
    "def train_model(model, criterion, optimizer, scheduler, our_dataloader, num_epochs=10):\n",
    "    \n",
    "    best_acc = 0.0\n",
    "\n",
    "    for epoch in range(num_epochs):\n",
    "        print(f'Epoch {epoch}/{num_epochs - 1}')\n",
    "\n",
    "        for phase in ['train', 'val']:\n",
    "            if phase == 'train':\n",
    "                scheduler.step()\n",
    "                model.train()  \n",
    "            else:\n",
    "                model.eval()   \n",
    "\n",
    "            running_loss = 0.0\n",
    "            running_corrects = 0\n",
    "\n",
    "            for inputs, labels in our_dataloader[phase]:\n",
    "                optimizer.zero_grad()\n",
    "                inputs = inputs.to(device)\n",
    "                labels = labels.to(device)\n",
    "                optimizer.zero_grad()\n",
    "\n",
    "                # forward\n",
    "                with torch.set_grad_enabled(phase == 'train'):\n",
    "                    outputs = model(inputs)\n",
    "                    _, preds = torch.max(outputs, 1)\n",
    "                    loss = criterion(outputs, labels)\n",
    "\n",
    "                    # backward + optimize only if in training phase\n",
    "                    if phase == 'train':\n",
    "                        loss.backward()\n",
    "                        optimizer.step()\n",
    "                        \n",
    "                # statistics\n",
    "                running_loss += loss.item() * inputs.size(0)\n",
    "                running_corrects += torch.sum(preds == labels.data)\n",
    "\n",
    "            epoch_loss = running_loss / dataset_sizes[phase]\n",
    "            epoch_acc = running_corrects.double() / dataset_sizes[phase]\n",
    "\n",
    "            print(f'{phase} Loss: {epoch_loss:.4f} Acc: {epoch_acc:.4f}')\n",
    "\n",
    "            if phase == 'val' and epoch_acc > best_acc:\n",
    "                best_acc = epoch_acc\n",
    "\n",
    "        print()\n",
    "    print(f'Best val Acc: {best_acc:4f}')\n"
   ]
  },
  {
   "cell_type": "code",
   "execution_count": 9,
   "metadata": {},
   "outputs": [
    {
     "name": "stdout",
     "output_type": "stream",
     "text": [
      "Epoch 0/9\n"
     ]
    },
    {
     "name": "stderr",
     "output_type": "stream",
     "text": [
      "/home/dmi/anaconda3/lib/python3.7/site-packages/torch/optim/lr_scheduler.py:136: UserWarning:\n",
      "\n",
      "Detected call of `lr_scheduler.step()` before `optimizer.step()`. In PyTorch 1.1.0 and later, you should call them in the opposite order: `optimizer.step()` before `lr_scheduler.step()`.  Failure to do this will result in PyTorch skipping the first value of the learning rate schedule. See more details at https://pytorch.org/docs/stable/optim.html#how-to-adjust-learning-rate\n",
      "\n"
     ]
    },
    {
     "name": "stdout",
     "output_type": "stream",
     "text": [
      "train Loss: 0.8174 Acc: 0.4672\n",
      "val Loss: 0.7106 Acc: 0.5425\n",
      "\n",
      "Epoch 1/9\n",
      "train Loss: 0.7097 Acc: 0.5000\n",
      "val Loss: 0.6925 Acc: 0.5163\n",
      "\n",
      "Epoch 2/9\n",
      "train Loss: 0.6803 Acc: 0.6270\n",
      "val Loss: 0.6854 Acc: 0.5425\n",
      "\n",
      "Epoch 3/9\n",
      "train Loss: 0.6768 Acc: 0.5410\n",
      "val Loss: 0.6765 Acc: 0.5556\n",
      "\n",
      "Epoch 4/9\n",
      "train Loss: 0.6423 Acc: 0.6393\n",
      "val Loss: 0.6691 Acc: 0.6275\n",
      "\n",
      "Epoch 5/9\n",
      "train Loss: 0.6117 Acc: 0.6557\n",
      "val Loss: 0.6608 Acc: 0.5882\n",
      "\n",
      "Epoch 6/9\n",
      "train Loss: 0.5847 Acc: 0.6762\n",
      "val Loss: 0.7342 Acc: 0.5490\n",
      "\n",
      "Epoch 7/9\n",
      "train Loss: 0.5809 Acc: 0.6803\n",
      "val Loss: 0.6921 Acc: 0.5490\n",
      "\n",
      "Epoch 8/9\n",
      "train Loss: 0.5625 Acc: 0.7049\n",
      "val Loss: 0.7187 Acc: 0.5882\n",
      "\n",
      "Epoch 9/9\n",
      "train Loss: 0.5534 Acc: 0.7172\n",
      "val Loss: 0.6614 Acc: 0.6340\n",
      "\n",
      "Best val Acc: 0.633987\n"
     ]
    }
   ],
   "source": [
    "criterion = nn.CrossEntropyLoss()\n",
    "\n",
    "# Observe that all parameters are being optimized\n",
    "optimizer_ft = optim.AdamW(net.parameters(), lr=0.0005)\n",
    "\n",
    "# Decay LR by a factor of 0.1 every 7 epochs\n",
    "exp_lr_scheduler = lr_scheduler.StepLR(optimizer_ft, step_size=3, gamma=0.75)\n",
    "    \n",
    "model_ft = train_model(net, \n",
    "                       criterion, \n",
    "                       optimizer_ft, \n",
    "                       exp_lr_scheduler,\n",
    "                       loaders,\n",
    "                       num_epochs=10)\n"
   ]
  },
  {
   "cell_type": "markdown",
   "metadata": {},
   "source": [
    "### Добавляем в предыдущую архитектуру слои BatchNorm"
   ]
  },
  {
   "cell_type": "code",
   "execution_count": 10,
   "metadata": {},
   "outputs": [
    {
     "data": {
      "text/plain": [
       "Net(\n",
       "  (conv1): Conv2d(3, 8, kernel_size=(3, 3), stride=(1, 1))\n",
       "  (conv2): Conv2d(8, 16, kernel_size=(3, 3), stride=(1, 1))\n",
       "  (fc1): Linear(in_features=46656, out_features=128, bias=True)\n",
       "  (fc2): Linear(in_features=128, out_features=64, bias=True)\n",
       "  (fc3): Linear(in_features=64, out_features=2, bias=True)\n",
       "  (bn0): BatchNorm2d(3, eps=1e-05, momentum=0.1, affine=True, track_running_stats=True)\n",
       "  (bn1): BatchNorm2d(8, eps=1e-05, momentum=0.1, affine=True, track_running_stats=True)\n",
       "  (bn2): BatchNorm2d(16, eps=1e-05, momentum=0.1, affine=True, track_running_stats=True)\n",
       "  (bn3): BatchNorm1d(64, eps=1e-05, momentum=0.1, affine=True, track_running_stats=True)\n",
       ")"
      ]
     },
     "execution_count": 10,
     "metadata": {},
     "output_type": "execute_result"
    }
   ],
   "source": [
    "class Net(nn.Module):\n",
    "\n",
    "    def __init__(self):\n",
    "        super(Net, self).__init__()\n",
    "        # 3 input image channel, 6 output channels, 3x3 square convolution\n",
    "        # kernel\n",
    "        self.conv1 = nn.Conv2d(3, 8, 3)\n",
    "        self.conv2 = nn.Conv2d(8, 16, 3)\n",
    "        self.fc1 = nn.Linear(16*54*54, 128)  # 6*6 from image dimension\n",
    "        self.fc2 = nn.Linear(128, 64)\n",
    "        self.fc3 = nn.Linear(64, 2)\n",
    "        self.bn0 = nn.BatchNorm2d(3)\n",
    "        self.bn1 = nn.BatchNorm2d(8)\n",
    "        self.bn2 = nn.BatchNorm2d(16)\n",
    "        self.bn3 = nn.BatchNorm1d(64)\n",
    "\n",
    "    def forward(self, x):\n",
    "\n",
    "        x = self.bn0(x)\n",
    "        x = self.bn1(self.conv1(x))\n",
    "        x = F.relu(x)\n",
    "        x = F.max_pool2d(x, (2, 2))\n",
    "        x = self.conv2(x)\n",
    "        x = self.bn2(x)\n",
    "\n",
    "        x = F.max_pool2d(F.relu(x), 2)\n",
    "\n",
    "        #x = self.bn2(x)\n",
    "        x = x.view(-1, 16*54*54)\n",
    "        x = F.relu(self.fc1(x))\n",
    "        x = F.relu(self.bn3(self.fc2(x)))\n",
    "        x = self.fc3(x)\n",
    "        return x\n",
    "\n",
    "\n",
    "net = Net().to(device)\n",
    "net"
   ]
  },
  {
   "cell_type": "code",
   "execution_count": 11,
   "metadata": {},
   "outputs": [
    {
     "name": "stdout",
     "output_type": "stream",
     "text": [
      "Epoch 0/9\n",
      "train Loss: 0.7106 Acc: 0.5656\n",
      "val Loss: 0.6635 Acc: 0.5948\n",
      "\n",
      "Epoch 1/9\n",
      "train Loss: 0.6345 Acc: 0.6393\n",
      "val Loss: 0.6442 Acc: 0.6405\n",
      "\n",
      "Epoch 2/9\n",
      "train Loss: 0.6229 Acc: 0.6352\n",
      "val Loss: 0.6553 Acc: 0.6405\n",
      "\n",
      "Epoch 3/9\n",
      "train Loss: 0.6094 Acc: 0.6680\n",
      "val Loss: 0.6717 Acc: 0.6209\n",
      "\n",
      "Epoch 4/9\n",
      "train Loss: 0.6081 Acc: 0.6230\n",
      "val Loss: 0.6223 Acc: 0.6601\n",
      "\n",
      "Epoch 5/9\n",
      "train Loss: 0.5885 Acc: 0.6639\n",
      "val Loss: 0.6134 Acc: 0.6601\n",
      "\n",
      "Epoch 6/9\n",
      "train Loss: 0.5863 Acc: 0.6926\n",
      "val Loss: 0.6138 Acc: 0.6863\n",
      "\n",
      "Epoch 7/9\n",
      "train Loss: 0.5863 Acc: 0.7131\n",
      "val Loss: 0.6995 Acc: 0.6144\n",
      "\n",
      "Epoch 8/9\n",
      "train Loss: 0.5738 Acc: 0.6557\n",
      "val Loss: 0.6156 Acc: 0.7124\n",
      "\n",
      "Epoch 9/9\n",
      "train Loss: 0.5779 Acc: 0.7008\n",
      "val Loss: 0.5847 Acc: 0.7059\n",
      "\n",
      "Best val Acc: 0.712418\n"
     ]
    }
   ],
   "source": [
    "criterion = nn.CrossEntropyLoss()\n",
    "\n",
    "# Observe that all parameters are being optimized\n",
    "optimizer_ft = optim.AdamW(net.parameters(), lr=0.0005)\n",
    "\n",
    "# Decay LR by a factor of 0.1 every 7 epochs\n",
    "exp_lr_scheduler = lr_scheduler.StepLR(optimizer_ft, step_size=3, gamma=0.75)\n",
    "    \n",
    "model_ft = train_model(net, \n",
    "                       criterion, \n",
    "                       optimizer_ft, \n",
    "                       exp_lr_scheduler,\n",
    "                       loaders,\n",
    "                       num_epochs=10)"
   ]
  },
  {
   "cell_type": "code",
   "execution_count": 12,
   "metadata": {},
   "outputs": [],
   "source": [
    "gc.collect()\n",
    "torch.cuda.empty_cache()"
   ]
  },
  {
   "cell_type": "markdown",
   "metadata": {},
   "source": [
    "### Создаем модель ResNet 50, инициализированную весами ImageNet"
   ]
  },
  {
   "cell_type": "code",
   "execution_count": 13,
   "metadata": {},
   "outputs": [],
   "source": [
    "net = models.resnet50(pretrained=True)\n",
    "in_features = net.fc.in_features\n",
    "net.fc = nn.Linear(in_features, 2)\n",
    "net.to(device);"
   ]
  },
  {
   "cell_type": "code",
   "execution_count": 14,
   "metadata": {},
   "outputs": [
    {
     "name": "stdout",
     "output_type": "stream",
     "text": [
      "Epoch 0/9\n",
      "train Loss: 0.6949 Acc: 0.7336\n",
      "val Loss: 8.3338 Acc: 0.4575\n",
      "\n",
      "Epoch 1/9\n",
      "train Loss: 0.5405 Acc: 0.7377\n",
      "val Loss: 2.3833 Acc: 0.6209\n",
      "\n",
      "Epoch 2/9\n",
      "train Loss: 0.3751 Acc: 0.8361\n",
      "val Loss: 0.4191 Acc: 0.9020\n",
      "\n",
      "Epoch 3/9\n",
      "train Loss: 0.3266 Acc: 0.8730\n",
      "val Loss: 0.3990 Acc: 0.8497\n",
      "\n",
      "Epoch 4/9\n",
      "train Loss: 0.2974 Acc: 0.8770\n",
      "val Loss: 0.3760 Acc: 0.8954\n",
      "\n",
      "Epoch 5/9\n",
      "train Loss: 0.2057 Acc: 0.9180\n",
      "val Loss: 0.5597 Acc: 0.8627\n",
      "\n",
      "Epoch 6/9\n",
      "train Loss: 0.2250 Acc: 0.9098\n",
      "val Loss: 0.6904 Acc: 0.8235\n",
      "\n",
      "Epoch 7/9\n",
      "train Loss: 0.1753 Acc: 0.9303\n",
      "val Loss: 0.6547 Acc: 0.8235\n",
      "\n",
      "Epoch 8/9\n",
      "train Loss: 0.2299 Acc: 0.8975\n",
      "val Loss: 0.8677 Acc: 0.7778\n",
      "\n",
      "Epoch 9/9\n",
      "train Loss: 0.2092 Acc: 0.9262\n",
      "val Loss: 0.4680 Acc: 0.8627\n",
      "\n",
      "Best val Acc: 0.901961\n"
     ]
    }
   ],
   "source": [
    "criterion = nn.CrossEntropyLoss()\n",
    "\n",
    "# Observe that all parameters are being optimized\n",
    "optimizer_ft = optim.AdamW(net.parameters(), lr=0.0005)\n",
    "\n",
    "# Decay LR by a factor of 0.1 every 7 epochs\n",
    "exp_lr_scheduler = lr_scheduler.StepLR(optimizer_ft, step_size=3, gamma=0.75)\n",
    "    \n",
    "model_ft = train_model(net, \n",
    "                       criterion, \n",
    "                       optimizer_ft, \n",
    "                       exp_lr_scheduler,\n",
    "                       loaders,\n",
    "                       num_epochs=10)"
   ]
  },
  {
   "cell_type": "markdown",
   "metadata": {},
   "source": [
    "Точночть простой модели  - 0.633987\n",
    "\n",
    "Точночть простой модели со слоями BatchNorm - 0.712418\n",
    "\n",
    "Точность модели предобученной ResNet 50, инициализированной весами ImageNet - 0.901961"
   ]
  }
 ],
 "metadata": {
  "kernelspec": {
   "display_name": "Python 3",
   "language": "python",
   "name": "python3"
  },
  "language_info": {
   "codemirror_mode": {
    "name": "ipython",
    "version": 3
   },
   "file_extension": ".py",
   "mimetype": "text/x-python",
   "name": "python",
   "nbconvert_exporter": "python",
   "pygments_lexer": "ipython3",
   "version": "3.7.8"
  }
 },
 "nbformat": 4,
 "nbformat_minor": 4
}
