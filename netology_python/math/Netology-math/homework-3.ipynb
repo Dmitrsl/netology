{
 "cells": [
  {
   "cell_type": "markdown",
   "metadata": {},
   "source": [
    "### Задание 1:"
   ]
  },
  {
   "cell_type": "markdown",
   "metadata": {},
   "source": [
    "Придумайте матрицы, которые обладают следующими свойствами:"
   ]
  },
  {
   "cell_type": "markdown",
   "metadata": {},
   "source": [
    "a) диагональная, ортогональная, но не единичная(!):\n",
    "\n",
    "b) верхнетреугольная, ортогональная:\n",
    "\n",
    "c) нижнетреугольная, ортогональная: \n",
    "\n",
    "d) матрица, у которой определитель = 1, и все элементы не равны 0:\n",
    "\n",
    "e) матрица (3x3), у которой определитель = 1:"
   ]
  },
  {
   "cell_type": "markdown",
   "metadata": {},
   "source": [
    "P.S. Во всех пунктах ответом должна быть ненулевая матрица размерности не менее 2!"
   ]
  },
  {
   "cell_type": "code",
   "execution_count": 99,
   "metadata": {},
   "outputs": [
    {
     "data": {
      "text/plain": [
       "array([[1, 0, 0],\n",
       "       [0, 1, 0],\n",
       "       [0, 0, 1]])"
      ]
     },
     "execution_count": 99,
     "metadata": {},
     "output_type": "execute_result"
    }
   ],
   "source": [
    "# диагональная, ортогональная, но не единичная(!):\n",
    "import numpy as np\n",
    "import pandas as pd\n",
    "A = np.diag([-1, 1, -1])\n",
    "A @ A.T"
   ]
  },
  {
   "cell_type": "code",
   "execution_count": 4,
   "metadata": {},
   "outputs": [
    {
     "data": {
      "text/plain": [
       "array([[1., 0., 0.],\n",
       "       [0., 1., 0.],\n",
       "       [0., 0., 1.]])"
      ]
     },
     "execution_count": 4,
     "metadata": {},
     "output_type": "execute_result"
    }
   ],
   "source": [
    "# верхнетреугольная, ортогональная:\n",
    "A = np.eye(3)\n",
    "A @ A.T"
   ]
  },
  {
   "cell_type": "code",
   "execution_count": 5,
   "metadata": {},
   "outputs": [
    {
     "data": {
      "text/plain": [
       "array([[1., 0., 0.],\n",
       "       [0., 1., 0.],\n",
       "       [0., 0., 1.]])"
      ]
     },
     "execution_count": 5,
     "metadata": {},
     "output_type": "execute_result"
    }
   ],
   "source": [
    "# верхнетреугольная, ортогональная:\n",
    "A = np.eye(3)\n",
    "A @ A.T"
   ]
  },
  {
   "cell_type": "code",
   "execution_count": 7,
   "metadata": {},
   "outputs": [
    {
     "data": {
      "text/plain": [
       "array([[1., 0., 0.],\n",
       "       [0., 1., 0.],\n",
       "       [0., 0., 1.]])"
      ]
     },
     "execution_count": 7,
     "metadata": {},
     "output_type": "execute_result"
    }
   ],
   "source": [
    "# нижнетреугольная, ортогональная:\n",
    "A = np.eye(3)\n",
    "A @ A.T"
   ]
  },
  {
   "cell_type": "code",
   "execution_count": 8,
   "metadata": {},
   "outputs": [
    {
     "data": {
      "text/plain": [
       "1.0"
      ]
     },
     "execution_count": 8,
     "metadata": {},
     "output_type": "execute_result"
    }
   ],
   "source": [
    "# матрица, у которой определитель = 1, и все элементы не равны 0:\n",
    "\n",
    "A = np.array([ [ 1/3,  2/3, -2/3],\n",
    "               [-2/3,  2/3,  1/3],\n",
    "               [ 2/3,  1/3,  2/3]])\n",
    "np.linalg.det(A)"
   ]
  },
  {
   "cell_type": "code",
   "execution_count": 9,
   "metadata": {},
   "outputs": [
    {
     "data": {
      "text/plain": [
       "1.0"
      ]
     },
     "execution_count": 9,
     "metadata": {},
     "output_type": "execute_result"
    }
   ],
   "source": [
    "A = np.array([ [ -2/3,  3/3, 1/3],\n",
    "               [0,  1,  1],\n",
    "               [0,  0,  -1.5]])\n",
    "np.linalg.det(A)"
   ]
  },
  {
   "cell_type": "code",
   "execution_count": 12,
   "metadata": {},
   "outputs": [
    {
     "data": {
      "text/plain": [
       "array([[ 1.00000000e+00, -2.58022041e-17,  0.00000000e+00],\n",
       "       [-2.58022041e-17,  1.00000000e+00,  0.00000000e+00],\n",
       "       [ 0.00000000e+00,  0.00000000e+00,  1.00000000e+00]])"
      ]
     },
     "execution_count": 12,
     "metadata": {},
     "output_type": "execute_result"
    }
   ],
   "source": [
    "# матрица (3x3), у которой определитель = 1:\n",
    "A = np.array([ [ np.cos(1/2),  -np.sin(1/2), 0],\n",
    "               [ np.sin(1/2),  np.cos(1/2),  0],\n",
    "               [ 0,  0,  1]])\n",
    "np.linalg.det(A)\n",
    "A @ A.T"
   ]
  },
  {
   "cell_type": "markdown",
   "metadata": {},
   "source": [
    "### Задание 2:"
   ]
  },
  {
   "cell_type": "markdown",
   "metadata": {},
   "source": [
    "Найдите собственные значения и собственные вектора матриц (необходимо решение на numpy и честное решение на бумаге:)"
   ]
  },
  {
   "cell_type": "code",
   "execution_count": 24,
   "metadata": {},
   "outputs": [
    {
     "name": "stdout",
     "output_type": "stream",
     "text": [
      "[[2 2]\n",
      " [1 3]]\n"
     ]
    }
   ],
   "source": [
    "m = np.array([[2, 2],\n",
    "              [1, 3]])\n",
    "print(m)"
   ]
  },
  {
   "cell_type": "code",
   "execution_count": 22,
   "metadata": {},
   "outputs": [
    {
     "data": {
      "text/plain": [
       "(array([1., 4.]),\n",
       " array([[-0.89442719, -0.70710678],\n",
       "        [ 0.4472136 , -0.70710678]]))"
      ]
     },
     "execution_count": 22,
     "metadata": {},
     "output_type": "execute_result"
    }
   ],
   "source": [
    "num, vec = np.linalg.eig(m)\n",
    "num, vec\n",
    "#m @ vec, num * vec"
   ]
  },
  {
   "cell_type": "markdown",
   "metadata": {},
   "source": [
    "В матричной форме:\n",
    "\\begin{equation*}\n",
    "\\begin{bmatrix}\n",
    "2& 2\\\\\n",
    "1& 3\n",
    "\\end{bmatrix}\n",
    "\\times\n",
    "\\begin{bmatrix}\n",
    "x\\\\\n",
    "y\n",
    "\\end{bmatrix}\n",
    "= \\lambda \\times\n",
    "\\begin{bmatrix}\n",
    "x\\\\\n",
    "y\n",
    "\\end{bmatrix}\n",
    "\\end{equation*}\n",
    "\n",
    " система линейтых уравнений:\n",
    " \n",
    "$2x + 2y = \\lambda x $\n",
    " \n",
    "$1x + 3y = \\lambda y $\n",
    "\n",
    "т.е.\n",
    "\n",
    "$x(2 - \\lambda)  + 2 y = 0$\n",
    "\n",
    "$x + (3 - \\lambda)y = 0$\n",
    "\n",
    "Так как собственный вектор не может быть нулевым, по определению, следовательно уравнения линейно независимы и отределитель матрицы равен нулю:\n",
    "\n",
    "\\begin{equation*}\n",
    "\\begin{bmatrix}\n",
    "2 - \\lambda & 2\\\\\n",
    "1 & 3 - \\lambda\n",
    "\\end{bmatrix}\n",
    "= 0\n",
    "\\end{equation*}\n",
    "\n",
    "$ (2 - \\lambda)(3 - \\lambda) - 2 = 0$\n",
    "\n",
    "$ 6 - 2\\lambda - 3\\lambda + \\lambda ^2  - 2= 0$\n",
    "\n",
    "$ \\lambda ^2 -5\\lambda + 4 = 0$\n",
    "\n",
    "$ D = 25 - 4\\times 1 \\times 4 = 25 - 16 = 9; \\sqrt D = 3$\n",
    "\n",
    "$ \\lambda_{1,2} =  \\frac{5 \\pm 3}{2}$\n",
    "\n",
    "\\begin{equation*}\n",
    "\\lambda_{1,2} = \n",
    "\\begin{bmatrix}\n",
    "1\\\\\n",
    "4\n",
    "\\end{bmatrix}\n",
    "\\end{equation*}\n",
    "\n",
    "Ищем собственный вектор для $\\lambda = 1 $ ;\n",
    "\n",
    "$x(2 - \\lambda)  + 2 y = 0$\n",
    "\n",
    "$x + (3 - \\lambda)y = 0$\n",
    "\n",
    "$x+2y=0$\n",
    "\n",
    "$x+2y=0$\n",
    "\n",
    "Здесь частное решение, например:\n",
    "\n",
    "\\begin{equation*}\n",
    "\\begin{bmatrix}\n",
    "х\\\\\n",
    "y\n",
    "\\end{bmatrix}\n",
    " = \n",
    "\\begin{bmatrix}\n",
    "-2\\\\\n",
    "1\n",
    "\\end{bmatrix}\n",
    "\\end{equation*}\n",
    "\n",
    "Ищем собственный вектор для $\\lambda = 4 $ ;\n",
    "\n",
    "$x(2 - \\lambda)  + 2 y = 0$\n",
    "\n",
    "$x + (3 - \\lambda)y = 0$\n",
    "\n",
    "$-2x+2y=0$\n",
    "\n",
    "$x-y=0$\n",
    "\n",
    "Здесь частное решение, например:\n",
    "\n",
    "\\begin{equation*}\n",
    "\\begin{bmatrix}\n",
    "х\\\\\n",
    "y\n",
    "\\end{bmatrix}\n",
    " = \n",
    "\\begin{bmatrix}\n",
    "1\\\\\n",
    "1\n",
    "\\end{bmatrix}\n",
    "\\end{equation*}\n",
    "\n",
    "Проверяем решение:"
   ]
  },
  {
   "cell_type": "code",
   "execution_count": 32,
   "metadata": {},
   "outputs": [
    {
     "name": "stdout",
     "output_type": "stream",
     "text": [
      "[-2  1] [-2  1]\n",
      "[4 4] [4 4]\n"
     ]
    }
   ],
   "source": [
    "print(m.dot(np.array([-2,1])), 1 * np.array([-2,1]))\n",
    "print(m.dot(np.array([1,1])), 4 * np.array([1,1]))"
   ]
  },
  {
   "cell_type": "markdown",
   "metadata": {},
   "source": [
    "Для данного примера в честном решении можно \"угадать\" корни многочлена 3-ей степени, посмотрев на решение на numpy"
   ]
  },
  {
   "cell_type": "code",
   "execution_count": 33,
   "metadata": {},
   "outputs": [
    {
     "data": {
      "text/plain": [
       "(array([6., 3., 3.]),\n",
       " array([[-0.57735027, -0.81649658,  0.15430335],\n",
       "        [-0.57735027,  0.40824829,  0.6172134 ],\n",
       "        [ 0.57735027, -0.40824829,  0.77151675]]))"
      ]
     },
     "execution_count": 33,
     "metadata": {},
     "output_type": "execute_result"
    }
   ],
   "source": [
    "m = np.array([[4, 1, -1],\n",
    "              [1, 4, -1],\n",
    "              [-1, -1, 4]])\n",
    "num, vec = np.linalg.eig(m)\n",
    "num, vec"
   ]
  },
  {
   "cell_type": "markdown",
   "metadata": {},
   "source": [
    "В матричной форме:\n",
    "\\begin{equation*}\n",
    "\\begin{bmatrix}\n",
    "4& 1& -1\\\\\n",
    "1& 4& -1\\\\\n",
    "-1& -1& 4\\\\\n",
    "\\end{bmatrix}\n",
    "\\times\n",
    "\\begin{bmatrix}\n",
    "x\\\\\n",
    "y\\\\\n",
    "z\n",
    "\\end{bmatrix}\n",
    "= \\lambda \\times\n",
    "\\begin{bmatrix}\n",
    "x\\\\\n",
    "y\\\\\n",
    "z\n",
    "\\end{bmatrix}\n",
    "\\end{equation*}\n",
    "\n",
    " система линейтых уравнений:\n",
    " \n",
    "$4x + 1y  - 1 z= \\lambda x $\n",
    " \n",
    "$1x + 4y  - 1 z= \\lambda y $\n",
    "\n",
    "$-1x + -1y + 4 z= \\lambda z $\n",
    "\n",
    "т.е.\n",
    "\n",
    "$x(4 - \\lambda)  + y - z = 0$\n",
    "\n",
    "$x + y(4 - \\lambda) - z = 0$\n",
    "\n",
    "$-x  -y + z(4 - \\lambda) = 0$\n",
    "\n",
    "Так как собственный вектор не может быть нулевым, по определению, следовательно уравнения линейно независимы и отределитель матрицы равен нулю:\n",
    "\n",
    "\\begin{equation*}\n",
    "\\begin{bmatrix}\n",
    "4 - \\lambda & 1& -1\\\\\n",
    "1 & 4 - \\lambda& -1\\\\\n",
    "-1 & -1& 4 - \\lambda&\\\\\n",
    "\\end{bmatrix}\n",
    "= 0\n",
    "\\end{equation*}\n",
    "\n",
    "Угадываем коpни многочлена третьей степени:\n",
    "\n",
    "\\begin{equation*}\n",
    "\\lambda_{1,2,3} = \n",
    "\\begin{bmatrix}\n",
    "6\\\\\n",
    "3\\\\\n",
    "3\\\\\n",
    "\\end{bmatrix}\n",
    "\\end{equation*}\n",
    "\n",
    "Ищем собственный вектор для $\\lambda = 6 $ ;\n",
    "\n",
    "$x(4 - \\lambda)  + y - z = 0$\n",
    "\n",
    "$x + y(4 - \\lambda) - z = 0$\n",
    "\n",
    "$-x  -y + z(4 - \\lambda) = 0$\n",
    "\n",
    "$-2x+y-z=0$\n",
    "\n",
    "$x-2y-z=0$\n",
    "\n",
    "$-x-y-2z=0$\n",
    "\n",
    "Здесь частное решение, например:\n",
    "\n",
    "\\begin{equation*}\n",
    "\\begin{bmatrix}\n",
    "х\\\\\n",
    "y\\\\\n",
    "z\n",
    "\\end{bmatrix}\n",
    " = \n",
    "\\begin{bmatrix}\n",
    "-1\\\\\n",
    "-1\\\\\n",
    "1\n",
    "\\end{bmatrix}\n",
    "\\end{equation*}\n",
    "\n",
    "Ищем собственный вектор для $\\lambda = 3 $ ;\n",
    "\n",
    "$x(4 - \\lambda)  + y - z = 0$\n",
    "\n",
    "$x + y(4 - \\lambda) - z = 0$\n",
    "\n",
    "$-x  -y + z(4 - \\lambda) = 0$\n",
    "\n",
    "$x+y-z=0$\n",
    "\n",
    "$x+y-z=0$\n",
    "\n",
    "$-x-y+z=0$\n",
    "\n",
    "Здесь частное решение, например:\n",
    "\n",
    "\\begin{equation*}\n",
    "\\begin{bmatrix}\n",
    "х\\\\\n",
    "y\\\\\n",
    "z\n",
    "\\end{bmatrix}\n",
    " = \n",
    "\\begin{bmatrix}\n",
    "1\\\\\n",
    "1\\\\\n",
    "2\n",
    "\\end{bmatrix}\n",
    "\\end{equation*}\n",
    "\n",
    "Проверяем решение:"
   ]
  },
  {
   "cell_type": "code",
   "execution_count": 39,
   "metadata": {},
   "outputs": [
    {
     "name": "stdout",
     "output_type": "stream",
     "text": [
      "[-6 -6  6] [-6 -6  6]\n",
      "[3 3 6] [3 3 6]\n"
     ]
    }
   ],
   "source": [
    "print(m.dot(np.array([-1, -1, 1])), 6 * np.array([-1, -1, 1]))\n",
    "print(m.dot(np.array([1, 1, 2])), 3 * np.array([1, 1, 2]))"
   ]
  },
  {
   "cell_type": "markdown",
   "metadata": {},
   "source": [
    "### Задание 3:"
   ]
  },
  {
   "cell_type": "markdown",
   "metadata": {},
   "source": [
    "Найдите спектральное разложение матрицы (честное решение на бумаге и на numpy)"
   ]
  },
  {
   "cell_type": "code",
   "execution_count": 100,
   "metadata": {},
   "outputs": [
    {
     "data": {
      "text/plain": [
       "(array([-0.24, 4.24]),\n",
       " array([[-0.85, -0.53],\n",
       "        [0.53, -0.85]]))"
      ]
     },
     "execution_count": 100,
     "metadata": {},
     "output_type": "execute_result"
    }
   ],
   "source": [
    "m = np.array([[1, 2],\n",
    "              [2, 3]])\n",
    "num, vec = np.linalg.eig(m)\n",
    "num, vec"
   ]
  },
  {
   "cell_type": "code",
   "execution_count": 101,
   "metadata": {},
   "outputs": [
    {
     "data": {
      "text/plain": [
       "array([[1.00, 2.00],\n",
       "       [2.00, 3.00]])"
      ]
     },
     "execution_count": 101,
     "metadata": {},
     "output_type": "execute_result"
    }
   ],
   "source": [
    "spec = vec.dot(np.diag(num)).dot(np.linalg.inv(vec))\n",
    "spec"
   ]
  },
  {
   "cell_type": "code",
   "execution_count": 102,
   "metadata": {},
   "outputs": [
    {
     "data": {
      "text/plain": [
       "array([[1.00, 2.00],\n",
       "       [2.00, 3.00]])"
      ]
     },
     "execution_count": 102,
     "metadata": {},
     "output_type": "execute_result"
    }
   ],
   "source": [
    "# Как в лекции\n",
    "spec = vec.dot(np.diag(num)).dot(vec.T)\n",
    "spec"
   ]
  },
  {
   "cell_type": "markdown",
   "metadata": {},
   "source": [
    "Находим собственные векторы и собственные числа\n",
    "\\begin{equation*}\n",
    "\\begin{bmatrix}\n",
    "1 - \\lambda & 2\\\\\n",
    "2 & 3 - \\lambda\n",
    "\\end{bmatrix}\n",
    "= 0\n",
    "\\end{equation*}\n",
    "\n",
    "$ (1 - \\lambda)(3 - \\lambda) - 4 = 0$\n",
    "\n",
    "$ 3 - \\lambda - 3\\lambda + \\lambda ^2  - 4 = 0$\n",
    "\n",
    "$ \\lambda ^2 -4\\lambda -1 = 0$\n",
    "\n",
    "$ D = 16 - 4\\times 1 \\times -1 = 16 + 4 = 20; \\sqrt D = 4,472$\n",
    "\n",
    "$ \\lambda_{1,2} =  \\frac{4 \\pm 4,472}{2}$\n",
    "\n",
    "\\begin{equation*}\n",
    "\\lambda_{1,2} = \n",
    "\\begin{bmatrix}\n",
    "0,236\\\\\n",
    "4,236\n",
    "\\end{bmatrix}\n",
    "\\end{equation*}\n",
    "\n",
    "Ищем собственный вектор для $\\lambda = 0,236 $ ;\n",
    "\n",
    "$x(1 - \\lambda)  + 2y = 0$\n",
    "\n",
    "$2x + (3 - \\lambda)y = 0$\n",
    "\n",
    "Здесь частное решение:\n",
    "\n",
    "\\begin{equation*}\n",
    "\\begin{bmatrix}\n",
    "х\\\\\n",
    "y\n",
    "\\end{bmatrix}\n",
    " = \n",
    "\\begin{bmatrix}\n",
    "-2.6178\\\\\n",
    "1\n",
    "\\end{bmatrix}\n",
    "\\end{equation*}\n",
    "\n",
    "Ищем собственный вектор для $\\lambda = 4,236 $ ;\n",
    "\n",
    "$x(1 - \\lambda)  + 2y = 0$\n",
    "\n",
    "$2x + (3 - \\lambda)y = 0$\n",
    "\n",
    "Здесь частное решение:\n",
    "\n",
    "\\begin{equation*}\n",
    "\\begin{bmatrix}\n",
    "х\\\\\n",
    "y\n",
    "\\end{bmatrix}\n",
    " = \n",
    "\\begin{bmatrix}\n",
    "1\\\\\n",
    "1.618\n",
    "\\end{bmatrix}\n",
    "\\end{equation*}\n",
    "\n",
    "Проверяем coбственные векторы:"
   ]
  },
  {
   "cell_type": "code",
   "execution_count": 103,
   "metadata": {},
   "outputs": [
    {
     "name": "stdout",
     "output_type": "stream",
     "text": [
      "[-0.62 -2.24] [-0.62 0.24]\n",
      "[4.24 6.85] [4.24 6.85]\n"
     ]
    }
   ],
   "source": [
    "print(m.dot(np.array([-2.6178, 1])), 0.236 * np.array([-2.6178, 1]))\n",
    "print(m.dot(np.array([1, 1.618])), 4.236 * np.array([1, 01.618]))"
   ]
  },
  {
   "cell_type": "code",
   "execution_count": 104,
   "metadata": {},
   "outputs": [
    {
     "data": {
      "text/plain": [
       "array([[-2.62, 1.00],\n",
       "       [1.00, 1.62]])"
      ]
     },
     "execution_count": 104,
     "metadata": {},
     "output_type": "execute_result"
    }
   ],
   "source": [
    "# Матрица собственных векторов\n",
    "V = np.array([[-2.6178, 1], [1, 1.618]])\n",
    "V"
   ]
  },
  {
   "cell_type": "code",
   "execution_count": 105,
   "metadata": {},
   "outputs": [
    {
     "data": {
      "text/plain": [
       "array([[0.24, 0.00],\n",
       "       [0.00, 4.24]])"
      ]
     },
     "execution_count": 105,
     "metadata": {},
     "output_type": "execute_result"
    }
   ],
   "source": [
    "# Диагональная матрица из собственных значений\n",
    "D = np.diag([0.236, 4.236])\n",
    "D "
   ]
  },
  {
   "cell_type": "code",
   "execution_count": 106,
   "metadata": {},
   "outputs": [
    {
     "data": {
      "text/plain": [
       "array([[-2.62, 1.00],\n",
       "       [1.00, 1.62]])"
      ]
     },
     "execution_count": 106,
     "metadata": {},
     "output_type": "execute_result"
    }
   ],
   "source": [
    "# Так как матрица V симметрична относительно главной диагонали,\n",
    "# при транспонированиии не поменяется\n",
    "V.T"
   ]
  },
  {
   "cell_type": "code",
   "execution_count": 107,
   "metadata": {},
   "outputs": [
    {
     "data": {
      "text/plain": [
       "array([[5.85, 6.24],\n",
       "       [6.24, 11.33]])"
      ]
     },
     "execution_count": 107,
     "metadata": {},
     "output_type": "execute_result"
    }
   ],
   "source": [
    "spec = V.dot(D).dot(V.T)\n",
    "spec"
   ]
  },
  {
   "cell_type": "code",
   "execution_count": 108,
   "metadata": {},
   "outputs": [
    {
     "data": {
      "text/plain": [
       "array([[5.85, 6.24],\n",
       "       [6.24, 11.33]])"
      ]
     },
     "execution_count": 108,
     "metadata": {},
     "output_type": "execute_result"
    }
   ],
   "source": [
    "# Перемножаем на бумаге\n",
    "mul = np.zeros((2,2))\n",
    "mul[0,0] = V[0,0] * D[0,0] + V[0,1] * D[1,0]\n",
    "mul[0,1] = V[0,0] * D[0,1] + V[0,1] * D[1,1]\n",
    "mul[1,0] = V[1,0] * D[0,0] + V[1,1] * D[1,0]\n",
    "mul[1,1] = V[1,0] * D[0,1] + V[1,1] * D[1,1]\n",
    "VT = V.T\n",
    "mult = np.zeros((2,2))\n",
    "mult[0,0] = mul[0,0] * VT[0,0] + mul[0,1] * VT[1,0]\n",
    "mult[0,1] = mul[0,0] * VT[0,1] + mul[0,1] * VT[1,1]\n",
    "mult[1,0] = mul[1,0] * VT[0,0] + mul[1,1] * VT[1,0]\n",
    "mult[1,1] = mul[1,0] * VT[0,1] + mul[1,1] * VT[1,1]\n",
    "mult"
   ]
  },
  {
   "cell_type": "markdown",
   "metadata": {},
   "source": [
    "### Задание 4:"
   ]
  },
  {
   "cell_type": "markdown",
   "metadata": {},
   "source": [
    "Для примера из лекции постройте график зависимости oob_score RandomForestClassifier от количества компонент при сжатии с помощью SVD"
   ]
  },
  {
   "cell_type": "code",
   "execution_count": 109,
   "metadata": {},
   "outputs": [],
   "source": [
    "import numpy as np\n",
    "import pylab as pl\n",
    "import warnings\n",
    "\n",
    "from matplotlib import pyplot as plt\n",
    "from scipy import linalg\n",
    "from sklearn.datasets import load_digits\n",
    "from sklearn.decomposition import TruncatedSVD\n",
    "from sklearn.ensemble import RandomForestClassifier\n",
    "warnings.filterwarnings(\"ignore\")"
   ]
  },
  {
   "cell_type": "code",
   "execution_count": 110,
   "metadata": {},
   "outputs": [],
   "source": [
    "float_formatter = lambda x: \"%.2f\" % x\n",
    "np.set_printoptions(formatter={'float_kind':float_formatter})"
   ]
  },
  {
   "cell_type": "code",
   "execution_count": 111,
   "metadata": {},
   "outputs": [],
   "source": [
    "X, y = load_digits(return_X_y=True)"
   ]
  },
  {
   "cell_type": "code",
   "execution_count": 112,
   "metadata": {},
   "outputs": [
    {
     "name": "stdout",
     "output_type": "stream",
     "text": [
      "(1797, 64)\n",
      "(1797,)\n"
     ]
    }
   ],
   "source": [
    "print(X.shape)\n",
    "print(y.shape)"
   ]
  },
  {
   "cell_type": "code",
   "execution_count": 113,
   "metadata": {},
   "outputs": [
    {
     "data": {
      "image/png": "[encoded data removed]",
      "text/plain": [
       "<Figure size 288x288 with 1 Axes>"
      ]
     },
     "metadata": {
      "needs_background": "light"
     },
     "output_type": "display_data"
    }
   ],
   "source": [
    "image = X[0]\n",
    "image = image.reshape((8, 8))\n",
    "plt.matshow(image, cmap = 'gray')\n",
    "plt.show()"
   ]
  },
  {
   "cell_type": "code",
   "execution_count": 114,
   "metadata": {},
   "outputs": [
    {
     "data": {
      "text/plain": [
       "0.5152668962176793"
      ]
     },
     "execution_count": 114,
     "metadata": {},
     "output_type": "execute_result"
    }
   ],
   "source": [
    "svd = TruncatedSVD(n_components=5)\n",
    "X_reduced = svd.fit_transform(X)\n",
    "svd.explained_variance_ratio_.sum()"
   ]
  },
  {
   "cell_type": "code",
   "execution_count": 115,
   "metadata": {},
   "outputs": [
    {
     "data": {
      "text/plain": [
       "0.867557039510295"
      ]
     },
     "execution_count": 115,
     "metadata": {},
     "output_type": "execute_result"
    }
   ],
   "source": [
    "rf_reduced = RandomForestClassifier(oob_score=True)\n",
    "rf_reduced.fit(X_reduced, y)\n",
    "rf_reduced.oob_score_"
   ]
  },
  {
   "cell_type": "code",
   "execution_count": 116,
   "metadata": {},
   "outputs": [],
   "source": [
    "def get_rfscore(n_components: int):\n",
    "    svd = TruncatedSVD(n_components=n_components)\n",
    "    X_reduced = svd.fit_transform(X)\n",
    "    rf_reduced = RandomForestClassifier(oob_score=True)\n",
    "    rf_reduced.fit(X_reduced, y)\n",
    "    return rf_reduced.oob_score_"
   ]
  },
  {
   "cell_type": "code",
   "execution_count": 132,
   "metadata": {},
   "outputs": [
    {
     "name": "stdout",
     "output_type": "stream",
     "text": [
      "CPU times: user 38.7 s, sys: 20.1 s, total: 58.8 s\n",
      "Wall time: 20.5 s\n"
     ]
    }
   ],
   "source": [
    "%%time\n",
    "score = []\n",
    "for n_component in range(1, 30):\n",
    "    score.append([n_component, get_rfscore(n_component)])\n",
    "        \n",
    "\n",
    "score = pd.DataFrame(score, columns = ['n_components', 'score'])"
   ]
  },
  {
   "cell_type": "code",
   "execution_count": 135,
   "metadata": {},
   "outputs": [
    {
     "data": {
      "image/png": "[encoded data removed]",
      "text/plain": [
       "<Figure size 432x288 with 1 Axes>"
      ]
     },
     "metadata": {
      "needs_background": "light"
     },
     "output_type": "display_data"
    }
   ],
   "source": [
    "score.score.plot();"
   ]
  },
  {
   "cell_type": "markdown",
   "metadata": {},
   "source": [
    "Постройте зависимость качества восстановления рукописных цифр (MNIST) в зависимости от различного количества компонент PCA. В качестве метрики различия предлагаю использовать MSE. *\n",
    "\n",
    "У PCA есть метод transform и inverse_transofrm. Первый - снижает размерность, второй - восстанавливает оригинальные данные с потерей информации\n",
    "Надо посчитать насколько в среднем точно восстанавливается оригинальная картинка в зависимости от количества компонент в PCA"
   ]
  },
  {
   "cell_type": "code",
   "execution_count": 175,
   "metadata": {},
   "outputs": [],
   "source": [
    "import sklearn\n",
    "from sklearn.decomposition import PCA\n",
    "from sklearn.metrics import mean_squared_error as MSE\n",
    "from matplotlib import pyplot as plt\n",
    "digits =  sklearn.datasets.load_digits(n_class=10, return_X_y=False, as_frame=False)"
   ]
  },
  {
   "cell_type": "code",
   "execution_count": 176,
   "metadata": {},
   "outputs": [
    {
     "data": {
      "text/plain": [
       "(1797, 8, 8)"
      ]
     },
     "execution_count": 176,
     "metadata": {},
     "output_type": "execute_result"
    }
   ],
   "source": [
    "digits = digits['data'].reshape(1797,8,8)\n",
    "digits.shape"
   ]
  },
  {
   "cell_type": "code",
   "execution_count": 177,
   "metadata": {},
   "outputs": [
    {
     "data": {
      "text/plain": [
       "<matplotlib.image.AxesImage at 0x7f02acb92490>"
      ]
     },
     "execution_count": 177,
     "metadata": {},
     "output_type": "execute_result"
    },
    {
     "data": {
      "image/png": "[encoded data removed]",
      "text/plain": [
       "<Figure size 432x288 with 1 Axes>"
      ]
     },
     "metadata": {
      "needs_background": "light"
     },
     "output_type": "display_data"
    }
   ],
   "source": [
    "plt.imshow(digits[1]);"
   ]
  },
  {
   "cell_type": "code",
   "execution_count": 178,
   "metadata": {},
   "outputs": [
    {
     "data": {
      "image/png": "[encoded data removed]",
      "text/plain": [
       "<Figure size 432x288 with 1 Axes>"
      ]
     },
     "metadata": {
      "needs_background": "light"
     },
     "output_type": "display_data"
    }
   ],
   "source": [
    "pca = PCA(n_components=2)\n",
    "X = digits[1]\n",
    "pca.fit(X)\n",
    "plt.imshow(pca.inverse_transform(pca.transform(X)));"
   ]
  },
  {
   "cell_type": "code",
   "execution_count": 179,
   "metadata": {},
   "outputs": [
    {
     "data": {
      "text/plain": [
       "0.29382716424352084"
      ]
     },
     "execution_count": 179,
     "metadata": {},
     "output_type": "execute_result"
    }
   ],
   "source": [
    "MSE(digits[1], pca.inverse_transform(pca.transform(X)))"
   ]
  },
  {
   "cell_type": "code",
   "execution_count": 196,
   "metadata": {},
   "outputs": [
    {
     "data": {
      "text/plain": [
       "(0.038943465847426625, 8.585795692078297e-31)"
      ]
     },
     "execution_count": 196,
     "metadata": {},
     "output_type": "execute_result"
    }
   ],
   "source": [
    "digits =  sklearn.datasets.load_digits(n_class=10, return_X_y=False, as_frame=False)['data']\n",
    "def get_mse(X, n_components):\n",
    "    X = X.reshape((8,8))\n",
    "    pca = PCA(n_components=n_components)\n",
    "    pca.fit(X)\n",
    "    return MSE(X, pca.inverse_transform(pca.transform(X)))\n",
    "    \n",
    "get_mse(digits[1], 3), get_mse(digits[1], 5)"
   ]
  },
  {
   "cell_type": "code",
   "execution_count": 197,
   "metadata": {},
   "outputs": [
    {
     "data": {
      "text/plain": [
       "(1797, 64)"
      ]
     },
     "execution_count": 197,
     "metadata": {},
     "output_type": "execute_result"
    }
   ],
   "source": [
    "digits.shape"
   ]
  },
  {
   "cell_type": "code",
   "execution_count": 207,
   "metadata": {},
   "outputs": [],
   "source": [
    "score = []\n",
    "components = []\n",
    "for component in range(1, 9):\n",
    "    score.append(np.apply_along_axis(get_mse, 1, digits, n_components=component).mean())\n",
    "    components.append(component)"
   ]
  },
  {
   "cell_type": "code",
   "execution_count": 208,
   "metadata": {},
   "outputs": [
    {
     "data": {
      "image/png": "[encoded data removed]",
      "text/plain": [
       "<Figure size 432x288 with 1 Axes>"
      ]
     },
     "metadata": {
      "needs_background": "light"
     },
     "output_type": "display_data"
    }
   ],
   "source": [
    "plt.plot(components, score);"
   ]
  },
  {
   "cell_type": "code",
   "execution_count": null,
   "metadata": {},
   "outputs": [],
   "source": []
  }
 ],
 "metadata": {
  "kernelspec": {
   "display_name": "Python 3",
   "language": "python",
   "name": "python3"
  },
  "language_info": {
   "codemirror_mode": {
    "name": "ipython",
    "version": 3
   },
   "file_extension": ".py",
   "mimetype": "text/x-python",
   "name": "python",
   "nbconvert_exporter": "python",
   "pygments_lexer": "ipython3",
   "version": "3.7.6"
  }
 },
 "nbformat": 4,
 "nbformat_minor": 2
}
