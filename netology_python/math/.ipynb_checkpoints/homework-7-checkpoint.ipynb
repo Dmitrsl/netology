{
 "cells": [
  {
   "cell_type": "markdown",
   "metadata": {},
   "source": [
    "### Задание 1"
   ]
  },
  {
   "cell_type": "code",
   "execution_count": 27,
   "metadata": {},
   "outputs": [],
   "source": [
    "from scipy.special import comb, factorial\n",
    "from tqdm.notebook import tqdm\n",
    "from matplotlib import pyplot as plt\n",
    "import numpy as np"
   ]
  },
  {
   "cell_type": "markdown",
   "metadata": {},
   "source": [
    "Монетку подбрасывают 15 раз, найдите вероятность выпадения простого числа орлов (решение на бумажке и на python)."
   ]
  },
  {
   "cell_type": "code",
   "execution_count": 22,
   "metadata": {},
   "outputs": [],
   "source": [
    "def get_combination(k: int, n: int = 15):\n",
    "    return factorial(n) / (factorial(k) * factorial(n - k))"
   ]
  },
  {
   "cell_type": "code",
   "execution_count": 23,
   "metadata": {},
   "outputs": [
    {
     "data": {
      "text/plain": [
       "0.3499755859375"
      ]
     },
     "execution_count": 23,
     "metadata": {},
     "output_type": "execute_result"
    }
   ],
   "source": [
    "# на бумажке)\n",
    "(get_combination(2) +\n",
    "    get_combination(3) +\n",
    "    get_combination(5) +\n",
    "    get_combination(7) + \n",
    "    get_combination(11) + \n",
    "    get_combination(13)) / 2 ** 15"
   ]
  },
  {
   "cell_type": "code",
   "execution_count": 26,
   "metadata": {},
   "outputs": [
    {
     "data": {
      "application/vnd.jupyter.widget-view+json": {
       "model_id": "e92e27f1f4ea41f8801f6e048c52627a",
       "version_major": 2,
       "version_minor": 0
      },
      "text/plain": [
       "HBox(children=(FloatProgress(value=0.0, max=10000000.0), HTML(value='')))"
      ]
     },
     "metadata": {},
     "output_type": "display_data"
    },
    {
     "name": "stdout",
     "output_type": "stream",
     "text": [
      "\n"
     ]
    },
    {
     "data": {
      "text/plain": [
       "0.349968"
      ]
     },
     "execution_count": 26,
     "metadata": {},
     "output_type": "execute_result"
    }
   ],
   "source": [
    "list_samples = []\n",
    "n_iters = 10_000_000\n",
    "for _ in tqdm(range(n_iters)):\n",
    "    sample = np.random.randint(0, 2, 15).sum()\n",
    "    if sample in [2, 3, 5, 7, 11, 13]:\n",
    "        list_samples.append(sample)\n",
    "len(list_samples) / n_iters"
   ]
  },
  {
   "cell_type": "markdown",
   "metadata": {},
   "source": [
    "### Задание 2"
   ]
  },
  {
   "cell_type": "markdown",
   "metadata": {},
   "source": [
    "Создайте свою дискретную случайную величину с не менее, чем 10 значениями. Просемплируйте 1000 случайных значений, постройте гистограмму плотности распределения по выборке, посчитайте среднее, дисперсию и медиану."
   ]
  },
  {
   "cell_type": "code",
   "execution_count": 29,
   "metadata": {},
   "outputs": [],
   "source": [
    "sample = np.random.randint(0, 11, 1000)"
   ]
  },
  {
   "cell_type": "code",
   "execution_count": 33,
   "metadata": {},
   "outputs": [
    {
     "data": {
      "image/png": "[encoded data removed]",
      "text/plain": [
       "<Figure size 432x288 with 1 Axes>"
      ]
     },
     "metadata": {
      "needs_background": "light"
     },
     "output_type": "display_data"
    }
   ],
   "source": [
    "plt.hist(sample, bins=11);"
   ]
  },
  {
   "cell_type": "code",
   "execution_count": 41,
   "metadata": {},
   "outputs": [
    {
     "name": "stdout",
     "output_type": "stream",
     "text": [
      "Среднее: 5.017\n",
      "Дисперсия: 10.106711\n",
      "Дисперсия: 10.106710999999999\n",
      "Медиана: 5.0\n"
     ]
    }
   ],
   "source": [
    "print(f'Среднее: {sample.mean()}',\n",
    "      f'Дисперсия: {sample.std() ** 2}',\n",
    "      f'Дисперсия: {sample.var()}',\n",
    "      f'Медиана: {np.median(sample)}', sep='\\n')"
   ]
  },
  {
   "cell_type": "markdown",
   "metadata": {},
   "source": [
    "### Задание 3"
   ]
  },
  {
   "cell_type": "markdown",
   "metadata": {},
   "source": [
    "Пусть брошены 3 уравновешенные монеты. Рассмотрим 3 события:\n",
    "\n",
    "$A_1$ - монеты 1 и 2 упали одной и той же стороной,\n",
    "\n",
    "$A_2$ - монеты 2 и 3 упали одной и той же стороной,\n",
    "\n",
    "$A_3$ - монеты 1 и 3 упали одной и той же стороной.\n",
    "\n",
    "Покажите, почему эти 3 события являются попарно независимыми, но <b>не</b> являются независимыми в совокупности."
   ]
  },
  {
   "cell_type": "markdown",
   "metadata": {},
   "source": [
    "Попарная независимость:\n",
    "\n",
    "$P(A_1 \\cap A_2) = P(A_1) * P(A_2)$\n",
    "\n",
    "$P(A_1)= P(A_2) = 1/2$ - нас устраивают два события из четырех возможных исходов\n",
    "\n",
    "$P(A_1 \\cap A_2) = 2/8 $ - вероятность наступления двух событий одновременно возможно. когда все три монеты упали одной и той же стороной. А это два из восьми возможных событий.\n",
    "Проверяем равенство:\n",
    "\n",
    "$\\frac{1}{2} * \\frac{1}{2}  = \\frac{2}{8};$\n",
    "$\\frac{1}{4} = \\frac{1}{4}$\n",
    "\n",
    "то есть события независимы\n",
    "\n",
    "Для событий $P(A_1)$ и $P(A_3)$; $P(A_2)$ и $P(A_3)$ рассуждения аналогичны\n",
    "\n",
    "Проверяем независимость в совокупности:\n",
    "\n",
    "$P(A_1 \\cap A_2 \\cap A_3) = P(A_1) * P(A_2)  * P(A_3)$\n",
    "\n",
    "$P(A_1)= P(A_2) = P(A_2) = 1/2$\n",
    "\n",
    "$P(A_1 \\cap A_2 \\cap A_3) = 2/8 $ - нас опять устраивает только два события из восьми, кода все три монеты выпадают или орлом, или решкой.\n",
    "\n",
    "Проверяем равенство:\n",
    "\n",
    "$P(A_1) * P(A_2)  * P(A_3) = \\frac{1}{2} * \\frac{1}{2} * \\frac{1}{2} =  \\frac{1}{6}$\n",
    "\n",
    "$P(A_1 \\cap A_2 \\cap A_3) = \\frac{1}{4}$\n",
    "\n",
    "$\\frac{1}{6} \\neq \\frac{1}{4}$\n",
    "\n",
    "то есть события не являются независимыми в совокупности"
   ]
  },
  {
   "cell_type": "markdown",
   "metadata": {},
   "source": [
    "### Задание 4 (формула полной вероятности)"
   ]
  },
  {
   "cell_type": "markdown",
   "metadata": {},
   "source": [
    "В магазин привезли устройства с 3-х разных предприятий. Соотношение устройств следующее: 20% - продукция первого предприятия, 30% - продукция второго предприятия, 50% - продукция третьего предприятия; далее, 10% продукции первого предприятия высшего сорта, на втором предприятии - 5% и на третьем - 20% продукции высшего сорта. Найти вероятность того, что случайно купленная новая продукция окажется высшего сорта."
   ]
  },
  {
   "cell_type": "code",
   "execution_count": 42,
   "metadata": {},
   "outputs": [
    {
     "data": {
      "text/plain": [
       "0.135"
      ]
     },
     "execution_count": 42,
     "metadata": {},
     "output_type": "execute_result"
    }
   ],
   "source": [
    "0.2*0.1 + 0.3*0.05 + 0.5*0.2"
   ]
  },
  {
   "cell_type": "code",
   "execution_count": null,
   "metadata": {},
   "outputs": [],
   "source": []
  }
 ],
 "metadata": {
  "kernelspec": {
   "display_name": "Python 3",
   "language": "python",
   "name": "python3"
  },
  "language_info": {
   "codemirror_mode": {
    "name": "ipython",
    "version": 3
   },
   "file_extension": ".py",
   "mimetype": "text/x-python",
   "name": "python",
   "nbconvert_exporter": "python",
   "pygments_lexer": "ipython3",
   "version": "3.7.6"
  }
 },
 "nbformat": 4,
 "nbformat_minor": 2
}
