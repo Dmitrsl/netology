{
 "cells": [
  {
   "cell_type": "markdown",
   "metadata": {},
   "source": [
    "Смоделировать игру против лотерейного автомата типа “777”. Игрок платит 1 руб., после чего выпадает случайное целое число, равномерно распределенное от 0 до 999. При некоторых значениях числа игрок получает выигрыш (см. справа)\n",
    "\n",
    "Выгодна ли игра игроку?\n",
    "\n",
    "Сколько в среднем приобретает\n",
    "или теряет игрок за одну игру?\n",
    "\n",
    "777: 200 руб.\n",
    "\n",
    "999: 100 руб.\n",
    "\n",
    "555: 50 руб.\n",
    "\n",
    "333: 15 руб.\n",
    "\n",
    "111: 10 руб.\n",
    "\n",
    "*77: 5 руб.\n",
    "\n",
    "**7: 3 руб.\n",
    "\n",
    "*00: 2 руб.\n",
    "\n",
    "**0: 1 руб.\n",
    "\n",
    "\n",
    "    – любая цифра\n",
    "\n",
    "Дополнительное задание повышенной сложности. Теоретически рассчитать средний выигрыш (проигрыш) и сравнить с результатами моделирования"
   ]
  },
  {
   "cell_type": "code",
   "execution_count": 59,
   "metadata": {},
   "outputs": [],
   "source": [
    "import numpy as np\n",
    "from matplotlib import pyplot as plt\n",
    "from tqdm.notebook import tqdm\n"
   ]
  },
  {
   "cell_type": "code",
   "execution_count": 117,
   "metadata": {},
   "outputs": [
    {
     "name": "stdout",
     "output_type": "stream",
     "text": [
      "Количесво игр до полного банкротства: 1526593\n",
      "Cредний выигрыш (проигрыш): -0.19651603276053276\n"
     ]
    },
    {
     "data": {
      "image/png": "[encoded data removed]",
      "text/plain": [
       "<Figure size 432x288 with 1 Axes>"
      ]
     },
     "metadata": {
      "needs_background": "light"
     },
     "output_type": "display_data"
    },
    {
     "name": "stdout",
     "output_type": "stream",
     "text": [
      "CPU times: user 26min 46s, sys: 0 ns, total: 26min 46s\n",
      "Wall time: 26min 55s\n"
     ]
    }
   ],
   "source": [
    "%%time\n",
    "n_games = 10_000_000\n",
    "user_sum = 300_000 # игрок начинает с 300000 руб\n",
    "ballance = np.array([])\n",
    "for i in tqdm(range(n_games)):\n",
    "    user_sum -= 1\n",
    "    rnd = np.random.randint(1000)\n",
    "    if rnd == 777:\n",
    "        user_sum += 200\n",
    "    elif rnd % 100 == 77:\n",
    "        user_sum += 5\n",
    "    elif rnd % 10 == 7:\n",
    "        user_sum += 3\n",
    "    if rnd == 999:\n",
    "        user_sum += 100\n",
    "    if rnd == 555:\n",
    "        user_sum += 50\n",
    "    if rnd == 333:\n",
    "        user_sum += 15\n",
    "    if rnd == 111:\n",
    "        user_sum += 10\n",
    "    if rnd % 100 == 0:\n",
    "        user_sum += 2\n",
    "    elif rnd % 10 == 0:\n",
    "        user_sum += 1\n",
    "        \n",
    "    ballance = np.append(ballance, user_sum)\n",
    "    \n",
    "    if user_sum <= 0:\n",
    "        break\n",
    "print(f'Количесtво игр до полного банкротства: {i}',\n",
    "      f'Cредний выигрыш (проигрыш): {(user_sum - 300_000)/i}',\n",
    "      sep='\\n')\n",
    "plt.plot(ballance)\n",
    "plt.show()"
   ]
  },
  {
   "cell_type": "code",
   "execution_count": null,
   "metadata": {},
   "outputs": [],
   "source": []
  },
  {
   "cell_type": "code",
   "execution_count": 120,
   "metadata": {},
   "outputs": [
    {
     "data": {
      "text/plain": [
       "-0.19699999999999993"
      ]
     },
     "execution_count": 120,
     "metadata": {},
     "output_type": "execute_result"
    }
   ],
   "source": [
    "# Теоретически рассчитать средний выигрыш (проигрыш)\n",
    "(-1 +  # Плата за игру \n",
    "200 * 1 / 1000 +  # вероятность выпадения 777 и выигрыш 200\n",
    "100 * 1 / 1000 +  # вероятность выпадения 999 и выигрыш 100\n",
    "50 * 1 / 1000 +  # вероятность выпадения 555 и выигрыш 50\n",
    "15 * 1 / 1000 +  # вероятность выпадения 333 и выигрыш 15\n",
    "10 * 1 / 1000 +  # вероятность выпадения 111 и выигрыш 10\n",
    "5 * 9 / 1000 +  # вероятность выпадения *77 и выигрыш 5 (777 не учитываем)\n",
    "3 * (100 - 9) / 1000 +  # вероятность выпадения **7 и выигрыш 3 (777 и *77 не учитываем)\n",
    "2 * 10 / 1000 +  # вероятность выпадения *00 в т.ч 000 и выигрыш 2 \n",
    "1 * (100 - 10) / 1000 # вероятность выпадения *0 и выигрыш 1 (*00 не учитываем)\n",
    ")"
   ]
  },
  {
   "cell_type": "code",
   "execution_count": 121,
   "metadata": {},
   "outputs": [
    {
     "data": {
      "text/plain": [
       "0.00048396723946717013"
      ]
     },
     "execution_count": 121,
     "metadata": {},
     "output_type": "execute_result"
    }
   ],
   "source": [
    "-0.19651603276053276 + 0.19699999999999993"
   ]
  },
  {
   "cell_type": "code",
   "execution_count": 122,
   "metadata": {},
   "outputs": [
    {
     "data": {
      "text/plain": [
       "(10, 100)"
      ]
     },
     "execution_count": 122,
     "metadata": {},
     "output_type": "execute_result"
    }
   ],
   "source": [
    "np.sum(np.arange(1000) % 100 == 0), np.sum(np.arange(1000) % 10 == 0)"
   ]
  },
  {
   "cell_type": "code",
   "execution_count": null,
   "metadata": {},
   "outputs": [],
   "source": []
  }
 ],
 "metadata": {
  "kernelspec": {
   "display_name": "Python 3",
   "language": "python",
   "name": "python3"
  },
  "language_info": {
   "codemirror_mode": {
    "name": "ipython",
    "version": 3
   },
   "file_extension": ".py",
   "mimetype": "text/x-python",
   "name": "python",
   "nbconvert_exporter": "python",
   "pygments_lexer": "ipython3",
   "version": "3.7.6"
  }
 },
 "nbformat": 4,
 "nbformat_minor": 4
}
