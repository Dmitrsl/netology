{
 "cells": [
  {
   "cell_type": "code",
   "execution_count": null,
   "metadata": {},
   "outputs": [],
   "source": [
    "import pandas as pd\n",
    "import numpy as np"
   ]
  },
  {
   "cell_type": "code",
   "execution_count": null,
   "metadata": {},
   "outputs": [],
   "source": [
    "df = pd.read_csv('weight-height.csv')\n",
    "\n",
    "# какие типы признаков в нашем датафрейме?\n",
    "df.head()"
   ]
  },
  {
   "cell_type": "code",
   "execution_count": null,
   "metadata": {},
   "outputs": [],
   "source": [
    "# переведем в килограммы и сантиметры\n",
    "df.Height = df.Height * 2.54\n",
    "df.Weight = df.Weight * 0.45\n",
    "df.head()"
   ]
  },
  {
   "cell_type": "markdown",
   "metadata": {
    "colab_type": "text",
    "id": "pRiYnAwVVPYe"
   },
   "source": [
    "# Минимум, максимум и размах"
   ]
  },
  {
   "cell_type": "code",
   "execution_count": null,
   "metadata": {
    "colab": {
     "base_uri": "https://localhost:8080/",
     "height": 34
    },
    "colab_type": "code",
    "id": "eWoVIZvjVSWm",
    "outputId": "714192b2-7eb3-4bfb-ad44-852fc017f581"
   },
   "outputs": [],
   "source": [
    "print(max(df.Height))\n",
    "print(np.max(df.Height))\n",
    "print(df.Height.max())"
   ]
  },
  {
   "cell_type": "code",
   "execution_count": null,
   "metadata": {},
   "outputs": [],
   "source": [
    "print(min(df.Weight))\n",
    "print(np.min(df.Weight))\n",
    "print(df.Weight.min())"
   ]
  },
  {
   "cell_type": "code",
   "execution_count": null,
   "metadata": {},
   "outputs": [],
   "source": [
    "df[df.Weight == 29.115057020738853]"
   ]
  },
  {
   "cell_type": "code",
   "execution_count": null,
   "metadata": {
    "colab": {
     "base_uri": "https://localhost:8080/",
     "height": 34
    },
    "colab_type": "code",
    "id": "tJ-8XfmBVU7n",
    "outputId": "e359caf8-3bf2-4421-afc9-db680348c992"
   },
   "outputs": [],
   "source": [
    "# размах – разница между минимальным и максимальным значением\n",
    "weight_range = df.Weight.max() - df.Weight.min()\n",
    "height_range = df.Height.max() - df.Height.min()\n",
    "print(weight_range)\n",
    "print(height_range)"
   ]
  },
  {
   "cell_type": "markdown",
   "metadata": {},
   "source": [
    "# Среднеарифметическое"
   ]
  },
  {
   "cell_type": "code",
   "execution_count": null,
   "metadata": {},
   "outputs": [],
   "source": [
    "# ручной подсчет\n",
    "sum(df.Weight) / len(df.Weight)"
   ]
  },
  {
   "cell_type": "code",
   "execution_count": null,
   "metadata": {},
   "outputs": [],
   "source": [
    "print(np.mean(df.Weight))\n",
    "print(df.Weight.mean())"
   ]
  },
  {
   "cell_type": "markdown",
   "metadata": {},
   "source": [
    "# Мода"
   ]
  },
  {
   "cell_type": "code",
   "execution_count": null,
   "metadata": {
    "scrolled": true
   },
   "outputs": [],
   "source": [
    "# Создаём пустой словарь, в котором будем считать количество появлений значений продолжительности фильма\n",
    "weight_counts = {}\n",
    "for w in df.Weight.round():\n",
    "    if w not in weight_counts:\n",
    "        weight_counts[w] = 1\n",
    "    else:\n",
    "        weight_counts[w] += 1\n",
    "\n",
    "# Проходимся по словарю и ищем максимальное количество повторений\n",
    "# Алгоритм поиска максимума\n",
    "maxw = 0\n",
    "mode_weight = None\n",
    "for k, v in weight_counts.items():\n",
    "    if maxw < v:\n",
    "        maxw = v\n",
    "        mode_weight = k\n",
    "print('Значение моды:', mode_weight, 'количество встречаемости:', maxw)"
   ]
  },
  {
   "cell_type": "code",
   "execution_count": null,
   "metadata": {},
   "outputs": [],
   "source": [
    "print('Значение моды: ', df.Weight.round().mode()[0])"
   ]
  },
  {
   "cell_type": "markdown",
   "metadata": {},
   "source": [
    "# Медиана"
   ]
  },
  {
   "cell_type": "code",
   "execution_count": null,
   "metadata": {},
   "outputs": [],
   "source": [
    "# ручной подсчет\n",
    "height = df.Height\n",
    "\n",
    "# Находим  количество значений\n",
    "num_height = len(df.Height)\n",
    "\n",
    "# Сортируем в порядке возрастания\n",
    "sorted_height = sorted(height)\n",
    "\n",
    "# Ищем индекс среднего элемента\n",
    "# если количество элементов четное, то берем среднее двух элементов в середине\n",
    "middle = (num_height // 2)\n",
    "if num_height%2==0:\n",
    "    result = (sorted_height[middle-1] + sorted_height[middle])/2\n",
    "else:\n",
    "    result = sorted_height[middle]\n",
    "# Находим медиану\n",
    "print('Медиана: ', result)"
   ]
  },
  {
   "cell_type": "code",
   "execution_count": null,
   "metadata": {},
   "outputs": [],
   "source": [
    "print(df.Height.median())\n",
    "print(np.median(df.Height))"
   ]
  },
  {
   "cell_type": "markdown",
   "metadata": {
    "colab_type": "text",
    "id": "9Y239gfqVaL-"
   },
   "source": [
    "# СКО"
   ]
  },
  {
   "cell_type": "code",
   "execution_count": null,
   "metadata": {
    "colab": {
     "base_uri": "https://localhost:8080/",
     "height": 34
    },
    "colab_type": "code",
    "id": "J0qTV1YmgBCd",
    "outputId": "7365743e-25eb-4fb1-b294-8b9ae2fb099f"
   },
   "outputs": [],
   "source": [
    "# ручной подсчет\n",
    "def stdev(nums):\n",
    "    diffs = 0\n",
    "    # считаем среднее значение\n",
    "    avg = sum(nums) / len(nums)\n",
    "    for n in nums:\n",
    "        # считаем сумму квадратичных отклонений\n",
    "        diffs += (n - avg) ** (2)\n",
    "    # считаем корень среднеквадратичного значения\n",
    "    return (diffs / (len(nums) - 1)) ** (0.5)\n",
    "\n",
    "stdev(df.Height)"
   ]
  },
  {
   "cell_type": "code",
   "execution_count": null,
   "metadata": {
    "colab": {
     "base_uri": "https://localhost:8080/",
     "height": 34
    },
    "colab_type": "code",
    "id": "KbJrfmd7faCm",
    "outputId": "ec891589-b430-49c8-b42f-305c44836f7b"
   },
   "outputs": [],
   "source": [
    "print('Рост')\n",
    "print(df.Height.std())\n",
    "print(np.std(df.Height))\n",
    "\n",
    "print('Вес')\n",
    "print(df.Weight.std())\n",
    "print(np.std(df.Weight))"
   ]
  },
  {
   "cell_type": "markdown",
   "metadata": {
    "colab_type": "text",
    "id": "6MsGMUEeGLnX"
   },
   "source": [
    "# Дисперсия"
   ]
  },
  {
   "cell_type": "code",
   "execution_count": null,
   "metadata": {
    "colab": {
     "base_uri": "https://localhost:8080/",
     "height": 34
    },
    "colab_type": "code",
    "id": "xgh0WUa9XpKw",
    "outputId": "f459e525-5979-46cb-9e12-ed8ac4506fdf",
    "scrolled": true
   },
   "outputs": [],
   "source": [
    "# ручной подсчет\n",
    "def disp(nums):\n",
    "    diffs = 0\n",
    "    # считаем среднее значение\n",
    "    avg = sum(nums)/len(nums)\n",
    "    for n in nums:\n",
    "        # считаем сумму квадратичных отклонений\n",
    "        diffs += (n - avg)**(2)\n",
    "    # считаем среднеквадратичного значения\n",
    "    return diffs/(len(nums)-1)\n",
    "\n",
    "print(disp(df.Height))\n",
    "print(disp(df.Weight))"
   ]
  },
  {
   "cell_type": "code",
   "execution_count": null,
   "metadata": {
    "colab": {
     "base_uri": "https://localhost:8080/",
     "height": 34
    },
    "colab_type": "code",
    "id": "addZ1sLdghk5",
    "outputId": "bcac056d-cac0-4050-de5e-84bef7e7e230"
   },
   "outputs": [],
   "source": [
    "print('Рост')\n",
    "print(np.var(df.Height))\n",
    "print(df.Height.var())\n",
    "\n",
    "print('Вес')\n",
    "print(np.var(df.Weight))\n",
    "print(df.Weight.var())"
   ]
  },
  {
   "cell_type": "markdown",
   "metadata": {},
   "source": [
    "# Квантили"
   ]
  },
  {
   "cell_type": "code",
   "execution_count": null,
   "metadata": {},
   "outputs": [],
   "source": [
    "# это же медиана!\n",
    "df.Height.quantile()"
   ]
  },
  {
   "cell_type": "code",
   "execution_count": null,
   "metadata": {},
   "outputs": [],
   "source": [
    "# первый и третий квартили\n",
    "df.Height.quantile([0.25, 0.75])"
   ]
  },
  {
   "cell_type": "code",
   "execution_count": null,
   "metadata": {
    "scrolled": true
   },
   "outputs": [],
   "source": [
    "# произвольный перцентиль\n",
    "df.Height.quantile(0.33)"
   ]
  },
  {
   "cell_type": "code",
   "execution_count": null,
   "metadata": {},
   "outputs": [],
   "source": [
    "# межквартильный размах\n",
    "Q1 = df.Height.quantile(0.25)\n",
    "Q3 = df.Height.quantile(0.75)\n",
    "IQR = Q3 - Q1\n",
    "IQR"
   ]
  },
  {
   "cell_type": "markdown",
   "metadata": {},
   "source": [
    "# Describe"
   ]
  },
  {
   "cell_type": "code",
   "execution_count": null,
   "metadata": {},
   "outputs": [],
   "source": [
    "df.describe()"
   ]
  },
  {
   "cell_type": "markdown",
   "metadata": {},
   "source": [
    "# Выбросы"
   ]
  },
  {
   "cell_type": "code",
   "execution_count": null,
   "metadata": {},
   "outputs": [],
   "source": [
    "# тыкнем пальцем в небо (определим выбросы вручную) и посмотрим, как изменились средние\n",
    "print(df.Weight.mean())\n",
    "print(df[(df.Weight > 50) & (df.Weight < 150)].Weight.mean())"
   ]
  },
  {
   "cell_type": "code",
   "execution_count": null,
   "metadata": {},
   "outputs": [],
   "source": [
    "# а медиана?\n",
    "print(df.Weight.median())\n",
    "print(df[(df.Weight > 50) & (df.Weight < 150)].Weight.median())"
   ]
  },
  {
   "cell_type": "code",
   "execution_count": null,
   "metadata": {},
   "outputs": [],
   "source": [
    "# ну с модой все понятно\n",
    "print(df.Weight.round().mode()[0])\n",
    "print(df[(df.Weight > 50) & (df.Weight < 150)].Weight.round().mode()[0])"
   ]
  },
  {
   "cell_type": "markdown",
   "metadata": {},
   "source": [
    "А теперь найдем выбросы через межкваритльный размах (на примере роста)"
   ]
  },
  {
   "cell_type": "code",
   "execution_count": null,
   "metadata": {},
   "outputs": [],
   "source": [
    "q1 = df.Weight.quantile(0.25)\n",
    "q3 = df.Weight.quantile(0.75)\n",
    "iqr = q3 - q1\n",
    "lower_bound = q1 - (1.5 * iqr) \n",
    "upper_bound = q3 + (1.5 * iqr)\n",
    "remove_outliers = df[df.Weight.between(lower_bound, upper_bound, inclusive=True)].sort_values('Height')\n",
    "remove_outliers"
   ]
  },
  {
   "cell_type": "code",
   "execution_count": null,
   "metadata": {},
   "outputs": [],
   "source": [
    "df.sort_values('Height')"
   ]
  },
  {
   "cell_type": "code",
   "execution_count": null,
   "metadata": {},
   "outputs": [],
   "source": [
    "print(remove_outliers.Height.mean())\n",
    "print(remove_outliers.Height.median())"
   ]
  },
  {
   "cell_type": "code",
   "execution_count": null,
   "metadata": {},
   "outputs": [],
   "source": [
    "print(df.Height.mean() - remove_outliers.Height.mean())"
   ]
  },
  {
   "cell_type": "code",
   "execution_count": null,
   "metadata": {},
   "outputs": [],
   "source": [
    "print(df.Height.median() - remove_outliers.Height.median())"
   ]
  },
  {
   "cell_type": "markdown",
   "metadata": {},
   "source": [
    "# Пропуски"
   ]
  },
  {
   "cell_type": "code",
   "execution_count": null,
   "metadata": {},
   "outputs": [],
   "source": [
    "titanic = pd.read_csv('titanic.csv')\n",
    "titanic.info()"
   ]
  },
  {
   "cell_type": "code",
   "execution_count": null,
   "metadata": {},
   "outputs": [],
   "source": [
    "for col in titanic.columns:\n",
    "    pct_missing = titanic[col].isnull().mean()\n",
    "    print(f'{col} - {pct_missing :.1%}')"
   ]
  },
  {
   "cell_type": "markdown",
   "metadata": {},
   "source": [
    "## Игнорирование пропусков"
   ]
  },
  {
   "cell_type": "code",
   "execution_count": null,
   "metadata": {},
   "outputs": [],
   "source": [
    "# все методы pandas по-умолчанию просто не берут в расчет пропуски\n",
    "print(titanic.Age.mean())\n",
    "print(titanic.Age.median())\n",
    "print(titanic.Age.mode()[0])\n",
    "\n",
    "print(titanic.Age.std())\n",
    "print(titanic.Age.var())"
   ]
  },
  {
   "cell_type": "markdown",
   "metadata": {},
   "source": [
    "## Удаление строк с пропусками"
   ]
  },
  {
   "cell_type": "code",
   "execution_count": null,
   "metadata": {},
   "outputs": [],
   "source": [
    "titanic.dropna().info()"
   ]
  },
  {
   "cell_type": "code",
   "execution_count": null,
   "metadata": {},
   "outputs": [],
   "source": [
    "# посмотрите на сколько исказились статистики, если мы удалим все строки с пропусками\n",
    "print(titanic.dropna().Age.mean())\n",
    "print(titanic.dropna().Age.median())\n",
    "print(titanic.dropna().Age.mode()[0])\n",
    "\n",
    "print(titanic.dropna().Age.std())\n",
    "print(titanic.dropna().Age.var())"
   ]
  },
  {
   "cell_type": "code",
   "execution_count": null,
   "metadata": {},
   "outputs": [],
   "source": [
    "# предположим, мы хотим удалить только те строки, в которых как минимум 11/12 значений заполнено\n",
    "titanic.dropna(thresh=11).info()"
   ]
  },
  {
   "cell_type": "markdown",
   "metadata": {},
   "source": [
    "## Удаление столбцов с пропусками"
   ]
  },
  {
   "cell_type": "code",
   "execution_count": null,
   "metadata": {},
   "outputs": [],
   "source": [
    "# удалять все в данном случае – странно\n",
    "titanic.dropna(axis = 1).info()"
   ]
  },
  {
   "cell_type": "code",
   "execution_count": null,
   "metadata": {},
   "outputs": [],
   "source": [
    "# у нас очень много пропусков в Cabin. Нам эта информация точно нунжа?\n",
    "titanic.drop(['Cabin'], axis=1).info()"
   ]
  },
  {
   "cell_type": "markdown",
   "metadata": {},
   "source": [
    "## Замена пропусков"
   ]
  },
  {
   "cell_type": "markdown",
   "metadata": {},
   "source": [
    "Замена на определенное значение"
   ]
  },
  {
   "cell_type": "code",
   "execution_count": null,
   "metadata": {},
   "outputs": [],
   "source": [
    "titanic['Cabin'].fillna('no_info').isna().sum()"
   ]
  },
  {
   "cell_type": "markdown",
   "metadata": {},
   "source": [
    "Замена средним"
   ]
  },
  {
   "cell_type": "code",
   "execution_count": null,
   "metadata": {},
   "outputs": [],
   "source": [
    "# возраст дискретен, при заполнении средними еще стоит округлить. Проигнорируем в учебных целях\n",
    "\n",
    "print(titanic.Age.mean())\n",
    "print(titanic.Age.median())\n",
    "print(titanic.Age.mode()[0])\n",
    "\n",
    "print(titanic.Age.std())\n",
    "print(titanic.Age.var())"
   ]
  },
  {
   "cell_type": "code",
   "execution_count": null,
   "metadata": {},
   "outputs": [],
   "source": [
    "fill_mean = pd.read_csv('titanic.csv')\n",
    "\n",
    "fill_mean.Age.fillna(titanic.Age.mean(), inplace=True)\n",
    "fill_mean.Age.fillna(titanic.Age.mean()).isna().sum()"
   ]
  },
  {
   "cell_type": "code",
   "execution_count": 43,
   "metadata": {},
   "outputs": [
    {
     "name": "stdout",
     "output_type": "stream",
     "text": [
      "29.699117647058763\n",
      "29.69911764705882\n",
      "29.69911764705882\n",
      "13.002015226002884\n",
      "169.05239993721085\n"
     ]
    }
   ],
   "source": [
    "print(fill_mean.Age.mean())\n",
    "print(fill_mean.Age.median())\n",
    "print(fill_mean.Age.mode()[0])\n",
    "\n",
    "print(fill_mean.Age.std())\n",
    "print(fill_mean.Age.var())"
   ]
  },
  {
   "cell_type": "markdown",
   "metadata": {},
   "source": [
    "Замена медианой"
   ]
  },
  {
   "cell_type": "code",
   "execution_count": 44,
   "metadata": {},
   "outputs": [
    {
     "name": "stdout",
     "output_type": "stream",
     "text": [
      "29.69911764705882\n",
      "28.0\n",
      "24.0\n",
      "14.526497332334044\n",
      "211.0191247463081\n"
     ]
    }
   ],
   "source": [
    "print(titanic.Age.mean())\n",
    "print(titanic.Age.median())\n",
    "print(titanic.Age.mode()[0])\n",
    "\n",
    "print(titanic.Age.std())\n",
    "print(titanic.Age.var())\n"
   ]
  },
  {
   "cell_type": "code",
   "execution_count": 45,
   "metadata": {},
   "outputs": [
    {
     "data": {
      "text/plain": [
       "0"
      ]
     },
     "execution_count": 45,
     "metadata": {},
     "output_type": "execute_result"
    }
   ],
   "source": [
    "fill_median = pd.read_csv('titanic.csv')\n",
    "\n",
    "fill_median.Age.fillna(titanic.Age.median(), inplace=True)\n",
    "fill_median.Age.fillna(titanic.Age.median()).isna().sum()"
   ]
  },
  {
   "cell_type": "code",
   "execution_count": 46,
   "metadata": {},
   "outputs": [
    {
     "name": "stdout",
     "output_type": "stream",
     "text": [
      "29.36158249158249\n",
      "28.0\n",
      "28.0\n",
      "13.019696550973194\n",
      "169.51249827942328\n"
     ]
    }
   ],
   "source": [
    "print(fill_median.Age.mean())\n",
    "print(fill_median.Age.median())\n",
    "print(fill_median.Age.mode()[0])\n",
    "\n",
    "print(fill_median.Age.std())\n",
    "print(fill_median.Age.var())"
   ]
  },
  {
   "cell_type": "markdown",
   "metadata": {},
   "source": [
    "Замена модой"
   ]
  },
  {
   "cell_type": "code",
   "execution_count": 47,
   "metadata": {},
   "outputs": [
    {
     "data": {
      "text/plain": [
       "S    644\n",
       "C    168\n",
       "Q     77\n",
       "Name: Embarked, dtype: int64"
      ]
     },
     "execution_count": 47,
     "metadata": {},
     "output_type": "execute_result"
    }
   ],
   "source": [
    "titanic.Embarked.value_counts()"
   ]
  },
  {
   "cell_type": "code",
   "execution_count": 48,
   "metadata": {},
   "outputs": [
    {
     "data": {
      "text/plain": [
       "S    646\n",
       "C    168\n",
       "Q     77\n",
       "Name: Embarked, dtype: int64"
      ]
     },
     "execution_count": 48,
     "metadata": {},
     "output_type": "execute_result"
    }
   ],
   "source": [
    "titanic_fill_mode = pd.read_csv('titanic.csv')\n",
    "titanic_fill_mode.Embarked.fillna(titanic.Embarked.mode()[0], inplace=True)\n",
    "\n",
    "titanic_fill_mode.Embarked.value_counts()"
   ]
  },
  {
   "cell_type": "markdown",
   "metadata": {},
   "source": [
    "Заполнение пропусков с группировкой по\n",
    "одной переменной"
   ]
  },
  {
   "cell_type": "code",
   "execution_count": null,
   "metadata": {},
   "outputs": [],
   "source": []
  },
  {
   "cell_type": "code",
   "execution_count": 49,
   "metadata": {},
   "outputs": [
    {
     "name": "stdout",
     "output_type": "stream",
     "text": [
      "Sex\n",
      "female    27.0\n",
      "male      29.0\n",
      "Name: Age, dtype: float64\n",
      "Sex\n",
      "female    27.0\n",
      "male      29.0\n",
      "Name: Age, dtype: float64\n"
     ]
    }
   ],
   "source": [
    "# мы не можем исключать, что средний возраст мужчин и женщин отличался\n",
    "print(titanic.groupby('Sex').Age.median())\n",
    "fill_median_by_gender = pd.read_csv('titanic.csv')\n",
    "fill_median_by_gender.Age.fillna(titanic.groupby('Sex').Age.transform('median'), inplace=True)\n",
    "\n",
    "print(fill_median_by_gender.groupby('Sex').Age.median())"
   ]
  },
  {
   "cell_type": "code",
   "execution_count": 50,
   "metadata": {
    "scrolled": false
   },
   "outputs": [
    {
     "data": {
      "text/plain": [
       "Sex     Pclass\n",
       "female  1         35.0\n",
       "        2         28.0\n",
       "        3         21.5\n",
       "male    1         40.0\n",
       "        2         30.0\n",
       "        3         25.0\n",
       "Name: Age, dtype: float64"
      ]
     },
     "execution_count": 50,
     "metadata": {},
     "output_type": "execute_result"
    }
   ],
   "source": [
    "# а может быть и в разных классах были пассажиры разного возраста?\n",
    "fill_median_by_groups = pd.read_csv('titanic.csv')\n",
    "fill_median_by_groups.Age.fillna(titanic.groupby(['Sex', 'Pclass']).Age.transform('median'), inplace=True)\n",
    "\n",
    "fill_median_by_groups.groupby(['Sex', 'Pclass']).Age.median()"
   ]
  },
  {
   "cell_type": "code",
   "execution_count": null,
   "metadata": {},
   "outputs": [],
   "source": []
  },
  {
   "cell_type": "markdown",
   "metadata": {},
   "source": [
    "Заполнение следующими/предыдущими значениями"
   ]
  },
  {
   "cell_type": "code",
   "execution_count": 51,
   "metadata": {},
   "outputs": [
    {
     "name": "stdout",
     "output_type": "stream",
     "text": [
      "<class 'pandas.core.frame.DataFrame'>\n",
      "DatetimeIndex: 29531 entries, 2015-01-01 to 2020-07-01\n",
      "Data columns (total 15 columns):\n",
      " #   Column      Non-Null Count  Dtype  \n",
      "---  ------      --------------  -----  \n",
      " 0   City        29531 non-null  object \n",
      " 1   PM2.5       24933 non-null  float64\n",
      " 2   PM10        18391 non-null  float64\n",
      " 3   NO          25949 non-null  float64\n",
      " 4   NO2         25946 non-null  float64\n",
      " 5   NOx         25346 non-null  float64\n",
      " 6   NH3         19203 non-null  float64\n",
      " 7   CO          27472 non-null  float64\n",
      " 8   SO2         25677 non-null  float64\n",
      " 9   O3          25509 non-null  float64\n",
      " 10  Benzene     23908 non-null  float64\n",
      " 11  Toluene     21490 non-null  float64\n",
      " 12  Xylene      11422 non-null  float64\n",
      " 13  AQI         24850 non-null  float64\n",
      " 14  AQI_Bucket  24850 non-null  object \n",
      "dtypes: float64(13), object(2)\n",
      "memory usage: 3.6+ MB\n"
     ]
    }
   ],
   "source": [
    "city_day = pd.read_csv('city_day.csv', parse_dates=True,index_col='Date')\n",
    "city_day.info()"
   ]
  },
  {
   "cell_type": "code",
   "execution_count": 52,
   "metadata": {},
   "outputs": [
    {
     "name": "stdout",
     "output_type": "stream",
     "text": [
      "City - 0.0%\n",
      "PM2.5 - 15.6%\n",
      "PM10 - 37.7%\n",
      "NO - 12.1%\n",
      "NO2 - 12.1%\n",
      "NOx - 14.2%\n",
      "NH3 - 35.0%\n",
      "CO - 7.0%\n",
      "SO2 - 13.1%\n",
      "O3 - 13.6%\n",
      "Benzene - 19.0%\n",
      "Toluene - 27.2%\n",
      "Xylene - 61.3%\n",
      "AQI - 15.9%\n",
      "AQI_Bucket - 15.9%\n"
     ]
    }
   ],
   "source": [
    "for col in city_day.columns:\n",
    "    pct_missing = city_day[col].isnull().mean()\n",
    "    print(f'{col} - {pct_missing :.1%}')"
   ]
  },
  {
   "cell_type": "code",
   "execution_count": 53,
   "metadata": {},
   "outputs": [],
   "source": [
    "city_day.fillna(method='ffill',inplace=True)"
   ]
  },
  {
   "cell_type": "code",
   "execution_count": 54,
   "metadata": {},
   "outputs": [],
   "source": [
    "city_day.fillna(method='bfill',inplace=True)"
   ]
  },
  {
   "cell_type": "code",
   "execution_count": 55,
   "metadata": {},
   "outputs": [
    {
     "name": "stdout",
     "output_type": "stream",
     "text": [
      "City - 0.0%\n",
      "PM2.5 - 0.0%\n",
      "PM10 - 0.0%\n",
      "NO - 0.0%\n",
      "NO2 - 0.0%\n",
      "NOx - 0.0%\n",
      "NH3 - 0.0%\n",
      "CO - 0.0%\n",
      "SO2 - 0.0%\n",
      "O3 - 0.0%\n",
      "Benzene - 0.0%\n",
      "Toluene - 0.0%\n",
      "Xylene - 0.0%\n",
      "AQI - 0.0%\n",
      "AQI_Bucket - 0.0%\n"
     ]
    }
   ],
   "source": [
    "for col in city_day.columns:\n",
    "    pct_missing = city_day[col].isnull().mean()\n",
    "    print(f'{col} - {pct_missing :.1%}')"
   ]
  },
  {
   "cell_type": "code",
   "execution_count": null,
   "metadata": {},
   "outputs": [],
   "source": []
  },
  {
   "cell_type": "code",
   "execution_count": null,
   "metadata": {},
   "outputs": [],
   "source": []
  },
  {
   "cell_type": "code",
   "execution_count": null,
   "metadata": {},
   "outputs": [],
   "source": []
  },
  {
   "cell_type": "code",
   "execution_count": null,
   "metadata": {},
   "outputs": [],
   "source": []
  },
  {
   "cell_type": "code",
   "execution_count": null,
   "metadata": {},
   "outputs": [],
   "source": []
  },
  {
   "cell_type": "code",
   "execution_count": null,
   "metadata": {},
   "outputs": [],
   "source": []
  }
 ],
 "metadata": {
  "kernelspec": {
   "display_name": "Python 3",
   "language": "python",
   "name": "python3"
  },
  "language_info": {
   "codemirror_mode": {
    "name": "ipython",
    "version": 3
   },
   "file_extension": ".py",
   "mimetype": "text/x-python",
   "name": "python",
   "nbconvert_exporter": "python",
   "pygments_lexer": "ipython3",
   "version": "3.7.7"
  }
 },
 "nbformat": 4,
 "nbformat_minor": 4
}
