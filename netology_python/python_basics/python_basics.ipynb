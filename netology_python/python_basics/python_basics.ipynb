{
 "cells": [
  {
   "cell_type": "markdown",
   "metadata": {},
   "source": [
    "**Задание 1**. Даны 2 строки: *long_phrase* и *short_phrase*. \n",
    "Напишите код, который проверяет действительно ли длинная фраза *long_phrase* длиннее короткой *short_phrase*. И выводит *True* или *False* в зависимости от результата сравнения."
   ]
  },
  {
   "cell_type": "code",
   "execution_count": 1,
   "metadata": {},
   "outputs": [],
   "source": [
    "long_phrase = 'Насколько проще было бы писать программы, если бы не заказчики'\n",
    "short_phrase = '640Кб должно хватить для любых задач. Билл Гейтс (по легенде)'"
   ]
  },
  {
   "cell_type": "code",
   "execution_count": 2,
   "metadata": {},
   "outputs": [
    {
     "data": {
      "text/plain": [
       "True"
      ]
     },
     "execution_count": 2,
     "metadata": {},
     "output_type": "execute_result"
    }
   ],
   "source": [
    "long_phrase > short_phrase"
   ]
  },
  {
   "cell_type": "markdown",
   "metadata": {},
   "source": [
    "**Задание 2**. Дано значение объема файла в байтах (*в мегабайте 2^20 байт*). Напишите перевод этого значения в мегабайты в формате: \"*Объем файла равен 213.68Mb*\"."
   ]
  },
  {
   "cell_type": "code",
   "execution_count": 48,
   "metadata": {},
   "outputs": [
    {
     "name": "stdout",
     "output_type": "stream",
     "text": [
      "12343654\n",
      "Объем файла равен 11.77Mb\n"
     ]
    }
   ],
   "source": [
    "value = int(input())\n",
    "print(f'Объем файла равен {round(value / 2 ** 20, 2)}Mb')"
   ]
  },
  {
   "cell_type": "markdown",
   "metadata": {},
   "source": [
    "**Задание 3**. Разработать приложение для определения знака зодиака по дате рождения. Пример:\n",
    "\n",
    "Введите месяц: март\n",
    "\n",
    "Введите число: 6\n",
    "\n",
    "Вывод:\n",
    "Рыбы"
   ]
  },
  {
   "cell_type": "code",
   "execution_count": 29,
   "metadata": {},
   "outputs": [
    {
     "name": "stdout",
     "output_type": "stream",
     "text": [
      "Введите месяц:Май\n",
      "Введите число:27\n",
      "Знак зодиака:  Близнецы\n"
     ]
    }
   ],
   "source": [
    "months = {'январь': 31, 'февраль': 29, 'март': 31,\n",
    "         'апрель': 30, 'май': 31, 'июнь': 30,\n",
    "         'июль': 30, 'август': 31, 'сентябрь': 30,\n",
    "         'октябрь': 31, 'ноябрь': 30, 'декабрь': 31}\n",
    "\n",
    "month = input('Введите месяц:').lower()\n",
    "if month in months.keys():\n",
    "    day = int(input('Введите число:'))\n",
    "    if 0 < day < months[month]:\n",
    "        month_int = list(months.keys()).index(month) + 1\n",
    "        if (month_int == 12 and day >= 22) or (month_int == 1 and day <= 19):\n",
    "            zodiac_sign = (\"Козерог\")\n",
    "        elif (month_int == 1 and day >= 20) or (month_int == 2 and day <= 18):\n",
    "            zodiac_sign = (\"Водолей\")\n",
    "        elif (month_int == 2 and day >= 19) or (month_int == 3 and day <= 20):\n",
    "            zodiac_sign = (\"Рыбы\")\n",
    "        elif (month_int == 3 and day >= 21) or (month_int == 4 and day <= 19):\n",
    "            zodiac_sign = (\"Овен\")\n",
    "        elif (month_int == 4 and day >= 20) or (month_int == 5 and day <= 20):\n",
    "            zodiac_sign = (\"Телец\")\n",
    "        elif (month_int == 5 and day >= 21) or (month_int == 6 and day <= 20):\n",
    "            zodiac_sign = (\"Близнецы\")\n",
    "        elif (month_int == 6 and day >= 21) or (month_int == 7 and day <= 22):\n",
    "            zodiac_sign = (\"Рак\")\n",
    "        elif (month_int == 7 and day >= 23)or(month_int == 8 and day <= 22): \n",
    "            zodiac_sign = (\"Лев\")\n",
    "        elif (month_int == 8 and day >= 23) or (month_int == 9 and day <= 22):\n",
    "            zodiac_sign = (\"Дева\")\n",
    "        elif (month_int == 9 and day >= 23) or (month_int == 10 and day <= 22):\n",
    "            zodiac_sign = (\"Весы\")\n",
    "        elif (month_int == 10 and day >= 23) or (month_int == 11 and day <= 21):\n",
    "            zodiac_sign = (\"Скорпион\")\n",
    "        elif (month_int == 11 and day >= 22) or (month_int == 12 and day <= 21):\n",
    "            zodiac_sign = (\"Стрелец\")\n",
    "\n",
    "        print('Знак зодиака: ', zodiac_sign)\n",
    "    else:\n",
    "        print('Число не соответствует длине месяца')\n",
    "else:\n",
    "    print('Неверное название месяца')\n"
   ]
  },
  {
   "cell_type": "markdown",
   "metadata": {},
   "source": [
    "**Задание 4**. Нужно разработать приложение для финансового планирования.\n",
    "Приложение учитывает сколько уходит на ипотеку, \"на жизнь\" и сколько нужно отложить на пенсию.\n",
    "Пользователь вводит:\n",
    "- заработанную плату в месяц.\n",
    "- сколько процентов от ЗП уходит на ипотеку.\n",
    "- сколько процентов от ЗП уходит \"на жизнь\".\n",
    "- сколько раз приходит премия в год.\n",
    "\n",
    "Остальная часть заработанной платы откладывается на пенсию.\n",
    "\n",
    "Также пользователю приходит премия в размере зарплаты, от которой половина уходит на отпуск, а вторая половина откладывается.\n",
    "\n",
    "Программа должна учитывать сколько премий было в год.\n",
    "\n",
    "Нужно вывести сколько денег тратит пользователь на ипотеку и сколько он накопит за год.\n",
    "\n",
    "Пример:\n",
    "\n",
    "Введите заработанную плату в месяц: 100000\n",
    "\n",
    "Введите сколько процентов уходит на ипотеку: 30\n",
    "\n",
    "Введите сколько процентов уходит на жизнь: 50\n",
    "\n",
    "Введите количество премий за год: 2\n",
    "\n",
    "Вывод:\n",
    "На ипотеку было потрачено: 360000 рублей\n",
    "Было накоплено: 340000 рублей"
   ]
  },
  {
   "cell_type": "code",
   "execution_count": 42,
   "metadata": {},
   "outputs": [
    {
     "name": "stdout",
     "output_type": "stream",
     "text": [
      "Введите заработанную плату в месяц: 100000\n",
      "Введите сколько процентов уходит на ипотеку: 30\n",
      "Введите сколько процентов уходит на жизнь: 50\n",
      "Введите количество премий за год: 2\n",
      "На ипотеку было потрачено: 360000 рублей Было накоплено: 340000 рублей\n"
     ]
    }
   ],
   "source": [
    "salary = int(input('Введите заработанную плату в месяц: '))\n",
    "mortgage_perc = int(input('Введите сколько процентов уходит на ипотеку: '))\n",
    "life_perc = int(input('Введите сколько процентов уходит на жизнь: '))\n",
    "bonus_num = int(input('Введите количество премий за год: '))\n",
    "\n",
    "salary_year = 12 * salary\n",
    "mortgage_year = salary_year * mortgage_perc / 100\n",
    "life_year = salary_year * life_perc / 100\n",
    "bonus_year = bonus_num * salary\n",
    "save = bonus_year * .5 + salary_year - mortgage_year - life_year\n",
    "\n",
    "print(f'На ипотеку было потрачено: {int(mortgage_year)} рублей',\n",
    "      f'Было накоплено: {int(save)} рублей')"
   ]
  },
  {
   "cell_type": "code",
   "execution_count": null,
   "metadata": {},
   "outputs": [],
   "source": []
  }
 ],
 "metadata": {
  "kernelspec": {
   "display_name": "Python 3",
   "language": "python",
   "name": "python3"
  },
  "language_info": {
   "codemirror_mode": {
    "name": "ipython",
    "version": 3
   },
   "file_extension": ".py",
   "mimetype": "text/x-python",
   "name": "python",
   "nbconvert_exporter": "python",
   "pygments_lexer": "ipython3",
   "version": "3.7.6"
  }
 },
 "nbformat": 4,
 "nbformat_minor": 2
}
