{
 "cells": [
  {
   "cell_type": "markdown",
   "metadata": {},
   "source": [
    "## Домашнее задание\n",
    "\n",
    "Представлен датасет центра приюта животных, и вашей задачей будет обучить модель таким образом, чтобы  по определенным признакам была возможность максимально уверенно предсказать метки 'Adoption' и 'Transfer' (столбец “outcome_type”).\n",
    "\n",
    "Здесь вы вольны делать что угодно. Я хочу видеть от вас:\n",
    "1. Проверка наличия/обработка пропусков\n",
    "2. Проверьте взаимосвязи между признаками\n",
    "3. Попробуйте создать свои признаки\n",
    "4. Удалите лишние\n",
    "5. Обратите внимание на текстовые столбцы. Подумайте, что можно извлечь полезного оттуда\n",
    "6. Использование профайлера вам поможет.\n",
    "7. Не забывайте, что у вас есть PCA (Метод главных компонент). Он может пригодиться.\n"
   ]
  },
  {
   "cell_type": "code",
   "execution_count": 339,
   "metadata": {},
   "outputs": [],
   "source": [
    "import numpy as np\n",
    "import pandas as pd\n",
    "import seaborn as sns\n",
    "from matplotlib import pyplot as plt\n",
    "\n",
    "from sklearn.ensemble import RandomForestClassifier\n",
    "from sklearn.model_selection import train_test_split\n",
    "from sklearn.model_selection import cross_val_score, cross_validate, KFold\n",
    "\n",
    "from sklearn.decomposition import PCA\n",
    "\n",
    "from tqdm.notebook import tqdm\n",
    "import warnings\n",
    "warnings.filterwarnings('ignore')"
   ]
  },
  {
   "cell_type": "code",
   "execution_count": 220,
   "metadata": {},
   "outputs": [],
   "source": [
    "pets = pd.read_csv('aac_shelter_outcomes.csv', parse_dates=True)"
   ]
  },
  {
   "cell_type": "code",
   "execution_count": 221,
   "metadata": {},
   "outputs": [
    {
     "data": {
      "text/html": [
       "<div>\n",
       "<style scoped>\n",
       "    .dataframe tbody tr th:only-of-type {\n",
       "        vertical-align: middle;\n",
       "    }\n",
       "\n",
       "    .dataframe tbody tr th {\n",
       "        vertical-align: top;\n",
       "    }\n",
       "\n",
       "    .dataframe thead th {\n",
       "        text-align: right;\n",
       "    }\n",
       "</style>\n",
       "<table border=\"1\" class=\"dataframe\">\n",
       "  <thead>\n",
       "    <tr style=\"text-align: right;\">\n",
       "      <th></th>\n",
       "      <th>age_upon_outcome</th>\n",
       "      <th>animal_id</th>\n",
       "      <th>animal_type</th>\n",
       "      <th>breed</th>\n",
       "      <th>color</th>\n",
       "      <th>date_of_birth</th>\n",
       "      <th>datetime</th>\n",
       "      <th>monthyear</th>\n",
       "      <th>name</th>\n",
       "      <th>outcome_subtype</th>\n",
       "      <th>outcome_type</th>\n",
       "      <th>sex_upon_outcome</th>\n",
       "    </tr>\n",
       "  </thead>\n",
       "  <tbody>\n",
       "    <tr>\n",
       "      <th>0</th>\n",
       "      <td>2 weeks</td>\n",
       "      <td>A684346</td>\n",
       "      <td>Cat</td>\n",
       "      <td>Domestic Shorthair Mix</td>\n",
       "      <td>Orange Tabby</td>\n",
       "      <td>2014-07-07T00:00:00</td>\n",
       "      <td>2014-07-22T16:04:00</td>\n",
       "      <td>2014-07-22T16:04:00</td>\n",
       "      <td>NaN</td>\n",
       "      <td>Partner</td>\n",
       "      <td>Transfer</td>\n",
       "      <td>Intact Male</td>\n",
       "    </tr>\n",
       "    <tr>\n",
       "      <th>1</th>\n",
       "      <td>1 year</td>\n",
       "      <td>A666430</td>\n",
       "      <td>Dog</td>\n",
       "      <td>Beagle Mix</td>\n",
       "      <td>White/Brown</td>\n",
       "      <td>2012-11-06T00:00:00</td>\n",
       "      <td>2013-11-07T11:47:00</td>\n",
       "      <td>2013-11-07T11:47:00</td>\n",
       "      <td>Lucy</td>\n",
       "      <td>Partner</td>\n",
       "      <td>Transfer</td>\n",
       "      <td>Spayed Female</td>\n",
       "    </tr>\n",
       "    <tr>\n",
       "      <th>2</th>\n",
       "      <td>1 year</td>\n",
       "      <td>A675708</td>\n",
       "      <td>Dog</td>\n",
       "      <td>Pit Bull</td>\n",
       "      <td>Blue/White</td>\n",
       "      <td>2013-03-31T00:00:00</td>\n",
       "      <td>2014-06-03T14:20:00</td>\n",
       "      <td>2014-06-03T14:20:00</td>\n",
       "      <td>*Johnny</td>\n",
       "      <td>NaN</td>\n",
       "      <td>Adoption</td>\n",
       "      <td>Neutered Male</td>\n",
       "    </tr>\n",
       "    <tr>\n",
       "      <th>3</th>\n",
       "      <td>9 years</td>\n",
       "      <td>A680386</td>\n",
       "      <td>Dog</td>\n",
       "      <td>Miniature Schnauzer Mix</td>\n",
       "      <td>White</td>\n",
       "      <td>2005-06-02T00:00:00</td>\n",
       "      <td>2014-06-15T15:50:00</td>\n",
       "      <td>2014-06-15T15:50:00</td>\n",
       "      <td>Monday</td>\n",
       "      <td>Partner</td>\n",
       "      <td>Transfer</td>\n",
       "      <td>Neutered Male</td>\n",
       "    </tr>\n",
       "    <tr>\n",
       "      <th>5</th>\n",
       "      <td>4 months</td>\n",
       "      <td>A664462</td>\n",
       "      <td>Dog</td>\n",
       "      <td>Leonberger Mix</td>\n",
       "      <td>Brown/White</td>\n",
       "      <td>2013-06-03T00:00:00</td>\n",
       "      <td>2013-10-07T13:06:00</td>\n",
       "      <td>2013-10-07T13:06:00</td>\n",
       "      <td>*Edgar</td>\n",
       "      <td>Partner</td>\n",
       "      <td>Transfer</td>\n",
       "      <td>Intact Male</td>\n",
       "    </tr>\n",
       "  </tbody>\n",
       "</table>\n",
       "</div>"
      ],
      "text/plain": [
       "  age_upon_outcome animal_id animal_type                    breed  \\\n",
       "0          2 weeks   A684346         Cat   Domestic Shorthair Mix   \n",
       "1           1 year   A666430         Dog               Beagle Mix   \n",
       "2           1 year   A675708         Dog                 Pit Bull   \n",
       "3          9 years   A680386         Dog  Miniature Schnauzer Mix   \n",
       "5         4 months   A664462         Dog           Leonberger Mix   \n",
       "\n",
       "          color        date_of_birth             datetime  \\\n",
       "0  Orange Tabby  2014-07-07T00:00:00  2014-07-22T16:04:00   \n",
       "1   White/Brown  2012-11-06T00:00:00  2013-11-07T11:47:00   \n",
       "2    Blue/White  2013-03-31T00:00:00  2014-06-03T14:20:00   \n",
       "3         White  2005-06-02T00:00:00  2014-06-15T15:50:00   \n",
       "5   Brown/White  2013-06-03T00:00:00  2013-10-07T13:06:00   \n",
       "\n",
       "             monthyear     name outcome_subtype outcome_type sex_upon_outcome  \n",
       "0  2014-07-22T16:04:00      NaN         Partner     Transfer      Intact Male  \n",
       "1  2013-11-07T11:47:00     Lucy         Partner     Transfer    Spayed Female  \n",
       "2  2014-06-03T14:20:00  *Johnny             NaN     Adoption    Neutered Male  \n",
       "3  2014-06-15T15:50:00   Monday         Partner     Transfer    Neutered Male  \n",
       "5  2013-10-07T13:06:00   *Edgar         Partner     Transfer      Intact Male  "
      ]
     },
     "execution_count": 221,
     "metadata": {},
     "output_type": "execute_result"
    }
   ],
   "source": [
    "pets = pets[pets['outcome_type'].isin(['Adoption', 'Transfer'])]\n",
    "pets.head()"
   ]
  },
  {
   "cell_type": "code",
   "execution_count": 222,
   "metadata": {},
   "outputs": [
    {
     "data": {
      "image/png": "[encoded data removed]",
      "text/plain": [
       "<Figure size 432x288 with 1 Axes>"
      ]
     },
     "metadata": {
      "needs_background": "light"
     },
     "output_type": "display_data"
    }
   ],
   "source": [
    "sns.histplot(data=pets.outcome_type);"
   ]
  },
  {
   "cell_type": "markdown",
   "metadata": {},
   "source": [
    "Считаю, что классы сбалансированны"
   ]
  },
  {
   "cell_type": "code",
   "execution_count": 223,
   "metadata": {},
   "outputs": [
    {
     "data": {
      "text/html": [
       "<div>\n",
       "<style scoped>\n",
       "    .dataframe tbody tr th:only-of-type {\n",
       "        vertical-align: middle;\n",
       "    }\n",
       "\n",
       "    .dataframe tbody tr th {\n",
       "        vertical-align: top;\n",
       "    }\n",
       "\n",
       "    .dataframe thead th {\n",
       "        text-align: right;\n",
       "    }\n",
       "</style>\n",
       "<table border=\"1\" class=\"dataframe\">\n",
       "  <thead>\n",
       "    <tr style=\"text-align: right;\">\n",
       "      <th></th>\n",
       "      <th>age_upon_outcome</th>\n",
       "      <th>animal_id</th>\n",
       "      <th>animal_type</th>\n",
       "      <th>breed</th>\n",
       "      <th>color</th>\n",
       "      <th>date_of_birth</th>\n",
       "      <th>datetime</th>\n",
       "      <th>monthyear</th>\n",
       "      <th>name</th>\n",
       "      <th>outcome_subtype</th>\n",
       "      <th>outcome_type</th>\n",
       "      <th>sex_upon_outcome</th>\n",
       "    </tr>\n",
       "  </thead>\n",
       "  <tbody>\n",
       "    <tr>\n",
       "      <th>0</th>\n",
       "      <td>2 weeks</td>\n",
       "      <td>A684346</td>\n",
       "      <td>Cat</td>\n",
       "      <td>Domestic Shorthair Mix</td>\n",
       "      <td>Orange Tabby</td>\n",
       "      <td>2014-07-07T00:00:00</td>\n",
       "      <td>2014-07-22T16:04:00</td>\n",
       "      <td>2014-07-22T16:04:00</td>\n",
       "      <td>NaN</td>\n",
       "      <td>Partner</td>\n",
       "      <td>True</td>\n",
       "      <td>Intact Male</td>\n",
       "    </tr>\n",
       "    <tr>\n",
       "      <th>1</th>\n",
       "      <td>1 year</td>\n",
       "      <td>A666430</td>\n",
       "      <td>Dog</td>\n",
       "      <td>Beagle Mix</td>\n",
       "      <td>White/Brown</td>\n",
       "      <td>2012-11-06T00:00:00</td>\n",
       "      <td>2013-11-07T11:47:00</td>\n",
       "      <td>2013-11-07T11:47:00</td>\n",
       "      <td>Lucy</td>\n",
       "      <td>Partner</td>\n",
       "      <td>True</td>\n",
       "      <td>Spayed Female</td>\n",
       "    </tr>\n",
       "    <tr>\n",
       "      <th>2</th>\n",
       "      <td>1 year</td>\n",
       "      <td>A675708</td>\n",
       "      <td>Dog</td>\n",
       "      <td>Pit Bull</td>\n",
       "      <td>Blue/White</td>\n",
       "      <td>2013-03-31T00:00:00</td>\n",
       "      <td>2014-06-03T14:20:00</td>\n",
       "      <td>2014-06-03T14:20:00</td>\n",
       "      <td>*Johnny</td>\n",
       "      <td>NaN</td>\n",
       "      <td>False</td>\n",
       "      <td>Neutered Male</td>\n",
       "    </tr>\n",
       "    <tr>\n",
       "      <th>3</th>\n",
       "      <td>9 years</td>\n",
       "      <td>A680386</td>\n",
       "      <td>Dog</td>\n",
       "      <td>Miniature Schnauzer Mix</td>\n",
       "      <td>White</td>\n",
       "      <td>2005-06-02T00:00:00</td>\n",
       "      <td>2014-06-15T15:50:00</td>\n",
       "      <td>2014-06-15T15:50:00</td>\n",
       "      <td>Monday</td>\n",
       "      <td>Partner</td>\n",
       "      <td>True</td>\n",
       "      <td>Neutered Male</td>\n",
       "    </tr>\n",
       "    <tr>\n",
       "      <th>5</th>\n",
       "      <td>4 months</td>\n",
       "      <td>A664462</td>\n",
       "      <td>Dog</td>\n",
       "      <td>Leonberger Mix</td>\n",
       "      <td>Brown/White</td>\n",
       "      <td>2013-06-03T00:00:00</td>\n",
       "      <td>2013-10-07T13:06:00</td>\n",
       "      <td>2013-10-07T13:06:00</td>\n",
       "      <td>*Edgar</td>\n",
       "      <td>Partner</td>\n",
       "      <td>True</td>\n",
       "      <td>Intact Male</td>\n",
       "    </tr>\n",
       "  </tbody>\n",
       "</table>\n",
       "</div>"
      ],
      "text/plain": [
       "  age_upon_outcome animal_id animal_type                    breed  \\\n",
       "0          2 weeks   A684346         Cat   Domestic Shorthair Mix   \n",
       "1           1 year   A666430         Dog               Beagle Mix   \n",
       "2           1 year   A675708         Dog                 Pit Bull   \n",
       "3          9 years   A680386         Dog  Miniature Schnauzer Mix   \n",
       "5         4 months   A664462         Dog           Leonberger Mix   \n",
       "\n",
       "          color        date_of_birth             datetime  \\\n",
       "0  Orange Tabby  2014-07-07T00:00:00  2014-07-22T16:04:00   \n",
       "1   White/Brown  2012-11-06T00:00:00  2013-11-07T11:47:00   \n",
       "2    Blue/White  2013-03-31T00:00:00  2014-06-03T14:20:00   \n",
       "3         White  2005-06-02T00:00:00  2014-06-15T15:50:00   \n",
       "5   Brown/White  2013-06-03T00:00:00  2013-10-07T13:06:00   \n",
       "\n",
       "             monthyear     name outcome_subtype  outcome_type sex_upon_outcome  \n",
       "0  2014-07-22T16:04:00      NaN         Partner          True      Intact Male  \n",
       "1  2013-11-07T11:47:00     Lucy         Partner          True    Spayed Female  \n",
       "2  2014-06-03T14:20:00  *Johnny             NaN         False    Neutered Male  \n",
       "3  2014-06-15T15:50:00   Monday         Partner          True    Neutered Male  \n",
       "5  2013-10-07T13:06:00   *Edgar         Partner          True      Intact Male  "
      ]
     },
     "execution_count": 223,
     "metadata": {},
     "output_type": "execute_result"
    }
   ],
   "source": [
    "pets['outcome_type'] = pets['outcome_type'] == 'Transfer'\n",
    "pets.head()"
   ]
  },
  {
   "cell_type": "markdown",
   "metadata": {},
   "source": [
    "## EDA"
   ]
  },
  {
   "cell_type": "markdown",
   "metadata": {},
   "source": [
    "### age_upon_outcome\n",
    "В колонке age_upon_outcome фактически разница между date_of_birth и datetime,\n",
    "поэтому заменим на эту разницу и приведем значения к дням"
   ]
  },
  {
   "cell_type": "code",
   "execution_count": 224,
   "metadata": {},
   "outputs": [
    {
     "data": {
      "text/html": [
       "<div>\n",
       "<style scoped>\n",
       "    .dataframe tbody tr th:only-of-type {\n",
       "        vertical-align: middle;\n",
       "    }\n",
       "\n",
       "    .dataframe tbody tr th {\n",
       "        vertical-align: top;\n",
       "    }\n",
       "\n",
       "    .dataframe thead th {\n",
       "        text-align: right;\n",
       "    }\n",
       "</style>\n",
       "<table border=\"1\" class=\"dataframe\">\n",
       "  <thead>\n",
       "    <tr style=\"text-align: right;\">\n",
       "      <th></th>\n",
       "      <th>age_upon_outcome</th>\n",
       "      <th>animal_id</th>\n",
       "      <th>animal_type</th>\n",
       "      <th>breed</th>\n",
       "      <th>color</th>\n",
       "      <th>date_of_birth</th>\n",
       "      <th>datetime</th>\n",
       "      <th>monthyear</th>\n",
       "      <th>name</th>\n",
       "      <th>outcome_subtype</th>\n",
       "      <th>outcome_type</th>\n",
       "      <th>sex_upon_outcome</th>\n",
       "    </tr>\n",
       "  </thead>\n",
       "  <tbody>\n",
       "    <tr>\n",
       "      <th>0</th>\n",
       "      <td>15</td>\n",
       "      <td>A684346</td>\n",
       "      <td>Cat</td>\n",
       "      <td>Domestic Shorthair Mix</td>\n",
       "      <td>Orange Tabby</td>\n",
       "      <td>2014-07-07T00:00:00</td>\n",
       "      <td>2014-07-22T16:04:00</td>\n",
       "      <td>2014-07-22T16:04:00</td>\n",
       "      <td>NaN</td>\n",
       "      <td>Partner</td>\n",
       "      <td>True</td>\n",
       "      <td>Intact Male</td>\n",
       "    </tr>\n",
       "    <tr>\n",
       "      <th>1</th>\n",
       "      <td>366</td>\n",
       "      <td>A666430</td>\n",
       "      <td>Dog</td>\n",
       "      <td>Beagle Mix</td>\n",
       "      <td>White/Brown</td>\n",
       "      <td>2012-11-06T00:00:00</td>\n",
       "      <td>2013-11-07T11:47:00</td>\n",
       "      <td>2013-11-07T11:47:00</td>\n",
       "      <td>Lucy</td>\n",
       "      <td>Partner</td>\n",
       "      <td>True</td>\n",
       "      <td>Spayed Female</td>\n",
       "    </tr>\n",
       "    <tr>\n",
       "      <th>2</th>\n",
       "      <td>429</td>\n",
       "      <td>A675708</td>\n",
       "      <td>Dog</td>\n",
       "      <td>Pit Bull</td>\n",
       "      <td>Blue/White</td>\n",
       "      <td>2013-03-31T00:00:00</td>\n",
       "      <td>2014-06-03T14:20:00</td>\n",
       "      <td>2014-06-03T14:20:00</td>\n",
       "      <td>*Johnny</td>\n",
       "      <td>NaN</td>\n",
       "      <td>False</td>\n",
       "      <td>Neutered Male</td>\n",
       "    </tr>\n",
       "    <tr>\n",
       "      <th>3</th>\n",
       "      <td>3300</td>\n",
       "      <td>A680386</td>\n",
       "      <td>Dog</td>\n",
       "      <td>Miniature Schnauzer Mix</td>\n",
       "      <td>White</td>\n",
       "      <td>2005-06-02T00:00:00</td>\n",
       "      <td>2014-06-15T15:50:00</td>\n",
       "      <td>2014-06-15T15:50:00</td>\n",
       "      <td>Monday</td>\n",
       "      <td>Partner</td>\n",
       "      <td>True</td>\n",
       "      <td>Neutered Male</td>\n",
       "    </tr>\n",
       "    <tr>\n",
       "      <th>5</th>\n",
       "      <td>126</td>\n",
       "      <td>A664462</td>\n",
       "      <td>Dog</td>\n",
       "      <td>Leonberger Mix</td>\n",
       "      <td>Brown/White</td>\n",
       "      <td>2013-06-03T00:00:00</td>\n",
       "      <td>2013-10-07T13:06:00</td>\n",
       "      <td>2013-10-07T13:06:00</td>\n",
       "      <td>*Edgar</td>\n",
       "      <td>Partner</td>\n",
       "      <td>True</td>\n",
       "      <td>Intact Male</td>\n",
       "    </tr>\n",
       "  </tbody>\n",
       "</table>\n",
       "</div>"
      ],
      "text/plain": [
       "   age_upon_outcome animal_id animal_type                    breed  \\\n",
       "0                15   A684346         Cat   Domestic Shorthair Mix   \n",
       "1               366   A666430         Dog               Beagle Mix   \n",
       "2               429   A675708         Dog                 Pit Bull   \n",
       "3              3300   A680386         Dog  Miniature Schnauzer Mix   \n",
       "5               126   A664462         Dog           Leonberger Mix   \n",
       "\n",
       "          color        date_of_birth             datetime  \\\n",
       "0  Orange Tabby  2014-07-07T00:00:00  2014-07-22T16:04:00   \n",
       "1   White/Brown  2012-11-06T00:00:00  2013-11-07T11:47:00   \n",
       "2    Blue/White  2013-03-31T00:00:00  2014-06-03T14:20:00   \n",
       "3         White  2005-06-02T00:00:00  2014-06-15T15:50:00   \n",
       "5   Brown/White  2013-06-03T00:00:00  2013-10-07T13:06:00   \n",
       "\n",
       "             monthyear     name outcome_subtype  outcome_type sex_upon_outcome  \n",
       "0  2014-07-22T16:04:00      NaN         Partner          True      Intact Male  \n",
       "1  2013-11-07T11:47:00     Lucy         Partner          True    Spayed Female  \n",
       "2  2014-06-03T14:20:00  *Johnny             NaN         False    Neutered Male  \n",
       "3  2014-06-15T15:50:00   Monday         Partner          True    Neutered Male  \n",
       "5  2013-10-07T13:06:00   *Edgar         Partner          True      Intact Male  "
      ]
     },
     "execution_count": 224,
     "metadata": {},
     "output_type": "execute_result"
    }
   ],
   "source": [
    "pets.age_upon_outcome = (pd.to_datetime(pets.datetime) - pd.to_datetime(pets.date_of_birth)).dt.days\n",
    "pets.head()"
   ]
  },
  {
   "cell_type": "markdown",
   "metadata": {},
   "source": [
    "добавим возраст"
   ]
  },
  {
   "cell_type": "code",
   "execution_count": 225,
   "metadata": {},
   "outputs": [],
   "source": [
    "pets['age'] = (pd.to_datetime(pets.datetime).max() - pd.to_datetime(pets.date_of_birth)).dt.days"
   ]
  },
  {
   "cell_type": "markdown",
   "metadata": {},
   "source": [
    "### animal_id\n",
    "animal_id уникальный id, поэтому удаляем"
   ]
  },
  {
   "cell_type": "code",
   "execution_count": 226,
   "metadata": {},
   "outputs": [
    {
     "data": {
      "text/plain": [
       "(52792, (56611, 13))"
      ]
     },
     "execution_count": 226,
     "metadata": {},
     "output_type": "execute_result"
    }
   ],
   "source": [
    "pets.animal_id.unique().size, pets.shape"
   ]
  },
  {
   "cell_type": "code",
   "execution_count": 227,
   "metadata": {},
   "outputs": [
    {
     "data": {
      "text/html": [
       "<div>\n",
       "<style scoped>\n",
       "    .dataframe tbody tr th:only-of-type {\n",
       "        vertical-align: middle;\n",
       "    }\n",
       "\n",
       "    .dataframe tbody tr th {\n",
       "        vertical-align: top;\n",
       "    }\n",
       "\n",
       "    .dataframe thead th {\n",
       "        text-align: right;\n",
       "    }\n",
       "</style>\n",
       "<table border=\"1\" class=\"dataframe\">\n",
       "  <thead>\n",
       "    <tr style=\"text-align: right;\">\n",
       "      <th></th>\n",
       "      <th>age_upon_outcome</th>\n",
       "      <th>animal_id</th>\n",
       "      <th>animal_type</th>\n",
       "      <th>breed</th>\n",
       "      <th>color</th>\n",
       "      <th>date_of_birth</th>\n",
       "      <th>datetime</th>\n",
       "      <th>monthyear</th>\n",
       "      <th>name</th>\n",
       "      <th>outcome_subtype</th>\n",
       "      <th>outcome_type</th>\n",
       "      <th>sex_upon_outcome</th>\n",
       "      <th>age</th>\n",
       "    </tr>\n",
       "  </thead>\n",
       "  <tbody>\n",
       "    <tr>\n",
       "      <th>78175</th>\n",
       "      <td>937</td>\n",
       "      <td>A711587</td>\n",
       "      <td>Cat</td>\n",
       "      <td>Domestic Shorthair Mix</td>\n",
       "      <td>Black</td>\n",
       "      <td>2015-07-09T00:00:00</td>\n",
       "      <td>2018-01-31T14:53:00</td>\n",
       "      <td>2018-01-31T14:53:00</td>\n",
       "      <td>*Yolanda</td>\n",
       "      <td>NaN</td>\n",
       "      <td>False</td>\n",
       "      <td>Spayed Female</td>\n",
       "      <td>938</td>\n",
       "    </tr>\n",
       "    <tr>\n",
       "      <th>78186</th>\n",
       "      <td>3792</td>\n",
       "      <td>A758320</td>\n",
       "      <td>Cat</td>\n",
       "      <td>Domestic Shorthair Mix</td>\n",
       "      <td>Blue Tabby</td>\n",
       "      <td>2007-09-14T00:00:00</td>\n",
       "      <td>2018-01-31T00:00:00</td>\n",
       "      <td>2018-01-31T00:00:00</td>\n",
       "      <td>Sophie</td>\n",
       "      <td>Partner</td>\n",
       "      <td>True</td>\n",
       "      <td>Spayed Female</td>\n",
       "      <td>3793</td>\n",
       "    </tr>\n",
       "    <tr>\n",
       "      <th>78190</th>\n",
       "      <td>4080</td>\n",
       "      <td>A762931</td>\n",
       "      <td>Cat</td>\n",
       "      <td>Domestic Shorthair Mix</td>\n",
       "      <td>Blue Tabby/White</td>\n",
       "      <td>2006-11-30T00:00:00</td>\n",
       "      <td>2018-01-31T16:51:00</td>\n",
       "      <td>2018-01-31T16:51:00</td>\n",
       "      <td>Mia</td>\n",
       "      <td>NaN</td>\n",
       "      <td>False</td>\n",
       "      <td>Spayed Female</td>\n",
       "      <td>4081</td>\n",
       "    </tr>\n",
       "    <tr>\n",
       "      <th>78192</th>\n",
       "      <td>831</td>\n",
       "      <td>A760749</td>\n",
       "      <td>Dog</td>\n",
       "      <td>Siberian Husky</td>\n",
       "      <td>Red/White</td>\n",
       "      <td>2015-10-23T00:00:00</td>\n",
       "      <td>2018-01-31T18:43:00</td>\n",
       "      <td>2018-01-31T18:43:00</td>\n",
       "      <td>Jonathan</td>\n",
       "      <td>NaN</td>\n",
       "      <td>False</td>\n",
       "      <td>Neutered Male</td>\n",
       "      <td>832</td>\n",
       "    </tr>\n",
       "    <tr>\n",
       "      <th>78227</th>\n",
       "      <td>771</td>\n",
       "      <td>A756164</td>\n",
       "      <td>Dog</td>\n",
       "      <td>Akbash Mix</td>\n",
       "      <td>White</td>\n",
       "      <td>2015-08-15T00:00:00</td>\n",
       "      <td>2017-09-24T13:04:00</td>\n",
       "      <td>2017-09-24T13:04:00</td>\n",
       "      <td>Baby</td>\n",
       "      <td>NaN</td>\n",
       "      <td>False</td>\n",
       "      <td>Neutered Male</td>\n",
       "      <td>901</td>\n",
       "    </tr>\n",
       "  </tbody>\n",
       "</table>\n",
       "</div>"
      ],
      "text/plain": [
       "       age_upon_outcome animal_id animal_type                   breed  \\\n",
       "78175               937   A711587         Cat  Domestic Shorthair Mix   \n",
       "78186              3792   A758320         Cat  Domestic Shorthair Mix   \n",
       "78190              4080   A762931         Cat  Domestic Shorthair Mix   \n",
       "78192               831   A760749         Dog          Siberian Husky   \n",
       "78227               771   A756164         Dog              Akbash Mix   \n",
       "\n",
       "                  color        date_of_birth             datetime  \\\n",
       "78175             Black  2015-07-09T00:00:00  2018-01-31T14:53:00   \n",
       "78186        Blue Tabby  2007-09-14T00:00:00  2018-01-31T00:00:00   \n",
       "78190  Blue Tabby/White  2006-11-30T00:00:00  2018-01-31T16:51:00   \n",
       "78192         Red/White  2015-10-23T00:00:00  2018-01-31T18:43:00   \n",
       "78227             White  2015-08-15T00:00:00  2017-09-24T13:04:00   \n",
       "\n",
       "                 monthyear      name outcome_subtype  outcome_type  \\\n",
       "78175  2018-01-31T14:53:00  *Yolanda             NaN         False   \n",
       "78186  2018-01-31T00:00:00    Sophie         Partner          True   \n",
       "78190  2018-01-31T16:51:00       Mia             NaN         False   \n",
       "78192  2018-01-31T18:43:00  Jonathan             NaN         False   \n",
       "78227  2017-09-24T13:04:00      Baby             NaN         False   \n",
       "\n",
       "      sex_upon_outcome   age  \n",
       "78175    Spayed Female   938  \n",
       "78186    Spayed Female  3793  \n",
       "78190    Spayed Female  4081  \n",
       "78192    Neutered Male   832  \n",
       "78227    Neutered Male   901  "
      ]
     },
     "execution_count": 227,
     "metadata": {},
     "output_type": "execute_result"
    }
   ],
   "source": [
    "pets[pets.animal_id.duplicated()].tail()"
   ]
  },
  {
   "cell_type": "code",
   "execution_count": 228,
   "metadata": {},
   "outputs": [
    {
     "data": {
      "text/html": [
       "<div>\n",
       "<style scoped>\n",
       "    .dataframe tbody tr th:only-of-type {\n",
       "        vertical-align: middle;\n",
       "    }\n",
       "\n",
       "    .dataframe tbody tr th {\n",
       "        vertical-align: top;\n",
       "    }\n",
       "\n",
       "    .dataframe thead th {\n",
       "        text-align: right;\n",
       "    }\n",
       "</style>\n",
       "<table border=\"1\" class=\"dataframe\">\n",
       "  <thead>\n",
       "    <tr style=\"text-align: right;\">\n",
       "      <th></th>\n",
       "      <th>age_upon_outcome</th>\n",
       "      <th>animal_id</th>\n",
       "      <th>animal_type</th>\n",
       "      <th>breed</th>\n",
       "      <th>color</th>\n",
       "      <th>date_of_birth</th>\n",
       "      <th>datetime</th>\n",
       "      <th>monthyear</th>\n",
       "      <th>name</th>\n",
       "      <th>outcome_subtype</th>\n",
       "      <th>outcome_type</th>\n",
       "      <th>sex_upon_outcome</th>\n",
       "      <th>age</th>\n",
       "    </tr>\n",
       "  </thead>\n",
       "  <tbody>\n",
       "    <tr>\n",
       "      <th>38982</th>\n",
       "      <td>764</td>\n",
       "      <td>A760749</td>\n",
       "      <td>Dog</td>\n",
       "      <td>Siberian Husky</td>\n",
       "      <td>Red/White</td>\n",
       "      <td>2015-10-23T00:00:00</td>\n",
       "      <td>2017-11-25T13:21:00</td>\n",
       "      <td>2017-11-25T13:21:00</td>\n",
       "      <td>Jonathan</td>\n",
       "      <td>NaN</td>\n",
       "      <td>False</td>\n",
       "      <td>Neutered Male</td>\n",
       "      <td>832</td>\n",
       "    </tr>\n",
       "    <tr>\n",
       "      <th>48553</th>\n",
       "      <td>783</td>\n",
       "      <td>A760749</td>\n",
       "      <td>Dog</td>\n",
       "      <td>Siberian Husky</td>\n",
       "      <td>Red/White</td>\n",
       "      <td>2015-10-23T00:00:00</td>\n",
       "      <td>2017-12-14T14:04:00</td>\n",
       "      <td>2017-12-14T14:04:00</td>\n",
       "      <td>Jonathan</td>\n",
       "      <td>NaN</td>\n",
       "      <td>False</td>\n",
       "      <td>Neutered Male</td>\n",
       "      <td>832</td>\n",
       "    </tr>\n",
       "    <tr>\n",
       "      <th>78192</th>\n",
       "      <td>831</td>\n",
       "      <td>A760749</td>\n",
       "      <td>Dog</td>\n",
       "      <td>Siberian Husky</td>\n",
       "      <td>Red/White</td>\n",
       "      <td>2015-10-23T00:00:00</td>\n",
       "      <td>2018-01-31T18:43:00</td>\n",
       "      <td>2018-01-31T18:43:00</td>\n",
       "      <td>Jonathan</td>\n",
       "      <td>NaN</td>\n",
       "      <td>False</td>\n",
       "      <td>Neutered Male</td>\n",
       "      <td>832</td>\n",
       "    </tr>\n",
       "  </tbody>\n",
       "</table>\n",
       "</div>"
      ],
      "text/plain": [
       "       age_upon_outcome animal_id animal_type           breed      color  \\\n",
       "38982               764   A760749         Dog  Siberian Husky  Red/White   \n",
       "48553               783   A760749         Dog  Siberian Husky  Red/White   \n",
       "78192               831   A760749         Dog  Siberian Husky  Red/White   \n",
       "\n",
       "             date_of_birth             datetime            monthyear  \\\n",
       "38982  2015-10-23T00:00:00  2017-11-25T13:21:00  2017-11-25T13:21:00   \n",
       "48553  2015-10-23T00:00:00  2017-12-14T14:04:00  2017-12-14T14:04:00   \n",
       "78192  2015-10-23T00:00:00  2018-01-31T18:43:00  2018-01-31T18:43:00   \n",
       "\n",
       "           name outcome_subtype  outcome_type sex_upon_outcome  age  \n",
       "38982  Jonathan             NaN         False    Neutered Male  832  \n",
       "48553  Jonathan             NaN         False    Neutered Male  832  \n",
       "78192  Jonathan             NaN         False    Neutered Male  832  "
      ]
     },
     "execution_count": 228,
     "metadata": {},
     "output_type": "execute_result"
    }
   ],
   "source": [
    "pets[pets.animal_id == 'A760749']"
   ]
  },
  {
   "cell_type": "markdown",
   "metadata": {},
   "source": [
    "Дубликаты на этом этапе удаляю, возможно тут есть какая-то дополнительная информация,\n",
    "\n",
    "поэтому создаю новый признак - был ли дубликат"
   ]
  },
  {
   "cell_type": "code",
   "execution_count": 229,
   "metadata": {},
   "outputs": [
    {
     "data": {
      "text/plain": [
       "(3819,\n",
       " array(['A622128', 'A686467', 'A676170', ..., 'A762931', 'A760749',\n",
       "        'A756164'], dtype=object))"
      ]
     },
     "execution_count": 229,
     "metadata": {},
     "output_type": "execute_result"
    }
   ],
   "source": [
    "dub = pets.animal_id[pets.animal_id.duplicated()].values\n",
    "dub.size, dub"
   ]
  },
  {
   "cell_type": "code",
   "execution_count": 230,
   "metadata": {},
   "outputs": [],
   "source": [
    "pets.drop_duplicates(subset=['animal_id'], inplace=True)"
   ]
  },
  {
   "cell_type": "code",
   "execution_count": 231,
   "metadata": {},
   "outputs": [
    {
     "data": {
      "text/html": [
       "<div>\n",
       "<style scoped>\n",
       "    .dataframe tbody tr th:only-of-type {\n",
       "        vertical-align: middle;\n",
       "    }\n",
       "\n",
       "    .dataframe tbody tr th {\n",
       "        vertical-align: top;\n",
       "    }\n",
       "\n",
       "    .dataframe thead th {\n",
       "        text-align: right;\n",
       "    }\n",
       "</style>\n",
       "<table border=\"1\" class=\"dataframe\">\n",
       "  <thead>\n",
       "    <tr style=\"text-align: right;\">\n",
       "      <th></th>\n",
       "      <th>age_upon_outcome</th>\n",
       "      <th>animal_id</th>\n",
       "      <th>animal_type</th>\n",
       "      <th>breed</th>\n",
       "      <th>color</th>\n",
       "      <th>date_of_birth</th>\n",
       "      <th>datetime</th>\n",
       "      <th>monthyear</th>\n",
       "      <th>name</th>\n",
       "      <th>outcome_subtype</th>\n",
       "      <th>outcome_type</th>\n",
       "      <th>sex_upon_outcome</th>\n",
       "      <th>age</th>\n",
       "      <th>duplicated</th>\n",
       "    </tr>\n",
       "  </thead>\n",
       "  <tbody>\n",
       "    <tr>\n",
       "      <th>0</th>\n",
       "      <td>15</td>\n",
       "      <td>A684346</td>\n",
       "      <td>Cat</td>\n",
       "      <td>Domestic Shorthair Mix</td>\n",
       "      <td>Orange Tabby</td>\n",
       "      <td>2014-07-07T00:00:00</td>\n",
       "      <td>2014-07-22T16:04:00</td>\n",
       "      <td>2014-07-22T16:04:00</td>\n",
       "      <td>NaN</td>\n",
       "      <td>Partner</td>\n",
       "      <td>True</td>\n",
       "      <td>Intact Male</td>\n",
       "      <td>1305</td>\n",
       "      <td>False</td>\n",
       "    </tr>\n",
       "    <tr>\n",
       "      <th>1</th>\n",
       "      <td>366</td>\n",
       "      <td>A666430</td>\n",
       "      <td>Dog</td>\n",
       "      <td>Beagle Mix</td>\n",
       "      <td>White/Brown</td>\n",
       "      <td>2012-11-06T00:00:00</td>\n",
       "      <td>2013-11-07T11:47:00</td>\n",
       "      <td>2013-11-07T11:47:00</td>\n",
       "      <td>Lucy</td>\n",
       "      <td>Partner</td>\n",
       "      <td>True</td>\n",
       "      <td>Spayed Female</td>\n",
       "      <td>1913</td>\n",
       "      <td>False</td>\n",
       "    </tr>\n",
       "    <tr>\n",
       "      <th>2</th>\n",
       "      <td>429</td>\n",
       "      <td>A675708</td>\n",
       "      <td>Dog</td>\n",
       "      <td>Pit Bull</td>\n",
       "      <td>Blue/White</td>\n",
       "      <td>2013-03-31T00:00:00</td>\n",
       "      <td>2014-06-03T14:20:00</td>\n",
       "      <td>2014-06-03T14:20:00</td>\n",
       "      <td>*Johnny</td>\n",
       "      <td>NaN</td>\n",
       "      <td>False</td>\n",
       "      <td>Neutered Male</td>\n",
       "      <td>1768</td>\n",
       "      <td>False</td>\n",
       "    </tr>\n",
       "    <tr>\n",
       "      <th>3</th>\n",
       "      <td>3300</td>\n",
       "      <td>A680386</td>\n",
       "      <td>Dog</td>\n",
       "      <td>Miniature Schnauzer Mix</td>\n",
       "      <td>White</td>\n",
       "      <td>2005-06-02T00:00:00</td>\n",
       "      <td>2014-06-15T15:50:00</td>\n",
       "      <td>2014-06-15T15:50:00</td>\n",
       "      <td>Monday</td>\n",
       "      <td>Partner</td>\n",
       "      <td>True</td>\n",
       "      <td>Neutered Male</td>\n",
       "      <td>4627</td>\n",
       "      <td>False</td>\n",
       "    </tr>\n",
       "    <tr>\n",
       "      <th>5</th>\n",
       "      <td>126</td>\n",
       "      <td>A664462</td>\n",
       "      <td>Dog</td>\n",
       "      <td>Leonberger Mix</td>\n",
       "      <td>Brown/White</td>\n",
       "      <td>2013-06-03T00:00:00</td>\n",
       "      <td>2013-10-07T13:06:00</td>\n",
       "      <td>2013-10-07T13:06:00</td>\n",
       "      <td>*Edgar</td>\n",
       "      <td>Partner</td>\n",
       "      <td>True</td>\n",
       "      <td>Intact Male</td>\n",
       "      <td>1704</td>\n",
       "      <td>False</td>\n",
       "    </tr>\n",
       "    <tr>\n",
       "      <th>...</th>\n",
       "      <td>...</td>\n",
       "      <td>...</td>\n",
       "      <td>...</td>\n",
       "      <td>...</td>\n",
       "      <td>...</td>\n",
       "      <td>...</td>\n",
       "      <td>...</td>\n",
       "      <td>...</td>\n",
       "      <td>...</td>\n",
       "      <td>...</td>\n",
       "      <td>...</td>\n",
       "      <td>...</td>\n",
       "      <td>...</td>\n",
       "      <td>...</td>\n",
       "    </tr>\n",
       "    <tr>\n",
       "      <th>78250</th>\n",
       "      <td>59</td>\n",
       "      <td>A764895</td>\n",
       "      <td>Dog</td>\n",
       "      <td>Golden Retriever/Labrador Retriever</td>\n",
       "      <td>Brown/White</td>\n",
       "      <td>2017-12-04T00:00:00</td>\n",
       "      <td>2018-02-01T18:40:00</td>\n",
       "      <td>2018-02-01T18:40:00</td>\n",
       "      <td>NaN</td>\n",
       "      <td>Foster</td>\n",
       "      <td>False</td>\n",
       "      <td>Neutered Male</td>\n",
       "      <td>59</td>\n",
       "      <td>False</td>\n",
       "    </tr>\n",
       "    <tr>\n",
       "      <th>78251</th>\n",
       "      <td>59</td>\n",
       "      <td>A764894</td>\n",
       "      <td>Dog</td>\n",
       "      <td>Golden Retriever/Labrador Retriever</td>\n",
       "      <td>Brown/White</td>\n",
       "      <td>2017-12-04T00:00:00</td>\n",
       "      <td>2018-02-01T18:26:00</td>\n",
       "      <td>2018-02-01T18:26:00</td>\n",
       "      <td>NaN</td>\n",
       "      <td>Foster</td>\n",
       "      <td>False</td>\n",
       "      <td>Spayed Female</td>\n",
       "      <td>59</td>\n",
       "      <td>False</td>\n",
       "    </tr>\n",
       "    <tr>\n",
       "      <th>78252</th>\n",
       "      <td>1129</td>\n",
       "      <td>A764468</td>\n",
       "      <td>Dog</td>\n",
       "      <td>Mastiff Mix</td>\n",
       "      <td>Blue/White</td>\n",
       "      <td>2014-12-30T00:00:00</td>\n",
       "      <td>2018-02-01T18:06:00</td>\n",
       "      <td>2018-02-01T18:06:00</td>\n",
       "      <td>Max</td>\n",
       "      <td>NaN</td>\n",
       "      <td>False</td>\n",
       "      <td>Neutered Male</td>\n",
       "      <td>1129</td>\n",
       "      <td>False</td>\n",
       "    </tr>\n",
       "    <tr>\n",
       "      <th>78254</th>\n",
       "      <td>80</td>\n",
       "      <td>A765858</td>\n",
       "      <td>Dog</td>\n",
       "      <td>Standard Schnauzer</td>\n",
       "      <td>Red</td>\n",
       "      <td>2017-11-13T00:00:00</td>\n",
       "      <td>2018-02-01T18:32:00</td>\n",
       "      <td>2018-02-01T18:32:00</td>\n",
       "      <td>NaN</td>\n",
       "      <td>NaN</td>\n",
       "      <td>False</td>\n",
       "      <td>Spayed Female</td>\n",
       "      <td>80</td>\n",
       "      <td>False</td>\n",
       "    </tr>\n",
       "    <tr>\n",
       "      <th>78255</th>\n",
       "      <td>80</td>\n",
       "      <td>A765857</td>\n",
       "      <td>Dog</td>\n",
       "      <td>Labrador Retriever Mix</td>\n",
       "      <td>White/Brown</td>\n",
       "      <td>2017-11-13T00:00:00</td>\n",
       "      <td>2018-02-01T18:44:00</td>\n",
       "      <td>2018-02-01T18:44:00</td>\n",
       "      <td>NaN</td>\n",
       "      <td>NaN</td>\n",
       "      <td>False</td>\n",
       "      <td>Neutered Male</td>\n",
       "      <td>80</td>\n",
       "      <td>False</td>\n",
       "    </tr>\n",
       "  </tbody>\n",
       "</table>\n",
       "<p>52792 rows × 14 columns</p>\n",
       "</div>"
      ],
      "text/plain": [
       "       age_upon_outcome animal_id animal_type  \\\n",
       "0                    15   A684346         Cat   \n",
       "1                   366   A666430         Dog   \n",
       "2                   429   A675708         Dog   \n",
       "3                  3300   A680386         Dog   \n",
       "5                   126   A664462         Dog   \n",
       "...                 ...       ...         ...   \n",
       "78250                59   A764895         Dog   \n",
       "78251                59   A764894         Dog   \n",
       "78252              1129   A764468         Dog   \n",
       "78254                80   A765858         Dog   \n",
       "78255                80   A765857         Dog   \n",
       "\n",
       "                                     breed         color        date_of_birth  \\\n",
       "0                   Domestic Shorthair Mix  Orange Tabby  2014-07-07T00:00:00   \n",
       "1                               Beagle Mix   White/Brown  2012-11-06T00:00:00   \n",
       "2                                 Pit Bull    Blue/White  2013-03-31T00:00:00   \n",
       "3                  Miniature Schnauzer Mix         White  2005-06-02T00:00:00   \n",
       "5                           Leonberger Mix   Brown/White  2013-06-03T00:00:00   \n",
       "...                                    ...           ...                  ...   \n",
       "78250  Golden Retriever/Labrador Retriever   Brown/White  2017-12-04T00:00:00   \n",
       "78251  Golden Retriever/Labrador Retriever   Brown/White  2017-12-04T00:00:00   \n",
       "78252                          Mastiff Mix    Blue/White  2014-12-30T00:00:00   \n",
       "78254                   Standard Schnauzer           Red  2017-11-13T00:00:00   \n",
       "78255               Labrador Retriever Mix   White/Brown  2017-11-13T00:00:00   \n",
       "\n",
       "                  datetime            monthyear     name outcome_subtype  \\\n",
       "0      2014-07-22T16:04:00  2014-07-22T16:04:00      NaN         Partner   \n",
       "1      2013-11-07T11:47:00  2013-11-07T11:47:00     Lucy         Partner   \n",
       "2      2014-06-03T14:20:00  2014-06-03T14:20:00  *Johnny             NaN   \n",
       "3      2014-06-15T15:50:00  2014-06-15T15:50:00   Monday         Partner   \n",
       "5      2013-10-07T13:06:00  2013-10-07T13:06:00   *Edgar         Partner   \n",
       "...                    ...                  ...      ...             ...   \n",
       "78250  2018-02-01T18:40:00  2018-02-01T18:40:00      NaN          Foster   \n",
       "78251  2018-02-01T18:26:00  2018-02-01T18:26:00      NaN          Foster   \n",
       "78252  2018-02-01T18:06:00  2018-02-01T18:06:00      Max             NaN   \n",
       "78254  2018-02-01T18:32:00  2018-02-01T18:32:00      NaN             NaN   \n",
       "78255  2018-02-01T18:44:00  2018-02-01T18:44:00      NaN             NaN   \n",
       "\n",
       "       outcome_type sex_upon_outcome   age  duplicated  \n",
       "0              True      Intact Male  1305       False  \n",
       "1              True    Spayed Female  1913       False  \n",
       "2             False    Neutered Male  1768       False  \n",
       "3              True    Neutered Male  4627       False  \n",
       "5              True      Intact Male  1704       False  \n",
       "...             ...              ...   ...         ...  \n",
       "78250         False    Neutered Male    59       False  \n",
       "78251         False    Spayed Female    59       False  \n",
       "78252         False    Neutered Male  1129       False  \n",
       "78254         False    Spayed Female    80       False  \n",
       "78255         False    Neutered Male    80       False  \n",
       "\n",
       "[52792 rows x 14 columns]"
      ]
     },
     "execution_count": 231,
     "metadata": {},
     "output_type": "execute_result"
    }
   ],
   "source": [
    "pets['duplicated'] = pets.animal_id.isin(dub)\n",
    "pets"
   ]
  },
  {
   "cell_type": "code",
   "execution_count": 232,
   "metadata": {},
   "outputs": [
    {
     "name": "stderr",
     "output_type": "stream",
     "text": [
      "<string>:6: RuntimeWarning: Converting input from bool to <class 'numpy.uint8'> for compatibility.\n",
      "<string>:6: RuntimeWarning: Converting input from bool to <class 'numpy.uint8'> for compatibility.\n"
     ]
    },
    {
     "data": {
      "image/png": "[encoded data removed]",
      "text/plain": [
       "<Figure size 432x288 with 1 Axes>"
      ]
     },
     "metadata": {
      "needs_background": "light"
     },
     "output_type": "display_data"
    }
   ],
   "source": [
    "sns.histplot(pets['duplicated']);"
   ]
  },
  {
   "cell_type": "markdown",
   "metadata": {},
   "source": [
    "### name\n",
    "\n",
    "Добавляем признак есть ли имя\n",
    "is_name"
   ]
  },
  {
   "cell_type": "code",
   "execution_count": 233,
   "metadata": {},
   "outputs": [],
   "source": [
    "pets['is_name'] = pets.name.isna()"
   ]
  },
  {
   "cell_type": "markdown",
   "metadata": {},
   "source": [
    "### outcome_subtype"
   ]
  },
  {
   "cell_type": "code",
   "execution_count": 234,
   "metadata": {},
   "outputs": [],
   "source": [
    "pets.outcome_subtype.fillna('NN', inplace=True)"
   ]
  },
  {
   "cell_type": "code",
   "execution_count": 235,
   "metadata": {},
   "outputs": [
    {
     "data": {
      "text/plain": [
       "NN         24323\n",
       "Partner    19101\n",
       "Foster      5305\n",
       "SCRP        3110\n",
       "Snr          613\n",
       "Offsite      337\n",
       "Barn           3\n",
       "Name: outcome_subtype, dtype: int64"
      ]
     },
     "execution_count": 235,
     "metadata": {},
     "output_type": "execute_result"
    }
   ],
   "source": [
    "pets.outcome_subtype.value_counts()"
   ]
  },
  {
   "cell_type": "code",
   "execution_count": 236,
   "metadata": {},
   "outputs": [],
   "source": [
    "pets = pets.join(pd.get_dummies(pets.outcome_subtype))"
   ]
  },
  {
   "cell_type": "markdown",
   "metadata": {},
   "source": [
    "### animal_type"
   ]
  },
  {
   "cell_type": "code",
   "execution_count": 237,
   "metadata": {},
   "outputs": [],
   "source": [
    "pets = pets.join(pd.get_dummies(pets.animal_type))"
   ]
  },
  {
   "cell_type": "markdown",
   "metadata": {},
   "source": [
    "### sex_upon_outcome"
   ]
  },
  {
   "cell_type": "code",
   "execution_count": 238,
   "metadata": {},
   "outputs": [],
   "source": [
    "pets = pets.join(pd.get_dummies(pets.sex_upon_outcome))"
   ]
  },
  {
   "cell_type": "markdown",
   "metadata": {},
   "source": [
    "### colors\n",
    "\n",
    "определяем количество уникальных цветов, \n",
    "\n",
    "кодируем описание цветов в one hot"
   ]
  },
  {
   "cell_type": "code",
   "execution_count": 239,
   "metadata": {},
   "outputs": [
    {
     "data": {
      "text/plain": [
       "Black/White            5649\n",
       "Black                  4914\n",
       "Brown Tabby            3846\n",
       "Brown Tabby/White      1978\n",
       "Orange Tabby           1839\n",
       "                       ... \n",
       "Brown/Orange              1\n",
       "Black Tiger/White         1\n",
       "White/Green               1\n",
       "Torbie/Silver Tabby       1\n",
       "Silver Tabby/Black        1\n",
       "Name: color, Length: 475, dtype: int64"
      ]
     },
     "execution_count": 239,
     "metadata": {},
     "output_type": "execute_result"
    }
   ],
   "source": [
    "pets.color.value_counts()"
   ]
  },
  {
   "cell_type": "code",
   "execution_count": 240,
   "metadata": {},
   "outputs": [
    {
     "data": {
      "text/plain": [
       "(37,\n",
       " {'Agouti',\n",
       "  'Apricot',\n",
       "  'Black',\n",
       "  'Blue',\n",
       "  'Brindle',\n",
       "  'Brown',\n",
       "  'Buff',\n",
       "  'Calico',\n",
       "  'Chocolate',\n",
       "  'Cream',\n",
       "  'Fawn',\n",
       "  'Flame',\n",
       "  'Gold',\n",
       "  'Gray',\n",
       "  'Green',\n",
       "  'Lilac',\n",
       "  'Liver',\n",
       "  'Lynx',\n",
       "  'Merle',\n",
       "  'Orange',\n",
       "  'Pink',\n",
       "  'Point',\n",
       "  'Red',\n",
       "  'Ruddy',\n",
       "  'Sable',\n",
       "  'Seal',\n",
       "  'Silver',\n",
       "  'Smoke',\n",
       "  'Tabby',\n",
       "  'Tan',\n",
       "  'Tick',\n",
       "  'Tiger',\n",
       "  'Torbie',\n",
       "  'Tortie',\n",
       "  'Tricolor',\n",
       "  'White',\n",
       "  'Yellow'})"
      ]
     },
     "execution_count": 240,
     "metadata": {},
     "output_type": "execute_result"
    }
   ],
   "source": [
    "regexp = r'[^\\w\\s]+|[\\d]'\n",
    "colors = set((pets.color.str.replace(regexp, ' ').str.split().values).sum())\n",
    "len(colors), colors"
   ]
  },
  {
   "cell_type": "code",
   "execution_count": 241,
   "metadata": {},
   "outputs": [],
   "source": [
    "pets.color = pets.color.str.replace(regexp, ' ').str.split()"
   ]
  },
  {
   "cell_type": "code",
   "execution_count": 244,
   "metadata": {},
   "outputs": [],
   "source": [
    "def find_color(row, color):\n",
    "    return color in row\n",
    "\n",
    "for color in colors:\n",
    "    pets[color] = pets.color.apply(find_color, color=color)"
   ]
  },
  {
   "cell_type": "markdown",
   "metadata": {},
   "source": [
    "### breeds\n",
    "новый признак - смешанная порода"
   ]
  },
  {
   "cell_type": "code",
   "execution_count": 259,
   "metadata": {},
   "outputs": [],
   "source": [
    "pets['is_mix'] = pets.breed.str.contains('Mix')"
   ]
  },
  {
   "cell_type": "markdown",
   "metadata": {},
   "source": [
    "Признаки для дальнейшего анализа и моделирования"
   ]
  },
  {
   "cell_type": "code",
   "execution_count": 264,
   "metadata": {
    "scrolled": true
   },
   "outputs": [],
   "source": [
    "col = ['age_upon_outcome',\n",
    "       'age', 'duplicated', 'is_name',\n",
    "       'Barn', 'Foster', 'NN', 'Offsite', 'Partner', 'SCRP', 'Snr', 'Bird',\n",
    "       'Cat', 'Dog', 'Livestock', 'Other', 'Intact Female', 'Intact Male',\n",
    "       'Neutered Male', 'Spayed Female', 'Unknown', 'Point', 'Liver', 'Tick',\n",
    "       'Pink', 'Silver', 'Ruddy', 'Black', 'Tiger', 'Calico', 'Brindle',\n",
    "       'Apricot', 'Buff', 'White', 'Brown', 'Merle', 'Flame', 'Gold', 'Blue',\n",
    "       'Smoke', 'Lynx', 'Lilac', 'Green', 'Red', 'Fawn', 'Sable', 'Gray',\n",
    "       'Tortie', 'Tricolor', 'Agouti', 'Tabby', 'Seal', 'Orange', 'Cream',\n",
    "       'Chocolate', 'Tan', 'Yellow', 'Torbie', 'is_mix']"
   ]
  },
  {
   "cell_type": "code",
   "execution_count": 265,
   "metadata": {},
   "outputs": [
    {
     "data": {
      "text/plain": [
       "((52792, 59), (52792,))"
      ]
     },
     "execution_count": 265,
     "metadata": {},
     "output_type": "execute_result"
    }
   ],
   "source": [
    "y = pets.outcome_type\n",
    "X = pets[col]\n",
    "X.shape, y. shape"
   ]
  },
  {
   "cell_type": "code",
   "execution_count": 324,
   "metadata": {},
   "outputs": [
    {
     "data": {
      "text/plain": [
       "['NN',\n",
       " 'Partner',\n",
       " 'age_upon_outcome',\n",
       " 'Foster',\n",
       " 'is_name',\n",
       " 'Intact Male',\n",
       " 'Intact Female',\n",
       " 'SCRP',\n",
       " 'Spayed Female',\n",
       " 'Unknown',\n",
       " 'Neutered Male',\n",
       " 'Cat',\n",
       " 'Dog',\n",
       " 'Snr',\n",
       " 'duplicated',\n",
       " 'age',\n",
       " 'Offsite',\n",
       " 'Tabby',\n",
       " 'Tan',\n",
       " 'is_mix',\n",
       " 'outcome_type']"
      ]
     },
     "execution_count": 324,
     "metadata": {},
     "output_type": "execute_result"
    }
   ],
   "source": [
    "# Выберем некоторыe признаки\n",
    "spoier_features = ['NN', 'Partner', 'age_upon_outcome', 'Foster', 'is_name', 'Intact Male',\n",
    "       'Intact Female', 'SCRP', 'Spayed Female', 'Unknown', 'Neutered Male',\n",
    "       'Cat', 'Dog', 'Snr', 'duplicated', 'age', 'Offsite', 'Tabby', 'Tan',\n",
    "       'is_mix']\n",
    "spoier_features.append('outcome_type')\n",
    "spoier_features"
   ]
  },
  {
   "cell_type": "code",
   "execution_count": null,
   "metadata": {},
   "outputs": [],
   "source": [
    "plt.figure(figsize=(15,15))\n",
    "sns.pairplot(pets[spoier_features], corner=True, hue='outcome_type');"
   ]
  },
  {
   "cell_type": "code",
   "execution_count": 326,
   "metadata": {},
   "outputs": [
    {
     "data": {
      "image/png": "[encoded data removed]",
      "text/plain": [
       "<Figure size 1800x1800 with 2 Axes>"
      ]
     },
     "metadata": {
      "needs_background": "light"
     },
     "output_type": "display_data"
    }
   ],
   "source": [
    "plt.figure(figsize=(25,25))\n",
    "sns.heatmap(pets[spoier_features].corr(), annot=True, center=0, cmap= 'coolwarm');"
   ]
  },
  {
   "cell_type": "code",
   "execution_count": 291,
   "metadata": {},
   "outputs": [
    {
     "data": {
      "text/plain": [
       "NN              -0.806720\n",
       "Spayed Female   -0.314673\n",
       "Neutered Male   -0.291979\n",
       "Foster          -0.291713\n",
       "Dog             -0.188118\n",
       "duplicated      -0.147130\n",
       "Offsite         -0.069956\n",
       "Tan             -0.065783\n",
       "White           -0.050229\n",
       "Brindle         -0.044405\n",
       "Name: outcome_type, dtype: float64"
      ]
     },
     "execution_count": 291,
     "metadata": {},
     "output_type": "execute_result"
    }
   ],
   "source": [
    "# Все признаки\n",
    "pets[col + ['outcome_type']].corr()['outcome_type'].sort_values()[:10]"
   ]
  },
  {
   "cell_type": "markdown",
   "metadata": {},
   "source": [
    "Самые высокоскореллированые признаки  - это производные от outcome_subtype  и sex_upon_outcome\n",
    "\n",
    "NN - Признак отсутствия значений в outcome_subtype"
   ]
  },
  {
   "cell_type": "code",
   "execution_count": 267,
   "metadata": {},
   "outputs": [],
   "source": [
    "X_train, X_test, y_train, y_test = train_test_split(X, y, test_size=0.3, random_state=42)"
   ]
  },
  {
   "cell_type": "markdown",
   "metadata": {},
   "source": [
    "## Model"
   ]
  },
  {
   "cell_type": "code",
   "execution_count": 293,
   "metadata": {},
   "outputs": [
    {
     "data": {
      "text/plain": [
       "1.0"
      ]
     },
     "execution_count": 293,
     "metadata": {},
     "output_type": "execute_result"
    }
   ],
   "source": [
    "clf = RandomForestClassifier(max_depth=5, random_state=42)\n",
    "clf.fit(X_train, y_train)\n",
    "clf.score(X_test, y_test)\n"
   ]
  },
  {
   "cell_type": "code",
   "execution_count": 318,
   "metadata": {},
   "outputs": [
    {
     "data": {
      "text/plain": [
       "0.9998917602489513"
      ]
     },
     "execution_count": 318,
     "metadata": {},
     "output_type": "execute_result"
    }
   ],
   "source": [
    "cross_val_score(clf, X_train, y_train).mean()"
   ]
  },
  {
   "cell_type": "code",
   "execution_count": 304,
   "metadata": {},
   "outputs": [
    {
     "data": {
      "text/html": [
       "<div>\n",
       "<style scoped>\n",
       "    .dataframe tbody tr th:only-of-type {\n",
       "        vertical-align: middle;\n",
       "    }\n",
       "\n",
       "    .dataframe tbody tr th {\n",
       "        vertical-align: top;\n",
       "    }\n",
       "\n",
       "    .dataframe thead th {\n",
       "        text-align: right;\n",
       "    }\n",
       "</style>\n",
       "<table border=\"1\" class=\"dataframe\">\n",
       "  <thead>\n",
       "    <tr style=\"text-align: right;\">\n",
       "      <th></th>\n",
       "      <th>importances</th>\n",
       "    </tr>\n",
       "  </thead>\n",
       "  <tbody>\n",
       "    <tr>\n",
       "      <th>NN</th>\n",
       "      <td>0.316756</td>\n",
       "    </tr>\n",
       "    <tr>\n",
       "      <th>Partner</th>\n",
       "      <td>0.284647</td>\n",
       "    </tr>\n",
       "    <tr>\n",
       "      <th>age_upon_outcome</th>\n",
       "      <td>0.072698</td>\n",
       "    </tr>\n",
       "    <tr>\n",
       "      <th>Foster</th>\n",
       "      <td>0.059886</td>\n",
       "    </tr>\n",
       "    <tr>\n",
       "      <th>is_name</th>\n",
       "      <td>0.056721</td>\n",
       "    </tr>\n",
       "    <tr>\n",
       "      <th>Intact Male</th>\n",
       "      <td>0.043638</td>\n",
       "    </tr>\n",
       "    <tr>\n",
       "      <th>Intact Female</th>\n",
       "      <td>0.041703</td>\n",
       "    </tr>\n",
       "    <tr>\n",
       "      <th>SCRP</th>\n",
       "      <td>0.033959</td>\n",
       "    </tr>\n",
       "    <tr>\n",
       "      <th>Spayed Female</th>\n",
       "      <td>0.026165</td>\n",
       "    </tr>\n",
       "    <tr>\n",
       "      <th>Unknown</th>\n",
       "      <td>0.016816</td>\n",
       "    </tr>\n",
       "    <tr>\n",
       "      <th>Neutered Male</th>\n",
       "      <td>0.013413</td>\n",
       "    </tr>\n",
       "    <tr>\n",
       "      <th>Cat</th>\n",
       "      <td>0.007245</td>\n",
       "    </tr>\n",
       "    <tr>\n",
       "      <th>Dog</th>\n",
       "      <td>0.006148</td>\n",
       "    </tr>\n",
       "    <tr>\n",
       "      <th>Snr</th>\n",
       "      <td>0.005862</td>\n",
       "    </tr>\n",
       "    <tr>\n",
       "      <th>duplicated</th>\n",
       "      <td>0.004350</td>\n",
       "    </tr>\n",
       "    <tr>\n",
       "      <th>age</th>\n",
       "      <td>0.003636</td>\n",
       "    </tr>\n",
       "    <tr>\n",
       "      <th>Offsite</th>\n",
       "      <td>0.002472</td>\n",
       "    </tr>\n",
       "    <tr>\n",
       "      <th>Tabby</th>\n",
       "      <td>0.001243</td>\n",
       "    </tr>\n",
       "    <tr>\n",
       "      <th>Tan</th>\n",
       "      <td>0.000822</td>\n",
       "    </tr>\n",
       "    <tr>\n",
       "      <th>is_mix</th>\n",
       "      <td>0.000218</td>\n",
       "    </tr>\n",
       "  </tbody>\n",
       "</table>\n",
       "</div>"
      ],
      "text/plain": [
       "                  importances\n",
       "NN                   0.316756\n",
       "Partner              0.284647\n",
       "age_upon_outcome     0.072698\n",
       "Foster               0.059886\n",
       "is_name              0.056721\n",
       "Intact Male          0.043638\n",
       "Intact Female        0.041703\n",
       "SCRP                 0.033959\n",
       "Spayed Female        0.026165\n",
       "Unknown              0.016816\n",
       "Neutered Male        0.013413\n",
       "Cat                  0.007245\n",
       "Dog                  0.006148\n",
       "Snr                  0.005862\n",
       "duplicated           0.004350\n",
       "age                  0.003636\n",
       "Offsite              0.002472\n",
       "Tabby                0.001243\n",
       "Tan                  0.000822\n",
       "is_mix               0.000218"
      ]
     },
     "execution_count": 304,
     "metadata": {},
     "output_type": "execute_result"
    }
   ],
   "source": [
    "imp = pd.DataFrame(data=clf.feature_importances_,\n",
    "               index=X.columns,\n",
    "               columns=[f'importances'])\n",
    "imp = imp.sort_values(by='importances', ascending=False)\n",
    "imp.head(20)"
   ]
  },
  {
   "cell_type": "code",
   "execution_count": 310,
   "metadata": {},
   "outputs": [
    {
     "data": {
      "image/png": "[encoded data removed]",
      "text/plain": [
       "<Figure size 1080x1080 with 1 Axes>"
      ]
     },
     "metadata": {
      "needs_background": "light"
     },
     "output_type": "display_data"
    }
   ],
   "source": [
    "# Посмотрим на первые 15\n",
    "plt.figure(figsize=(15,15))\n",
    "imp_ = imp[:20]\n",
    "sns.barplot(x='importances', y=imp_.index, data=imp_);"
   ]
  },
  {
   "cell_type": "markdown",
   "metadata": {},
   "source": [
    "Модель на важных признаках"
   ]
  },
  {
   "cell_type": "code",
   "execution_count": 311,
   "metadata": {},
   "outputs": [
    {
     "data": {
      "text/plain": [
       "Index(['NN', 'Partner', 'age_upon_outcome', 'Foster', 'is_name', 'Intact Male',\n",
       "       'Intact Female', 'SCRP', 'Spayed Female', 'Unknown', 'Neutered Male',\n",
       "       'Cat', 'Dog', 'Snr', 'duplicated', 'age', 'Offsite', 'Tabby', 'Tan',\n",
       "       'is_mix'],\n",
       "      dtype='object')"
      ]
     },
     "execution_count": 311,
     "metadata": {},
     "output_type": "execute_result"
    }
   ],
   "source": [
    "imp_.index"
   ]
  },
  {
   "cell_type": "code",
   "execution_count": 314,
   "metadata": {},
   "outputs": [
    {
     "data": {
      "text/plain": [
       "0.9998737214294734"
      ]
     },
     "execution_count": 314,
     "metadata": {},
     "output_type": "execute_result"
    }
   ],
   "source": [
    "clf = RandomForestClassifier(max_depth=5, random_state=42)\n",
    "clf.fit(X_train[imp_.index], y_train)\n",
    "clf.score(X_test[imp_.index], y_test)"
   ]
  },
  {
   "cell_type": "code",
   "execution_count": 316,
   "metadata": {},
   "outputs": [
    {
     "data": {
      "text/plain": [
       "0.9998376367117305"
      ]
     },
     "execution_count": 316,
     "metadata": {},
     "output_type": "execute_result"
    }
   ],
   "source": [
    "cross_val_score(clf, X_train[imp_.index], y_train).mean()"
   ]
  },
  {
   "cell_type": "markdown",
   "metadata": {},
   "source": [
    "## PCA\n",
    "так как матрицы one hot encoding сильно разрежены, метод должен работать неплохо"
   ]
  },
  {
   "cell_type": "code",
   "execution_count": 354,
   "metadata": {},
   "outputs": [],
   "source": [
    "pca = PCA(n_components = 20)\n",
    "XPCA = pca.fit_transform(X)"
   ]
  },
  {
   "cell_type": "code",
   "execution_count": 355,
   "metadata": {},
   "outputs": [
    {
     "data": {
      "text/plain": [
       "0.99676090622119"
      ]
     },
     "execution_count": 355,
     "metadata": {},
     "output_type": "execute_result"
    }
   ],
   "source": [
    "clf = RandomForestClassifier(max_depth=5, random_state=42)\n",
    "cross_val_score(clf, XPCA, y).mean()"
   ]
  },
  {
   "cell_type": "code",
   "execution_count": 348,
   "metadata": {},
   "outputs": [
    {
     "data": {
      "application/vnd.jupyter.widget-view+json": {
       "model_id": "fa8ee4fae7694f5a915ea53f9e7dcd75",
       "version_major": 2,
       "version_minor": 0
      },
      "text/plain": [
       "HBox(children=(HTML(value=''), FloatProgress(value=0.0, max=19.0), HTML(value='')))"
      ]
     },
     "metadata": {},
     "output_type": "display_data"
    },
    {
     "name": "stdout",
     "output_type": "stream",
     "text": [
      "\n"
     ]
    }
   ],
   "source": [
    "scores = []\n",
    "for n in tqdm(range(1, 20)):\n",
    "    pca = PCA(n_components = n)\n",
    "    XPCA = pca.fit_transform(X)\n",
    "    clf = RandomForestClassifier(max_depth=5, random_state=42)\n",
    "    scores.append(cross_val_score(clf, XPCA, y).mean())"
   ]
  },
  {
   "cell_type": "code",
   "execution_count": 353,
   "metadata": {},
   "outputs": [
    {
     "data": {
      "text/plain": [
       "[<matplotlib.lines.Line2D at 0x7ff04cf31650>]"
      ]
     },
     "execution_count": 353,
     "metadata": {},
     "output_type": "execute_result"
    },
    {
     "data": {
      "image/png": "[encoded data removed]",
      "text/plain": [
       "<Figure size 432x288 with 1 Axes>"
      ]
     },
     "metadata": {
      "needs_background": "light"
     },
     "output_type": "display_data"
    }
   ],
   "source": [
    "plt.plot(scores)"
   ]
  },
  {
   "cell_type": "code",
   "execution_count": 356,
   "metadata": {},
   "outputs": [
    {
     "data": {
      "text/plain": [
       "0.9998917602489513"
      ]
     },
     "execution_count": 356,
     "metadata": {},
     "output_type": "execute_result"
    }
   ],
   "source": [
    "pca = PCA(n_components = 4)\n",
    "XPCA = pca.fit_transform(X)\n",
    "clf = RandomForestClassifier(max_depth=5, random_state=42)\n",
    "cross_val_score(clf, XPCA, y).mean()"
   ]
  },
  {
   "cell_type": "markdown",
   "metadata": {},
   "source": [
    "C помощью алгоритма PCA удалось сжать пространство признаков до четырех,\n",
    "при этом не потеряв в качестве классификации"
   ]
  },
  {
   "cell_type": "code",
   "execution_count": null,
   "metadata": {},
   "outputs": [],
   "source": []
  },
  {
   "cell_type": "code",
   "execution_count": null,
   "metadata": {},
   "outputs": [],
   "source": []
  },
  {
   "cell_type": "code",
   "execution_count": null,
   "metadata": {},
   "outputs": [],
   "source": []
  }
 ],
 "metadata": {
  "kernelspec": {
   "display_name": "Python 3",
   "language": "python",
   "name": "python3"
  },
  "language_info": {
   "codemirror_mode": {
    "name": "ipython",
    "version": 3
   },
   "file_extension": ".py",
   "mimetype": "text/x-python",
   "name": "python",
   "nbconvert_exporter": "python",
   "pygments_lexer": "ipython3",
   "version": "3.7.8"
  }
 },
 "nbformat": 4,
 "nbformat_minor": 4
}
