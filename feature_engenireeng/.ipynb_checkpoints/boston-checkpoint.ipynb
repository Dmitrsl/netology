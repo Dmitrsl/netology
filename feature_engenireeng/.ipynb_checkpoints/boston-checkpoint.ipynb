{
 "cells": [
  {
   "cell_type": "markdown",
   "metadata": {
    "id": "uC958Ukq36BE"
   },
   "source": [
    "# Домашнее задание по теме \"работа с переменными\"\n",
    "Преподаватель: Алексей Миронов, Наталья Баданина, Дарья Максимова\n",
    "\n",
    "Потренируем навыки, полученные на практическом занятии. \n",
    "\n",
    "Пользуясь новыми знаниями, проведите эксплоративный анализ данных на данных недвижимости Бостона, и попытайтесь обучить линейную модель наиболее качественно. Все ваши действия и решения описывайте в markdown.\n",
    "\n",
    "\n",
    "Данные вы сможете получить исполнив следующий код:\n",
    "from sklearn.datasets import load_boston\n",
    "import pandas as pd\n",
    "data = pd.read_csv(load_boston()[‘filename’], skiprows=1)\n",
    "Переменная, которую надо предсказать - ’MEDV’.\n",
    "Прочитать информацию о содержимом датасета:\n",
    "print(load_boston()[‘DESCR’])\n",
    "\n",
    "\n",
    "Если вы неудовлетворенны результатом, но лучшего решения предложить не можете, то высылайте задание на проверку.\n",
    "Цель задания - закрепить полученные навыки.\n"
   ]
  },
  {
   "cell_type": "markdown",
   "metadata": {
    "id": "m1HKbWVX7j4n"
   },
   "source": [
    "# Imports"
   ]
  },
  {
   "cell_type": "code",
   "execution_count": 1,
   "metadata": {
    "id": "ZHPaSkFc3tpt"
   },
   "outputs": [],
   "source": [
    "from sklearn.datasets import load_boston\n",
    "import pandas as pd\n",
    "import numpy as np\n",
    "\n",
    "from matplotlib import pyplot as plt\n",
    "import seaborn as sns\n",
    "\n",
    "\n",
    "from sklearn.linear_model import LinearRegression\n",
    "from sklearn.model_selection import cross_val_score, cross_validate, KFold"
   ]
  },
  {
   "cell_type": "markdown",
   "metadata": {
    "id": "MwoV-WSB7pWH"
   },
   "source": [
    "# Load data"
   ]
  },
  {
   "cell_type": "code",
   "execution_count": 2,
   "metadata": {
    "colab": {
     "base_uri": "https://localhost:8080/",
     "height": 38
    },
    "id": "q7UnJskO3031",
    "outputId": "9e02e86c-8ba4-4359-b625-1a6e087a8d0e"
   },
   "outputs": [
    {
     "data": {
      "text/plain": [
       "'/home/dmi/anaconda3/lib/python3.7/site-packages/sklearn/datasets/data/boston_house_prices.csv'"
      ]
     },
     "execution_count": 2,
     "metadata": {},
     "output_type": "execute_result"
    }
   ],
   "source": [
    "from sklearn.datasets import load_boston\n",
    "load_boston().filename"
   ]
  },
  {
   "cell_type": "code",
   "execution_count": 3,
   "metadata": {
    "colab": {
     "base_uri": "https://localhost:8080/",
     "height": 424
    },
    "id": "kqsBli7L5cs6",
    "outputId": "f46ae3e7-2148-494f-b59c-73c7371670a2"
   },
   "outputs": [
    {
     "data": {
      "text/html": [
       "<div>\n",
       "<style scoped>\n",
       "    .dataframe tbody tr th:only-of-type {\n",
       "        vertical-align: middle;\n",
       "    }\n",
       "\n",
       "    .dataframe tbody tr th {\n",
       "        vertical-align: top;\n",
       "    }\n",
       "\n",
       "    .dataframe thead th {\n",
       "        text-align: right;\n",
       "    }\n",
       "</style>\n",
       "<table border=\"1\" class=\"dataframe\">\n",
       "  <thead>\n",
       "    <tr style=\"text-align: right;\">\n",
       "      <th></th>\n",
       "      <th>CRIM</th>\n",
       "      <th>ZN</th>\n",
       "      <th>INDUS</th>\n",
       "      <th>CHAS</th>\n",
       "      <th>NOX</th>\n",
       "      <th>RM</th>\n",
       "      <th>AGE</th>\n",
       "      <th>DIS</th>\n",
       "      <th>RAD</th>\n",
       "      <th>TAX</th>\n",
       "      <th>PTRATIO</th>\n",
       "      <th>B</th>\n",
       "      <th>LSTAT</th>\n",
       "      <th>MEDV</th>\n",
       "    </tr>\n",
       "  </thead>\n",
       "  <tbody>\n",
       "    <tr>\n",
       "      <th>0</th>\n",
       "      <td>0.00632</td>\n",
       "      <td>18.0</td>\n",
       "      <td>2.31</td>\n",
       "      <td>0</td>\n",
       "      <td>0.538</td>\n",
       "      <td>6.575</td>\n",
       "      <td>65.2</td>\n",
       "      <td>4.0900</td>\n",
       "      <td>1</td>\n",
       "      <td>296</td>\n",
       "      <td>15.3</td>\n",
       "      <td>396.90</td>\n",
       "      <td>4.98</td>\n",
       "      <td>24.0</td>\n",
       "    </tr>\n",
       "    <tr>\n",
       "      <th>1</th>\n",
       "      <td>0.02731</td>\n",
       "      <td>0.0</td>\n",
       "      <td>7.07</td>\n",
       "      <td>0</td>\n",
       "      <td>0.469</td>\n",
       "      <td>6.421</td>\n",
       "      <td>78.9</td>\n",
       "      <td>4.9671</td>\n",
       "      <td>2</td>\n",
       "      <td>242</td>\n",
       "      <td>17.8</td>\n",
       "      <td>396.90</td>\n",
       "      <td>9.14</td>\n",
       "      <td>21.6</td>\n",
       "    </tr>\n",
       "    <tr>\n",
       "      <th>2</th>\n",
       "      <td>0.02729</td>\n",
       "      <td>0.0</td>\n",
       "      <td>7.07</td>\n",
       "      <td>0</td>\n",
       "      <td>0.469</td>\n",
       "      <td>7.185</td>\n",
       "      <td>61.1</td>\n",
       "      <td>4.9671</td>\n",
       "      <td>2</td>\n",
       "      <td>242</td>\n",
       "      <td>17.8</td>\n",
       "      <td>392.83</td>\n",
       "      <td>4.03</td>\n",
       "      <td>34.7</td>\n",
       "    </tr>\n",
       "    <tr>\n",
       "      <th>3</th>\n",
       "      <td>0.03237</td>\n",
       "      <td>0.0</td>\n",
       "      <td>2.18</td>\n",
       "      <td>0</td>\n",
       "      <td>0.458</td>\n",
       "      <td>6.998</td>\n",
       "      <td>45.8</td>\n",
       "      <td>6.0622</td>\n",
       "      <td>3</td>\n",
       "      <td>222</td>\n",
       "      <td>18.7</td>\n",
       "      <td>394.63</td>\n",
       "      <td>2.94</td>\n",
       "      <td>33.4</td>\n",
       "    </tr>\n",
       "    <tr>\n",
       "      <th>4</th>\n",
       "      <td>0.06905</td>\n",
       "      <td>0.0</td>\n",
       "      <td>2.18</td>\n",
       "      <td>0</td>\n",
       "      <td>0.458</td>\n",
       "      <td>7.147</td>\n",
       "      <td>54.2</td>\n",
       "      <td>6.0622</td>\n",
       "      <td>3</td>\n",
       "      <td>222</td>\n",
       "      <td>18.7</td>\n",
       "      <td>396.90</td>\n",
       "      <td>5.33</td>\n",
       "      <td>36.2</td>\n",
       "    </tr>\n",
       "    <tr>\n",
       "      <th>...</th>\n",
       "      <td>...</td>\n",
       "      <td>...</td>\n",
       "      <td>...</td>\n",
       "      <td>...</td>\n",
       "      <td>...</td>\n",
       "      <td>...</td>\n",
       "      <td>...</td>\n",
       "      <td>...</td>\n",
       "      <td>...</td>\n",
       "      <td>...</td>\n",
       "      <td>...</td>\n",
       "      <td>...</td>\n",
       "      <td>...</td>\n",
       "      <td>...</td>\n",
       "    </tr>\n",
       "    <tr>\n",
       "      <th>501</th>\n",
       "      <td>0.06263</td>\n",
       "      <td>0.0</td>\n",
       "      <td>11.93</td>\n",
       "      <td>0</td>\n",
       "      <td>0.573</td>\n",
       "      <td>6.593</td>\n",
       "      <td>69.1</td>\n",
       "      <td>2.4786</td>\n",
       "      <td>1</td>\n",
       "      <td>273</td>\n",
       "      <td>21.0</td>\n",
       "      <td>391.99</td>\n",
       "      <td>9.67</td>\n",
       "      <td>22.4</td>\n",
       "    </tr>\n",
       "    <tr>\n",
       "      <th>502</th>\n",
       "      <td>0.04527</td>\n",
       "      <td>0.0</td>\n",
       "      <td>11.93</td>\n",
       "      <td>0</td>\n",
       "      <td>0.573</td>\n",
       "      <td>6.120</td>\n",
       "      <td>76.7</td>\n",
       "      <td>2.2875</td>\n",
       "      <td>1</td>\n",
       "      <td>273</td>\n",
       "      <td>21.0</td>\n",
       "      <td>396.90</td>\n",
       "      <td>9.08</td>\n",
       "      <td>20.6</td>\n",
       "    </tr>\n",
       "    <tr>\n",
       "      <th>503</th>\n",
       "      <td>0.06076</td>\n",
       "      <td>0.0</td>\n",
       "      <td>11.93</td>\n",
       "      <td>0</td>\n",
       "      <td>0.573</td>\n",
       "      <td>6.976</td>\n",
       "      <td>91.0</td>\n",
       "      <td>2.1675</td>\n",
       "      <td>1</td>\n",
       "      <td>273</td>\n",
       "      <td>21.0</td>\n",
       "      <td>396.90</td>\n",
       "      <td>5.64</td>\n",
       "      <td>23.9</td>\n",
       "    </tr>\n",
       "    <tr>\n",
       "      <th>504</th>\n",
       "      <td>0.10959</td>\n",
       "      <td>0.0</td>\n",
       "      <td>11.93</td>\n",
       "      <td>0</td>\n",
       "      <td>0.573</td>\n",
       "      <td>6.794</td>\n",
       "      <td>89.3</td>\n",
       "      <td>2.3889</td>\n",
       "      <td>1</td>\n",
       "      <td>273</td>\n",
       "      <td>21.0</td>\n",
       "      <td>393.45</td>\n",
       "      <td>6.48</td>\n",
       "      <td>22.0</td>\n",
       "    </tr>\n",
       "    <tr>\n",
       "      <th>505</th>\n",
       "      <td>0.04741</td>\n",
       "      <td>0.0</td>\n",
       "      <td>11.93</td>\n",
       "      <td>0</td>\n",
       "      <td>0.573</td>\n",
       "      <td>6.030</td>\n",
       "      <td>80.8</td>\n",
       "      <td>2.5050</td>\n",
       "      <td>1</td>\n",
       "      <td>273</td>\n",
       "      <td>21.0</td>\n",
       "      <td>396.90</td>\n",
       "      <td>7.88</td>\n",
       "      <td>11.9</td>\n",
       "    </tr>\n",
       "  </tbody>\n",
       "</table>\n",
       "<p>506 rows × 14 columns</p>\n",
       "</div>"
      ],
      "text/plain": [
       "        CRIM    ZN  INDUS  CHAS    NOX     RM   AGE     DIS  RAD  TAX  \\\n",
       "0    0.00632  18.0   2.31     0  0.538  6.575  65.2  4.0900    1  296   \n",
       "1    0.02731   0.0   7.07     0  0.469  6.421  78.9  4.9671    2  242   \n",
       "2    0.02729   0.0   7.07     0  0.469  7.185  61.1  4.9671    2  242   \n",
       "3    0.03237   0.0   2.18     0  0.458  6.998  45.8  6.0622    3  222   \n",
       "4    0.06905   0.0   2.18     0  0.458  7.147  54.2  6.0622    3  222   \n",
       "..       ...   ...    ...   ...    ...    ...   ...     ...  ...  ...   \n",
       "501  0.06263   0.0  11.93     0  0.573  6.593  69.1  2.4786    1  273   \n",
       "502  0.04527   0.0  11.93     0  0.573  6.120  76.7  2.2875    1  273   \n",
       "503  0.06076   0.0  11.93     0  0.573  6.976  91.0  2.1675    1  273   \n",
       "504  0.10959   0.0  11.93     0  0.573  6.794  89.3  2.3889    1  273   \n",
       "505  0.04741   0.0  11.93     0  0.573  6.030  80.8  2.5050    1  273   \n",
       "\n",
       "     PTRATIO       B  LSTAT  MEDV  \n",
       "0       15.3  396.90   4.98  24.0  \n",
       "1       17.8  396.90   9.14  21.6  \n",
       "2       17.8  392.83   4.03  34.7  \n",
       "3       18.7  394.63   2.94  33.4  \n",
       "4       18.7  396.90   5.33  36.2  \n",
       "..       ...     ...    ...   ...  \n",
       "501     21.0  391.99   9.67  22.4  \n",
       "502     21.0  396.90   9.08  20.6  \n",
       "503     21.0  396.90   5.64  23.9  \n",
       "504     21.0  393.45   6.48  22.0  \n",
       "505     21.0  396.90   7.88  11.9  \n",
       "\n",
       "[506 rows x 14 columns]"
      ]
     },
     "execution_count": 3,
     "metadata": {},
     "output_type": "execute_result"
    }
   ],
   "source": [
    "from sklearn.datasets import load_boston\n",
    "import pandas as pd\n",
    "data = pd.read_csv(load_boston().filename, skiprows=1)\n",
    "data"
   ]
  },
  {
   "cell_type": "code",
   "execution_count": 4,
   "metadata": {
    "colab": {
     "base_uri": "https://localhost:8080/"
    },
    "id": "eM5_STi73zla",
    "outputId": "b25e9861-906a-4de3-8662-7285e296ca32"
   },
   "outputs": [
    {
     "name": "stdout",
     "output_type": "stream",
     "text": [
      ".. _boston_dataset:\n",
      "\n",
      "Boston house prices dataset\n",
      "---------------------------\n",
      "\n",
      "**Data Set Characteristics:**  \n",
      "\n",
      "    :Number of Instances: 506 \n",
      "\n",
      "    :Number of Attributes: 13 numeric/categorical predictive. Median Value (attribute 14) is usually the target.\n",
      "\n",
      "    :Attribute Information (in order):\n",
      "        - CRIM     per capita crime rate by town\n",
      "        - ZN       proportion of residential land zoned for lots over 25,000 sq.ft.\n",
      "        - INDUS    proportion of non-retail business acres per town\n",
      "        - CHAS     Charles River dummy variable (= 1 if tract bounds river; 0 otherwise)\n",
      "        - NOX      nitric oxides concentration (parts per 10 million)\n",
      "        - RM       average number of rooms per dwelling\n",
      "        - AGE      proportion of owner-occupied units built prior to 1940\n",
      "        - DIS      weighted distances to five Boston employment centres\n",
      "        - RAD      index of accessibility to radial highways\n",
      "        - TAX      full-value property-tax rate per $10,000\n",
      "        - PTRATIO  pupil-teacher ratio by town\n",
      "        - B        1000(Bk - 0.63)^2 where Bk is the proportion of blacks by town\n",
      "        - LSTAT    % lower status of the population\n",
      "        - MEDV     Median value of owner-occupied homes in $1000's\n",
      "\n",
      "    :Missing Attribute Values: None\n",
      "\n",
      "    :Creator: Harrison, D. and Rubinfeld, D.L.\n",
      "\n",
      "This is a copy of UCI ML housing dataset.\n",
      "https://archive.ics.uci.edu/ml/machine-learning-databases/housing/\n",
      "\n",
      "\n",
      "This dataset was taken from the StatLib library which is maintained at Carnegie Mellon University.\n",
      "\n",
      "The Boston house-price data of Harrison, D. and Rubinfeld, D.L. 'Hedonic\n",
      "prices and the demand for clean air', J. Environ. Economics & Management,\n",
      "vol.5, 81-102, 1978.   Used in Belsley, Kuh & Welsch, 'Regression diagnostics\n",
      "...', Wiley, 1980.   N.B. Various transformations are used in the table on\n",
      "pages 244-261 of the latter.\n",
      "\n",
      "The Boston house-price data has been used in many machine learning papers that address regression\n",
      "problems.   \n",
      "     \n",
      ".. topic:: References\n",
      "\n",
      "   - Belsley, Kuh & Welsch, 'Regression diagnostics: Identifying Influential Data and Sources of Collinearity', Wiley, 1980. 244-261.\n",
      "   - Quinlan,R. (1993). Combining Instance-Based and Model-Based Learning. In Proceedings on the Tenth International Conference of Machine Learning, 236-243, University of Massachusetts, Amherst. Morgan Kaufmann.\n",
      "\n"
     ]
    }
   ],
   "source": [
    "print(load_boston().DESCR)"
   ]
  },
  {
   "cell_type": "code",
   "execution_count": 5,
   "metadata": {
    "colab": {
     "base_uri": "https://localhost:8080/"
    },
    "id": "mk35N40w615R",
    "outputId": "d0c36ef2-b03b-4351-eda2-732d365c5504"
   },
   "outputs": [
    {
     "name": "stdout",
     "output_type": "stream",
     "text": [
      "<class 'pandas.core.frame.DataFrame'>\n",
      "RangeIndex: 506 entries, 0 to 505\n",
      "Data columns (total 14 columns):\n",
      " #   Column   Non-Null Count  Dtype  \n",
      "---  ------   --------------  -----  \n",
      " 0   CRIM     506 non-null    float64\n",
      " 1   ZN       506 non-null    float64\n",
      " 2   INDUS    506 non-null    float64\n",
      " 3   CHAS     506 non-null    int64  \n",
      " 4   NOX      506 non-null    float64\n",
      " 5   RM       506 non-null    float64\n",
      " 6   AGE      506 non-null    float64\n",
      " 7   DIS      506 non-null    float64\n",
      " 8   RAD      506 non-null    int64  \n",
      " 9   TAX      506 non-null    int64  \n",
      " 10  PTRATIO  506 non-null    float64\n",
      " 11  B        506 non-null    float64\n",
      " 12  LSTAT    506 non-null    float64\n",
      " 13  MEDV     506 non-null    float64\n",
      "dtypes: float64(11), int64(3)\n",
      "memory usage: 55.5 KB\n"
     ]
    }
   ],
   "source": [
    "data.info()"
   ]
  },
  {
   "cell_type": "code",
   "execution_count": null,
   "metadata": {
    "colab": {
     "base_uri": "https://localhost:8080/",
     "height": 1000
    },
    "id": "t6Hdo6H6EolW",
    "outputId": "ad41315a-2437-4e9e-afb3-6b287fbaaf91"
   },
   "outputs": [
    {
     "data": {
      "text/plain": [
       "<seaborn.axisgrid.PairGrid at 0x7f411cbb0210>"
      ]
     },
     "execution_count": 6,
     "metadata": {},
     "output_type": "execute_result"
    }
   ],
   "source": [
    "sns.pairplot(data)"
   ]
  },
  {
   "cell_type": "code",
   "execution_count": null,
   "metadata": {
    "colab": {
     "base_uri": "https://localhost:8080/",
     "height": 1000
    },
    "id": "HLIKOF0SHkvw",
    "outputId": "42132aae-ac43-465c-fce7-2c3b93a50286"
   },
   "outputs": [],
   "source": [
    "plt.figure(figsize=(20,20))\n",
    "sns.heatmap(data.corr(), annot = True, center= 0, cmap= 'coolwarm')"
   ]
  },
  {
   "cell_type": "code",
   "execution_count": null,
   "metadata": {
    "colab": {
     "base_uri": "https://localhost:8080/",
     "height": 424
    },
    "id": "U-IwcV2j95_J",
    "outputId": "b23bd5f6-21df-4abc-d53f-2650d263faf8"
   },
   "outputs": [],
   "source": [
    "y = data.MEDV\n",
    "X = data.drop('MEDV', 1)\n",
    "X"
   ]
  },
  {
   "cell_type": "code",
   "execution_count": null,
   "metadata": {
    "id": "nVWsg5Lw-4A6"
   },
   "outputs": [],
   "source": []
  },
  {
   "cell_type": "markdown",
   "metadata": {
    "id": "DKLLgCb_QLIw"
   },
   "source": [
    "# Линейная регрессия на сырых данных (точка отсчета)"
   ]
  },
  {
   "cell_type": "code",
   "execution_count": null,
   "metadata": {
    "colab": {
     "base_uri": "https://localhost:8080/"
    },
    "id": "qkyHNsqf_0Q5",
    "outputId": "e608cc2a-6f06-4103-f546-11be955ba661"
   },
   "outputs": [],
   "source": [
    "reg = LinearRegression().fit(X, y)\n",
    "reg.score(X, y)"
   ]
  },
  {
   "cell_type": "code",
   "execution_count": null,
   "metadata": {
    "colab": {
     "base_uri": "https://localhost:8080/"
    },
    "id": "9PB0XJadSUOh",
    "outputId": "be5ea442-31a3-4c1c-b273-3d7fe44c156e"
   },
   "outputs": [],
   "source": [
    "def get_score(X, y, random=42):\n",
    "\n",
    "    score = []\n",
    "    for n, (train, test) in enumerate(KFold(n_splits=5, random_state=random, shuffle=True).split(y)):\n",
    "\n",
    "        reg = LinearRegression(normalize=True).fit(X.iloc[train], y.iloc[train])\n",
    "        sc = reg.score(X.iloc[test], y.iloc[test])\n",
    "        score.append(sc)\n",
    "        print(f'Fold {n}, R^2 coeff = {sc}')\n",
    "    print(f'mean R^2 = {np.array(score).mean()}')\n",
    "\n",
    "get_score(X, y)"
   ]
  },
  {
   "cell_type": "markdown",
   "metadata": {
    "id": "xF8a2S6mcpLD"
   },
   "source": [
    "Получили значение коэффициента детерминации = 0.7152218388256885\n",
    "от него и будем отталкиваться в оценке новых моделей"
   ]
  },
  {
   "cell_type": "markdown",
   "metadata": {
    "id": "dfV4pq93k28l"
   },
   "source": [
    "## Целевая переменная"
   ]
  },
  {
   "cell_type": "code",
   "execution_count": null,
   "metadata": {
    "colab": {
     "base_uri": "https://localhost:8080/",
     "height": 284
    },
    "id": "VXV195FCoPIw",
    "outputId": "8b749f9a-9cc8-44d4-e795-7f3accc4abab"
   },
   "outputs": [],
   "source": [
    "y.hist()"
   ]
  },
  {
   "cell_type": "code",
   "execution_count": null,
   "metadata": {
    "colab": {
     "base_uri": "https://localhost:8080/"
    },
    "id": "sZ9VLF5_kv0D",
    "outputId": "62519fcc-bb7a-45b2-fd5c-770ed044bf0d"
   },
   "outputs": [],
   "source": [
    "y.value_counts()"
   ]
  },
  {
   "cell_type": "markdown",
   "metadata": {
    "id": "NzyypWS3ki0F"
   },
   "source": [
    "Значения целевой переменной равные 50 могут быть заменой неизвестных либо иных  значений"
   ]
  },
  {
   "cell_type": "code",
   "execution_count": null,
   "metadata": {
    "colab": {
     "base_uri": "https://localhost:8080/"
    },
    "id": "WQ_8ymmvkrRi",
    "outputId": "0efedf6e-53c6-4eb6-8bea-0f190527c8a7"
   },
   "outputs": [],
   "source": [
    "# Удаляем, я пробовал менять на среднее, медиану, но удалить наиболе эффективная тактика\n",
    "X = X[y != 50]\n",
    "y = y[y != 50]\n",
    "X.shape, y.shape"
   ]
  },
  {
   "cell_type": "code",
   "execution_count": null,
   "metadata": {
    "colab": {
     "base_uri": "https://localhost:8080/"
    },
    "id": "qbQYMyjxmWbf",
    "outputId": "f0e52a89-f87c-4a6c-85bd-d6b4db4a8ac0"
   },
   "outputs": [],
   "source": [
    "get_score(X,y)"
   ]
  },
  {
   "cell_type": "markdown",
   "metadata": {
    "id": "zkabna_5XIqv"
   },
   "source": [
    "# Признаки"
   ]
  },
  {
   "cell_type": "code",
   "execution_count": null,
   "metadata": {
    "colab": {
     "base_uri": "https://localhost:8080/"
    },
    "id": "BHTN9Z17TTpQ",
    "outputId": "ea4488b0-3cb9-456d-bb94-448f9b089d3e"
   },
   "outputs": [],
   "source": [
    "# В данных нет NA\n",
    "X.isna().sum()"
   ]
  },
  {
   "cell_type": "markdown",
   "metadata": {
    "id": "ItPLQfZKYjz2"
   },
   "source": [
    "## Уровень преступности corr=-0.38"
   ]
  },
  {
   "cell_type": "code",
   "execution_count": null,
   "metadata": {
    "colab": {
     "base_uri": "https://localhost:8080/",
     "height": 592
    },
    "id": "FqyneG26YFRe",
    "outputId": "a1242ace-5b4e-4cc4-bd31-07517272d6c9"
   },
   "outputs": [],
   "source": [
    "plt.figure(figsize=(20, 10))\n",
    "X.CRIM.hist(bins=20);"
   ]
  },
  {
   "cell_type": "code",
   "execution_count": null,
   "metadata": {
    "colab": {
     "base_uri": "https://localhost:8080/",
     "height": 300
    },
    "id": "1hQi1_LIhBR5",
    "outputId": "5842c671-4643-40c1-c025-ba2521ef085e"
   },
   "outputs": [],
   "source": [
    "X[X.CRIM > 30]"
   ]
  },
  {
   "cell_type": "code",
   "execution_count": null,
   "metadata": {
    "colab": {
     "base_uri": "https://localhost:8080/"
    },
    "id": "N1-6xDvzYUUM",
    "outputId": "b035fea1-8b7e-45e8-af68-4b167d4028be"
   },
   "outputs": [],
   "source": [
    "y[X.CRIM > 30].mean(), y[X.CRIM <= 30].mean(), y.mean()"
   ]
  },
  {
   "cell_type": "markdown",
   "metadata": {
    "id": "9FXqMKWPhNcF"
   },
   "source": [
    "Распределение признака уровень преступгости не нормальное, с выбросами.\n",
    "\n",
    "Так объектов, с уровнем преступности более 30 всего 8 шт.\n",
    "\n",
    "Однако они очень сильно влияют не значение целевой переменной, поэтому оставляем их как есть,\n",
    "\n",
    "Добавляем еще один признак с логарифмированными значениями этой переменной"
   ]
  },
  {
   "cell_type": "code",
   "execution_count": null,
   "metadata": {
    "colab": {
     "base_uri": "https://localhost:8080/",
     "height": 592
    },
    "id": "g4bMv1uqa7Iy",
    "outputId": "9e663743-a780-4c57-e68e-b7d0c67b1226"
   },
   "outputs": [],
   "source": [
    "plt.figure(figsize=(20, 10))\n",
    "np.log(X.CRIM).hist();"
   ]
  },
  {
   "cell_type": "code",
   "execution_count": null,
   "metadata": {
    "colab": {
     "base_uri": "https://localhost:8080/"
    },
    "id": "W7XN9Sozb1ZQ",
    "outputId": "7d9567e3-e475-4d83-c6fb-c14fa708cab3"
   },
   "outputs": [],
   "source": [
    "X['log_crim'] = np.log(X.CRIM)\n",
    "get_score(X, y, random=42)"
   ]
  },
  {
   "cell_type": "code",
   "execution_count": null,
   "metadata": {
    "colab": {
     "base_uri": "https://localhost:8080/"
    },
    "id": "zYQwal8AcJzw",
    "outputId": "b1689a99-e5e8-4c0d-83bb-436b34e55321"
   },
   "outputs": [],
   "source": [
    "np.corrcoef(X.log_crim, X.CRIM)"
   ]
  },
  {
   "cell_type": "markdown",
   "metadata": {
    "id": "5wampvDXrEIp"
   },
   "source": [
    "Признаки довольно сильно скоррелированы, это означает, то нам будет сложно интерпретировать модель"
   ]
  },
  {
   "cell_type": "markdown",
   "metadata": {
    "id": "zWXtE3Holv1C"
   },
   "source": [
    "## Доля земли под жилую застройку  corr=0.36\n",
    "\n",
    "\n"
   ]
  },
  {
   "cell_type": "code",
   "execution_count": null,
   "metadata": {
    "colab": {
     "base_uri": "https://localhost:8080/",
     "height": 592
    },
    "id": "Ctb6LkOsmARd",
    "outputId": "20f44400-35c5-45c7-9c12-9c2280e86ac7"
   },
   "outputs": [],
   "source": [
    "plt.figure(figsize=(20, 10))\n",
    "X.ZN.hist(bins=50);"
   ]
  },
  {
   "cell_type": "code",
   "execution_count": null,
   "metadata": {
    "colab": {
     "base_uri": "https://localhost:8080/",
     "height": 661
    },
    "id": "rwpyaEFhmF7n",
    "outputId": "c772bc96-1380-4a91-ce05-ce4f67e1500b"
   },
   "outputs": [],
   "source": [
    "plt.figure(figsize=(20, 10))\n",
    "sns.regplot(X.ZN, y);"
   ]
  },
  {
   "cell_type": "code",
   "execution_count": null,
   "metadata": {
    "colab": {
     "base_uri": "https://localhost:8080/",
     "height": 424
    },
    "id": "J-1vz98lmshW",
    "outputId": "eede8196-cac7-4969-d2b3-cf7cdb32a53c"
   },
   "outputs": [],
   "source": [
    "X[X.ZN == 0]"
   ]
  },
  {
   "cell_type": "markdown",
   "metadata": {
    "id": "hg54wrH3qbQh"
   },
   "source": [
    "Большинство значений этого признака равно нулю,\n",
    "\n",
    "Сгенерируем новый признак, означающий, равен ли нулю предыдущий"
   ]
  },
  {
   "cell_type": "code",
   "execution_count": null,
   "metadata": {
    "colab": {
     "base_uri": "https://localhost:8080/"
    },
    "id": "KtFAAH1lmwFE",
    "outputId": "401b5f38-c49a-4682-834b-26725c5f5509"
   },
   "outputs": [],
   "source": [
    "X['ZN_zero'] = 0\n",
    "X['ZN_zero'][X.ZN == 0] = 1"
   ]
  },
  {
   "cell_type": "code",
   "execution_count": null,
   "metadata": {
    "colab": {
     "base_uri": "https://localhost:8080/",
     "height": 206
    },
    "id": "LULlgUGqroq1",
    "outputId": "04649148-df04-407a-d860-66155f38ab6f"
   },
   "outputs": [],
   "source": [
    "X.tail()"
   ]
  },
  {
   "cell_type": "code",
   "execution_count": null,
   "metadata": {
    "colab": {
     "base_uri": "https://localhost:8080/"
    },
    "id": "oLDgVDAZrXBe",
    "outputId": "91afbbce-45c5-4497-94fb-d4f344658d1d"
   },
   "outputs": [],
   "source": [
    "get_score(X, y)"
   ]
  },
  {
   "cell_type": "markdown",
   "metadata": {
    "id": "tdQs8uPBsdlE"
   },
   "source": [
    "новый признак получился не очень информативным"
   ]
  },
  {
   "cell_type": "code",
   "execution_count": null,
   "metadata": {
    "colab": {
     "base_uri": "https://localhost:8080/"
    },
    "id": "h625Ck1qtdQC",
    "outputId": "e2954c47-df6b-497d-a9c0-4e942164220c"
   },
   "outputs": [],
   "source": [
    "y[X.ZN == 0].mean(), y[X.ZN != 0].mean(), y.mean()"
   ]
  },
  {
   "cell_type": "code",
   "execution_count": null,
   "metadata": {
    "id": "lZdZQoOxwNUJ"
   },
   "outputs": [],
   "source": []
  },
  {
   "cell_type": "markdown",
   "metadata": {
    "id": "H0SixItxwcpv"
   },
   "source": [
    "Генерируем еще один признак в котором все нули заменяем на медиану "
   ]
  },
  {
   "cell_type": "code",
   "execution_count": null,
   "metadata": {
    "colab": {
     "base_uri": "https://localhost:8080/",
     "height": 484
    },
    "id": "e3o4G3uHuXYt",
    "outputId": "e0e34ff1-7fbe-468b-e62c-d9c4aeed24a9"
   },
   "outputs": [],
   "source": [
    "X['median_ZN'] = X.ZN\n",
    "X.median_ZN[X.median_ZN == 0] = X.median_ZN[X.median_ZN != 0].median()\n",
    "X.head()"
   ]
  },
  {
   "cell_type": "code",
   "execution_count": null,
   "metadata": {
    "colab": {
     "base_uri": "https://localhost:8080/"
    },
    "id": "Mj4HB-rGvjUe",
    "outputId": "47773063-ce0f-4e80-e5ba-b71a9ed3fa12"
   },
   "outputs": [],
   "source": [
    "get_score(X, y)"
   ]
  },
  {
   "cell_type": "code",
   "execution_count": null,
   "metadata": {
    "colab": {
     "base_uri": "https://localhost:8080/"
    },
    "id": "waaar_1OwTSF",
    "outputId": "d384b4e8-e99f-4408-db95-1018d5b7de45"
   },
   "outputs": [],
   "source": [
    "X.drop(['median_ZN', 'ZN_zero'], 1, inplace=True)\n",
    "get_score(X, y)"
   ]
  },
  {
   "cell_type": "markdown",
   "metadata": {
    "id": "Ti4QjHAfwT53"
   },
   "source": [
    " этот признак не улучшает качество модели"
   ]
  },
  {
   "cell_type": "markdown",
   "metadata": {
    "id": "Dq1JmAFqsD-L"
   },
   "source": [
    "## INDUS    proportion of non-retail business acres corr=-0.48"
   ]
  },
  {
   "cell_type": "code",
   "execution_count": null,
   "metadata": {
    "colab": {
     "base_uri": "https://localhost:8080/",
     "height": 661
    },
    "id": "9jUeZruyr9IK",
    "outputId": "78d02812-667a-4f14-acd2-62d6cdaae5ec"
   },
   "outputs": [],
   "source": [
    "plt.figure(figsize=(20, 10))\n",
    "sns.regplot(X.INDUS, y);"
   ]
  },
  {
   "cell_type": "code",
   "execution_count": null,
   "metadata": {
    "colab": {
     "base_uri": "https://localhost:8080/",
     "height": 592
    },
    "id": "VynPgkgErwrC",
    "outputId": "c52828f0-8d44-4866-81a6-3556647a220c"
   },
   "outputs": [],
   "source": [
    "plt.figure(figsize=(20, 10))\n",
    "X.INDUS.hist(bins=50);"
   ]
  },
  {
   "cell_type": "code",
   "execution_count": null,
   "metadata": {
    "colab": {
     "base_uri": "https://localhost:8080/"
    },
    "id": "Ry_P3kO2s2Pt",
    "outputId": "ca6e37f9-fa05-4633-bffa-38276b9eeb11"
   },
   "outputs": [],
   "source": [
    "y[X.INDUS <= X.INDUS.mean()].mean(), y[X.INDUS > X.INDUS.mean()].mean()"
   ]
  },
  {
   "cell_type": "code",
   "execution_count": null,
   "metadata": {
    "colab": {
     "base_uri": "https://localhost:8080/"
    },
    "id": "5pQePyt11HLn",
    "outputId": "5f0e4d46-74a2-4a7a-b998-29c95edfe367"
   },
   "outputs": [],
   "source": [
    "np.corrcoef(y[X.INDUS <= X.INDUS.mean()], X.INDUS[X.INDUS <= X.INDUS.mean()])"
   ]
  },
  {
   "cell_type": "code",
   "execution_count": null,
   "metadata": {
    "colab": {
     "base_uri": "https://localhost:8080/"
    },
    "id": "Xg8mQZXl1gYq",
    "outputId": "0527597f-a505-414f-e150-72c341c3124a"
   },
   "outputs": [],
   "source": [
    "np.corrcoef(y[X.INDUS > X.INDUS.mean()], X.INDUS[X.INDUS > X.INDUS.mean()])"
   ]
  },
  {
   "cell_type": "code",
   "execution_count": null,
   "metadata": {
    "colab": {
     "base_uri": "https://localhost:8080/"
    },
    "id": "qF-TfcdL1vML",
    "outputId": "f497402a-68ce-41a6-c4a8-69a411876d6c"
   },
   "outputs": [],
   "source": [
    "X['indus'] = X.INDUS\n",
    "X['indus'][X.INDUS > X.INDUS.mean()] = 1\n",
    "X['indus'][X.INDUS <= X.INDUS.mean()] = 0"
   ]
  },
  {
   "cell_type": "code",
   "execution_count": null,
   "metadata": {
    "colab": {
     "base_uri": "https://localhost:8080/"
    },
    "id": "oSEabtkG2m0g",
    "outputId": "5a47ba75-8048-48fc-8d61-1c05de141e7a"
   },
   "outputs": [],
   "source": [
    "get_score(X, y)"
   ]
  },
  {
   "cell_type": "code",
   "execution_count": null,
   "metadata": {
    "colab": {
     "base_uri": "https://localhost:8080/"
    },
    "id": "FbEKkmEm3xyP",
    "outputId": "3a304c94-327d-43a2-b904-18b2293b5829"
   },
   "outputs": [],
   "source": [
    "X.drop(['indus'], 1, inplace=True)\n",
    "get_score(X, y)"
   ]
  },
  {
   "cell_type": "markdown",
   "metadata": {
    "id": "ncXUzLatxWs0"
   },
   "source": [
    "## CHAS  наличие реки"
   ]
  },
  {
   "cell_type": "markdown",
   "metadata": {
    "id": "4uDuuxBQx0Jb"
   },
   "source": [
    "Чаще всего реки нет"
   ]
  },
  {
   "cell_type": "code",
   "execution_count": null,
   "metadata": {
    "colab": {
     "base_uri": "https://localhost:8080/"
    },
    "id": "UFD2bhz2tBaT",
    "outputId": "2fe514e0-abb4-4efa-c551-e40e72f1813c"
   },
   "outputs": [],
   "source": [
    "X.CHAS.value_counts()\n"
   ]
  },
  {
   "cell_type": "markdown",
   "metadata": {
    "id": "YJ-6blbz5GHI"
   },
   "source": [
    "## NOX - Концентрация оксидов азота  corr = -0.38"
   ]
  },
  {
   "cell_type": "code",
   "execution_count": null,
   "metadata": {
    "colab": {
     "base_uri": "https://localhost:8080/",
     "height": 282
    },
    "id": "ngI6hTw4tZ3u",
    "outputId": "5df8fd28-8444-4ba7-f325-50cfe1b05e61"
   },
   "outputs": [],
   "source": [
    "X.NOX.hist()"
   ]
  },
  {
   "cell_type": "code",
   "execution_count": null,
   "metadata": {
    "colab": {
     "base_uri": "https://localhost:8080/",
     "height": 661
    },
    "id": "YkQbgd8b5u8N",
    "outputId": "c18423a0-be10-496c-f9c2-9ccb2e6ddbff"
   },
   "outputs": [],
   "source": [
    "plt.figure(figsize=(20, 10))\n",
    "sns.regplot(X.NOX, y);"
   ]
  },
  {
   "cell_type": "markdown",
   "metadata": {
    "id": "hmFdt23h6dxy"
   },
   "source": [
    "## RM Среднее количество комнат в доме"
   ]
  },
  {
   "cell_type": "code",
   "execution_count": null,
   "metadata": {
    "colab": {
     "base_uri": "https://localhost:8080/",
     "height": 661
    },
    "id": "1Bk0wEUg0HqX",
    "outputId": "164aaea4-5d21-4dc3-8afc-6235f01df6d2"
   },
   "outputs": [],
   "source": [
    "plt.figure(figsize=(20, 10))\n",
    "sns.regplot(X.RM, y);"
   ]
  },
  {
   "cell_type": "code",
   "execution_count": null,
   "metadata": {
    "colab": {
     "base_uri": "https://localhost:8080/",
     "height": 282
    },
    "id": "iRqu_3Xu6urz",
    "outputId": "8d4fa34b-6967-48c2-90bb-71eb41196e90"
   },
   "outputs": [],
   "source": [
    "X.RM.hist()"
   ]
  },
  {
   "cell_type": "code",
   "execution_count": null,
   "metadata": {
    "id": "0jSpW8EABAE-"
   },
   "outputs": [],
   "source": []
  },
  {
   "cell_type": "code",
   "execution_count": null,
   "metadata": {
    "colab": {
     "base_uri": "https://localhost:8080/"
    },
    "id": "yVyXjeYfBS1Z",
    "outputId": "b8933e87-fd77-4e73-af4f-97ccada66af5"
   },
   "outputs": [],
   "source": [
    "73318377"
   ]
  },
  {
   "cell_type": "markdown",
   "metadata": {
    "id": "0GOKUF5M7G5S"
   },
   "source": [
    "## AGE доля домов, занимаемых владельцами, построенных до 1940 г"
   ]
  },
  {
   "cell_type": "code",
   "execution_count": null,
   "metadata": {
    "colab": {
     "base_uri": "https://localhost:8080/",
     "height": 282
    },
    "id": "VsvjZJpH60Bg",
    "outputId": "aa2a8871-b748-4828-fda0-9c2e06137bf4"
   },
   "outputs": [],
   "source": [
    "X.AGE.hist()"
   ]
  },
  {
   "cell_type": "code",
   "execution_count": null,
   "metadata": {
    "colab": {
     "base_uri": "https://localhost:8080/",
     "height": 661
    },
    "id": "EFQKGqDn7MvW",
    "outputId": "c083c939-8939-4a52-adae-5c22da6b740b"
   },
   "outputs": [],
   "source": [
    "plt.figure(figsize=(20, 10))\n",
    "\n",
    "sns.regplot(X.AGE, y);"
   ]
  },
  {
   "cell_type": "code",
   "execution_count": null,
   "metadata": {
    "colab": {
     "base_uri": "https://localhost:8080/"
    },
    "id": "5r4LRI257UUQ",
    "outputId": "8731a256-c047-4408-adec-f7f2e730f053"
   },
   "outputs": [],
   "source": [
    "np.corrcoef(X.AGE, y)"
   ]
  },
  {
   "cell_type": "markdown",
   "metadata": {
    "id": "Jj0EFq_08U-S"
   },
   "source": [
    "## DIS взвешенные расстояния до пяти бостонских центров"
   ]
  },
  {
   "cell_type": "code",
   "execution_count": null,
   "metadata": {
    "colab": {
     "base_uri": "https://localhost:8080/",
     "height": 282
    },
    "id": "e-IL76a07jRN",
    "outputId": "e6bedb68-2745-4330-fed3-63de8d4e817c"
   },
   "outputs": [],
   "source": [
    "X.DIS.hist()"
   ]
  },
  {
   "cell_type": "code",
   "execution_count": null,
   "metadata": {
    "colab": {
     "base_uri": "https://localhost:8080/",
     "height": 695
    },
    "id": "nwjDag6u8hmM",
    "outputId": "0aca9d4b-1c2d-4535-89d1-5406ba34ac9f"
   },
   "outputs": [],
   "source": [
    "plt.figure(figsize=(20, 10))\n",
    "\n",
    "sns.regplot(X.DIS ** 0.5, y);\n",
    "sns.regplot(X.DIS, y, color='red');"
   ]
  },
  {
   "cell_type": "code",
   "execution_count": null,
   "metadata": {
    "colab": {
     "base_uri": "https://localhost:8080/"
    },
    "id": "D_RjXgs58oyg",
    "outputId": "fa05e8a9-beab-4646-d564-b32358936bcc"
   },
   "outputs": [],
   "source": [
    "np.corrcoef(X.DIS ** .05, y)"
   ]
  },
  {
   "cell_type": "code",
   "execution_count": null,
   "metadata": {
    "colab": {
     "base_uri": "https://localhost:8080/"
    },
    "id": "tc2Hkaum86lR",
    "outputId": "c41a31df-1c6c-42cc-e927-415cabec8721"
   },
   "outputs": [],
   "source": [
    "X['dis'] = X.DIS ** 3\n",
    "get_score(X, y)\n",
    "# 0.7583599264126265"
   ]
  },
  {
   "cell_type": "markdown",
   "metadata": {
    "id": "VcGLvg60AlFC"
   },
   "source": [
    "Получилась довольно информативкая эвристика, с непонятным физическим смыслом\n",
    "\n",
    "\n",
    "\n",
    "Совершенно понятно, что в принципе возможно идеально приблизить целевую метрику полиномами n - степени\n",
    "\n"
   ]
  },
  {
   "cell_type": "markdown",
   "metadata": {
    "id": "5JVxzlWgCXoO"
   },
   "source": [
    "## RAD Индекс доступности радиальных автомобильных дорог "
   ]
  },
  {
   "cell_type": "code",
   "execution_count": null,
   "metadata": {
    "colab": {
     "base_uri": "https://localhost:8080/",
     "height": 282
    },
    "id": "KvblUB4O_ITD",
    "outputId": "c9f0ce91-a599-40e1-fc05-984c5b03eca8"
   },
   "outputs": [],
   "source": [
    "X.RAD.hist()"
   ]
  },
  {
   "cell_type": "code",
   "execution_count": null,
   "metadata": {
    "colab": {
     "base_uri": "https://localhost:8080/",
     "height": 661
    },
    "id": "85PVRfXVClMx",
    "outputId": "31f50ee3-d318-4e63-88ba-ef0a328c3c4e"
   },
   "outputs": [],
   "source": [
    "plt.figure(figsize=(20, 10))\n",
    "\n",
    "sns.regplot(X.RAD[X.RAD<15], y[X.RAD<15]);"
   ]
  },
  {
   "cell_type": "markdown",
   "metadata": {
    "id": "VLwEfud8EwQB"
   },
   "source": [
    "# TAX Ставка налога на имущество"
   ]
  },
  {
   "cell_type": "code",
   "execution_count": null,
   "metadata": {
    "colab": {
     "base_uri": "https://localhost:8080/",
     "height": 282
    },
    "id": "44pevXQgEIbT",
    "outputId": "3eab9907-2a08-4a28-f5b1-b42297522588"
   },
   "outputs": [],
   "source": [
    "X.TAX.hist()"
   ]
  },
  {
   "cell_type": "code",
   "execution_count": null,
   "metadata": {
    "colab": {
     "base_uri": "https://localhost:8080/"
    },
    "id": "sKB6lUgXcCDp",
    "outputId": "30953766-e9ee-45ab-939c-91e435f2e7a2"
   },
   "outputs": [],
   "source": [
    "X.TAX[X.TAX == 666] = 888"
   ]
  },
  {
   "cell_type": "code",
   "execution_count": null,
   "metadata": {
    "colab": {
     "base_uri": "https://localhost:8080/"
    },
    "id": "7ck1QC99dfel",
    "outputId": "2ee3db03-a301-40bb-8c0b-7d36d63b71f6"
   },
   "outputs": [],
   "source": [
    "get_score(X,y)\n",
    "# 0.7594617355811056 888"
   ]
  },
  {
   "cell_type": "markdown",
   "metadata": {
    "id": "n-HSmQDXgG6m"
   },
   "source": [
    "\n",
    "Ставка налога 666 наверняка заменняет,  какие-то отсутстующие или иные значения\n",
    "\n",
    "Для замены построим линейную регрессию\n",
    "\n"
   ]
  },
  {
   "cell_type": "code",
   "execution_count": null,
   "metadata": {
    "id": "VbBcAnRdhB0K"
   },
   "outputs": [],
   "source": [
    "tax_y = X.TAX\n",
    "tax_X = X.drop('TAX', 1)"
   ]
  },
  {
   "cell_type": "code",
   "execution_count": null,
   "metadata": {
    "colab": {
     "base_uri": "https://localhost:8080/"
    },
    "id": "X7kfrcDbgqTM",
    "outputId": "b65cd41d-8f3c-4e60-c7d4-8e07d76eb55a"
   },
   "outputs": [],
   "source": [
    "tax_reg = LinearRegression(normalize=True).fit(tax_X, tax_y)\n",
    "tax_reg.score(tax_X, tax_y)"
   ]
  },
  {
   "cell_type": "code",
   "execution_count": null,
   "metadata": {
    "colab": {
     "base_uri": "https://localhost:8080/"
    },
    "id": "IUkJSzjhh1Br",
    "outputId": "2d5ff031-76be-41cb-b389-79a74eb8fb30"
   },
   "outputs": [],
   "source": [
    "tax_pred = tax_reg.predict(tax_X)\n",
    "X.TAX[X.TAX == 777] = tax_pred[X.TAX == 777]\n",
    "get_score(X,y)"
   ]
  },
  {
   "cell_type": "code",
   "execution_count": null,
   "metadata": {
    "colab": {
     "base_uri": "https://localhost:8080/",
     "height": 661
    },
    "id": "5XVXiYudEJYX",
    "outputId": "0db94ec3-0ffa-4e7c-9153-9cb3fb83019e"
   },
   "outputs": [],
   "source": [
    "plt.figure(figsize=(20, 10))\n",
    "sns.regplot(X.TAX, X.RAD);"
   ]
  },
  {
   "cell_type": "markdown",
   "metadata": {
    "id": "stHSa-48Fh8T"
   },
   "source": [
    "oorrcoef(X.RAD, X.TAX) = 0.91"
   ]
  },
  {
   "cell_type": "code",
   "execution_count": null,
   "metadata": {
    "colab": {
     "base_uri": "https://localhost:8080/"
    },
    "id": "RYU0n1moCx9o",
    "outputId": "0718b0a1-b0dc-49a0-9075-bd0ee0cc268f"
   },
   "outputs": [],
   "source": [
    "np.corrcoef(X.RAD, X.TAX)"
   ]
  },
  {
   "cell_type": "code",
   "execution_count": null,
   "metadata": {
    "colab": {
     "base_uri": "https://localhost:8080/",
     "height": 647
    },
    "id": "dAPDcs4uDzTH",
    "outputId": "27fff6a3-e1bd-4d24-e895-c93571fa7030"
   },
   "outputs": [],
   "source": [
    "plt.figure(figsize=(20, 10))\n",
    "sns.regplot(X.TAX + X.RAD, y);"
   ]
  },
  {
   "cell_type": "markdown",
   "metadata": {
    "id": "71KKQw6vJBC9"
   },
   "source": []
  },
  {
   "cell_type": "code",
   "execution_count": null,
   "metadata": {
    "colab": {
     "base_uri": "https://localhost:8080/"
    },
    "id": "TN7wiy9vFvm6",
    "outputId": "cffc2b52-add6-4e98-cc14-0e2ffc6837bd"
   },
   "outputs": [],
   "source": [
    "np.corrcoef((X.TAX * X.RAD)**0.5, y)"
   ]
  },
  {
   "cell_type": "markdown",
   "metadata": {
    "id": "Hm1RC77JGmqh"
   },
   "source": [
    "Добавляем новый признак (X.TAX * X.RAD)\n",
    "\n"
   ]
  },
  {
   "cell_type": "code",
   "execution_count": null,
   "metadata": {
    "colab": {
     "base_uri": "https://localhost:8080/"
    },
    "id": "RJLMkRXdF3sm",
    "outputId": "ea895584-c195-4ed9-8ff1-bde97822cded"
   },
   "outputs": [],
   "source": [
    "X['tax_rad'] = (X.TAX - X.RAD)\n",
    "#X.drop(['TAX', 'RAD'], 1, inplace=True)"
   ]
  },
  {
   "cell_type": "code",
   "execution_count": null,
   "metadata": {
    "colab": {
     "base_uri": "https://localhost:8080/"
    },
    "id": "FKH2HbzrGPtQ",
    "outputId": "2242d21a-b665-4114-b5a4-e1aabfabd7ec"
   },
   "outputs": [],
   "source": [
    "get_score(X,y)"
   ]
  },
  {
   "cell_type": "markdown",
   "metadata": {
    "id": "SFePxqJgJCBl"
   },
   "source": [
    "Признак не информативный"
   ]
  },
  {
   "cell_type": "code",
   "execution_count": null,
   "metadata": {
    "colab": {
     "base_uri": "https://localhost:8080/"
    },
    "id": "x895n6hVH1x2",
    "outputId": "2be67f48-284f-4bd5-962f-daf6ede1c7ec"
   },
   "outputs": [],
   "source": [
    "X.drop(['tax_rad'], 1, inplace=True)\n",
    "get_score(X,y)"
   ]
  },
  {
   "cell_type": "markdown",
   "metadata": {
    "id": "TWPxLVV4JZa9"
   },
   "source": [
    "## PTRATIO Соотношение учеников и учителей"
   ]
  },
  {
   "cell_type": "code",
   "execution_count": null,
   "metadata": {
    "colab": {
     "base_uri": "https://localhost:8080/"
    },
    "id": "WZ4IX05WJTGC",
    "outputId": "18319d02-78a4-4ddc-e3a2-0f4329327367"
   },
   "outputs": [],
   "source": [
    "np.corrcoef(X.PTRATIO, y)"
   ]
  },
  {
   "cell_type": "code",
   "execution_count": null,
   "metadata": {
    "colab": {
     "base_uri": "https://localhost:8080/",
     "height": 282
    },
    "id": "X_Kn8jr_Jofe",
    "outputId": "cf7cff56-33d1-4d9f-95e0-93888fe95e1b"
   },
   "outputs": [],
   "source": [
    "X.PTRATIO.hist()"
   ]
  },
  {
   "cell_type": "code",
   "execution_count": null,
   "metadata": {
    "colab": {
     "base_uri": "https://localhost:8080/",
     "height": 661
    },
    "id": "sWy3V9s0J9Bz",
    "outputId": "9e8e1109-c20f-40af-941e-e19d51954a14"
   },
   "outputs": [],
   "source": [
    "plt.figure(figsize=(20, 10))\n",
    "sns.regplot(X.PTRATIO, y);"
   ]
  },
  {
   "cell_type": "markdown",
   "metadata": {
    "id": "EpZFwIElKgmL"
   },
   "source": [
    "## B доля черных по городам"
   ]
  },
  {
   "cell_type": "code",
   "execution_count": null,
   "metadata": {
    "colab": {
     "base_uri": "https://localhost:8080/",
     "height": 286
    },
    "id": "Ff6JpMzbKUd3",
    "outputId": "a123f048-47fb-41fb-e510-d78f6141dff5"
   },
   "outputs": [],
   "source": [
    "X.B.hist(bins=50)"
   ]
  },
  {
   "cell_type": "code",
   "execution_count": null,
   "metadata": {
    "colab": {
     "base_uri": "https://localhost:8080/"
    },
    "id": "aSPuNANuKo8X",
    "outputId": "7e1b6654-2ab5-47ac-e1b5-c7027d5b0407"
   },
   "outputs": [],
   "source": [
    "np.corrcoef(X.B[X.B<350], y[X.B<350])"
   ]
  },
  {
   "cell_type": "code",
   "execution_count": null,
   "metadata": {
    "colab": {
     "base_uri": "https://localhost:8080/",
     "height": 661
    },
    "id": "h3YX4m8IK8GW",
    "outputId": "2cad0708-045b-4a19-d800-d6e28877f401"
   },
   "outputs": [],
   "source": [
    "plt.figure(figsize=(20, 10))\n",
    "sns.regplot(X.B, y);"
   ]
  },
  {
   "cell_type": "code",
   "execution_count": null,
   "metadata": {
    "colab": {
     "base_uri": "https://localhost:8080/"
    },
    "id": "a48kFczSLUUW",
    "outputId": "0477be30-3080-4557-9cc4-5c8164aa0776"
   },
   "outputs": [],
   "source": [
    "y[X.B<350].mean(), y[X.B>350].mean()"
   ]
  },
  {
   "cell_type": "markdown",
   "metadata": {
    "id": "wy67UBc5MQE2"
   },
   "source": [
    "## LSTAT %  населения c низкиm статусom"
   ]
  },
  {
   "cell_type": "code",
   "execution_count": null,
   "metadata": {
    "colab": {
     "base_uri": "https://localhost:8080/",
     "height": 282
    },
    "id": "3OqPAz-KLlcx",
    "outputId": "9f5120e4-45d3-42a2-c918-f5f705955cdb"
   },
   "outputs": [],
   "source": [
    "X.LSTAT.hist(bins=50)"
   ]
  },
  {
   "cell_type": "code",
   "execution_count": null,
   "metadata": {
    "colab": {
     "base_uri": "https://localhost:8080/",
     "height": 661
    },
    "id": "mE6-QX4WMjKn",
    "outputId": "f636f58c-1ee1-400b-8c3e-57a0ef98cfe4"
   },
   "outputs": [],
   "source": [
    "plt.figure(figsize=(20, 10))\n",
    "sns.regplot(X.LSTAT, y);"
   ]
  },
  {
   "cell_type": "code",
   "execution_count": null,
   "metadata": {
    "colab": {
     "base_uri": "https://localhost:8080/"
    },
    "id": "FmfGRz1eOM9F",
    "outputId": "6830ee25-c6d5-4663-a2d6-05f72bd4e95e"
   },
   "outputs": [],
   "source": [
    "np.corrcoef(X.LSTAT ** 0.01, y)"
   ]
  },
  {
   "cell_type": "code",
   "execution_count": null,
   "metadata": {
    "colab": {
     "base_uri": "https://localhost:8080/"
    },
    "id": "DmcPAuo_OfY2",
    "outputId": "da3ebc91-18f7-4d80-9fe7-91df5a0eab20"
   },
   "outputs": [],
   "source": [
    "X['lstat'] = X.LSTAT ** 0.1\n",
    "\n",
    "# 0.7594617355811056\n",
    "get_score(X,y)"
   ]
  },
  {
   "cell_type": "code",
   "execution_count": null,
   "metadata": {
    "colab": {
     "base_uri": "https://localhost:8080/"
    },
    "id": "AdB1FEI8Sy8R",
    "outputId": "8228bc7a-608b-40be-96fb-bed0a0a6157e"
   },
   "outputs": [],
   "source": [
    "X.drop(['LSTAT'], 1, inplace=True)\n",
    "get_score(X,y)"
   ]
  },
  {
   "cell_type": "markdown",
   "metadata": {
    "id": "C7BDmJnfTAKB"
   },
   "source": [
    "LSTAT Достаточно сильный признак, при этом очевидно, зависимость нелинейная"
   ]
  },
  {
   "cell_type": "code",
   "execution_count": null,
   "metadata": {
    "id": "tFuB7GHeV8Xc"
   },
   "outputs": [],
   "source": []
  },
  {
   "cell_type": "markdown",
   "metadata": {
    "id": "Z7CeCqDosImQ"
   },
   "source": [
    "## Итого:\n",
    "Метрика на сырых данных 0.7152\n",
    "\n",
    "После обработки  0.7894"
   ]
  },
  {
   "cell_type": "code",
   "execution_count": null,
   "metadata": {
    "id": "ni0ftPFGtAvM"
   },
   "outputs": [],
   "source": []
  },
  {
   "cell_type": "code",
   "execution_count": null,
   "metadata": {},
   "outputs": [],
   "source": []
  }
 ],
 "metadata": {
  "colab": {
   "collapsed_sections": [],
   "name": "boston.ipynb",
   "provenance": []
  },
  "kernelspec": {
   "display_name": "Python 3",
   "language": "python",
   "name": "python3"
  },
  "language_info": {
   "codemirror_mode": {
    "name": "ipython",
    "version": 3
   },
   "file_extension": ".py",
   "mimetype": "text/x-python",
   "name": "python",
   "nbconvert_exporter": "python",
   "pygments_lexer": "ipython3",
   "version": "3.7.6"
  }
 },
 "nbformat": 4,
 "nbformat_minor": 1
}
