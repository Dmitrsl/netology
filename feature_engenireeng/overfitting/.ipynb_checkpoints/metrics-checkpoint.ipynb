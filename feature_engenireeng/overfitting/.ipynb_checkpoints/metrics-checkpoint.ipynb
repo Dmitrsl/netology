{
 "cells": [
  {
   "cell_type": "markdown",
   "metadata": {},
   "source": [
    "### Домашняя работа \"Оценка точности модели, переобучение, регуляризация\"\n",
    "Преподаватель: Алексей Миронов, Наталья Баданина\n",
    "\n",
    "Посчитать tpr и fpr в ноутбуке с лекции.\n",
    "\n",
    "Убедиться, что график ROC AUC получается таким же, как и штатными средствами\n",
    "\n",
    "Потроить график Precision - Recall на этих же данных\n",
    "\n"
   ]
  },
  {
   "cell_type": "code",
   "execution_count": 168,
   "metadata": {},
   "outputs": [
    {
     "data": {
      "text/plain": [
       "0.7319371727748691"
      ]
     },
     "execution_count": 168,
     "metadata": {},
     "output_type": "execute_result"
    }
   ],
   "source": [
    "import pandas as pd\n",
    "import numpy as np\n",
    "from sklearn.linear_model import LogisticRegression\n",
    "from sklearn.model_selection import train_test_split\n",
    "from sklearn.metrics import confusion_matrix, precision_recall_curve, roc_curve\n",
    "\n",
    "import seaborn as sns\n",
    "from matplotlib import pyplot as plt\n",
    "\n",
    "data = pd.read_csv('affair_data.csv')\n",
    "X = data[data.columns[:-1]]\n",
    "Y = data['affair']\n",
    "X_train, X_test, Y_train, Y_test = train_test_split(X, Y, test_size = 0.3, random_state = 0)\n",
    "model = LogisticRegression()\n",
    "model.fit(X_train, Y_train)\n",
    "predictions = model.predict_proba(X_test)\n",
    "model.score(X_test, Y_test)"
   ]
  },
  {
   "cell_type": "code",
   "execution_count": 169,
   "metadata": {},
   "outputs": [
    {
     "data": {
      "text/plain": [
       "((1910,), (1910,))"
      ]
     },
     "execution_count": 169,
     "metadata": {},
     "output_type": "execute_result"
    }
   ],
   "source": [
    "(predictions[:,1] > 0.5).shape, Y_test.values.shape"
   ]
  },
  {
   "cell_type": "code",
   "execution_count": 170,
   "metadata": {},
   "outputs": [],
   "source": [
    "y_pred = predictions[:,1] > 0.5\n",
    "y_true = Y_test.values"
   ]
  },
  {
   "cell_type": "code",
   "execution_count": 171,
   "metadata": {},
   "outputs": [
    {
     "data": {
      "text/plain": [
       "(1172, 131, 381, 226)"
      ]
     },
     "execution_count": 171,
     "metadata": {},
     "output_type": "execute_result"
    }
   ],
   "source": [
    "tn, fp, fn, tp = confusion_matrix(y_true, y_pred).ravel()\n",
    "tn, fp, fn, tp"
   ]
  },
  {
   "cell_type": "markdown",
   "metadata": {},
   "source": [
    "# TN, FP, FN TP"
   ]
  },
  {
   "cell_type": "code",
   "execution_count": 172,
   "metadata": {},
   "outputs": [
    {
     "data": {
      "text/plain": [
       "(1172, 131, 381, 226)"
      ]
     },
     "execution_count": 172,
     "metadata": {},
     "output_type": "execute_result"
    }
   ],
   "source": [
    "def conf_matrix(y_true, y_pred):\n",
    "    tn = ((y_true == 0) * (y_pred == 0)).sum()\n",
    "    tp = ((y_true == 1) * (y_pred == 1)).sum()\n",
    "    fn = ((y_true == 1) * (y_pred == 0)).sum()\n",
    "    fp = ((y_true == 0) * (y_pred == 1)).sum()\n",
    "    return tn, fp, fn, tp\n",
    "\n",
    "tn, fp, fn, tp = conf_matrix(y_true, y_pred)\n",
    "tn, fp, fn, tp"
   ]
  },
  {
   "cell_type": "code",
   "execution_count": 173,
   "metadata": {},
   "outputs": [
    {
     "data": {
      "text/plain": [
       "0.7319371727748691"
      ]
     },
     "execution_count": 173,
     "metadata": {},
     "output_type": "execute_result"
    }
   ],
   "source": [
    "accuracy = (tp + tn) / (tp + fp + fn + tn)\n",
    "accuracy"
   ]
  },
  {
   "cell_type": "markdown",
   "metadata": {},
   "source": [
    "# ROC"
   ]
  },
  {
   "cell_type": "code",
   "execution_count": 174,
   "metadata": {},
   "outputs": [
    {
     "data": {
      "image/png": "[encoded data removed]",
      "text/plain": [
       "<Figure size 432x288 with 1 Axes>"
      ]
     },
     "metadata": {},
     "output_type": "display_data"
    }
   ],
   "source": [
    "fpr, tpr, thres = roc_curve(Y_test, predictions[:, 1])\n",
    "roc = pd.DataFrame(np.array([fpr, tpr, thres]).T, columns=['fpr', 'tpr', 'thres'])\n",
    "sns.lineplot(data=roc, x='fpr', y='tpr');"
   ]
  },
  {
   "cell_type": "code",
   "execution_count": 175,
   "metadata": {},
   "outputs": [
    {
     "data": {
      "text/plain": [
       "(0.05372217958557176, 0.25370675453047775, 0.5872751893359788)"
      ]
     },
     "execution_count": 175,
     "metadata": {},
     "output_type": "execute_result"
    }
   ],
   "source": [
    "fpr[100], tpr[100], thres[100], "
   ]
  },
  {
   "cell_type": "code",
   "execution_count": 176,
   "metadata": {},
   "outputs": [
    {
     "data": {
      "text/plain": [
       "(0.25370675453047775,\n",
       " 0.052954719877206444,\n",
       " 0.6905829596412556,\n",
       " 0.25370675453047775)"
      ]
     },
     "execution_count": 176,
     "metadata": {},
     "output_type": "execute_result"
    }
   ],
   "source": [
    "y_pred = predictions[:,1] > thres[100]\n",
    "metrics(y_true, y_pred)"
   ]
  },
  {
   "cell_type": "code",
   "execution_count": 177,
   "metadata": {},
   "outputs": [
    {
     "name": "stderr",
     "output_type": "stream",
     "text": [
      "/home/dmi/anaconda3/lib/python3.7/site-packages/ipykernel_launcher.py:12: RuntimeWarning: invalid value encountered in long_scalars\n",
      "  if sys.path[0] == '':\n"
     ]
    },
    {
     "data": {
      "image/png": "[encoded data removed]",
      "text/plain": [
       "<Figure size 432x288 with 1 Axes>"
      ]
     },
     "metadata": {},
     "output_type": "display_data"
    }
   ],
   "source": [
    "def metrics(y_true, y_pred):\n",
    "    '''\n",
    "    True Positive Rate (TPR)\n",
    "    False Positive Rate (FPR)\n",
    "    Precision\n",
    "    Recall \n",
    "    '''\n",
    "    tn, fp, fn, tp = conf_matrix(y_true, y_pred)\n",
    "    \n",
    "    tpr = tp / (tp + fn)\n",
    "    fpr = fp / (fp + tn)\n",
    "    precision = tp / (tp + fp)\n",
    "    recall = tp / (tp + fn)\n",
    "    return tpr, fpr, precision, recall\n",
    "\n",
    "def roc(y_true, predictions, num_steps=1000, eta=1e-8):\n",
    "\n",
    "    roc_table = pd.DataFrame(columns=['threshold', 'tpr', 'fpr'])\n",
    "    for step, threshold in enumerate(np.linspace(0 + eta, 1 - eta, num_steps)):\n",
    "        y_pred = predictions > threshold\n",
    "        roc_table.loc[step, 'threshold'] = threshold\n",
    "        roc_table.loc[step, 'tpr'], roc_table.loc[step, 'fpr'], _, _  =  metrics(y_true, y_pred)\n",
    "    return roc_table.sort_values('threshold', ascending=True).astype(float)\n",
    "\n",
    "roc_tab = roc(y_true, predictions[:,1])  \n",
    "\n",
    "sns.lineplot(data=roc_tab, x='fpr', y='tpr').set(title=f\"handmade work\");"
   ]
  },
  {
   "cell_type": "markdown",
   "metadata": {},
   "source": [
    "# Precision-recall curve\n"
   ]
  },
  {
   "cell_type": "code",
   "execution_count": 178,
   "metadata": {},
   "outputs": [],
   "source": [
    "pr, re, thres = precision_recall_curve( Y_test, predictions[:, 1] )"
   ]
  },
  {
   "cell_type": "code",
   "execution_count": 179,
   "metadata": {},
   "outputs": [
    {
     "data": {
      "image/png": "[encoded data removed]",
      "text/plain": [
       "<Figure size 432x288 with 1 Axes>"
      ]
     },
     "metadata": {},
     "output_type": "display_data"
    }
   ],
   "source": [
    "plt.plot(re, pr);"
   ]
  },
  {
   "cell_type": "code",
   "execution_count": 180,
   "metadata": {},
   "outputs": [
    {
     "name": "stderr",
     "output_type": "stream",
     "text": [
      "/home/dmi/anaconda3/lib/python3.7/site-packages/ipykernel_launcher.py:12: RuntimeWarning: invalid value encountered in long_scalars\n",
      "  if sys.path[0] == '':\n"
     ]
    },
    {
     "data": {
      "image/png": "[encoded data removed]",
      "text/plain": [
       "<Figure size 432x288 with 1 Axes>"
      ]
     },
     "metadata": {},
     "output_type": "display_data"
    }
   ],
   "source": [
    "def precision_recall(y_true, predictions, num_steps=1000, eta=1e-8):\n",
    "\n",
    "    roc_table = pd.DataFrame(columns=['threshold', 'precision', 'recall'])\n",
    "    for step, threshold in enumerate(np.linspace(0 + eta, 1 - eta, num_steps)):\n",
    "        y_pred = predictions > threshold\n",
    "        roc_table.loc[step, 'threshold'] = threshold\n",
    "        _, _, roc_table.loc[step, 'precision'], roc_table.loc[step, 'recall'] =  metrics(y_true, y_pred)\n",
    "    return roc_table.sort_values('threshold', ascending=False).astype(float)\n",
    "\n",
    "precision_recall_tab = precision_recall(y_true, predictions[:,1])  \n",
    "\n",
    "sns.lineplot(data=precision_recall_tab, x='recall', y='precision').set(title=f\"handmade work\");"
   ]
  },
  {
   "cell_type": "code",
   "execution_count": null,
   "metadata": {},
   "outputs": [],
   "source": []
  },
  {
   "cell_type": "code",
   "execution_count": null,
   "metadata": {},
   "outputs": [],
   "source": []
  }
 ],
 "metadata": {
  "kernelspec": {
   "display_name": "Python 3",
   "language": "python",
   "name": "python3"
  },
  "language_info": {
   "codemirror_mode": {
    "name": "ipython",
    "version": 3
   },
   "file_extension": ".py",
   "mimetype": "text/x-python",
   "name": "python",
   "nbconvert_exporter": "python",
   "pygments_lexer": "ipython3",
   "version": "3.7.6"
  }
 },
 "nbformat": 4,
 "nbformat_minor": 4
}
